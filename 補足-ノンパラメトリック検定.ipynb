{
 "cells": [
  {
   "cell_type": "markdown",
   "metadata": {},
   "source": [
    "# 5．ノンパラメトリック検定 ｜Pythonプログラミングを使った統計分析の基礎\n",
    "\n",
    "### [Logics of Blue](https://logics-of-blue.com/) 馬場真哉：2019年3月1日"
   ]
  },
  {
   "cell_type": "markdown",
   "metadata": {},
   "source": [
    "<p>\n",
    "    このファイルの内容は、スライドでは説明しません。<br>\n",
    "    時間に余裕がある方が補足的に参照することを想定しています。\n",
    "</p>\n",
    "\n",
    "## 目的\n",
    "- Mann-WhitenyのU検定を通して、ノンパラメトリック検定の基本を学ぶ\n",
    "    - ノンパラメトリック検定の基本的な考え方\n",
    "    - Mann-WhitenyのU検定の考え方\n",
    "    - Pythonによる検定の実行\n",
    " \n",
    "## 目次\n",
    "1. [パラメトリックとノンパラメトリック](#1．パラメトリックとノンパラメトリック)\n",
    "2. [Mann-WhitenyのU検定の基本](#2．Mann-WhitenyのU検定の基本)\n",
    "3. [Mann-WhitenyのU検定の実行](#3．Mann-WhitenyのU検定の実行)"
   ]
  },
  {
   "cell_type": "code",
   "execution_count": 1,
   "metadata": {},
   "outputs": [],
   "source": [
    "# 数値計算に使うライブラリ\n",
    "import numpy as np\n",
    "import pandas as pd\n",
    "import scipy as sp\n",
    "from scipy import stats\n",
    "\n",
    "# グラフを描画するライブラリ\n",
    "from matplotlib import pyplot as plt\n",
    "import seaborn as sns\n",
    "sns.set()\n",
    "\n",
    "# 表示桁数の指定\n",
    "%precision 3\n",
    "# グラフをjupyter Notebook内に表示させるための指定\n",
    "%matplotlib inline\n",
    "\n",
    "# 不要なワーニングを出力させない\n",
    "import warnings\n",
    "warnings.simplefilter(action='ignore', category=FutureWarning)"
   ]
  },
  {
   "cell_type": "markdown",
   "metadata": {},
   "source": [
    "***\n",
    "## 1．パラメトリックとノンパラメトリック\n",
    "\n",
    "<p>\n",
    "    ここでは、二項検定やt検定といったパラメトリックな検定方法と対比して<br>\n",
    "    ノンパラメトリックな検定の方法を紹介します。\n",
    "</p>\n",
    "\n",
    "<p>\n",
    "    まずは、パラメトリックであるとかノンパラメトリックという言葉の意味を学びます\n",
    "</p>\n"
   ]
  },
  {
   "cell_type": "markdown",
   "metadata": {},
   "source": [
    "#### パラメトリック\n",
    "<p>\n",
    "    パラメトリックな方法の場合は、母集団に対して、二項分布や正規分布と言った、何らかの確率分布を想定します。<br>\n",
    "    二項分布の確率質量関数を使うと、試行回数Nと成功確率pという2つのパラメタが与えられれば、成功回数mの確率分布が即座に計算できますね。<br>\n",
    "    成功確率といった「少数のパラメタ」が与えられれば、即座に確率分布が得られるのが、確率質量関数を使う大きなメリットです。\n",
    "</p>\n",
    "\n",
    "<p>\n",
    "    しかし、母集団の確率分布に対して、例えば二項分布であるとか正規分布と言った仮定を置くことができないこともあります。<br>\n",
    "    その時はパラメトリックな方法が使えないので、ノンパラメトリックな方法を使います。\n",
    "</p>\n",
    "\n",
    "#### ノンパラメトリック\n",
    "<p>\n",
    "    ノンパラメトリックは「少数のパラメタだけわかればいい」という考え方をとらない方法論です。<br>\n",
    "    二項分布や正規分布という便利な数式は使わず、順列組合せの公式だけを使って、p値等を計算し、統計的仮説検定を行います。\n",
    "</p>\n"
   ]
  },
  {
   "cell_type": "markdown",
   "metadata": {},
   "source": [
    "***\n",
    "## 2．Mann-WhitenyのU検定の基本\n",
    "\n",
    "<p>\n",
    "    ここでは、2標本のt検定のノンパラメトリック検定バージョンともいえる、Mann-WhitenyのU検定を学びます。\n",
    "</p>"
   ]
  },
  {
   "cell_type": "markdown",
   "metadata": {},
   "source": [
    "### 順列組合せの復習\n",
    "\n",
    "<p>\n",
    "    母集団に、二項分布や正規分布を想定しない代わりに、順列組合せの計算を頻繁に活用します。<br>\n",
    "    ここで、順列組合せの公式を復習しておきます。<br>\n",
    "    ただし、Mann-WhitenyのU検定を理解するのに必要な公式しか紹介しません。\n",
    "</p>\n",
    "\n",
    "\n",
    "#### 並び替え問題\n",
    "<p>\n",
    "    A,B,C,Dの4つの品物があります。これを並び替えた時、何通りの場合の数があるでしょうか。<br>\n",
    "    1つ目を選ぶ方法は4通り。例えばBを選んだとします。残りはA,C,Dの3つだけです。<br>\n",
    "    2つ目を選ぶ方法は3通りしかありません。すでに1つ選ばれた後だからですね。<br>\n",
    "    3つ目を選ぶ方法は2通り。<br>\n",
    "    4つ目を選ぶ方法は1通りしかありません。\n",
    "</p>\n",
    "\n",
    "<p>\n",
    "    というわけで、A,B,C,Dの4つの品物の並び替えは、<br>\n",
    "    4×3×2×1<br>\n",
    "    で、その場合の数が計算されます。<br>\n",
    "    1つずつ値を減らして掛け合わせていく計算を、階乗と呼び、例えば「4！」のように書きます。<br>\n",
    "    Pythonにおいては、mathライブラリをインポートしてから、math.factorial関数を実行します。\n",
    "</p>"
   ]
  },
  {
   "cell_type": "code",
   "execution_count": 2,
   "metadata": {},
   "outputs": [
    {
     "data": {
      "text/plain": [
       "24"
      ]
     },
     "execution_count": 2,
     "metadata": {},
     "output_type": "execute_result"
    }
   ],
   "source": [
    "# 階乗の計算\n",
    "import math\n",
    "math.factorial(4)"
   ]
  },
  {
   "cell_type": "markdown",
   "metadata": {},
   "source": [
    "#### 2種類の品物の並び替え問題\n",
    "<p>\n",
    "    AとBの2つの品物があります。商品Aは3つ、Bは2つあります。これを並び替えた時、何通りの場合の数があるでしょうか。<br>\n",
    "    5個あるから5の階乗としたいところです。しかし商品Aは同じ物が3つあるので、見分けがつきません。<br>\n",
    "    見分けがつかない分だけ、場合の数を少なくします。<br>\n",
    "    具体的には、商品Aだけの並び順（3！）と商品Bだけの並び順（2！）で割ってやります。\n",
    "</p>"
   ]
  },
  {
   "cell_type": "code",
   "execution_count": 3,
   "metadata": {},
   "outputs": [
    {
     "data": {
      "text/plain": [
       "10.000"
      ]
     },
     "execution_count": 3,
     "metadata": {},
     "output_type": "execute_result"
    }
   ],
   "source": [
    "math.factorial(5) / (math.factorial(3) * math.factorial(2))"
   ]
  },
  {
   "cell_type": "markdown",
   "metadata": {},
   "source": [
    "### 順列組み合わせ問題の、検定への応用\n",
    "<p>\n",
    "    魚Aと魚Bで大きさが有意に異なるか否かを判別することを考えます。\n",
    "</p>\n",
    "\n",
    "#### 2種類の魚の並び替え問題\n",
    "<p>\n",
    "    魚Aが2尾、魚Bが2尾いたとします。<br>\n",
    "    この時、魚の並び順は、6通りあるはずです。\n",
    "</p>"
   ]
  },
  {
   "cell_type": "code",
   "execution_count": 4,
   "metadata": {},
   "outputs": [
    {
     "data": {
      "text/plain": [
       "6.000"
      ]
     },
     "execution_count": 4,
     "metadata": {},
     "output_type": "execute_result"
    }
   ],
   "source": [
    "math.factorial(4)/(math.factorial(2) * math.factorial(2))"
   ]
  },
  {
   "cell_type": "markdown",
   "metadata": {},
   "source": [
    "#### 魚Bの方が大きいように見えるのは偶然か？：パターン1\n",
    "<p>\n",
    "    魚Aの体長組成が[1cm、2cm]だったとします。<br>\n",
    "    魚Bの体長組成が[3cm、4cm]だったとします。<br>\n",
    "</p>\n",
    "\n",
    "<p>\n",
    "    魚Aは、すべて魚Bよりも小さくなっていますね。<br>\n",
    "    このようなパターンは1パターンしかないので、<br>\n",
    "    『魚Aが魚Bよりも常に小さな魚に、偶然なってしまう確率は、1÷6＝1/6である』と計算されます。<br>\n",
    "    この1/6がp値です。<br>\n",
    "    両側検定をする場合は、2で掛けて、2/6がp値となります。\n",
    "</p>\n",
    "\n",
    "\n",
    "#### 魚Bの方が大きいように見えるのは偶然か？：パターン2\n",
    "<p>\n",
    "    魚Aの体長組成が[1cm、3cm]だったとします。<br>\n",
    "    魚Bの体長組成が[2cm、4cm]だったとします。<br>\n",
    "</p>\n",
    "\n",
    "<p>\n",
    "    魚Aの1cmの魚は、魚Bのどの魚よりも小さいです。<br>\n",
    "    一方、3cmの魚は、魚B「2cmの魚」よりは大きく、「4cmの魚」よりは小さいです。<br>\n",
    "    このため、パターン1よりも『あまり、魚Bの方が大きいように見えない』といえます。\n",
    "</p>\n",
    "\n",
    "<p>\n",
    "   上記の体長組成となる確率はやはり1/6です。<br>\n",
    "   すると『今回のデータよりも、より極端に、魚Bの方が大きく見える確率』は<br>\n",
    "    パターン1の1/6と、パターン2の1/6を足して、2/6となります。この2/6がp値です。<br>\n",
    "    両側検定をする場合は、p値を2倍して、4/6がp値となります。\n",
    "</p>\n"
   ]
  },
  {
   "cell_type": "markdown",
   "metadata": {},
   "source": [
    "### Mann-WhitenyのU検定の基本\n",
    "\n",
    "<p>\n",
    "    Mann-WhitenyのU検定の手順を以下に記します。\n",
    "</p>\n",
    "\n",
    "<p>\n",
    "    Step1. ありうる体長組成の場合の数を計算します。<br>\n",
    "    Step2. 今回のデータと同じか、それ以上に『極端にどちらかが大きく見える場合の数』を計算します。<br>\n",
    "    Step3. 『極端にどちらかが大きく見える場合の数』 ÷ 『ありうる体長組成の場合の数』を計算します。これがp値です。<br>\n",
    "    Step4. 両側検定をする場合は、p値を2倍します。\n",
    "</p>\n",
    "\n",
    "\n",
    "<p>\n",
    "    scipy.statsのmannwhitneyu関数を適用することで実行できます。<br>\n",
    "    しかし、この関数はp値の計算を簡略化しています。場合の数をいちいち計算するのは大変なので、近似計算をしているのです。<br>\n",
    "    そのため、理論上の値と少しずれます。<br>\n",
    "    サンプルサイズが20以上の時に使うことが奨励されています。\n",
    "</p>"
   ]
  },
  {
   "cell_type": "markdown",
   "metadata": {},
   "source": [
    "***\n",
    "## 3．Mann-WhitenyのU検定の実行\n",
    "\n",
    "<p>\n",
    "    Mann-WhitenyのU検定を実際に行ってみます。<br>\n",
    "    t検定との比較も行います。\n",
    "</p>"
   ]
  },
  {
   "cell_type": "code",
   "execution_count": 5,
   "metadata": {},
   "outputs": [
    {
     "name": "stdout",
     "output_type": "stream",
     "text": [
      "data_x: [ 1  2  3  4  5  6  7  8  9 10 11 12 13 14 15 16 17 18 19 20]\n",
      "data_y: [ 4  5  6  7  8  9 10 11 12 13 14 15 16 17 18 19 20 21 22 23]\n"
     ]
    }
   ],
   "source": [
    "# 検定対象となるデータの作成\n",
    "data_x = np.arange(1,21,1)\n",
    "data_y = np.arange(4,24,1)\n",
    "\n",
    "print(\"data_x:\",data_x)\n",
    "print(\"data_y:\",data_y)"
   ]
  },
  {
   "cell_type": "code",
   "execution_count": 6,
   "metadata": {},
   "outputs": [
    {
     "data": {
      "text/plain": [
       "MannwhitneyuResult(statistic=144.5, pvalue=0.13650248074290666)"
      ]
     },
     "execution_count": 6,
     "metadata": {},
     "output_type": "execute_result"
    }
   ],
   "source": [
    "# Mann-WhitenyのU検定\n",
    "stats.mannwhitneyu(data_x, data_y, alternative='two-sided')"
   ]
  },
  {
   "cell_type": "code",
   "execution_count": 7,
   "metadata": {},
   "outputs": [
    {
     "data": {
      "text/plain": [
       "Ttest_indResult(statistic=-1.6035674514745464, pvalue=0.11709007587900368)"
      ]
     },
     "execution_count": 7,
     "metadata": {},
     "output_type": "execute_result"
    }
   ],
   "source": [
    "# t検定\n",
    "stats.ttest_ind(data_x, data_y, equal_var = False)"
   ]
  },
  {
   "cell_type": "code",
   "execution_count": 8,
   "metadata": {},
   "outputs": [
    {
     "name": "stdout",
     "output_type": "stream",
     "text": [
      "data_x: [ 1  2  3  4  5  6  7  8  9 10 11 12 13 14 15 16 17 18 19 20]\n",
      "data_y: [ 4  5  6  7  8  9 10 11 12 13 14 15 16 17 18 19 20 21 22 35]\n"
     ]
    }
   ],
   "source": [
    "# データを1つだけ値を変えてみる\n",
    "data_y[19] = 35\n",
    "\n",
    "print(\"data_x:\",data_x)\n",
    "print(\"data_y:\",data_y)"
   ]
  },
  {
   "cell_type": "code",
   "execution_count": 9,
   "metadata": {},
   "outputs": [
    {
     "data": {
      "text/plain": [
       "MannwhitneyuResult(statistic=144.5, pvalue=0.13650248074290666)"
      ]
     },
     "execution_count": 9,
     "metadata": {},
     "output_type": "execute_result"
    }
   ],
   "source": [
    "# Mann-WhitenyのU検定は、p値は変わらない\n",
    "stats.mannwhitneyu(data_x, data_y, alternative='two-sided')"
   ]
  },
  {
   "cell_type": "code",
   "execution_count": 10,
   "metadata": {},
   "outputs": [
    {
     "data": {
      "text/plain": [
       "Ttest_indResult(statistic=-1.7046494057173622, pvalue=0.09680187034992213)"
      ]
     },
     "execution_count": 10,
     "metadata": {},
     "output_type": "execute_result"
    }
   ],
   "source": [
    "# t検定はp値が微妙に変わる\n",
    "stats.ttest_ind(data_x, data_y, equal_var = False)"
   ]
  },
  {
   "cell_type": "markdown",
   "metadata": {},
   "source": [
    "#### まとめ\n",
    "<p>\n",
    "    ノンパラメトリック検定は、外れ値に対して頑健だと言われます。これは、データの大小の順番だけにこだわったおかげでしょう。<br>\n",
    "    ただし、ノンパラメトリック検定といえども万能ではありません。<br>\n",
    "    例えば不等分散のデータに対しては、t検定の方が適しているという報告もあります。<br>\n",
    "    データに合わせて、検定の方法を適宜変えるようにしてください。\n",
    "</p>"
   ]
  }
 ],
 "metadata": {
  "kernelspec": {
   "display_name": "Python 3",
   "language": "python",
   "name": "python3"
  },
  "language_info": {
   "codemirror_mode": {
    "name": "ipython",
    "version": 3
   },
   "file_extension": ".py",
   "mimetype": "text/x-python",
   "name": "python",
   "nbconvert_exporter": "python",
   "pygments_lexer": "ipython3",
   "version": "3.7.1"
  }
 },
 "nbformat": 4,
 "nbformat_minor": 2
}
