{
  "nbformat": 4,
  "nbformat_minor": 0,
  "metadata": {
    "colab": {
      "name": "shoseki_kounyu_tokuten_sample.ipynb",
      "version": "0.3.2",
      "provenance": [],
      "include_colab_link": true
    },
    "kernelspec": {
      "display_name": "Python 3",
      "language": "python",
      "name": "python3"
    }
  },
  "cells": [
    {
      "cell_type": "markdown",
      "metadata": {
        "id": "view-in-github",
        "colab_type": "text"
      },
      "source": [
        "<a href=\"https://colab.research.google.com/github/taroarimoto/Python_Practice/blob/master/sample.ipynb\" target=\"_parent\"><img src=\"https://colab.research.google.com/assets/colab-badge.svg\" alt=\"Open In Colab\"/></a>"
      ]
    },
    {
      "metadata": {
        "id": "TDaDCQW-mXhB",
        "colab_type": "code",
        "colab": {}
      },
      "cell_type": "code",
      "source": [
        "import numpy as np\n",
        "import matplotlib.pyplot as plt"
      ],
      "execution_count": 0,
      "outputs": []
    },
    {
      "metadata": {
        "id": "wh-VHdIQmXhF",
        "colab_type": "code",
        "colab": {},
        "outputId": "6b3bd32a-b777-4a6c-d019-188d59e392a6"
      },
      "cell_type": "code",
      "source": [
        "a = 1 / 3\n",
        "b = 2 / 7\n",
        "print(a, b)            # 変数を表示"
      ],
      "execution_count": 0,
      "outputs": [
        {
          "output_type": "stream",
          "text": [
            "0.3333333333333333 0.2857142857142857\n"
          ],
          "name": "stdout"
        }
      ]
    },
    {
      "metadata": {
        "id": "hMmBJQwrmXhK",
        "colab_type": "code",
        "colab": {},
        "outputId": "da1fa7f2-9f7f-4240-eecb-60a5fe853214"
      },
      "cell_type": "code",
      "source": [
        "print(np.round(a, 2))  # 小数点第二位までを表示（四捨五入）"
      ],
      "execution_count": 0,
      "outputs": [
        {
          "output_type": "stream",
          "text": [
            "0.33\n"
          ],
          "name": "stdout"
        }
      ]
    },
    {
      "metadata": {
        "id": "IfkUnwx2mXhO",
        "colab_type": "code",
        "colab": {},
        "outputId": "919ae3c2-ca11-4cf4-d896-f5728139263f"
      },
      "cell_type": "code",
      "source": [
        "print('a = ' + str(a)) # 文字列と一緒に表示1"
      ],
      "execution_count": 0,
      "outputs": [
        {
          "output_type": "stream",
          "text": [
            "a = 0.3333333333333333\n"
          ],
          "name": "stdout"
        }
      ]
    },
    {
      "metadata": {
        "id": "VnZDPuzymXhS",
        "colab_type": "code",
        "colab": {},
        "outputId": "3fa1020a-7a19-43e0-f395-a57945040305"
      },
      "cell_type": "code",
      "source": [
        "print('a = ' + str(np.round(a,2))) # 文字列と一緒に表示2"
      ],
      "execution_count": 0,
      "outputs": [
        {
          "output_type": "stream",
          "text": [
            "a = 0.33\n"
          ],
          "name": "stdout"
        }
      ]
    },
    {
      "metadata": {
        "id": "wICzAQfNmXhW",
        "colab_type": "code",
        "colab": {},
        "outputId": "372eff79-8e6c-4222-ef93-9fd01ac307c7"
      },
      "cell_type": "code",
      "source": [
        "print('a = {0:.2f}, b={1} '.format(a, b))  # フォーマットを指定して表示"
      ],
      "execution_count": 0,
      "outputs": [
        {
          "output_type": "stream",
          "text": [
            "a = 0.33, b=0.2857142857142857 \n"
          ],
          "name": "stdout"
        }
      ]
    },
    {
      "metadata": {
        "id": "Tw4cNxTLmXhg",
        "colab_type": "code",
        "colab": {},
        "outputId": "01d75000-2cab-4c0b-cfd2-863756adffa1"
      },
      "cell_type": "code",
      "source": [
        "a = [1, 2, 3]            # list\n",
        "len(a)                   # list の長さ"
      ],
      "execution_count": 0,
      "outputs": [
        {
          "output_type": "execute_result",
          "data": {
            "text/plain": [
              "3"
            ]
          },
          "metadata": {
            "tags": []
          },
          "execution_count": 7
        }
      ]
    },
    {
      "metadata": {
        "id": "hKKvvidzmXhk",
        "colab_type": "code",
        "colab": {},
        "outputId": "5720586d-fd29-4757-8a05-09ef7dc4598c"
      },
      "cell_type": "code",
      "source": [
        "a = range(5)             # range\n",
        "list(a)                  # range を list に変換"
      ],
      "execution_count": 0,
      "outputs": [
        {
          "output_type": "execute_result",
          "data": {
            "text/plain": [
              "[0, 1, 2, 3, 4]"
            ]
          },
          "metadata": {
            "tags": []
          },
          "execution_count": 8
        }
      ]
    },
    {
      "metadata": {
        "id": "9eqFpTbomXhn",
        "colab_type": "code",
        "colab": {},
        "outputId": "9f562820-1526-4278-c5f4-e7bdb40078cf"
      },
      "cell_type": "code",
      "source": [
        "a = np.array([1, 2, 3])       # ベクトル (1 次元 ndarray)\n",
        "print(a)"
      ],
      "execution_count": 0,
      "outputs": [
        {
          "output_type": "stream",
          "text": [
            "[1 2 3]\n"
          ],
          "name": "stdout"
        }
      ]
    },
    {
      "metadata": {
        "id": "1ly4g-5EmXhp",
        "colab_type": "code",
        "colab": {},
        "outputId": "1238abd2-cb1d-4f6e-ced7-67623805da23"
      },
      "cell_type": "code",
      "source": [
        "a = np.array([[1, 2, 3], [4, 5, 6]])    # 行列 (2 次元 ndarray)\n",
        "print(a)\n",
        "a.shape                                 # 行列の大きさ"
      ],
      "execution_count": 0,
      "outputs": [
        {
          "output_type": "stream",
          "text": [
            "[[1 2 3]\n",
            " [4 5 6]]\n"
          ],
          "name": "stdout"
        },
        {
          "output_type": "execute_result",
          "data": {
            "text/plain": [
              "(2, 3)"
            ]
          },
          "metadata": {
            "tags": []
          },
          "execution_count": 10
        }
      ]
    },
    {
      "metadata": {
        "id": "MDrn2zj6mXhs",
        "colab_type": "code",
        "colab": {},
        "outputId": "2955e4cb-edf6-4a2c-d65b-377ce2dd445a"
      },
      "cell_type": "code",
      "source": [
        "a = np.arange(10)        # 0 から 9 が要素のベクトル\n",
        "print(a) "
      ],
      "execution_count": 0,
      "outputs": [
        {
          "output_type": "stream",
          "text": [
            "[0 1 2 3 4 5 6 7 8 9]\n"
          ],
          "name": "stdout"
        }
      ]
    },
    {
      "metadata": {
        "id": "fnjI82tVmXhv",
        "colab_type": "code",
        "colab": {},
        "outputId": "8c4cd427-8dcd-402f-cd98-8a97d2e88181"
      },
      "cell_type": "code",
      "source": [
        "a = np.linspace(0, 1, 10)      # 0 から 1 を 10 で分けた要素のベクトル\n",
        "print(a) "
      ],
      "execution_count": 0,
      "outputs": [
        {
          "output_type": "stream",
          "text": [
            "[ 0.          0.11111111  0.22222222  0.33333333  0.44444444  0.55555556\n",
            "  0.66666667  0.77777778  0.88888889  1.        ]\n"
          ],
          "name": "stdout"
        }
      ]
    },
    {
      "metadata": {
        "id": "Xpg9Rxp6mXhy",
        "colab_type": "code",
        "colab": {},
        "outputId": "d622595a-8110-465b-b9c6-91f9c1ccf402"
      },
      "cell_type": "code",
      "source": [
        "a = np.zeros(5)        # 要素が 0 のベクトル\n",
        "print(a)"
      ],
      "execution_count": 0,
      "outputs": [
        {
          "output_type": "stream",
          "text": [
            "[ 0.  0.  0.  0.  0.]\n"
          ],
          "name": "stdout"
        }
      ]
    },
    {
      "metadata": {
        "id": "tqh02tZLmXh3",
        "colab_type": "code",
        "colab": {},
        "outputId": "aa5901fc-e548-47bf-8011-1160a3256dea"
      },
      "cell_type": "code",
      "source": [
        "a = np.ones((2, 3))    # 要素が 1 の行列\n",
        "print(a)"
      ],
      "execution_count": 0,
      "outputs": [
        {
          "output_type": "stream",
          "text": [
            "[[ 1.  1.  1.]\n",
            " [ 1.  1.  1.]]\n"
          ],
          "name": "stdout"
        }
      ]
    },
    {
      "metadata": {
        "id": "F1cmzwsPmXh7",
        "colab_type": "code",
        "colab": {
          "base_uri": "https://localhost:8080/",
          "height": 34
        },
        "outputId": "879ed896-366a-4434-9318-1054fb7efc00"
      },
      "cell_type": "code",
      "source": [
        "a = np.random.random(3)   # 要素が 0 から 1 の乱数のベクトル\n",
        "print(a)"
      ],
      "execution_count": 5,
      "outputs": [
        {
          "output_type": "stream",
          "text": [
            "[0.22247684 0.88459128 0.76251666]\n"
          ],
          "name": "stdout"
        }
      ]
    },
    {
      "metadata": {
        "id": "r18D2cYtmXh-",
        "colab_type": "code",
        "colab": {},
        "outputId": "fa90cdaa-41b0-47fd-f6d8-88f2e33af94d"
      },
      "cell_type": "code",
      "source": [
        "a = np.arange(1, 7)       # [1 2 3 4 5 6]\n",
        "print(a.reshape(2, 3))    # 2 行 3 列の行列に変形"
      ],
      "execution_count": 0,
      "outputs": [
        {
          "output_type": "stream",
          "text": [
            "[[1 2 3]\n",
            " [4 5 6]]\n"
          ],
          "name": "stdout"
        }
      ]
    },
    {
      "metadata": {
        "id": "HFyGQfxzmXiD",
        "colab_type": "code",
        "colab": {},
        "outputId": "cc19ec78-169e-48c6-ad16-123d8b38a75c"
      },
      "cell_type": "code",
      "source": [
        "a = np.array([[1, 2], [3, 4]])\n",
        "b = np.array([[5, 6], [7, 8]])\n",
        "print(np.c_[a, b])        # 行列を縦に連結\n",
        "print(np.r_[a, b])        # 行列を横に連結"
      ],
      "execution_count": 0,
      "outputs": [
        {
          "output_type": "stream",
          "text": [
            "[[1 2 5 6]\n",
            " [3 4 7 8]]\n",
            "[[1 2]\n",
            " [3 4]\n",
            " [5 6]\n",
            " [7 8]]\n"
          ],
          "name": "stdout"
        }
      ]
    },
    {
      "metadata": {
        "id": "3aafmnOfmXiI",
        "colab_type": "code",
        "colab": {},
        "outputId": "b2244d8b-bd16-4c98-ee56-261394508727"
      },
      "cell_type": "code",
      "source": [
        "x = np.arange(1, 6) / 4    # [ 0.25  0.5   0.75  1.    1.25]\n",
        "np.sqrt(x)      # 平方根\n",
        "np.log(x)       # 対数\n",
        "np.round(x, 1)  # 四捨五入で小数点第 1 位までにする\n",
        "np.mean(x)      # 平均\n",
        "np.std(x)       # 標準偏差\n",
        "np.max(x)       # 最大値\n",
        "np.min(x)       # 最小値"
      ],
      "execution_count": 0,
      "outputs": [
        {
          "output_type": "execute_result",
          "data": {
            "text/plain": [
              "0.25"
            ]
          },
          "metadata": {
            "tags": []
          },
          "execution_count": 18
        }
      ]
    },
    {
      "metadata": {
        "id": "ilmxMQn5mXiN",
        "colab_type": "code",
        "colab": {},
        "outputId": "a5bdce85-31c3-4e84-face-1d53c3c128d6"
      },
      "cell_type": "code",
      "source": [
        "x = np.array([[1, 2], [3, 4], [5, 6]])\n",
        "w = np.array([[1, 2], [3, 4]])\n",
        "x.dot(w)        # 行列積"
      ],
      "execution_count": 0,
      "outputs": [
        {
          "output_type": "execute_result",
          "data": {
            "text/plain": [
              "array([[ 7, 10],\n",
              "       [15, 22],\n",
              "       [23, 34]])"
            ]
          },
          "metadata": {
            "tags": []
          },
          "execution_count": 19
        }
      ]
    },
    {
      "metadata": {
        "id": "cHPFGkGrmXiR",
        "colab_type": "code",
        "colab": {},
        "outputId": "09d5116b-4c15-4772-fcec-0ab81c371ec8"
      },
      "cell_type": "code",
      "source": [
        "x = np.arange(10)      # [0 1 2 3 4 5 6 7 8 9]\n",
        "x[:5]                  # スライシング　はじめから 4 まで"
      ],
      "execution_count": 0,
      "outputs": [
        {
          "output_type": "execute_result",
          "data": {
            "text/plain": [
              "array([0, 1, 2, 3, 4])"
            ]
          },
          "metadata": {
            "tags": []
          },
          "execution_count": 20
        }
      ]
    },
    {
      "metadata": {
        "id": "e_vfQWN2mXiU",
        "colab_type": "code",
        "colab": {},
        "outputId": "882cb159-4593-4efa-f4b1-4604722ca5e0"
      },
      "cell_type": "code",
      "source": [
        "x[5:]        # スライシング　5 から最後まで"
      ],
      "execution_count": 0,
      "outputs": [
        {
          "output_type": "execute_result",
          "data": {
            "text/plain": [
              "array([5, 6, 7, 8, 9])"
            ]
          },
          "metadata": {
            "tags": []
          },
          "execution_count": 21
        }
      ]
    },
    {
      "metadata": {
        "id": "jG_eAoH8mXiX",
        "colab_type": "code",
        "colab": {},
        "outputId": "eed480b3-0432-4c0a-9c07-fed3d260f908"
      },
      "cell_type": "code",
      "source": [
        "x[3:8]       # スライシング　3 から 7 まで"
      ],
      "execution_count": 0,
      "outputs": [
        {
          "output_type": "execute_result",
          "data": {
            "text/plain": [
              "array([3, 4, 5, 6, 7])"
            ]
          },
          "metadata": {
            "tags": []
          },
          "execution_count": 22
        }
      ]
    },
    {
      "metadata": {
        "id": "cX-jQUZQmXib",
        "colab_type": "code",
        "colab": {},
        "outputId": "d4671f8b-59b5-4da2-a5f1-4c13492e36f6"
      },
      "cell_type": "code",
      "source": [
        "for i in range(3):       # for 文\n",
        "    print(i) "
      ],
      "execution_count": 0,
      "outputs": [
        {
          "output_type": "stream",
          "text": [
            "0\n",
            "1\n",
            "2\n"
          ],
          "name": "stdout"
        }
      ]
    },
    {
      "metadata": {
        "id": "gCxVG_KfmXif",
        "colab_type": "code",
        "colab": {},
        "outputId": "931fd474-6e7b-4403-cbff-82153f77bdc5"
      },
      "cell_type": "code",
      "source": [
        "a = 100\n",
        "if a > 10:               # if 文\n",
        "   print('a is larger than 10')\n",
        "else:\n",
        "   print('a is not larger than 10') "
      ],
      "execution_count": 0,
      "outputs": [
        {
          "output_type": "stream",
          "text": [
            "a is larger than 10\n"
          ],
          "name": "stdout"
        }
      ]
    },
    {
      "metadata": {
        "id": "W1ahdbTTmXih",
        "colab_type": "code",
        "colab": {}
      },
      "cell_type": "code",
      "source": [
        "def my_func(a, b):       # 関数を定義\n",
        "    c = a + b\n",
        "    return c "
      ],
      "execution_count": 0,
      "outputs": []
    },
    {
      "metadata": {
        "id": "X53bqcwcmXik",
        "colab_type": "code",
        "colab": {},
        "outputId": "7f643fed-382c-4ecd-9320-93f567cd8900"
      },
      "cell_type": "code",
      "source": [
        "my_func(1, 2)            # 関数を実行"
      ],
      "execution_count": 0,
      "outputs": [
        {
          "output_type": "execute_result",
          "data": {
            "text/plain": [
              "3"
            ]
          },
          "metadata": {
            "tags": []
          },
          "execution_count": 26
        }
      ]
    },
    {
      "metadata": {
        "id": "50plzETImXin",
        "colab_type": "code",
        "colab": {}
      },
      "cell_type": "code",
      "source": [
        "data1 = np.array([1, 2, 3])\n",
        "data2 = np.array([10, 20, 30])\n",
        "np.savez('datafile.npz', data1=data1, data2=data2)    # データの保存"
      ],
      "execution_count": 0,
      "outputs": []
    },
    {
      "metadata": {
        "id": "tKihjMeGmXip",
        "colab_type": "code",
        "colab": {},
        "outputId": "8fc2e1fb-e572-445e-8082-b2ed319c24fe"
      },
      "cell_type": "code",
      "source": [
        "outfile = np.load('datafile.npz')      # データの読み出し\n",
        "print(outfile.files)                   # 格納しているデータの一覧表示\n",
        "data1 = outfile['data1']               # data1 の取り出し\n",
        "data2 = outfile['data2']               # data2 の取り出し\n",
        "print(data1)\n",
        "print(data2)"
      ],
      "execution_count": 0,
      "outputs": [
        {
          "output_type": "stream",
          "text": [
            "['data1', 'data2']\n",
            "[1 2 3]\n",
            "[10 20 30]\n"
          ],
          "name": "stdout"
        }
      ]
    },
    {
      "metadata": {
        "id": "0ME9pLwLmXis",
        "colab_type": "code",
        "colab": {},
        "outputId": "8f540d3b-8490-4a70-c8e7-4203527a8235"
      },
      "cell_type": "code",
      "source": [
        "x = np.linspace(-3, 3, 100)                           # x を定義\n",
        "y1 = (x + 2) * x * (x - 2)                            # y1 を定義\n",
        "y2 = (x + 2) * x * (x - 3)                            # y2 を定義\n",
        "plt.figure(figsize=(6, 5))                            # figure を生成\n",
        "plt.plot(x, y1, color='black', label='y1')            # x-y1 のグラフを黒で描写\n",
        "plt.plot(x, y2, color='cornflowerblue', label='y2')   # x-y2 を水色で描写\n",
        "plt.legend(loc=\"upper left\")                          # 凡例を左上に表示\n",
        "plt.ylim(-15, 15)                                     # y の範囲を指定\n",
        "plt.xlim(-3, 3)                                       # x の範囲を指定\n",
        "plt.title('y=f(x)')                                   # タイトルを表示\n",
        "plt.xlabel('x')                                       # 横軸ラベルを表示\n",
        "plt.ylabel('y')                                       # 縦軸ラベルを表示\n",
        "plt.grid(True)                                        # グリッドを表示\n",
        "plt.show()                                            # グラフを表示"
      ],
      "execution_count": 0,
      "outputs": [
        {
          "output_type": "display_data",
          "data": {
            "image/png": "[encoded data removed]",
            "text/plain": [
              "<matplotlib.figure.Figure at 0x1f4939915c0>"
            ]
          },
          "metadata": {
            "tags": []
          }
        }
      ]
    },
    {
      "metadata": {
        "id": "iryOlrK4mXiu",
        "colab_type": "code",
        "colab": {
          "base_uri": "https://localhost:8080/",
          "height": 357
        },
        "outputId": "6b11bfa6-7fba-4db5-815f-5e95f6a092b2"
      },
      "cell_type": "code",
      "source": [
        "from mpl_toolkits.mplot3d import Axes3D            # Axes3D のインポート\n",
        "\n",
        "def f(x0, x1):                                     # 関数を定義\n",
        "    r = 2 * x0**2 + x1**2\n",
        "    ans = r * np.exp(-r)\n",
        "    return ans\n",
        "\n",
        "xn = 50                                            # グラフの細かさ\n",
        "x0 = np.linspace(-2, 2, xn)                        # x0 の範囲\n",
        "x1 = np.linspace(-2, 2, xn)                        # x1 の範囲\n",
        "y = np.zeros((xn, xn))                             # y の準備\n",
        "for i0 in range(xn):\n",
        "    for i1 in range(xn):\n",
        "        y[i1, i0] = f(x0[i0], x1[i1])              # y を計算\n",
        "xx0, xx1 = np.meshgrid(x0, x1)\n",
        "\n",
        "plt.figure(figsize=(8, 6))                         # figureを生成\n",
        "ax = plt.subplot(1, 1, 1, projection='3d')         # 3D グラフの表示を準備\n",
        "ax.plot_surface(xx0, xx1, y, rstride=5, cstride=5, alpha=0.3,\n",
        "                color='blue', edgecolor='black')   # 3D グラフを表示\n",
        "ax.set_zticks((0, 0.2))                            # z 軸のメモリを指定\n",
        "ax.view_init(75, -95)                              # グラフの表示角度を指定\n",
        "plt.show()                                         # グラフを表示"
      ],
      "execution_count": 3,
      "outputs": [
        {
          "output_type": "display_data",
          "data": {
            "image/png": "[encoded data removed]",
            "text/plain": [
              "<matplotlib.figure.Figure at 0x7fe02e97d160>"
            ]
          },
          "metadata": {
            "tags": []
          }
        }
      ]
    },
    {
      "metadata": {
        "id": "uiDjk_JZmXi1",
        "colab_type": "code",
        "colab": {},
        "outputId": "ec8ee690-a661-4651-b803-1f6ee1c05dc5"
      },
      "cell_type": "code",
      "source": [
        "plt.figure(1, figsize=(4, 4))                         # figureを準備\n",
        "cont = plt.contour(xx0, xx1, y, 5, colors='black')    # 等高線グラフを描写\n",
        "cont.clabel(fmt='%3.2f', fontsize=8)                  # 等高線の高さを表示\n",
        "plt.xlabel('$x_0$', fontsize=14)                      # 横軸ラベルを表示\n",
        "plt.ylabel('$x_1$', fontsize=14)                      # 縦軸ラベルを表示\n",
        "plt.show()                                            # グラフを表示"
      ],
      "execution_count": 0,
      "outputs": [
        {
          "output_type": "display_data",
          "data": {
            "image/png": "[encoded data removed]",
            "text/plain": [
              "<matplotlib.figure.Figure at 0x1f493817a90>"
            ]
          },
          "metadata": {
            "tags": []
          }
        }
      ]
    },
    {
      "metadata": {
        "id": "fMp8AqrEmXi4",
        "colab_type": "code",
        "colab": {}
      },
      "cell_type": "code",
      "source": [
        ""
      ],
      "execution_count": 0,
      "outputs": []
    }
  ]
}