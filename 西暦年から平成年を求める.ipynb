{
  "nbformat": 4,
  "nbformat_minor": 0,
  "metadata": {
    "colab": {
      "name": "西暦年から平成年を求める",
      "version": "0.3.2",
      "provenance": [],
      "include_colab_link": true
    },
    "kernelspec": {
      "name": "python3",
      "display_name": "Python 3"
    }
  },
  "cells": [
    {
      "cell_type": "markdown",
      "metadata": {
        "id": "view-in-github",
        "colab_type": "text"
      },
      "source": [
        "<a href=\"https://colab.research.google.com/github/taroarimoto/Python_Practice/blob/master/%E8%A5%BF%E6%9A%A6%E5%B9%B4%E3%81%8B%E3%82%89%E5%B9%B3%E6%88%90%E5%B9%B4%E3%82%92%E6%B1%82%E3%82%81%E3%82%8B.ipynb\" target=\"_parent\"><img src=\"https://colab.research.google.com/assets/colab-badge.svg\" alt=\"Open In Colab\"/></a>"
      ]
    },
    {
      "metadata": {
        "id": "gKcdmJjRDwei",
        "colab_type": "code",
        "colab": {
          "base_uri": "https://localhost:8080/",
          "height": 34
        },
        "outputId": "d5ecd680-822f-45d9-cfbc-ef8b3930ec78"
      },
      "cell_type": "code",
      "source": [
        "# coding: utf-8\n",
        "# 西暦年から平成年を求める\n",
        "import datetime\n",
        "seireki = datetime.date.today().year\n",
        "\n",
        "\n",
        "print(\"西暦\" + str(seireki)+\"年は\", end=\"\")\n",
        "\n",
        "#西暦年　- 1988 =平成１年\n",
        "\n",
        "heisei = seireki -1988\n",
        "print(\"平成\"+ str(heisei)+\"です。\")"
      ],
      "execution_count": 17,
      "outputs": [
        {
          "output_type": "stream",
          "text": [
            "西暦2018年は平成30です。\n"
          ],
          "name": "stdout"
        }
      ]
    },
    {
      "metadata": {
        "id": "CbISa4-WD3yo",
        "colab_type": "code",
        "colab": {
          "base_uri": "https://localhost:8080/",
          "height": 34
        },
        "outputId": "e2a65bd9-0bfd-4e2f-816f-c789d2ca24e7"
      },
      "cell_type": "code",
      "source": [
        "print(\"hello\", end=\"\")\n",
        "print(\"hello\", end=\"\")"
      ],
      "execution_count": 14,
      "outputs": [
        {
          "output_type": "stream",
          "text": [
            "hellohello"
          ],
          "name": "stdout"
        }
      ]
    },
    {
      "metadata": {
        "id": "36etVxsNuFLX",
        "colab_type": "text"
      },
      "cell_type": "markdown",
      "source": [
        ""
      ]
    },
    {
      "metadata": {
        "id": "KUYCq3detWgc",
        "colab_type": "code",
        "colab": {}
      },
      "cell_type": "code",
      "source": [
        ""
      ],
      "execution_count": 0,
      "outputs": []
    }
  ]
}