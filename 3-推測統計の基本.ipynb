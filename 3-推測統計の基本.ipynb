{
 "cells": [
  {
   "cell_type": "markdown",
   "metadata": {},
   "source": [
    "# 3．推測統計の基本 ｜Pythonプログラミングを使った統計分析の基礎\n",
    "\n",
    "### [Logics of Blue](https://logics-of-blue.com/) 馬場真哉：2019年3月1日"
   ]
  },
  {
   "cell_type": "markdown",
   "metadata": {},
   "source": [
    "## 目的\n",
    "- 推測統計学の基礎理論を、シミュレーションを通して学ぶ\n",
    "    - 標本抽出シミュレーションの理解\n",
    "    - 確率分布の理解（二項分布）\n",
    "    - 仮説検定の基本（二項検定）\n",
    "\n",
    " \n",
    "## 目次\n",
    "1. [標本抽出シミュレーション](#1．標本抽出シミュレーション)\n",
    "2. [統計的仮説検定の基本](#2．統計的仮説検定の基本)\n",
    "3. [確率変数と確率分布の基本](#3．確率変数と確率分布の基本)\n"
   ]
  },
  {
   "cell_type": "code",
   "execution_count": 1,
   "metadata": {},
   "outputs": [],
   "source": [
    "# 数値計算に使うライブラリ\n",
    "import numpy as np\n",
    "import pandas as pd\n",
    "import scipy as sp\n",
    "from scipy import stats\n",
    "\n",
    "# グラフを描画するライブラリ\n",
    "from matplotlib import pyplot as plt\n",
    "import seaborn as sns\n",
    "sns.set()\n",
    "\n",
    "# 表示桁数の指定\n",
    "%precision 3\n",
    "# グラフをjupyter Notebook内に表示させるための指定\n",
    "%matplotlib inline\n",
    "\n",
    "# 不要なワーニングを出力させない\n",
    "import warnings\n",
    "warnings.simplefilter(action='ignore', category=FutureWarning)"
   ]
  },
  {
   "cell_type": "markdown",
   "metadata": {},
   "source": [
    "## 1．標本抽出シミュレーション\n",
    "\n",
    "### 4人の有権者からの標本抽出"
   ]
  },
  {
   "cell_type": "code",
   "execution_count": 2,
   "metadata": {},
   "outputs": [],
   "source": [
    "# 1：与党支持、0：不支持\n",
    "population_4 = np.array([1, 1, 0, 0])"
   ]
  },
  {
   "cell_type": "code",
   "execution_count": 3,
   "metadata": {},
   "outputs": [
    {
     "data": {
      "text/plain": [
       "array([0, 0])"
      ]
     },
     "execution_count": 3,
     "metadata": {},
     "output_type": "execute_result"
    }
   ],
   "source": [
    "# ランダムに2人を選ぶ\n",
    "# replace = Falseは、一度抽出した人を再度サンプリングしないようにする指定\n",
    "# 実行するたびに結果は変わる\n",
    "sample_1 = np.random.choice(population_4, size = 2, replace = False)\n",
    "sample_1"
   ]
  },
  {
   "cell_type": "code",
   "execution_count": 4,
   "metadata": {},
   "outputs": [
    {
     "data": {
      "text/plain": [
       "0.0"
      ]
     },
     "execution_count": 4,
     "metadata": {},
     "output_type": "execute_result"
    }
   ],
   "source": [
    "# 支持率の計算\n",
    "sp.mean(sample_1)"
   ]
  },
  {
   "cell_type": "code",
   "execution_count": 5,
   "metadata": {},
   "outputs": [
    {
     "name": "stdout",
     "output_type": "stream",
     "text": [
      "0.5\n",
      "0.0\n",
      "0.5\n",
      "0.5\n",
      "0.5\n",
      "0.5\n",
      "0.0\n",
      "0.5\n",
      "0.5\n",
      "0.5\n"
     ]
    }
   ],
   "source": [
    "# 何度も繰り返す\n",
    "for i in range(0, 10):\n",
    "    sample_roop = np.random.choice(population_4, size = 2, replace = False)\n",
    "    print(sp.mean(sample_roop))"
   ]
  },
  {
   "cell_type": "markdown",
   "metadata": {},
   "source": [
    "<p>\n",
    "    ここまでが標本抽出シミュレーションの基本的な説明です。<br>\n",
    "    質問があれば受け付けます。\n",
    "</p>"
   ]
  },
  {
   "cell_type": "markdown",
   "metadata": {},
   "source": [
    "### 2万人の有権者からの標本抽出\n",
    "1億人だと計算が重くなりすぎるので、2万人で実験します。"
   ]
  },
  {
   "cell_type": "code",
   "execution_count": 6,
   "metadata": {},
   "outputs": [
    {
     "data": {
      "text/plain": [
       "array([0, 1, 0, 1, 0, 1])"
      ]
     },
     "execution_count": 6,
     "metadata": {},
     "output_type": "execute_result"
    }
   ],
   "source": [
    "# [0, 1]を3回繰り返す\n",
    "np.tile([0,1], 3)"
   ]
  },
  {
   "cell_type": "code",
   "execution_count": 7,
   "metadata": {},
   "outputs": [],
   "source": [
    "# 支持する人1万人、不支持の人1万人を作る\n",
    "population = np.tile([0,1], 10000)"
   ]
  },
  {
   "cell_type": "code",
   "execution_count": 8,
   "metadata": {},
   "outputs": [
    {
     "data": {
      "text/plain": [
       "0.47"
      ]
     },
     "execution_count": 8,
     "metadata": {},
     "output_type": "execute_result"
    }
   ],
   "source": [
    "# 500人を抜き出したときの支持率\n",
    "sample_500 = np.random.choice(population, size = 500, replace = False)\n",
    "sp.mean(sample_500)"
   ]
  },
  {
   "cell_type": "code",
   "execution_count": 9,
   "metadata": {},
   "outputs": [
    {
     "data": {
      "text/plain": [
       "0.496"
      ]
     },
     "execution_count": 9,
     "metadata": {},
     "output_type": "execute_result"
    }
   ],
   "source": [
    "# 乱数の値を固定すると、毎回同じ乱数が得られる\n",
    "np.random.seed(2)\n",
    "sample_500 = np.random.choice(population, size = 500, replace = False)\n",
    "sp.mean(sample_500)"
   ]
  },
  {
   "cell_type": "code",
   "execution_count": 10,
   "metadata": {},
   "outputs": [
    {
     "name": "stdout",
     "output_type": "stream",
     "text": [
      "[0.496 0.456 0.536 ... 0.498 0.51  0.53 ]\n"
     ]
    }
   ],
   "source": [
    "# 500人の抽出シミュレーションを10000回繰り返す\n",
    "\n",
    "# 10000回の「標本の与党支持者数」を保持\n",
    "sample_sizisya_array = np.zeros(10000)\n",
    "\n",
    "# 10000回の「標本の与党支持率」を保持\n",
    "sample_siziritu_array = np.zeros(10000)\n",
    "\n",
    "# シミュレーションの結果を再現するため、乱数の値を固定する\n",
    "np.random.seed(2)\n",
    "\n",
    "# 10000回の標本抽出シミュレーションを実行\n",
    "for i in range(0, 10000):\n",
    "    sample_roop = np.random.choice(population, size = 500, replace = False)\n",
    "    sample_sizisya_array[i] = sp.sum(sample_roop)\n",
    "    sample_siziritu_array[i] = sp.mean(sample_roop)\n",
    "\n",
    "print(sample_siziritu_array)"
   ]
  },
  {
   "cell_type": "code",
   "execution_count": 11,
   "metadata": {},
   "outputs": [
    {
     "data": {
      "text/plain": [
       "<matplotlib.axes._subplots.AxesSubplot at 0x1de6a430518>"
      ]
     },
     "execution_count": 11,
     "metadata": {},
     "output_type": "execute_result"
    },
    {
     "data": {
      "image/png": "[encoded data removed]",
      "text/plain": [
       "<Figure size 432x288 with 1 Axes>"
      ]
     },
     "metadata": {
      "needs_background": "light"
     },
     "output_type": "display_data"
    }
   ],
   "source": [
    "# 10000回の「標本の与党支持率」のヒストグラム\n",
    "# 母集団の支持率は50%とわかっているのに、標本の支持率はばらつく\n",
    "kaikyuu = np.linspace(0.4, 0.6, 100)\n",
    "sns.distplot(sample_siziritu_array, bins = kaikyuu, norm_hist = True)"
   ]
  },
  {
   "cell_type": "code",
   "execution_count": 12,
   "metadata": {},
   "outputs": [
    {
     "data": {
      "text/plain": [
       "<matplotlib.axes._subplots.AxesSubplot at 0x1de6a82a748>"
      ]
     },
     "execution_count": 12,
     "metadata": {},
     "output_type": "execute_result"
    },
    {
     "data": {
      "image/png": "[encoded data removed]",
      "text/plain": [
       "<Figure size 432x288 with 1 Axes>"
      ]
     },
     "metadata": {
      "needs_background": "light"
     },
     "output_type": "display_data"
    }
   ],
   "source": [
    "# 支持者の数も同様\n",
    "kaikyuu = np.linspace(200, 300, 100)\n",
    "sns.distplot(sample_sizisya_array, bins = kaikyuu, norm_hist = True)"
   ]
  },
  {
   "cell_type": "code",
   "execution_count": 13,
   "metadata": {},
   "outputs": [
    {
     "data": {
      "text/html": [
       "<div>\n",
       "<style scoped>\n",
       "    .dataframe tbody tr th:only-of-type {\n",
       "        vertical-align: middle;\n",
       "    }\n",
       "\n",
       "    .dataframe tbody tr th {\n",
       "        vertical-align: top;\n",
       "    }\n",
       "\n",
       "    .dataframe thead th {\n",
       "        text-align: right;\n",
       "    }\n",
       "</style>\n",
       "<table border=\"1\" class=\"dataframe\">\n",
       "  <thead>\n",
       "    <tr style=\"text-align: right;\">\n",
       "      <th></th>\n",
       "      <th>支持率</th>\n",
       "    </tr>\n",
       "  </thead>\n",
       "  <tbody>\n",
       "    <tr>\n",
       "      <th>count</th>\n",
       "      <td>10000.000000</td>\n",
       "    </tr>\n",
       "    <tr>\n",
       "      <th>mean</th>\n",
       "      <td>0.500093</td>\n",
       "    </tr>\n",
       "    <tr>\n",
       "      <th>std</th>\n",
       "      <td>0.022173</td>\n",
       "    </tr>\n",
       "    <tr>\n",
       "      <th>min</th>\n",
       "      <td>0.416000</td>\n",
       "    </tr>\n",
       "    <tr>\n",
       "      <th>25%</th>\n",
       "      <td>0.484000</td>\n",
       "    </tr>\n",
       "    <tr>\n",
       "      <th>50%</th>\n",
       "      <td>0.500000</td>\n",
       "    </tr>\n",
       "    <tr>\n",
       "      <th>75%</th>\n",
       "      <td>0.514000</td>\n",
       "    </tr>\n",
       "    <tr>\n",
       "      <th>max</th>\n",
       "      <td>0.586000</td>\n",
       "    </tr>\n",
       "  </tbody>\n",
       "</table>\n",
       "</div>"
      ],
      "text/plain": [
       "                支持率\n",
       "count  10000.000000\n",
       "mean       0.500093\n",
       "std        0.022173\n",
       "min        0.416000\n",
       "25%        0.484000\n",
       "50%        0.500000\n",
       "75%        0.514000\n",
       "max        0.586000"
      ]
     },
     "execution_count": 13,
     "metadata": {},
     "output_type": "execute_result"
    }
   ],
   "source": [
    "# 10000回の「標本の与党支持率」の集計値\n",
    "pd.DataFrame({\"支持率\":sample_siziritu_array}).describe()"
   ]
  },
  {
   "cell_type": "markdown",
   "metadata": {},
   "source": [
    "## 2．統計的仮説検定の基本"
   ]
  },
  {
   "cell_type": "markdown",
   "metadata": {},
   "source": [
    "#### 前提\n",
    "現実世界でアンケート調査を行った結果、500人中、260人が与党支持だった。<br>\n",
    "標本の与党支持率は52%\n",
    "\n",
    "#### 課題\n",
    "上記の標本が得られたとき、この標本が「支持率50%の母集団から得られた」と考えることに矛盾はないか？"
   ]
  },
  {
   "cell_type": "code",
   "execution_count": 14,
   "metadata": {},
   "outputs": [
    {
     "data": {
      "text/plain": [
       "1956"
      ]
     },
     "execution_count": 14,
     "metadata": {},
     "output_type": "execute_result"
    }
   ],
   "source": [
    "# 10000回のシミュレーションの中で、標本の与党支持率が52%を上回った回数\n",
    "sum(sample_siziritu_array >= 0.52)"
   ]
  },
  {
   "cell_type": "code",
   "execution_count": 15,
   "metadata": {},
   "outputs": [
    {
     "data": {
      "text/plain": [
       "0.1956"
      ]
     },
     "execution_count": 15,
     "metadata": {},
     "output_type": "execute_result"
    }
   ],
   "source": [
    "# 10000回のシミュレーションの中で、支持率が52%を上回った確率(割合)\n",
    "# この確率がp値と呼ばれる（詳細は後述）\n",
    "# この値が0.05より大きいので「今回の結果は、支持率が50%とみなしても大きな矛盾はなさそう」ということになる\n",
    "sum(sample_siziritu_array >= 0.52) / 10000"
   ]
  },
  {
   "cell_type": "code",
   "execution_count": 16,
   "metadata": {},
   "outputs": [
    {
     "data": {
      "text/plain": [
       "0.19775538571741924"
      ]
     },
     "execution_count": 16,
     "metadata": {},
     "output_type": "execute_result"
    }
   ],
   "source": [
    "# シミュレーションをすることなく計算でp値を求めることも可能\n",
    "# 詳細は後述するが、今回の検定は、いわゆる「片側検定」に属する\n",
    "stats.binom_test(x = 260, n = 500, p = 0.5, alternative = \"greater\")"
   ]
  },
  {
   "cell_type": "markdown",
   "metadata": {},
   "source": [
    "## 3．確率変数と確率分布の基本\n",
    "\n",
    "<p>\n",
    "    まずはPythonを使って確率質量関数を扱う方法を説明します。<br>\n",
    "    その後、標本抽出シミュレーションの結果と、二項分布から計算された確率分布とを比較します。\n",
    "</p>"
   ]
  },
  {
   "cell_type": "code",
   "execution_count": 17,
   "metadata": {},
   "outputs": [
    {
     "data": {
      "text/plain": [
       "0.5"
      ]
     },
     "execution_count": 17,
     "metadata": {},
     "output_type": "execute_result"
    }
   ],
   "source": [
    "# 二項分布の確率質量関数\n",
    "# 50%で表になるコインを2回投げた時、1回表が出る確率\n",
    "stats.binom.pmf(n = 2, k = 1, p = 0.5)"
   ]
  },
  {
   "cell_type": "code",
   "execution_count": 18,
   "metadata": {},
   "outputs": [
    {
     "data": {
      "text/plain": [
       "0.24609375000000025"
      ]
     },
     "execution_count": 18,
     "metadata": {},
     "output_type": "execute_result"
    }
   ],
   "source": [
    "# 50%で表になるコインを10回投げた時、5回表が出る確率\n",
    "stats.binom.pmf(n = 10, k = 5, p = 0.5)"
   ]
  },
  {
   "cell_type": "code",
   "execution_count": 19,
   "metadata": {},
   "outputs": [
    {
     "data": {
      "text/plain": [
       "0.02392329606092036"
      ]
     },
     "execution_count": 19,
     "metadata": {},
     "output_type": "execute_result"
    }
   ],
   "source": [
    "# 50%で表になるコインを500回投げた時、260回表が出る確率\n",
    "stats.binom.pmf(n = 500, k = 260, p = 0.5)"
   ]
  },
  {
   "cell_type": "code",
   "execution_count": 20,
   "metadata": {},
   "outputs": [
    {
     "data": {
      "text/plain": [
       "[<matplotlib.lines.Line2D at 0x1de6b9e7c18>]"
      ]
     },
     "execution_count": 20,
     "metadata": {},
     "output_type": "execute_result"
    },
    {
     "data": {
      "image/png": "[encoded data removed]",
      "text/plain": [
       "<Figure size 432x288 with 1 Axes>"
      ]
     },
     "metadata": {
      "needs_background": "light"
     },
     "output_type": "display_data"
    }
   ],
   "source": [
    "# 50%で表になるコインを500回投げた時の、「表が出る回数」の確率分布\n",
    "\n",
    "# 200～300の範囲で「表が出る回数」を指定。\n",
    "m = np.arange(200,300,1)\n",
    "\n",
    "# 確率質量関数を使って、表が200回出る確率、201回出る確率……300回出る確率を各々計算する\n",
    "pmf_binomial = stats.binom.pmf(n = 500, k = m, p = 0.5)\n",
    "\n",
    "# 確率質量関数の折れ線グラフ\n",
    "plt.plot(m, pmf_binomial, color = 'red', linewidth = 2)"
   ]
  },
  {
   "cell_type": "code",
   "execution_count": 21,
   "metadata": {},
   "outputs": [
    {
     "data": {
      "text/plain": [
       "[<matplotlib.lines.Line2D at 0x1de6ba20d30>]"
      ]
     },
     "execution_count": 21,
     "metadata": {},
     "output_type": "execute_result"
    },
    {
     "data": {
      "image/png": "[encoded data removed]",
      "text/plain": [
       "<Figure size 432x288 with 1 Axes>"
      ]
     },
     "metadata": {
      "needs_background": "light"
     },
     "output_type": "display_data"
    }
   ],
   "source": [
    "# ヒストグラムと二項分布の確率分布を重ね合わせる\n",
    "# ほとんど一致していることがわかる\n",
    "\n",
    "# シミュレーションで得られた支持者の数のヒストグラム\n",
    "sns.distplot(sample_sizisya_array, bins = kaikyuu, norm_hist = True)\n",
    "\n",
    "# 確率質量関数の折れ線グラフ\n",
    "plt.plot(m, pmf_binomial, color = 'red', linewidth = 2)"
   ]
  },
  {
   "cell_type": "markdown",
   "metadata": {},
   "source": [
    "### 二項分布を使って、シミュレーションデータを作成（np.random.choiceの代わり）\n",
    "\n",
    "シミュレーションをしなくても同様の結果が得られると先ほど示しましたが、<br>\n",
    "シミュレーションを簡単にするという目的でも二項分布は活用できます。"
   ]
  },
  {
   "cell_type": "code",
   "execution_count": 22,
   "metadata": {},
   "outputs": [
    {
     "data": {
      "text/plain": [
       "array([279, 261, 257, 241, 262, 254, 250, 243, 269, 261])"
      ]
     },
     "execution_count": 22,
     "metadata": {},
     "output_type": "execute_result"
    }
   ],
   "source": [
    "# 表が出る確率が50%（p=0.5）のコインを500回（n=500）投げた時に、表が出る回数を、10回記録（size=10）\n",
    "stats.binom.rvs(n = 500, p = 0.5, size = 10)"
   ]
  },
  {
   "cell_type": "code",
   "execution_count": 23,
   "metadata": {},
   "outputs": [
    {
     "data": {
      "text/plain": [
       "<matplotlib.axes._subplots.AxesSubplot at 0x1de6bb16940>"
      ]
     },
     "execution_count": 23,
     "metadata": {},
     "output_type": "execute_result"
    },
    {
     "data": {
      "image/png": "[encoded data removed]",
      "text/plain": [
       "<Figure size 432x288 with 1 Axes>"
      ]
     },
     "metadata": {
      "needs_background": "light"
     },
     "output_type": "display_data"
    }
   ],
   "source": [
    "# 表が出る確率が50%（p=0.5）のコインを500回（n=500）投げた時に、表が出る回数を、10000回記録（size=10000）\n",
    "simu_binom = stats.binom.rvs(n = 500, p = 0.5, size = 10000)\n",
    "\n",
    "# ヒストグラムを描く（先ほどのシミュレーションとほぼ同じ結果になる）\n",
    "kaikyuu = np.linspace(200, 300, 100)\n",
    "sns.distplot(simu_binom, bins = kaikyuu, norm_hist = True)"
   ]
  },
  {
   "cell_type": "markdown",
   "metadata": {},
   "source": [
    "### 補足：パラメタを変えた時の二項分布"
   ]
  },
  {
   "cell_type": "code",
   "execution_count": 24,
   "metadata": {},
   "outputs": [
    {
     "data": {
      "text/plain": [
       "<matplotlib.legend.Legend at 0x1de6a7b1a90>"
      ]
     },
     "execution_count": 24,
     "metadata": {},
     "output_type": "execute_result"
    },
    {
     "data": {
      "image/png": "[encoded data removed]",
      "text/plain": [
       "<Figure size 432x288 with 1 Axes>"
      ]
     },
     "metadata": {
      "needs_background": "light"
     },
     "output_type": "display_data"
    }
   ],
   "source": [
    "#「表が出た回数」を指定。\n",
    "m = np.arange(0,10,1)\n",
    "\n",
    "# パラメタを様々変える（Nは常に10回）\n",
    "pmf_binomial_p01 = stats.binom.pmf(n = 10, k = m, p = 0.1)\n",
    "pmf_binomial_p03 = stats.binom.pmf(n = 10, k = m, p = 0.3)\n",
    "pmf_binomial_p05 = stats.binom.pmf(n = 10, k = m, p = 0.5)\n",
    "\n",
    "# 確率質量関数の折れ線グラフ\n",
    "plt.plot(m, pmf_binomial_p01, color = 'black', linewidth = 2, label=\"p = 0.1\")\n",
    "plt.plot(m, pmf_binomial_p03, color = 'blue' , linewidth = 2, label=\"p = 0.3\")\n",
    "plt.plot(m, pmf_binomial_p05, color = 'red'  , linewidth = 2, label=\"p = 0.5\")\n",
    "\n",
    "# 凡例を付ける\n",
    "plt.legend(loc='upper right')"
   ]
  },
  {
   "cell_type": "markdown",
   "metadata": {},
   "source": [
    "### p値を計算する"
   ]
  },
  {
   "cell_type": "code",
   "execution_count": 25,
   "metadata": {
    "scrolled": true
   },
   "outputs": [
    {
     "data": {
      "text/plain": [
       "0.19775538571739595"
      ]
     },
     "execution_count": 25,
     "metadata": {},
     "output_type": "execute_result"
    }
   ],
   "source": [
    "# 50%で表になるコインを500回投げた時の、「表が出る回数」の確率分布\n",
    "\n",
    "# 260～500の範囲で「表が出る回数」を指定。\n",
    "m = np.arange(260,501,1)\n",
    "\n",
    "# 確率質量関数を使って、表が260回出る確率、261回出る確率……500回出る確率を各々計算する\n",
    "pmf_binomial = stats.binom.pmf(n = 500, k = m, p = 0.5)\n",
    "\n",
    "# 260回以上が表になる確率\n",
    "sp.sum(pmf_binomial)"
   ]
  },
  {
   "cell_type": "code",
   "execution_count": 26,
   "metadata": {},
   "outputs": [
    {
     "data": {
      "text/plain": [
       "0.1956"
      ]
     },
     "execution_count": 26,
     "metadata": {},
     "output_type": "execute_result"
    }
   ],
   "source": [
    "# シミュレーションの結果と大体一緒\n",
    "sum(sample_siziritu_array >= 0.52) / 10000"
   ]
  },
  {
   "cell_type": "code",
   "execution_count": 27,
   "metadata": {},
   "outputs": [
    {
     "data": {
      "text/plain": [
       "0.19775538571741924"
      ]
     },
     "execution_count": 27,
     "metadata": {},
     "output_type": "execute_result"
    }
   ],
   "source": [
    "# binom_test関数を使うと、もっと簡単に計算できる\n",
    "stats.binom_test(x = 260, n = 500, p = 0.5, alternative = \"greater\")"
   ]
  },
  {
   "cell_type": "code",
   "execution_count": null,
   "metadata": {},
   "outputs": [],
   "source": []
  }
 ],
 "metadata": {
  "kernelspec": {
   "display_name": "Python 3",
   "language": "python",
   "name": "python3"
  },
  "language_info": {
   "codemirror_mode": {
    "name": "ipython",
    "version": 3
   },
   "file_extension": ".py",
   "mimetype": "text/x-python",
   "name": "python",
   "nbconvert_exporter": "python",
   "pygments_lexer": "ipython3",
   "version": "3.7.1"
  }
 },
 "nbformat": 4,
 "nbformat_minor": 2
}
