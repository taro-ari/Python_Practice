{
 "cells": [
  {
   "cell_type": "markdown",
   "metadata": {},
   "source": [
    "# Twitterのセンチメントアナリシス\n",
    "\n",
    "http://alt.qcri.org/semeval2016/task4/index.php?id=results\n",
    "\n",
    "https://github.com/fchollet/keras/issues/8164\n",
    "\n",
    "Googleの(Word2vec)分散表現を利用\n",
    "\n",
    "Tweetがポジティブか、ネガティブか、ニュートラルかを判定する"
   ]
  },
  {
   "cell_type": "code",
   "execution_count": 1,
   "metadata": {},
   "outputs": [],
   "source": [
    "# 分散表現モデル\n",
    "WORD2VEC_MODEL = \"C:/Users/jtcuser/DeepLearning/data/GoogleNews-vectors-negative300.bin.gz\"\n",
    "# Twitterデータ\n",
    "INPUT_FILE_TRAIN = \"C:/Users/jtcuser/DeepLearning/data/Twitter2016-train.txt\"\n",
    "INPUT_FILE_TEST  = \"C:/Users/jtcuser/DeepLearning/data/Twitter2016-test.txt\"\n",
    "INPUT_FILE_DEV   = \"C:/Users/jtcuser/DeepLearning/data/Twitter2016-dev.txt\"\n",
    "# 最大語彙サイズ\n",
    "VOCAB_SIZE = 20000 \n",
    "# Google Newsで学習された300次元のword embedding(分散表現)\n",
    "EMBED_SIZE = 300 "
   ]
  },
  {
   "cell_type": "code",
   "execution_count": 2,
   "metadata": {},
   "outputs": [
    {
     "name": "stdout",
     "output_type": "stream",
     "text": [
      "データの読込み（1回目）：単語文字の最大長、語彙数の調査...\n",
      "最大単語数: 55\n",
      "出現単語数 =  50898   <class 'collections.Counter'>\n"
     ]
    }
   ],
   "source": [
    "import collections\n",
    "import nltk\n",
    "import numpy as np\n",
    "from nltk.tokenize import TweetTokenizer\n",
    "\n",
    "print(\"データの読込み（1回目）：単語文字の最大長、語彙数の調査...\")\n",
    "counter = collections.Counter()\n",
    "maxlen = 0\n",
    "tweetToken = TweetTokenizer()\n",
    "\n",
    "files = [INPUT_FILE_TRAIN, INPUT_FILE_DEV, INPUT_FILE_TEST]\n",
    "for f in files:\n",
    "    fin = open(f, \"r\")\n",
    "    for line in fin:\n",
    "        _, sent = line.strip().split(\"\\t\")\n",
    "        words = [x.lower() for x in tweetToken.tokenize(sent)]\n",
    "        if len(words) > maxlen:\n",
    "            maxlen = len(words)\n",
    "        for word in words:\n",
    "            counter[word] += 1\n",
    "    fin.close()\n",
    "\n",
    "print('最大単語数:',maxlen)\n",
    "print(\"出現単語数 = \",len(counter),' ',type(counter))\n"
   ]
  },
  {
   "cell_type": "code",
   "execution_count": 3,
   "metadata": {},
   "outputs": [
    {
     "name": "stdout",
     "output_type": "stream",
     "text": [
      "語彙生成 creating vocabulary...\n",
      "最大頻度単語 index2word[1] =  the\n"
     ]
    }
   ],
   "source": [
    "print(\"語彙生成 creating vocabulary...\")\n",
    "VOCAB_SIZE = 20000 # Twitter最大語彙の設定（これ以上は無視する）\n",
    "word2index = collections.defaultdict(int)\n",
    "for wid, word in enumerate(counter.most_common(VOCAB_SIZE)):# 頻度順\n",
    "    word2index[word[0]] = wid + 1\n",
    "vocab_sz = len(word2index) + 1\n",
    "index2word = {v:k for k, v in word2index.items()}\n",
    "index2word[0] = \"_UNK_\" # 未知語\n",
    "# print(\"len(word2index) = \", len(word2index))\n",
    "print(\"最大頻度単語 index2word[1] = \",index2word[1])"
   ]
  },
  {
   "cell_type": "code",
   "execution_count": 4,
   "metadata": {},
   "outputs": [
    {
     "name": "stderr",
     "output_type": "stream",
     "text": [
      "Using TensorFlow backend.\n"
     ]
    }
   ],
   "source": [
    "import warnings\n",
    "warnings.simplefilter(action='ignore', category=FutureWarning)\n",
    "\n",
    "import tensorflow as tf\n",
    "config = tf.ConfigProto()\n",
    "config.gpu_options.per_process_gpu_memory_fraction = 0.4  #20%\n",
    "session = tf.Session(config=config)\n",
    "\n",
    "# Kerasの定義\n",
    "import keras\n",
    "from keras import backend as K\n",
    "K.set_session(session) \n",
    "from keras.preprocessing.sequence import pad_sequences\n",
    "from keras.utils import np_utils"
   ]
  },
  {
   "cell_type": "code",
   "execution_count": 5,
   "metadata": {},
   "outputs": [
    {
     "name": "stdout",
     "output_type": "stream",
     "text": [
      "訓練用データの単語列生成\n",
      "訓練データ（データ＋ラベル）\n",
      "訓練データのタイプとシェープ： int32   <class 'numpy.ndarray'>   (7999, 55)\n",
      "訓練ラベルのタイプとシェープ： float32   <class 'numpy.ndarray'>   (7999, 3)\n",
      "------------------------------------\n",
      "テスト用データの単語列生成\n",
      "テストデータ（データ＋ラベル）\n",
      "テストデータのタイプとシェープ： int32   <class 'numpy.ndarray'>   (20632, 55)\n",
      "テストラベルのタイプとシェープ： float32   <class 'numpy.ndarray'>   (20632, 3)\n"
     ]
    }
   ],
   "source": [
    "print(\"訓練用データの単語列生成\")\n",
    "xs, ys = [], []\n",
    "files = [INPUT_FILE_TRAIN, INPUT_FILE_DEV] # 訓練データ＋開発データ⇒訓練データ\n",
    "for f in files:\n",
    "    fin = open(f, \"r\")\n",
    "    for line in fin:\n",
    "        label, sent = line.strip().split(\"\\t\")\n",
    "        ys.append(int(label))\n",
    "        words = [x.lower() for x in tweetToken.tokenize(sent)]\n",
    "        wids = [word2index[word] for word in words]\n",
    "        xs.append(wids)\n",
    "    fin.close()\n",
    "\n",
    "X_train = pad_sequences(xs, maxlen=maxlen)# パディング\n",
    "Y_train = np_utils.to_categorical(ys) # ワンホットベクトル生成\n",
    "print(\"訓練データ（データ＋ラベル）\")\n",
    "print(\"訓練データのタイプとシェープ：\",X_train.dtype,\" \",type(X_train),\" \",X_train.shape)\n",
    "print(\"訓練ラベルのタイプとシェープ：\",Y_train.dtype,\" \",type(Y_train),\" \",Y_train.shape)\n",
    "print(\"------------------------------------\")\n",
    "print(\"テスト用データの単語列生成\")\n",
    "xs, ys = [], []\n",
    "fin = open(INPUT_FILE_TEST, \"r\")\n",
    "for line in fin:\n",
    "    label, sent = line.strip().split(\"\\t\")\n",
    "    ys.append(int(label))\n",
    "    words = [x.lower() for x in tweetToken.tokenize(sent)]\n",
    "    wids = [word2index[word] for word in words]\n",
    "    xs.append(wids)\n",
    "fin.close()\n",
    "X_test = pad_sequences(xs, maxlen=maxlen)# パディング\n",
    "Y_test = np_utils.to_categorical(ys)# ワンホットベクトル生成\n",
    "print(\"テストデータ（データ＋ラベル）\")\n",
    "print(\"テストデータのタイプとシェープ：\",X_test.dtype,\" \",type(X_test),\" \",X_test.shape)\n",
    "print(\"テストラベルのタイプとシェープ：\",Y_test.dtype,\" \",type(Y_test),\" \",Y_test.shape)\n"
   ]
  },
  {
   "cell_type": "code",
   "execution_count": 6,
   "metadata": {},
   "outputs": [
    {
     "name": "stdout",
     "output_type": "stream",
     "text": [
      "(7999, 55) (20632, 55) (7999, 3) (20632, 3)\n"
     ]
    }
   ],
   "source": [
    "# np.random.seed(41)\n",
    "\n",
    "Xtrain = X_train\n",
    "Xtest = X_test\n",
    "Ytrain = Y_train\n",
    "Ytest = Y_test\n",
    "\n",
    "print(Xtrain.shape, Xtest.shape, Ytrain.shape, Ytest.shape)\n"
   ]
  },
  {
   "cell_type": "code",
   "execution_count": 7,
   "metadata": {},
   "outputs": [],
   "source": [
    "import warnings\n",
    "warnings.simplefilter(action='ignore', category=UserWarning)\n",
    "\n",
    "%matplotlib inline \n",
    "import matplotlib.pyplot as plt\n",
    "# Gensimパッケージ\n",
    "from gensim.models import KeyedVectors\n",
    "\n",
    "from keras.layers.core import Dense, Dropout, SpatialDropout1D\n",
    "from keras.layers.convolutional import Conv1D\n",
    "from keras.layers.embeddings import Embedding\n",
    "from keras.layers.pooling import GlobalMaxPooling1D, MaxPooling1D\n",
    "from keras.models import Sequential\n",
    "from keras.layers import LSTM # GPUがある場合　CuDNNLSTM\n",
    "from keras.layers import Bidirectional\n"
   ]
  },
  {
   "cell_type": "code",
   "execution_count": 8,
   "metadata": {},
   "outputs": [],
   "source": [
    "# 大規模なデータファイルのロード： 時間かかります\n",
    "\n",
    "word2vec = KeyedVectors.load_word2vec_format(WORD2VEC_MODEL, binary=True)\n",
    "embedding_weights = np.zeros((vocab_sz, EMBED_SIZE))\n",
    "for word, index in word2index.items():\n",
    "    try:\n",
    "        embedding_weights[index, :] = word2vec[word]\n",
    "    except KeyError:\n",
    "        pass\n",
    "    "
   ]
  },
  {
   "cell_type": "code",
   "execution_count": 9,
   "metadata": {},
   "outputs": [
    {
     "name": "stdout",
     "output_type": "stream",
     "text": [
      "_________________________________________________________________\n",
      "Layer (type)                 Output Shape              Param #   \n",
      "=================================================================\n",
      "embedding_1 (Embedding)      (None, 55, 300)           6000300   \n",
      "_________________________________________________________________\n",
      "spatial_dropout1d_1 (Spatial (None, 55, 300)           0         \n",
      "_________________________________________________________________\n",
      "conv1d_1 (Conv1D)            (None, 51, 128)           192128    \n",
      "_________________________________________________________________\n",
      "global_max_pooling1d_1 (Glob (None, 128)               0         \n",
      "_________________________________________________________________\n",
      "dense_1 (Dense)              (None, 3)                 387       \n",
      "=================================================================\n",
      "Total params: 6,192,815\n",
      "Trainable params: 6,192,815\n",
      "Non-trainable params: 0\n",
      "_________________________________________________________________\n"
     ]
    }
   ],
   "source": [
    "# 1次元の畳込み（モデル１）\n",
    "\n",
    "NUM_FILTERS = 128 # フィルター数\n",
    "NUM_WORDS = 5 # 単語数\n",
    "\n",
    "model1 = Sequential()\n",
    "model1.add(Embedding(vocab_sz, EMBED_SIZE, input_length=maxlen, \n",
    "                     weights=[embedding_weights], # 初期値をGoogleの分散表現にする      \n",
    "                     trainable=True))\n",
    "model1.add(SpatialDropout1D(0.1)) # 10%ドロップアウト\n",
    "model1.add(Conv1D(filters=NUM_FILTERS, kernel_size=NUM_WORDS, activation=\"relu\"))\n",
    "model1.add(GlobalMaxPooling1D())\n",
    "model1.add(Dense(3, activation=\"softmax\"))\n",
    "\n",
    "model1.summary()\n"
   ]
  },
  {
   "cell_type": "code",
   "execution_count": 10,
   "metadata": {},
   "outputs": [
    {
     "name": "stdout",
     "output_type": "stream",
     "text": [
      "_________________________________________________________________\n",
      "Layer (type)                 Output Shape              Param #   \n",
      "=================================================================\n",
      "embedding_2 (Embedding)      (None, 55, 300)           6000300   \n",
      "_________________________________________________________________\n",
      "spatial_dropout1d_2 (Spatial (None, 55, 300)           0         \n",
      "_________________________________________________________________\n",
      "bidirectional_1 (Bidirection (None, 100)               140400    \n",
      "_________________________________________________________________\n",
      "dense_2 (Dense)              (None, 3)                 303       \n",
      "=================================================================\n",
      "Total params: 6,141,003\n",
      "Trainable params: 6,141,003\n",
      "Non-trainable params: 0\n",
      "_________________________________________________________________\n"
     ]
    }
   ],
   "source": [
    "# 再帰型ニューラルネット（モデル２）\n",
    "\n",
    "HIDDEN_LAYER_SIZE = 50  \n",
    "model2 = Sequential()\n",
    "model2.add(Embedding(vocab_sz, EMBED_SIZE, input_length=maxlen, \n",
    "                     weights=[embedding_weights], \n",
    "                     trainable=True))\n",
    "model2.add(SpatialDropout1D(0.1)) # 10%\n",
    "model2.add(Bidirectional(LSTM(HIDDEN_LAYER_SIZE))) # GPUがあればCuDNNLSTM\n",
    "model2.add(Dense(3, activation=\"softmax\"))\n",
    "model2.summary()\n",
    "           "
   ]
  },
  {
   "cell_type": "code",
   "execution_count": 11,
   "metadata": {},
   "outputs": [],
   "source": [
    "myComp1 = model1.compile(\n",
    "    optimizer=\"adadelta\", \n",
    "    loss=\"categorical_crossentropy\",\n",
    "    metrics=[\"accuracy\"])\n"
   ]
  },
  {
   "cell_type": "code",
   "execution_count": 12,
   "metadata": {},
   "outputs": [],
   "source": [
    "myComp2 = model2.compile(\n",
    "    optimizer=\"adadelta\", \n",
    "    loss=\"categorical_crossentropy\",\n",
    "    metrics=[\"accuracy\"])\n"
   ]
  },
  {
   "cell_type": "code",
   "execution_count": 13,
   "metadata": {},
   "outputs": [
    {
     "name": "stdout",
     "output_type": "stream",
     "text": [
      "Train on 7999 samples, validate on 20632 samples\n",
      "Epoch 1/4\n",
      "7999/7999 [==============================] - 44s 6ms/step - loss: 0.9135 - acc: 0.5526 - val_loss: 0.8580 - val_acc: 0.5737\n",
      "Epoch 2/4\n",
      "7999/7999 [==============================] - 44s 6ms/step - loss: 3.5483 - acc: 0.5751 - val_loss: 10.6028 - val_acc: 0.3421\n",
      "Epoch 3/4\n",
      "7999/7999 [==============================] - 44s 5ms/step - loss: 8.1850 - acc: 0.4922 - val_loss: 10.6028 - val_acc: 0.3421\n",
      "Epoch 4/4\n",
      "7999/7999 [==============================] - 44s 5ms/step - loss: 8.1850 - acc: 0.4922 - val_loss: 10.6028 - val_acc: 0.3421\n"
     ]
    }
   ],
   "source": [
    "NUM_EPOCHS = 4\n",
    "BATCH_SIZE = 32 # バッチサイズ\n",
    "history1 = model1.fit(\n",
    "    Xtrain, Ytrain, \n",
    "    batch_size=BATCH_SIZE,\n",
    "    epochs=NUM_EPOCHS,\n",
    "    validation_data=(Xtest, Ytest))\n"
   ]
  },
  {
   "cell_type": "code",
   "execution_count": 14,
   "metadata": {},
   "outputs": [
    {
     "name": "stdout",
     "output_type": "stream",
     "text": [
      "Train on 7999 samples, validate on 20632 samples\n",
      "Epoch 1/8\n",
      "7999/7999 [==============================] - 39s 5ms/step - loss: 0.9727 - acc: 0.5073 - val_loss: 1.1978 - val_acc: 0.3538\n",
      "Epoch 2/8\n",
      "7999/7999 [==============================] - 36s 5ms/step - loss: 0.8730 - acc: 0.5813 - val_loss: 0.8815 - val_acc: 0.5704\n",
      "Epoch 3/8\n",
      "7999/7999 [==============================] - 36s 5ms/step - loss: 0.8132 - acc: 0.6220 - val_loss: 0.8576 - val_acc: 0.5795\n",
      "Epoch 4/8\n",
      "7999/7999 [==============================] - 36s 5ms/step - loss: 0.7687 - acc: 0.6448 - val_loss: 0.8703 - val_acc: 0.5585\n",
      "Epoch 5/8\n",
      "7999/7999 [==============================] - 36s 5ms/step - loss: 0.7368 - acc: 0.6650 - val_loss: 0.8944 - val_acc: 0.5456\n",
      "Epoch 6/8\n",
      "7999/7999 [==============================] - 36s 5ms/step - loss: 0.6993 - acc: 0.6866 - val_loss: 0.8990 - val_acc: 0.5750\n",
      "Epoch 7/8\n",
      "7999/7999 [==============================] - 36s 5ms/step - loss: 0.6652 - acc: 0.7076 - val_loss: 0.9245 - val_acc: 0.5539\n",
      "Epoch 8/8\n",
      "7999/7999 [==============================] - 36s 5ms/step - loss: 0.6289 - acc: 0.7217 - val_loss: 0.8699 - val_acc: 0.5900\n"
     ]
    }
   ],
   "source": [
    "NUM_EPOCHS = 8 # エポック\n",
    "BATCH_SIZE = 64 # バッチは64\n",
    "history2 = model2.fit(\n",
    "    Xtrain, Ytrain, \n",
    "    batch_size=BATCH_SIZE,\n",
    "    epochs=NUM_EPOCHS,\n",
    "    validation_data=(Xtest, Ytest))"
   ]
  },
  {
   "cell_type": "code",
   "execution_count": 15,
   "metadata": {},
   "outputs": [],
   "source": [
    "pred_1 = model1.predict(Xtest)\n",
    "pred_2 = model2.predict(Xtest)"
   ]
  },
  {
   "cell_type": "code",
   "execution_count": 16,
   "metadata": {},
   "outputs": [
    {
     "name": "stdout",
     "output_type": "stream",
     "text": [
      "(20632, 3)\n"
     ]
    }
   ],
   "source": [
    "# Conv1D + LSTM\n",
    "mix_pred = pred_1 * pred_2\n",
    "print(mix_pred.shape)\n"
   ]
  },
  {
   "cell_type": "code",
   "execution_count": 17,
   "metadata": {},
   "outputs": [
    {
     "name": "stdout",
     "output_type": "stream",
     "text": [
      "[[4.3638928e-16 9.4531845e-14 5.8948976e-01]\n",
      " [1.5395193e-16 5.6752048e-14 6.3835377e-01]\n",
      " [3.1688297e-15 3.0580017e-13 1.6436520e-01]\n",
      " ...\n",
      " [2.3709450e-13 3.4762575e-12 8.5228041e-02]\n",
      " [8.7758823e-16 1.4702578e-14 4.0304682e-01]\n",
      " [2.5736288e-14 7.0794749e-14 2.7260467e-01]]\n"
     ]
    }
   ],
   "source": [
    "print(mix_pred)"
   ]
  },
  {
   "cell_type": "code",
   "execution_count": 18,
   "metadata": {},
   "outputs": [
    {
     "name": "stdout",
     "output_type": "stream",
     "text": [
      "[[0 0 1]\n",
      " [0 0 1]\n",
      " [0 0 1]\n",
      " ...\n",
      " [0 0 1]\n",
      " [0 0 1]\n",
      " [0 0 1]]\n"
     ]
    }
   ],
   "source": [
    "# 確率が最大となるクラスに分類し、ワンホットベクトルを生成\n",
    "total = X_test.shape[0]\n",
    "mix_pred_class = np.zeros((total,3),dtype=int)\n",
    "for i in range(total):\n",
    "    my = np.argmax(mix_pred[i])\n",
    "    mix_pred_class[i][my] = 1\n",
    "\n",
    "print(mix_pred_class)\n"
   ]
  },
  {
   "cell_type": "code",
   "execution_count": 19,
   "metadata": {},
   "outputs": [
    {
     "name": "stdout",
     "output_type": "stream",
     "text": [
      "[2 2 2 ... 2 2 2]\n"
     ]
    }
   ],
   "source": [
    "mix_prediction = np.zeros((total),dtype=int)\n",
    "for i in range(total):\n",
    "    my = np.argmax(mix_pred_class[i])\n",
    "    mix_prediction[i] = my\n",
    "print(mix_prediction)"
   ]
  },
  {
   "cell_type": "code",
   "execution_count": 20,
   "metadata": {},
   "outputs": [
    {
     "name": "stdout",
     "output_type": "stream",
     "text": [
      "(20632,)\n",
      "accuracy =  0.34213842574641334\n"
     ]
    }
   ],
   "source": [
    "# 最終的な精度を簡単なループで計算\n",
    "count = 0\n",
    "y_actual = np.argmax(Ytest, axis=1)\n",
    "print(y_actual.shape)\n",
    "total_y = y_actual.shape[0]\n",
    "for i in range(total_y):\n",
    "    if y_actual[i] == mix_prediction[i]: # 正解と一致するものをカウント\n",
    "        count += 1\n",
    "accuracy = float(count)/total_y # テストのデータ総数から精度を計算\n",
    "print(\"accuracy = \",accuracy) # 最終的なクラス全体の平均精度のプリント\n"
   ]
  },
  {
   "cell_type": "code",
   "execution_count": 21,
   "metadata": {},
   "outputs": [
    {
     "data": {
      "image/svg+xml": [
       "<svg height=\"470pt\" viewBox=\"0.00 0.00 455.00 470.00\" width=\"455pt\" xmlns=\"http://www.w3.org/2000/svg\" xmlns:xlink=\"http://www.w3.org/1999/xlink\">\n",
       "<g class=\"graph\" id=\"graph0\" transform=\"scale(1 1) rotate(0) translate(4 466)\">\n",
       "<title>G</title>\n",
       "<polygon fill=\"white\" points=\"-4,4 -4,-466 451,-466 451,4 -4,4\" stroke=\"none\"/>\n",
       "<!-- 3036906970304 -->\n",
       "<g class=\"node\" id=\"node1\"><title>3036906970304</title>\n",
       "<polygon fill=\"none\" points=\"59.5,-415.5 59.5,-461.5 387.5,-461.5 387.5,-415.5 59.5,-415.5\" stroke=\"black\"/>\n",
       "<text font-family=\"Times New Roman,serif\" font-size=\"14.00\" text-anchor=\"middle\" x=\"157\" y=\"-434.8\">embedding_1_input: InputLayer</text>\n",
       "<polyline fill=\"none\" points=\"254.5,-415.5 254.5,-461.5 \" stroke=\"black\"/>\n",
       "<text font-family=\"Times New Roman,serif\" font-size=\"14.00\" text-anchor=\"middle\" x=\"282.5\" y=\"-446.3\">input:</text>\n",
       "<polyline fill=\"none\" points=\"254.5,-438.5 310.5,-438.5 \" stroke=\"black\"/>\n",
       "<text font-family=\"Times New Roman,serif\" font-size=\"14.00\" text-anchor=\"middle\" x=\"282.5\" y=\"-423.3\">output:</text>\n",
       "<polyline fill=\"none\" points=\"310.5,-415.5 310.5,-461.5 \" stroke=\"black\"/>\n",
       "<text font-family=\"Times New Roman,serif\" font-size=\"14.00\" text-anchor=\"middle\" x=\"349\" y=\"-446.3\">(None, 55)</text>\n",
       "<polyline fill=\"none\" points=\"310.5,-438.5 387.5,-438.5 \" stroke=\"black\"/>\n",
       "<text font-family=\"Times New Roman,serif\" font-size=\"14.00\" text-anchor=\"middle\" x=\"349\" y=\"-423.3\">(None, 55)</text>\n",
       "</g>\n",
       "<!-- 3036906970080 -->\n",
       "<g class=\"node\" id=\"node2\"><title>3036906970080</title>\n",
       "<polygon fill=\"none\" points=\"62,-332.5 62,-378.5 385,-378.5 385,-332.5 62,-332.5\" stroke=\"black\"/>\n",
       "<text font-family=\"Times New Roman,serif\" font-size=\"14.00\" text-anchor=\"middle\" x=\"143.5\" y=\"-351.8\">embedding_1: Embedding</text>\n",
       "<polyline fill=\"none\" points=\"225,-332.5 225,-378.5 \" stroke=\"black\"/>\n",
       "<text font-family=\"Times New Roman,serif\" font-size=\"14.00\" text-anchor=\"middle\" x=\"253\" y=\"-363.3\">input:</text>\n",
       "<polyline fill=\"none\" points=\"225,-355.5 281,-355.5 \" stroke=\"black\"/>\n",
       "<text font-family=\"Times New Roman,serif\" font-size=\"14.00\" text-anchor=\"middle\" x=\"253\" y=\"-340.3\">output:</text>\n",
       "<polyline fill=\"none\" points=\"281,-332.5 281,-378.5 \" stroke=\"black\"/>\n",
       "<text font-family=\"Times New Roman,serif\" font-size=\"14.00\" text-anchor=\"middle\" x=\"333\" y=\"-363.3\">(None, 55)</text>\n",
       "<polyline fill=\"none\" points=\"281,-355.5 385,-355.5 \" stroke=\"black\"/>\n",
       "<text font-family=\"Times New Roman,serif\" font-size=\"14.00\" text-anchor=\"middle\" x=\"333\" y=\"-340.3\">(None, 55, 300)</text>\n",
       "</g>\n",
       "<!-- 3036906970304&#45;&gt;3036906970080 -->\n",
       "<g class=\"edge\" id=\"edge1\"><title>3036906970304-&gt;3036906970080</title>\n",
       "<path d=\"M223.5,-415.366C223.5,-407.152 223.5,-397.658 223.5,-388.725\" fill=\"none\" stroke=\"black\"/>\n",
       "<polygon fill=\"black\" points=\"227,-388.607 223.5,-378.607 220,-388.607 227,-388.607\" stroke=\"black\"/>\n",
       "</g>\n",
       "<!-- 3036906970192 -->\n",
       "<g class=\"node\" id=\"node3\"><title>3036906970192</title>\n",
       "<polygon fill=\"none\" points=\"23,-249.5 23,-295.5 424,-295.5 424,-249.5 23,-249.5\" stroke=\"black\"/>\n",
       "<text font-family=\"Times New Roman,serif\" font-size=\"14.00\" text-anchor=\"middle\" x=\"143.5\" y=\"-268.8\">spatial_dropout1d_1: SpatialDropout1D</text>\n",
       "<polyline fill=\"none\" points=\"264,-249.5 264,-295.5 \" stroke=\"black\"/>\n",
       "<text font-family=\"Times New Roman,serif\" font-size=\"14.00\" text-anchor=\"middle\" x=\"292\" y=\"-280.3\">input:</text>\n",
       "<polyline fill=\"none\" points=\"264,-272.5 320,-272.5 \" stroke=\"black\"/>\n",
       "<text font-family=\"Times New Roman,serif\" font-size=\"14.00\" text-anchor=\"middle\" x=\"292\" y=\"-257.3\">output:</text>\n",
       "<polyline fill=\"none\" points=\"320,-249.5 320,-295.5 \" stroke=\"black\"/>\n",
       "<text font-family=\"Times New Roman,serif\" font-size=\"14.00\" text-anchor=\"middle\" x=\"372\" y=\"-280.3\">(None, 55, 300)</text>\n",
       "<polyline fill=\"none\" points=\"320,-272.5 424,-272.5 \" stroke=\"black\"/>\n",
       "<text font-family=\"Times New Roman,serif\" font-size=\"14.00\" text-anchor=\"middle\" x=\"372\" y=\"-257.3\">(None, 55, 300)</text>\n",
       "</g>\n",
       "<!-- 3036906970080&#45;&gt;3036906970192 -->\n",
       "<g class=\"edge\" id=\"edge2\"><title>3036906970080-&gt;3036906970192</title>\n",
       "<path d=\"M223.5,-332.366C223.5,-324.152 223.5,-314.658 223.5,-305.725\" fill=\"none\" stroke=\"black\"/>\n",
       "<polygon fill=\"black\" points=\"227,-305.607 223.5,-295.607 220,-305.607 227,-305.607\" stroke=\"black\"/>\n",
       "</g>\n",
       "<!-- 3038223678096 -->\n",
       "<g class=\"node\" id=\"node4\"><title>3038223678096</title>\n",
       "<polygon fill=\"none\" points=\"80,-166.5 80,-212.5 367,-212.5 367,-166.5 80,-166.5\" stroke=\"black\"/>\n",
       "<text font-family=\"Times New Roman,serif\" font-size=\"14.00\" text-anchor=\"middle\" x=\"143.5\" y=\"-185.8\">conv1d_1: Conv1D</text>\n",
       "<polyline fill=\"none\" points=\"207,-166.5 207,-212.5 \" stroke=\"black\"/>\n",
       "<text font-family=\"Times New Roman,serif\" font-size=\"14.00\" text-anchor=\"middle\" x=\"235\" y=\"-197.3\">input:</text>\n",
       "<polyline fill=\"none\" points=\"207,-189.5 263,-189.5 \" stroke=\"black\"/>\n",
       "<text font-family=\"Times New Roman,serif\" font-size=\"14.00\" text-anchor=\"middle\" x=\"235\" y=\"-174.3\">output:</text>\n",
       "<polyline fill=\"none\" points=\"263,-166.5 263,-212.5 \" stroke=\"black\"/>\n",
       "<text font-family=\"Times New Roman,serif\" font-size=\"14.00\" text-anchor=\"middle\" x=\"315\" y=\"-197.3\">(None, 55, 300)</text>\n",
       "<polyline fill=\"none\" points=\"263,-189.5 367,-189.5 \" stroke=\"black\"/>\n",
       "<text font-family=\"Times New Roman,serif\" font-size=\"14.00\" text-anchor=\"middle\" x=\"315\" y=\"-174.3\">(None, 51, 128)</text>\n",
       "</g>\n",
       "<!-- 3036906970192&#45;&gt;3038223678096 -->\n",
       "<g class=\"edge\" id=\"edge3\"><title>3036906970192-&gt;3038223678096</title>\n",
       "<path d=\"M223.5,-249.366C223.5,-241.152 223.5,-231.658 223.5,-222.725\" fill=\"none\" stroke=\"black\"/>\n",
       "<polygon fill=\"black\" points=\"227,-222.607 223.5,-212.607 220,-222.607 227,-222.607\" stroke=\"black\"/>\n",
       "</g>\n",
       "<!-- 3036906970248 -->\n",
       "<g class=\"node\" id=\"node5\"><title>3036906970248</title>\n",
       "<polygon fill=\"none\" points=\"0,-83.5 0,-129.5 447,-129.5 447,-83.5 0,-83.5\" stroke=\"black\"/>\n",
       "<text font-family=\"Times New Roman,serif\" font-size=\"14.00\" text-anchor=\"middle\" x=\"143.5\" y=\"-102.8\">global_max_pooling1d_1: GlobalMaxPooling1D</text>\n",
       "<polyline fill=\"none\" points=\"287,-83.5 287,-129.5 \" stroke=\"black\"/>\n",
       "<text font-family=\"Times New Roman,serif\" font-size=\"14.00\" text-anchor=\"middle\" x=\"315\" y=\"-114.3\">input:</text>\n",
       "<polyline fill=\"none\" points=\"287,-106.5 343,-106.5 \" stroke=\"black\"/>\n",
       "<text font-family=\"Times New Roman,serif\" font-size=\"14.00\" text-anchor=\"middle\" x=\"315\" y=\"-91.3\">output:</text>\n",
       "<polyline fill=\"none\" points=\"343,-83.5 343,-129.5 \" stroke=\"black\"/>\n",
       "<text font-family=\"Times New Roman,serif\" font-size=\"14.00\" text-anchor=\"middle\" x=\"395\" y=\"-114.3\">(None, 51, 128)</text>\n",
       "<polyline fill=\"none\" points=\"343,-106.5 447,-106.5 \" stroke=\"black\"/>\n",
       "<text font-family=\"Times New Roman,serif\" font-size=\"14.00\" text-anchor=\"middle\" x=\"395\" y=\"-91.3\">(None, 128)</text>\n",
       "</g>\n",
       "<!-- 3038223678096&#45;&gt;3036906970248 -->\n",
       "<g class=\"edge\" id=\"edge4\"><title>3038223678096-&gt;3036906970248</title>\n",
       "<path d=\"M223.5,-166.366C223.5,-158.152 223.5,-148.658 223.5,-139.725\" fill=\"none\" stroke=\"black\"/>\n",
       "<polygon fill=\"black\" points=\"227,-139.607 223.5,-129.607 220,-139.607 227,-139.607\" stroke=\"black\"/>\n",
       "</g>\n",
       "<!-- 3036955347432 -->\n",
       "<g class=\"node\" id=\"node6\"><title>3036955347432</title>\n",
       "<polygon fill=\"none\" points=\"102,-0.5 102,-46.5 345,-46.5 345,-0.5 102,-0.5\" stroke=\"black\"/>\n",
       "<text font-family=\"Times New Roman,serif\" font-size=\"14.00\" text-anchor=\"middle\" x=\"154\" y=\"-19.8\">dense_1: Dense</text>\n",
       "<polyline fill=\"none\" points=\"206,-0.5 206,-46.5 \" stroke=\"black\"/>\n",
       "<text font-family=\"Times New Roman,serif\" font-size=\"14.00\" text-anchor=\"middle\" x=\"234\" y=\"-31.3\">input:</text>\n",
       "<polyline fill=\"none\" points=\"206,-23.5 262,-23.5 \" stroke=\"black\"/>\n",
       "<text font-family=\"Times New Roman,serif\" font-size=\"14.00\" text-anchor=\"middle\" x=\"234\" y=\"-8.3\">output:</text>\n",
       "<polyline fill=\"none\" points=\"262,-0.5 262,-46.5 \" stroke=\"black\"/>\n",
       "<text font-family=\"Times New Roman,serif\" font-size=\"14.00\" text-anchor=\"middle\" x=\"303.5\" y=\"-31.3\">(None, 128)</text>\n",
       "<polyline fill=\"none\" points=\"262,-23.5 345,-23.5 \" stroke=\"black\"/>\n",
       "<text font-family=\"Times New Roman,serif\" font-size=\"14.00\" text-anchor=\"middle\" x=\"303.5\" y=\"-8.3\">(None, 3)</text>\n",
       "</g>\n",
       "<!-- 3036906970248&#45;&gt;3036955347432 -->\n",
       "<g class=\"edge\" id=\"edge5\"><title>3036906970248-&gt;3036955347432</title>\n",
       "<path d=\"M223.5,-83.3664C223.5,-75.1516 223.5,-65.6579 223.5,-56.7252\" fill=\"none\" stroke=\"black\"/>\n",
       "<polygon fill=\"black\" points=\"227,-56.6068 223.5,-46.6068 220,-56.6069 227,-56.6068\" stroke=\"black\"/>\n",
       "</g>\n",
       "</g>\n",
       "</svg>"
      ],
      "text/plain": [
       "<IPython.core.display.SVG object>"
      ]
     },
     "execution_count": 21,
     "metadata": {},
     "output_type": "execute_result"
    }
   ],
   "source": [
    "from IPython.display import SVG\n",
    "from keras.utils.vis_utils import model_to_dot\n",
    "\n",
    "from keras.utils.vis_utils import plot_model\n",
    "plot_model(model1, show_shapes=True, to_file='images/Python-Twitter-CNN.jpg')\n",
    "\n",
    "SVG(model_to_dot(model1,show_shapes=True).create(prog='dot', format='svg'))\n"
   ]
  },
  {
   "cell_type": "code",
   "execution_count": 22,
   "metadata": {},
   "outputs": [
    {
     "data": {
      "image/svg+xml": [
       "<svg height=\"387pt\" viewBox=\"0.00 0.00 437.00 387.00\" width=\"437pt\" xmlns=\"http://www.w3.org/2000/svg\" xmlns:xlink=\"http://www.w3.org/1999/xlink\">\n",
       "<g class=\"graph\" id=\"graph0\" transform=\"scale(1 1) rotate(0) translate(4 383)\">\n",
       "<title>G</title>\n",
       "<polygon fill=\"white\" points=\"-4,4 -4,-383 433,-383 433,4 -4,4\" stroke=\"none\"/>\n",
       "<!-- 3036906969800 -->\n",
       "<g class=\"node\" id=\"node1\"><title>3036906969800</title>\n",
       "<polygon fill=\"none\" points=\"50.5,-332.5 50.5,-378.5 378.5,-378.5 378.5,-332.5 50.5,-332.5\" stroke=\"black\"/>\n",
       "<text font-family=\"Times New Roman,serif\" font-size=\"14.00\" text-anchor=\"middle\" x=\"148\" y=\"-351.8\">embedding_2_input: InputLayer</text>\n",
       "<polyline fill=\"none\" points=\"245.5,-332.5 245.5,-378.5 \" stroke=\"black\"/>\n",
       "<text font-family=\"Times New Roman,serif\" font-size=\"14.00\" text-anchor=\"middle\" x=\"273.5\" y=\"-363.3\">input:</text>\n",
       "<polyline fill=\"none\" points=\"245.5,-355.5 301.5,-355.5 \" stroke=\"black\"/>\n",
       "<text font-family=\"Times New Roman,serif\" font-size=\"14.00\" text-anchor=\"middle\" x=\"273.5\" y=\"-340.3\">output:</text>\n",
       "<polyline fill=\"none\" points=\"301.5,-332.5 301.5,-378.5 \" stroke=\"black\"/>\n",
       "<text font-family=\"Times New Roman,serif\" font-size=\"14.00\" text-anchor=\"middle\" x=\"340\" y=\"-363.3\">(None, 55)</text>\n",
       "<polyline fill=\"none\" points=\"301.5,-355.5 378.5,-355.5 \" stroke=\"black\"/>\n",
       "<text font-family=\"Times New Roman,serif\" font-size=\"14.00\" text-anchor=\"middle\" x=\"340\" y=\"-340.3\">(None, 55)</text>\n",
       "</g>\n",
       "<!-- 3036906969352 -->\n",
       "<g class=\"node\" id=\"node2\"><title>3036906969352</title>\n",
       "<polygon fill=\"none\" points=\"53,-249.5 53,-295.5 376,-295.5 376,-249.5 53,-249.5\" stroke=\"black\"/>\n",
       "<text font-family=\"Times New Roman,serif\" font-size=\"14.00\" text-anchor=\"middle\" x=\"134.5\" y=\"-268.8\">embedding_2: Embedding</text>\n",
       "<polyline fill=\"none\" points=\"216,-249.5 216,-295.5 \" stroke=\"black\"/>\n",
       "<text font-family=\"Times New Roman,serif\" font-size=\"14.00\" text-anchor=\"middle\" x=\"244\" y=\"-280.3\">input:</text>\n",
       "<polyline fill=\"none\" points=\"216,-272.5 272,-272.5 \" stroke=\"black\"/>\n",
       "<text font-family=\"Times New Roman,serif\" font-size=\"14.00\" text-anchor=\"middle\" x=\"244\" y=\"-257.3\">output:</text>\n",
       "<polyline fill=\"none\" points=\"272,-249.5 272,-295.5 \" stroke=\"black\"/>\n",
       "<text font-family=\"Times New Roman,serif\" font-size=\"14.00\" text-anchor=\"middle\" x=\"324\" y=\"-280.3\">(None, 55)</text>\n",
       "<polyline fill=\"none\" points=\"272,-272.5 376,-272.5 \" stroke=\"black\"/>\n",
       "<text font-family=\"Times New Roman,serif\" font-size=\"14.00\" text-anchor=\"middle\" x=\"324\" y=\"-257.3\">(None, 55, 300)</text>\n",
       "</g>\n",
       "<!-- 3036906969800&#45;&gt;3036906969352 -->\n",
       "<g class=\"edge\" id=\"edge1\"><title>3036906969800-&gt;3036906969352</title>\n",
       "<path d=\"M214.5,-332.366C214.5,-324.152 214.5,-314.658 214.5,-305.725\" fill=\"none\" stroke=\"black\"/>\n",
       "<polygon fill=\"black\" points=\"218,-305.607 214.5,-295.607 211,-305.607 218,-305.607\" stroke=\"black\"/>\n",
       "</g>\n",
       "<!-- 3036906969688 -->\n",
       "<g class=\"node\" id=\"node3\"><title>3036906969688</title>\n",
       "<polygon fill=\"none\" points=\"14,-166.5 14,-212.5 415,-212.5 415,-166.5 14,-166.5\" stroke=\"black\"/>\n",
       "<text font-family=\"Times New Roman,serif\" font-size=\"14.00\" text-anchor=\"middle\" x=\"134.5\" y=\"-185.8\">spatial_dropout1d_2: SpatialDropout1D</text>\n",
       "<polyline fill=\"none\" points=\"255,-166.5 255,-212.5 \" stroke=\"black\"/>\n",
       "<text font-family=\"Times New Roman,serif\" font-size=\"14.00\" text-anchor=\"middle\" x=\"283\" y=\"-197.3\">input:</text>\n",
       "<polyline fill=\"none\" points=\"255,-189.5 311,-189.5 \" stroke=\"black\"/>\n",
       "<text font-family=\"Times New Roman,serif\" font-size=\"14.00\" text-anchor=\"middle\" x=\"283\" y=\"-174.3\">output:</text>\n",
       "<polyline fill=\"none\" points=\"311,-166.5 311,-212.5 \" stroke=\"black\"/>\n",
       "<text font-family=\"Times New Roman,serif\" font-size=\"14.00\" text-anchor=\"middle\" x=\"363\" y=\"-197.3\">(None, 55, 300)</text>\n",
       "<polyline fill=\"none\" points=\"311,-189.5 415,-189.5 \" stroke=\"black\"/>\n",
       "<text font-family=\"Times New Roman,serif\" font-size=\"14.00\" text-anchor=\"middle\" x=\"363\" y=\"-174.3\">(None, 55, 300)</text>\n",
       "</g>\n",
       "<!-- 3036906969352&#45;&gt;3036906969688 -->\n",
       "<g class=\"edge\" id=\"edge2\"><title>3036906969352-&gt;3036906969688</title>\n",
       "<path d=\"M214.5,-249.366C214.5,-241.152 214.5,-231.658 214.5,-222.725\" fill=\"none\" stroke=\"black\"/>\n",
       "<polygon fill=\"black\" points=\"218,-222.607 214.5,-212.607 211,-222.607 218,-222.607\" stroke=\"black\"/>\n",
       "</g>\n",
       "<!-- 3036956373792 -->\n",
       "<g class=\"node\" id=\"node4\"><title>3036956373792</title>\n",
       "<polygon fill=\"none\" points=\"0,-83.5 0,-129.5 429,-129.5 429,-83.5 0,-83.5\" stroke=\"black\"/>\n",
       "<text font-family=\"Times New Roman,serif\" font-size=\"14.00\" text-anchor=\"middle\" x=\"134.5\" y=\"-102.8\">bidirectional_1(lstm_1): Bidirectional(LSTM)</text>\n",
       "<polyline fill=\"none\" points=\"269,-83.5 269,-129.5 \" stroke=\"black\"/>\n",
       "<text font-family=\"Times New Roman,serif\" font-size=\"14.00\" text-anchor=\"middle\" x=\"297\" y=\"-114.3\">input:</text>\n",
       "<polyline fill=\"none\" points=\"269,-106.5 325,-106.5 \" stroke=\"black\"/>\n",
       "<text font-family=\"Times New Roman,serif\" font-size=\"14.00\" text-anchor=\"middle\" x=\"297\" y=\"-91.3\">output:</text>\n",
       "<polyline fill=\"none\" points=\"325,-83.5 325,-129.5 \" stroke=\"black\"/>\n",
       "<text font-family=\"Times New Roman,serif\" font-size=\"14.00\" text-anchor=\"middle\" x=\"377\" y=\"-114.3\">(None, 55, 300)</text>\n",
       "<polyline fill=\"none\" points=\"325,-106.5 429,-106.5 \" stroke=\"black\"/>\n",
       "<text font-family=\"Times New Roman,serif\" font-size=\"14.00\" text-anchor=\"middle\" x=\"377\" y=\"-91.3\">(None, 100)</text>\n",
       "</g>\n",
       "<!-- 3036906969688&#45;&gt;3036956373792 -->\n",
       "<g class=\"edge\" id=\"edge3\"><title>3036906969688-&gt;3036956373792</title>\n",
       "<path d=\"M214.5,-166.366C214.5,-158.152 214.5,-148.658 214.5,-139.725\" fill=\"none\" stroke=\"black\"/>\n",
       "<polygon fill=\"black\" points=\"218,-139.607 214.5,-129.607 211,-139.607 218,-139.607\" stroke=\"black\"/>\n",
       "</g>\n",
       "<!-- 3036956232392 -->\n",
       "<g class=\"node\" id=\"node5\"><title>3036956232392</title>\n",
       "<polygon fill=\"none\" points=\"93,-0.5 93,-46.5 336,-46.5 336,-0.5 93,-0.5\" stroke=\"black\"/>\n",
       "<text font-family=\"Times New Roman,serif\" font-size=\"14.00\" text-anchor=\"middle\" x=\"145\" y=\"-19.8\">dense_2: Dense</text>\n",
       "<polyline fill=\"none\" points=\"197,-0.5 197,-46.5 \" stroke=\"black\"/>\n",
       "<text font-family=\"Times New Roman,serif\" font-size=\"14.00\" text-anchor=\"middle\" x=\"225\" y=\"-31.3\">input:</text>\n",
       "<polyline fill=\"none\" points=\"197,-23.5 253,-23.5 \" stroke=\"black\"/>\n",
       "<text font-family=\"Times New Roman,serif\" font-size=\"14.00\" text-anchor=\"middle\" x=\"225\" y=\"-8.3\">output:</text>\n",
       "<polyline fill=\"none\" points=\"253,-0.5 253,-46.5 \" stroke=\"black\"/>\n",
       "<text font-family=\"Times New Roman,serif\" font-size=\"14.00\" text-anchor=\"middle\" x=\"294.5\" y=\"-31.3\">(None, 100)</text>\n",
       "<polyline fill=\"none\" points=\"253,-23.5 336,-23.5 \" stroke=\"black\"/>\n",
       "<text font-family=\"Times New Roman,serif\" font-size=\"14.00\" text-anchor=\"middle\" x=\"294.5\" y=\"-8.3\">(None, 3)</text>\n",
       "</g>\n",
       "<!-- 3036956373792&#45;&gt;3036956232392 -->\n",
       "<g class=\"edge\" id=\"edge4\"><title>3036956373792-&gt;3036956232392</title>\n",
       "<path d=\"M214.5,-83.3664C214.5,-75.1516 214.5,-65.6579 214.5,-56.7252\" fill=\"none\" stroke=\"black\"/>\n",
       "<polygon fill=\"black\" points=\"218,-56.6068 214.5,-46.6068 211,-56.6069 218,-56.6068\" stroke=\"black\"/>\n",
       "</g>\n",
       "</g>\n",
       "</svg>"
      ],
      "text/plain": [
       "<IPython.core.display.SVG object>"
      ]
     },
     "execution_count": 22,
     "metadata": {},
     "output_type": "execute_result"
    }
   ],
   "source": [
    "from IPython.display import SVG\n",
    "from keras.utils.vis_utils import model_to_dot\n",
    "\n",
    "from keras.utils.vis_utils import plot_model\n",
    "plot_model(model2, show_shapes=True, to_file='images/Python-Twitter-LSTM.jpg')\n",
    "\n",
    "SVG(model_to_dot(model2,show_shapes=True).create(prog='dot', format='svg'))\n"
   ]
  },
  {
   "cell_type": "code",
   "execution_count": 23,
   "metadata": {},
   "outputs": [],
   "source": [
    "model1.save(\"h5/Python-Twitter-Conv1D.h5\") # 訓練されたモデル\n",
    "model1.save_weights('h5/Python-Twitter-Conv1D-weights.h5')\n",
    "model2.save(\"h5/Python-Twitter-LSTM.h5\") # 訓練されたモデル\n",
    "model2.save_weights('h5/Python-Twitter-LSTM-weights.h5')"
   ]
  },
  {
   "cell_type": "code",
   "execution_count": 24,
   "metadata": {},
   "outputs": [],
   "source": [
    "# pickleでセーブ\n",
    "import pickle\n",
    "with open('pkl/Python-Twitter-Conv1D.pkl', 'wb') as h_file:\n",
    "    pickle.dump(history1.history, h_file)\n",
    "with open('pkl/Python-Twitter-LSTM.pkl', 'wb') as h_file:\n",
    "    pickle.dump(history2.history, h_file)"
   ]
  },
  {
   "cell_type": "code",
   "execution_count": 25,
   "metadata": {},
   "outputs": [
    {
     "data": {
      "text/plain": [
       "2112"
      ]
     },
     "execution_count": 25,
     "metadata": {},
     "output_type": "execute_result"
    }
   ],
   "source": [
    "# JSONへ保存\n",
    "json_str = model1.to_json()\n",
    "open('json/Python-Twitter-Conv1D.json','w').write(json_str)\n",
    "json_str = model2.to_json()\n",
    "open('json/Python-Twitter-LSTM.json','w').write(json_str)"
   ]
  },
  {
   "cell_type": "code",
   "execution_count": 26,
   "metadata": {},
   "outputs": [
    {
     "name": "stdout",
     "output_type": "stream",
     "text": [
      "['sans-serif']\n"
     ]
    }
   ],
   "source": [
    "# Matplotlibのフォントの制御（大きさや種類）\n",
    "%matplotlib inline\n",
    "import numpy as np # Numpy\n",
    "import matplotlib\n",
    "import matplotlib.pyplot as plt # 描画ライブラリ\n",
    "print (matplotlib.rcParams.get('font.family'))\n",
    "import matplotlib.font_manager as fm\n",
    "import matplotlib.patheffects as path_effects\n",
    "\n",
    "font_prop = fm.FontProperties()  \n",
    "font_prop.set_style('normal')\n",
    "font_prop.set_weight('light')\n",
    "font_prop.set_size('12')\n",
    "\n",
    "fp2 = font_prop.copy()# フォントプロパティ(FP)をコピー\n",
    "fp2.set_size('20')# フォントプロパティ(FP)をコピー\n",
    "fp2.set_family('serif')# フォントはSerif(明朝体など）に設定"
   ]
  },
  {
   "cell_type": "code",
   "execution_count": 27,
   "metadata": {},
   "outputs": [
    {
     "data": {
      "image/png": "[encoded data removed]",
      "text/plain": [
       "<matplotlib.figure.Figure at 0x2c32ab6fb00>"
      ]
     },
     "metadata": {},
     "output_type": "display_data"
    }
   ],
   "source": [
    "# 精度グラフの描画　% matplotlib inline\n",
    "plt.figure(figsize=(14,10))\n",
    "\n",
    "plt.plot(history1.history['acc'], \n",
    "         color='r', \n",
    "         linestyle='-', \n",
    "         linewidth=2, \n",
    "         path_effects=[path_effects.SimpleLineShadow(),\n",
    "                       path_effects.Normal()])\n",
    "plt.plot(history2.history['acc'], \n",
    "         color='b', \n",
    "         linestyle='-', \n",
    "         linewidth=2, \n",
    "         path_effects=[path_effects.SimpleLineShadow(),\n",
    "                       path_effects.Normal()])\n",
    "plt.plot(history1.history['val_acc'], \n",
    "         color='r', \n",
    "         linestyle='--',\n",
    "         linewidth=2,\n",
    "         path_effects=[path_effects.SimpleLineShadow(),\n",
    "                       path_effects.Normal()])\n",
    "plt.plot(history2.history['val_acc'], \n",
    "         color='b', \n",
    "         linestyle='--',\n",
    "         linewidth=2,\n",
    "         path_effects=[path_effects.SimpleLineShadow(),\n",
    "                       path_effects.Normal()])\n",
    "plt.tick_params(labelsize=15)\n",
    "plt.title('Epoch-Accuracy(Twitter Conv1D/LSTM))',fontsize=20,font_properties=fp2)\n",
    "plt.ylabel('Accuracy',fontsize=20,font_properties=fp2)\n",
    "plt.xlabel('Epoch',fontsize=20,font_properties=fp2)\n",
    "plt.legend(['Training(Conv1D)', \n",
    "            'Training(LSTM)',\n",
    "            'Validation(Conv1D)',\n",
    "            'Validation(LSTM)'], loc='best', fontsize=20)\n",
    "plt.savefig('pdf/Epoch-Acc-Twitter-Conv1D-LSTM.pdf')\n",
    "plt.show()"
   ]
  },
  {
   "cell_type": "code",
   "execution_count": 28,
   "metadata": {},
   "outputs": [
    {
     "data": {
      "image/png": "[encoded data removed]",
      "text/plain": [
       "<matplotlib.figure.Figure at 0x2c32abec358>"
      ]
     },
     "metadata": {},
     "output_type": "display_data"
    }
   ],
   "source": [
    "# 損失グラフの描画\n",
    "plt.figure(figsize=(14,10))\n",
    "#plt.plot(history.history['loss'], color='b', linestyle='-')\n",
    "#plt.plot(history.history['val_loss'], color='g', linestyle='--')\n",
    "\n",
    "plt.plot(history1.history['loss'], \n",
    "         color='r', \n",
    "         linestyle='-', \n",
    "         linewidth=2, \n",
    "         path_effects=[path_effects.SimpleLineShadow(),\n",
    "                       path_effects.Normal()])\n",
    "plt.plot(history2.history['loss'], \n",
    "         color='b', \n",
    "         linestyle='-', \n",
    "         linewidth=2, \n",
    "         path_effects=[path_effects.SimpleLineShadow(),\n",
    "                       path_effects.Normal()])\n",
    "plt.plot(history1.history['val_loss'], \n",
    "         color='r', \n",
    "         linestyle='--',\n",
    "         linewidth=2,\n",
    "         path_effects=[path_effects.SimpleLineShadow(),\n",
    "                       path_effects.Normal()])\n",
    "plt.plot(history2.history['val_loss'], \n",
    "         color='b', \n",
    "         linestyle='--',\n",
    "         linewidth=2,\n",
    "         path_effects=[path_effects.SimpleLineShadow(),\n",
    "                       path_effects.Normal()])\n",
    "plt.tick_params(labelsize=15)\n",
    "\n",
    "plt.title('Epoch-Loss (Twitter Conv1D/LSTM)',fontsize=20,font_properties=fp2)\n",
    "plt.ylabel('Loss',fontsize=20,font_properties=fp2)\n",
    "plt.xlabel('Epoch',fontsize=20,font_properties=fp2)\n",
    "plt.legend(['Training(Conv1D)', \n",
    "            'Training(LSTM)',\n",
    "            'Validation(Conv1D)',\n",
    "            'Validation(LSTM)'], loc='best', fontsize=20)\n",
    "plt.savefig('pdf/Epoch-Loss-Twitter-Conv1D-LSTM.pdf')\n",
    "plt.show()"
   ]
  },
  {
   "cell_type": "code",
   "execution_count": 29,
   "metadata": {},
   "outputs": [
    {
     "name": "stdout",
     "output_type": "stream",
     "text": [
      "20632/20632 [==============================] - 6s 298us/step\n",
      "20632/20632 [==============================] - 11s 545us/step\n",
      "\n",
      "Test score (Conv1D): 10.603, accuracy: 0.342\n",
      "\n",
      "Test score (LSTM): 0.870, accuracy: 0.590\n"
     ]
    }
   ],
   "source": [
    "score1 = model1.evaluate(Xtest, Ytest, verbose=1)\n",
    "score2 = model2.evaluate(Xtest, Ytest, verbose=1)\n",
    "print(\"\\nTest score (Conv1D): {:.3f}, accuracy: {:.3f}\".format(score1[0], score1[1]))\n",
    "print(\"\\nTest score (LSTM): {:.3f}, accuracy: {:.3f}\".format(score2[0], score2[1]))"
   ]
  },
  {
   "cell_type": "code",
   "execution_count": 30,
   "metadata": {},
   "outputs": [],
   "source": [
    "from sklearn.metrics import classification_report,confusion_matrix\n",
    "\n",
    "#y_pred2 = model.predict(Xtest)\n",
    "y_pred = mix_pred\n",
    "y_pred2 = np.argmax(y_pred, axis=1)\n",
    "\n",
    "y_actual = np.argmax(Ytest, axis=1)\n",
    "\n",
    "cm = confusion_matrix(y_pred2, y_actual)\n"
   ]
  },
  {
   "cell_type": "code",
   "execution_count": 31,
   "metadata": {},
   "outputs": [],
   "source": [
    "%matplotlib inline\n",
    "import matplotlib.pyplot as plt\n",
    "from matplotlib import pylab\n",
    "import itertools\n",
    "def plot_confusion_matrix(cm, classes,\n",
    "                          normalize=False,\n",
    "                          title='Confusion matrix',\n",
    "                          cmap=plt.cm.Oranges):\n",
    "    \"\"\"\n",
    "    This function prints and plots the confusion matrix.\n",
    "    Normalization can be applied by setting `normalize=True`.\n",
    "    \"\"\"\n",
    "    plt.figure(figsize=(10,8))\n",
    "    plt.imshow(cm, interpolation='nearest', cmap=cmap)\n",
    "    plt.title(title,fontsize=25)\n",
    "    cb = plt.colorbar()\n",
    "    cb.ax.tick_params(labelsize=15)\n",
    "    # plt.colorbar()\n",
    "    tick_marks = np.arange(len(classes))\n",
    "    plt.xticks(tick_marks, classes, rotation=45,fontsize=15)\n",
    "    plt.yticks(tick_marks, classes,fontsize=15)\n",
    "    \n",
    "    if normalize:\n",
    "        cm = cm.astype('float') / cm.sum(axis=1)[:, np.newaxis]\n",
    "        print(\"Normalized confusion matrix\")\n",
    "    else:\n",
    "        print('Confusion matrix, without normalization')\n",
    "\n",
    "    print(cm)\n",
    "\n",
    "    thresh = cm.max() / 2.\n",
    "    for i, j in itertools.product(range(cm.shape[0]), range(cm.shape[1])):\n",
    "        plt.text(j, i, cm[i, j],\n",
    "                 horizontalalignment=\"center\",fontsize=20,\n",
    "                 color=\"white\" if cm[i, j] > thresh else \"black\")\n",
    "\n",
    "    plt.tight_layout()\n",
    "    plt.ylabel('True label',fontsize=20)\n",
    "    plt.xlabel('Predicted label',fontsize=20)"
   ]
  },
  {
   "cell_type": "code",
   "execution_count": 34,
   "metadata": {},
   "outputs": [
    {
     "name": "stdout",
     "output_type": "stream",
     "text": [
      "Confusion matrix, without normalization\n",
      "[[    0     0     0]\n",
      " [    0     0     0]\n",
      " [ 3231 10342  7059]]\n"
     ]
    },
    {
     "data": {
      "image/png": "[encoded data removed]",
      "text/plain": [
       "<matplotlib.figure.Figure at 0x2c32fc29d30>"
      ]
     },
     "metadata": {},
     "output_type": "display_data"
    }
   ],
   "source": [
    "classes = ['Negative', 'Neutral', 'Positive']\n",
    "plot_confusion_matrix(cm, classes=classes, title='Twitter Sentiment Analysis')\n",
    "plt.show()"
   ]
  },
  {
   "cell_type": "code",
   "execution_count": 33,
   "metadata": {},
   "outputs": [
    {
     "ename": "ZeroDivisionError",
     "evalue": "float division by zero",
     "output_type": "error",
     "traceback": [
      "\u001b[1;31m---------------------------------------------------------------------------\u001b[0m",
      "\u001b[1;31mZeroDivisionError\u001b[0m                         Traceback (most recent call last)",
      "\u001b[1;32m<ipython-input-33-78944f910253>\u001b[0m in \u001b[0;36m<module>\u001b[1;34m()\u001b[0m\n\u001b[0;32m     30\u001b[0m \u001b[0mprecision_positive\u001b[0m \u001b[1;33m=\u001b[0m \u001b[0mfloat\u001b[0m\u001b[1;33m(\u001b[0m\u001b[0mPP\u001b[0m\u001b[1;33m)\u001b[0m\u001b[1;33m/\u001b[0m\u001b[1;33m(\u001b[0m\u001b[0mPP\u001b[0m\u001b[1;33m+\u001b[0m\u001b[0mPU\u001b[0m\u001b[1;33m+\u001b[0m\u001b[0mPN\u001b[0m\u001b[1;33m)\u001b[0m\u001b[1;33m\u001b[0m\u001b[0m\n\u001b[0;32m     31\u001b[0m \u001b[0mrecall_positive\u001b[0m \u001b[1;33m=\u001b[0m \u001b[0mfloat\u001b[0m\u001b[1;33m(\u001b[0m\u001b[0mPP\u001b[0m\u001b[1;33m)\u001b[0m\u001b[1;33m/\u001b[0m\u001b[1;33m(\u001b[0m\u001b[0mPP\u001b[0m\u001b[1;33m+\u001b[0m\u001b[0mUP\u001b[0m\u001b[1;33m+\u001b[0m\u001b[0mNP\u001b[0m\u001b[1;33m)\u001b[0m\u001b[1;33m\u001b[0m\u001b[0m\n\u001b[1;32m---> 32\u001b[1;33m \u001b[0mprecision_negative\u001b[0m \u001b[1;33m=\u001b[0m \u001b[0mfloat\u001b[0m\u001b[1;33m(\u001b[0m\u001b[0mNN\u001b[0m\u001b[1;33m)\u001b[0m\u001b[1;33m/\u001b[0m\u001b[1;33m(\u001b[0m\u001b[0mNP\u001b[0m\u001b[1;33m+\u001b[0m\u001b[0mNU\u001b[0m\u001b[1;33m+\u001b[0m\u001b[0mNN\u001b[0m\u001b[1;33m)\u001b[0m\u001b[1;33m\u001b[0m\u001b[0m\n\u001b[0m\u001b[0;32m     33\u001b[0m \u001b[0mrecall_negative\u001b[0m \u001b[1;33m=\u001b[0m \u001b[0mfloat\u001b[0m\u001b[1;33m(\u001b[0m\u001b[0mNN\u001b[0m\u001b[1;33m)\u001b[0m\u001b[1;33m/\u001b[0m\u001b[1;33m(\u001b[0m\u001b[0mPN\u001b[0m\u001b[1;33m+\u001b[0m\u001b[0mUN\u001b[0m\u001b[1;33m+\u001b[0m\u001b[0mNN\u001b[0m\u001b[1;33m)\u001b[0m\u001b[1;33m\u001b[0m\u001b[0m\n\u001b[0;32m     34\u001b[0m \u001b[0mprecision_neutral\u001b[0m \u001b[1;33m=\u001b[0m \u001b[0mfloat\u001b[0m\u001b[1;33m(\u001b[0m\u001b[0mUU\u001b[0m\u001b[1;33m)\u001b[0m\u001b[1;33m/\u001b[0m\u001b[1;33m(\u001b[0m\u001b[0mUP\u001b[0m\u001b[1;33m+\u001b[0m\u001b[0mUU\u001b[0m\u001b[1;33m+\u001b[0m\u001b[0mUN\u001b[0m\u001b[1;33m)\u001b[0m\u001b[1;33m\u001b[0m\u001b[0m\n",
      "\u001b[1;31mZeroDivisionError\u001b[0m: float division by zero"
     ]
    }
   ],
   "source": [
    "# F1-measures\n",
    "count = 0\n",
    "total = y_actual.shape[0]\n",
    "PP = PU = PN = UP = UU = UN = NP = NU = NN = 0\n",
    "for i in range(total):\n",
    "    p,a = y_pred2[i],y_actual[i]\n",
    "    if p==2:\n",
    "        if a==0:\n",
    "            PN += 1\n",
    "        elif a==1:\n",
    "            PU += 1\n",
    "        else:\n",
    "            PP += 1\n",
    "    elif p==1:\n",
    "        if a==0:\n",
    "            UN += 1\n",
    "        elif a==1:\n",
    "            UU += 1\n",
    "        else:\n",
    "            UP += 1\n",
    "    else:\n",
    "        if a==0:\n",
    "            NN += 1\n",
    "        elif a==1:\n",
    "            NU += 1\n",
    "        else:\n",
    "            NP += 1\n",
    "    count += 1\n",
    "\n",
    "precision_positive = float(PP)/(PP+PU+PN)\n",
    "recall_positive = float(PP)/(PP+UP+NP)\n",
    "precision_negative = float(NN)/(NP+NU+NN)\n",
    "recall_negative = float(NN)/(PN+UN+NN)\n",
    "precision_neutral = float(UU)/(UP+UU+UN)\n",
    "recall_neutral = float(UU)/(PU+UU+NU)\n",
    "F1_positive = (2 * precision_positive * recall_positive)/(precision_positive + recall_positive) \n",
    "F1_negative = (2 * precision_negative * recall_negative)/(precision_negative + recall_negative)\n",
    "F1_neutral = (2 * precision_neutral * recall_neutral)/(precision_neutral + recall_neutral)\n",
    "F1_PN = 0.5 * (F1_positive + F1_negative)\n",
    "print(\"PP = \",PP,\" NN = \",NN,\" UU = \",UU)\n",
    "print(\"F1_positive（ポジティブのF1値） = \",F1_positive)\n",
    "print(\"F1_negative （ネガティブのF1値）= \",F1_negative)\n",
    "print(\"F1_neutral = （ニュートラルのF1値）\",F1_neutral)\n",
    "print(\"F1_PN = \",F1_PN)\n",
    "accuracy = float(PP+UU+NN)/total # テストのデータ総数から精度を計算\n",
    "print(\"分類精度 = \",accuracy) # 最終的なクラス全体の平均精度のプリント\n"
   ]
  },
  {
   "cell_type": "code",
   "execution_count": 47,
   "metadata": {},
   "outputs": [
    {
     "name": "stdout",
     "output_type": "stream",
     "text": [
      "accuracy =  0.5813299728576968\n"
     ]
    }
   ],
   "source": [
    "# 最終的な精度を簡単なループで計算\n",
    "count = 0\n",
    "total = y_actual.shape[0]\n",
    "for i in range(total):\n",
    "    if y_actual[i] == y_pred2[i]: # 正解と一致するものをカウント\n",
    "        count += 1\n",
    "accuracy = float(count)/total # テストのデータ総数から精度を計算\n",
    "print(\"accuracy = \",accuracy) # 最終的なクラス全体の平均精度のプリント\n"
   ]
  },
  {
   "cell_type": "code",
   "execution_count": null,
   "metadata": {
    "collapsed": true
   },
   "outputs": [],
   "source": []
  }
 ],
 "metadata": {
  "kernelspec": {
   "display_name": "Python 3",
   "language": "python",
   "name": "python3"
  },
  "language_info": {
   "codemirror_mode": {
    "name": "ipython",
    "version": 3
   },
   "file_extension": ".py",
   "mimetype": "text/x-python",
   "name": "python",
   "nbconvert_exporter": "python",
   "pygments_lexer": "ipython3",
   "version": "3.6.4"
  }
 },
 "nbformat": 4,
 "nbformat_minor": 2
}
