{
  "nbformat": 4,
  "nbformat_minor": 0,
  "metadata": {
    "colab": {
      "name": "While使い方",
      "version": "0.3.2",
      "provenance": [],
      "include_colab_link": true
    },
    "kernelspec": {
      "name": "python3",
      "display_name": "Python 3"
    }
  },
  "cells": [
    {
      "cell_type": "markdown",
      "metadata": {
        "id": "view-in-github",
        "colab_type": "text"
      },
      "source": [
        "<a href=\"https://colab.research.google.com/github/taroarimoto/Python_Practice/blob/master/While%E4%BD%BF%E3%81%84%E6%96%B9.ipynb\" target=\"_parent\"><img src=\"https://colab.research.google.com/assets/colab-badge.svg\" alt=\"Open In Colab\"/></a>"
      ]
    },
    {
      "metadata": {
        "id": "lm7h1d6O1sHq",
        "colab_type": "code",
        "colab": {}
      },
      "cell_type": "code",
      "source": [
        "# coding: utf-8\n",
        "# whileによるループ処理\n",
        "\n",
        "＃カウンタ変数を初期化\n",
        "While 条件式：\n",
        "　　＃繰り返し処理\n",
        "  　＃カウンタ変数を更新"
      ],
      "execution_count": 0,
      "outputs": []
    }
  ]
}