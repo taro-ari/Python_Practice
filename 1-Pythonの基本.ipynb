{
 "cells": [
  {
   "cell_type": "markdown",
   "metadata": {},
   "source": [
    "# 1．Pythonの基本 ｜Pythonプログラミングを使った統計分析の基礎\n",
    "\n",
    "### [Logics of Blue](https://logics-of-blue.com/) 馬場真哉：2019年3月1日"
   ]
  },
  {
   "cell_type": "markdown",
   "metadata": {},
   "source": [
    "## 目的\n",
    "- Jupyter Notebookの基本的な使い方を学ぶ\n",
    "    - インストール\n",
    "    - 立ち上げ\n",
    "    - 新規ファイル追加\n",
    "    - Mark Downの使い方\n",
    "- Pythonの基本文法を学ぶ\n",
    "    - 四則演算\n",
    "    - 比較演算\n",
    "    - 変数と関数\n",
    "    - クラスとインスタンス\n",
    "    - 分析用ライブラリ（numpy・pandas・scipy）\n",
    "    - 基本的な構文（if構文・forループ）\n",
    " \n",
    "## 目次\n",
    "1. [ソフトウェアのインストール](#1.-ソフトウェアのインストール)\n",
    "2. [Jupyter Notebookの基本的な使い方](#2.-Jupyter-Notebookの基本的な使い方)\n",
    "3. [四則演算](#3．四則演算)\n",
    "4. [比較演算](#4．比較演算)\n",
    "5. [変数の利用](#5．変数の利用)\n",
    "6. [関数の利用](#6．関数の利用)\n",
    "7. [クラスとインスタンス](#7．クラスとインスタンス)\n",
    "8. [pandasとDataFrameの初歩](#8．pandasとDataFrameの初歩)\n",
    "9. [numpyとpandas](#9．numpyとpandas)\n",
    "10. [DataFrameにおけるデータの抽出](#10．DataFrameにおけるデータの抽出)\n",
    "11. [scipyによる統計処理](#11．scipyによる統計処理)\n",
    "12. [if分岐](#12．if分岐)\n",
    "13. [forループ](#13．forループ)"
   ]
  },
  {
   "cell_type": "markdown",
   "metadata": {},
   "source": [
    "***\n",
    "## 1. ソフトウェアのインストール\n",
    "<p>\n",
    "    今回の研修ではすべて準備が終わっています。<br>\n",
    "    個人のPCなどで、新たに分析環境を構築する際の参考にお使いください。\n",
    "</p>"
   ]
  },
  {
   "cell_type": "markdown",
   "metadata": {},
   "source": [
    "### Anacondaのインストール\n",
    "<p>\n",
    "    Anacondaは「分析用のツールが一式入ったPythonの配布形態の1つ」です。Anacondaを1つインストールするだけで、Python・Jupyter Notebook・各種分析ライブラリが一式インストールされます。<br>\n",
    "    今回のセミナーではWindows10の使用を前提としています。\n",
    "</p>\n",
    "\n",
    "<p>\n",
    "    Anacondaは下記Webページからダウンロードできます。\n",
    "</p>\n",
    "\n",
    "[Download Anaconda Distribution](https://www.anaconda.com/download/)\n",
    "\n",
    "\n",
    "<p>\n",
    "    Pythonには2系と3系がありますが、基本的には3系を使います。<br>\n",
    "    『Python 3.6 version』を選択してダウンロードします。<br>\n",
    "</p>\n"
   ]
  },
  {
   "cell_type": "markdown",
   "metadata": {},
   "source": [
    "***\n",
    "## 2. Jupyter Notebookの基本的な使い方\n",
    "<p>\n",
    "    Jupyter Notebookは、Pythonのコードを書いて、結果をすぐに表示させることのできる、便利なソフトウェアです。<br>\n",
    "    Jupyter Notebookの立ち上げやコードの実行方法、実行結果の保存方法などを説明します。\n",
    "</p>"
   ]
  },
  {
   "cell_type": "markdown",
   "metadata": {},
   "source": [
    "### 手順1．Jupyter Notebookの起動\n",
    "<p>\n",
    "    Windows10ならCortanaの検索ボックスに「Jupyter Notebook」と打ち込んでEnterキーを押下すると立ち上がります。<br>\n",
    "    スタートメニューにピン止めしておくと便利です。\n",
    "</p>\n",
    "\n",
    "<p>\n",
    "    Jupyter Notebookが起動すると、ブラウザが立ち上がります。Webアプリを使うような感覚で、実装をすることが可能です。<br>\n",
    "    Jupyter Notebook起動と同時、コマンドプロンプトが立ち上がります。\n",
    "</p>\n",
    "\n",
    "### 手順2．新しいファイルを作る\n",
    "<p>\n",
    "    起動画面では『C:\\Users\\ユーザー名』のフォルダ内のファイル一覧が表示されているはずです。<br>\n",
    "    このセミナーでは『Python_Stat_Seminar』というフォルダが用意されているはずなので、それを使用します。フォルダをクリックすると、移動できます。<br>\n",
    "    メニューの『New▼』→『Python3』を選択すると、プログラムを書く画面が出てきます。<br>\n",
    "    『In[ ]』と左端に書かれている場所にコードを書いていくことになります。この部分を『セル』と呼ぶことにします。\n",
    "</p>\n",
    "\n",
    "\n",
    "### 手順3．計算の実行方法\n",
    "<p>\n",
    "    「1＋1」の計算結果を得るためには、セルに`1 + 1`と入力してから『Shift ＋ Enter』を押下します。<br>\n",
    "    『Shift ＋ Enter』を押下すると、コードが実行されてから、一つ下のセルにフォーカスが移動します。<br>\n",
    "    移動させたくない場合は『Ctrl ＋ Enter』を押下します。\n",
    "</p>\n",
    "\n",
    "\n",
    "### 手順4．コメントの書き方\n",
    "<p>\n",
    "    行の先頭にシャープ『'#'』記号を入れることで、その行全体がコメント扱いになります。<br>\n",
    "    コメント行のコードは実行されません。コードの説明を書くのに使います。\n",
    "</p>\n",
    "\n",
    "### 手順5．Markdownの書き方\n",
    "<p>\n",
    "    単なるコメントだけではなく、見出しや箇条書き等を挿入することができます。<br>\n",
    "    この時の記法をMarkdownと呼びます。\n",
    "</p>\n",
    "\n",
    "<p>\n",
    "    セルを選択中に、上部メニューから『Code▼』を押下して『Markdown』に変更することで、選択セルがMarkdown形式の記法を受けつけるようになります。<br>\n",
    "    この説明文などもMarkdown形式で書かれています。\n",
    "</p>\n",
    "\n",
    "<p>\n",
    "    Markdown記法は、このセミナーで紹介するには豊富過ぎる機能を有しています。<br>\n",
    "    『jupyternotebook Markdown』等で検索すると様々な情報が出てくるでしょう。<br>\n",
    "    セルをダブルクリックすると、どのような記法で書かれてあるか確認することができます。編集も可能です。<br>\n",
    "    『Shift ＋ Enter』を押下すると、表題や箇条書きがきれいに表示されるようになります。\n",
    "</p>\n",
    "\n",
    "### 手順6．分析レポートの保存\n",
    "<p>\n",
    "    編集中のファイルを保存する場合は、『Ctrl ＋ S』を押下します。上書き保存のショートカットキーです。<br>\n",
    "    ファイル名は、画面上部で指定できます。デフォルトでは『Untitled』という名称となっています。\n",
    "    \n",
    "</p>\n",
    "\n",
    "<p>\n",
    "    分析結果やMarkdownにより記載された内容は、HTMLなどの形式で配布することができます。<br>\n",
    "    メニューから『File』→『Download as』→『HTML(.html)』を選択します。\n",
    "</p>\n",
    "\n",
    "\n",
    "### 手順7．Jupyter Notebookの終了\n",
    "<p>\n",
    "    Jupyter Notebook起動と同時に立ち上がったコマンドプロンプトにおいて「Ctrl + C」を押下すると、Jupyter Notebookが終了されます。\n",
    "</p>\n",
    "\n",
    "\n",
    "### その他\n",
    "<p>\n",
    "    ショートカットキーは『Esc + H』を押下することで確認できます。<br>\n",
    "    よく使うショートカットキーを載せます。\n",
    "</p>\n",
    "\n",
    "- セルをマークダウン形式にする『Esc + M』\n",
    "- セルの\n",
    "    - コピー　『Esc + C』\n",
    "    - ペースト『Esc + V』\n",
    "    - 切り取り『Esc + X』\n",
    "    - 挿入　　\n",
    "        - 上側『Esc + A』\n",
    "        - 下側『Esc + B』\n",
    "- カーネルの再起動『Esc + 0 + 0』(0を連打)<br>\n",
    "　→変数等をすべて開放することができます。<br>\n",
    " 　 見た目は変わりませんが。Jupyter Notebookを再立ち上げしたのと同じ状況となります。"
   ]
  },
  {
   "cell_type": "markdown",
   "metadata": {},
   "source": [
    "<p>\n",
    "    ここまででJupyter Notebookの基本的な使い方の説明は終わりです。<br>\n",
    "    質問を受け付けます\n",
    "</p>"
   ]
  },
  {
   "cell_type": "markdown",
   "metadata": {},
   "source": [
    "***\n",
    "## 3．四則演算\n",
    "\n",
    "<p>\n",
    "    基本的な四則演算の方法を学びます。<br>\n",
    "    1つのセルに1つ計算結果が出力されるように記述するときれいです。\n",
    "</p>"
   ]
  },
  {
   "cell_type": "code",
   "execution_count": 1,
   "metadata": {},
   "outputs": [
    {
     "data": {
      "text/plain": [
       "2"
      ]
     },
     "execution_count": 1,
     "metadata": {},
     "output_type": "execute_result"
    }
   ],
   "source": [
    "# 足し算\n",
    "1 + 1"
   ]
  },
  {
   "cell_type": "code",
   "execution_count": 2,
   "metadata": {},
   "outputs": [
    {
     "data": {
      "text/plain": [
       "4"
      ]
     },
     "execution_count": 2,
     "metadata": {},
     "output_type": "execute_result"
    }
   ],
   "source": [
    "# 引き算\n",
    "5 - 1"
   ]
  },
  {
   "cell_type": "code",
   "execution_count": 3,
   "metadata": {},
   "outputs": [
    {
     "data": {
      "text/plain": [
       "18"
      ]
     },
     "execution_count": 3,
     "metadata": {},
     "output_type": "execute_result"
    }
   ],
   "source": [
    "# 掛け算\n",
    "3 * 6"
   ]
  },
  {
   "cell_type": "code",
   "execution_count": 4,
   "metadata": {},
   "outputs": [
    {
     "data": {
      "text/plain": [
       "4.0"
      ]
     },
     "execution_count": 4,
     "metadata": {},
     "output_type": "execute_result"
    }
   ],
   "source": [
    "# 割り算\n",
    "8 / 2"
   ]
  },
  {
   "cell_type": "markdown",
   "metadata": {},
   "source": [
    "***\n",
    "## 4．比較演算\n",
    "\n",
    "<p>\n",
    "    大小比較などを行います。<br>\n",
    "    結果はTrueまたはFalseという真偽型で得られます。\n",
    "</p>"
   ]
  },
  {
   "cell_type": "code",
   "execution_count": 5,
   "metadata": {},
   "outputs": [
    {
     "data": {
      "text/plain": [
       "True"
      ]
     },
     "execution_count": 5,
     "metadata": {},
     "output_type": "execute_result"
    }
   ],
   "source": [
    "# 1は0.99よりも大きいか？\n",
    "1 > 0.99"
   ]
  },
  {
   "cell_type": "code",
   "execution_count": 6,
   "metadata": {},
   "outputs": [
    {
     "data": {
      "text/plain": [
       "False"
      ]
     },
     "execution_count": 6,
     "metadata": {},
     "output_type": "execute_result"
    }
   ],
   "source": [
    "# 1は0.99よりも小さいか？\n",
    "1 < 0.99"
   ]
  },
  {
   "cell_type": "code",
   "execution_count": 7,
   "metadata": {},
   "outputs": [
    {
     "data": {
      "text/plain": [
       "False"
      ]
     },
     "execution_count": 7,
     "metadata": {},
     "output_type": "execute_result"
    }
   ],
   "source": [
    "# 2は2.5以上か？\n",
    "2 >= 2.5"
   ]
  },
  {
   "cell_type": "code",
   "execution_count": 8,
   "metadata": {},
   "outputs": [
    {
     "data": {
      "text/plain": [
       "True"
      ]
     },
     "execution_count": 8,
     "metadata": {},
     "output_type": "execute_result"
    }
   ],
   "source": [
    "# 2は2以上か？\n",
    "2 >= 2"
   ]
  },
  {
   "cell_type": "code",
   "execution_count": 9,
   "metadata": {},
   "outputs": [
    {
     "data": {
      "text/plain": [
       "False"
      ]
     },
     "execution_count": 9,
     "metadata": {},
     "output_type": "execute_result"
    }
   ],
   "source": [
    "# 2は2より大きいか？\n",
    "2 > 2"
   ]
  },
  {
   "cell_type": "code",
   "execution_count": 10,
   "metadata": {},
   "outputs": [
    {
     "data": {
      "text/plain": [
       "False"
      ]
     },
     "execution_count": 10,
     "metadata": {},
     "output_type": "execute_result"
    }
   ],
   "source": [
    "# 3は2と等しいか？\n",
    "3 == 2"
   ]
  },
  {
   "cell_type": "code",
   "execution_count": 11,
   "metadata": {},
   "outputs": [
    {
     "data": {
      "text/plain": [
       "True"
      ]
     },
     "execution_count": 11,
     "metadata": {},
     "output_type": "execute_result"
    }
   ],
   "source": [
    "# 3は2と異なるか？\n",
    "3 != 2"
   ]
  },
  {
   "cell_type": "markdown",
   "metadata": {},
   "source": [
    "***\n",
    "## 5．変数の利用\n",
    "\n",
    "<p>\n",
    "    変数を使うことで、一時的に値を保存することができます。<br>\n",
    "    計算結果や、データの読み込みの際等、頻繁に使います。\n",
    "</p>"
   ]
  },
  {
   "cell_type": "code",
   "execution_count": 12,
   "metadata": {},
   "outputs": [],
   "source": [
    "# xに3を代入\n",
    "x = 3"
   ]
  },
  {
   "cell_type": "code",
   "execution_count": 13,
   "metadata": {},
   "outputs": [
    {
     "data": {
      "text/plain": [
       "3"
      ]
     },
     "execution_count": 13,
     "metadata": {},
     "output_type": "execute_result"
    }
   ],
   "source": [
    "# 中身の表示\n",
    "x"
   ]
  },
  {
   "cell_type": "code",
   "execution_count": 14,
   "metadata": {},
   "outputs": [
    {
     "data": {
      "text/plain": [
       "5"
      ]
     },
     "execution_count": 14,
     "metadata": {},
     "output_type": "execute_result"
    }
   ],
   "source": [
    "# 変数の足し算\n",
    "x + 2"
   ]
  },
  {
   "cell_type": "code",
   "execution_count": 15,
   "metadata": {},
   "outputs": [
    {
     "data": {
      "text/plain": [
       "True"
      ]
     },
     "execution_count": 15,
     "metadata": {},
     "output_type": "execute_result"
    }
   ],
   "source": [
    "# 変数の演算\n",
    "x > 2"
   ]
  },
  {
   "cell_type": "markdown",
   "metadata": {},
   "source": [
    "数値だけでなく、文字列も格納できます。<br>\n",
    "文字列はダブルクォーテーションやシングルクォーテーションで囲みます。"
   ]
  },
  {
   "cell_type": "code",
   "execution_count": 16,
   "metadata": {},
   "outputs": [
    {
     "data": {
      "text/plain": [
       "'AA'"
      ]
     },
     "execution_count": 16,
     "metadata": {},
     "output_type": "execute_result"
    }
   ],
   "source": [
    "mozi = \"AA\"\n",
    "\n",
    "mozi"
   ]
  },
  {
   "cell_type": "code",
   "execution_count": 17,
   "metadata": {},
   "outputs": [
    {
     "data": {
      "text/plain": [
       "'ABC'"
      ]
     },
     "execution_count": 17,
     "metadata": {},
     "output_type": "execute_result"
    }
   ],
   "source": [
    "mozi_2 = 'ABC'\n",
    "\n",
    "mozi_2"
   ]
  },
  {
   "cell_type": "markdown",
   "metadata": {},
   "source": [
    "***\n",
    "## 6．関数の利用\n",
    "\n",
    "<p>\n",
    "    計算ロジックを保存したものを関数と呼びます。<br>\n",
    "    統計分析用の様々な関数が用意されているので、今後しばしば活用します。\n",
    "</p>\n",
    "\n",
    "<p>\n",
    "    ここでは、関数を作成する例を紹介していますが、関数の作成は今回のセミナーでは今後行いません。<br>\n",
    "    ライブラリが提供してくれた関数の使い方の理解を深める目的で紹介します。\n",
    "</p>"
   ]
  },
  {
   "cell_type": "code",
   "execution_count": 18,
   "metadata": {},
   "outputs": [],
   "source": [
    "# dataに1を足す関数を自作する\n",
    "def plus_one(data):\n",
    "    return(data + 1)"
   ]
  },
  {
   "cell_type": "code",
   "execution_count": 19,
   "metadata": {},
   "outputs": [
    {
     "data": {
      "text/plain": [
       "5"
      ]
     },
     "execution_count": 19,
     "metadata": {},
     "output_type": "execute_result"
    }
   ],
   "source": [
    "# 関数の実行\n",
    "plus_one(4)"
   ]
  },
  {
   "cell_type": "code",
   "execution_count": 20,
   "metadata": {},
   "outputs": [
    {
     "data": {
      "text/plain": [
       "6"
      ]
     },
     "execution_count": 20,
     "metadata": {},
     "output_type": "execute_result"
    }
   ],
   "source": [
    "# すでに用意されているsum関数（合計値を計算する関数）を利用する\n",
    "sum([1,2,3])"
   ]
  },
  {
   "cell_type": "markdown",
   "metadata": {},
   "source": [
    "### 分析イメージ(このコードは動きません)\n",
    "\n",
    "##### データを読み込んで変数に格納\n",
    "data = データ読み込み関数(ファイル名)\n",
    "\n",
    "##### 分析用の関数を実行\n",
    "分析関数(data)\n"
   ]
  },
  {
   "cell_type": "markdown",
   "metadata": {},
   "source": [
    "***\n",
    "## 7．クラスとインスタンス\n",
    "\n",
    "<p>\n",
    "    厳密な定義ではありませんが、「データの構造と計算ロジック」を共に指定したものをクラスと呼びます。<br>\n",
    "    実際にデータを中に格納したものをインスタンスと呼びます。\n",
    "</p>\n",
    "\n",
    "<p>\n",
    "    『__init__』という特殊な関数を定義することで、クラスの初期化をします。これをコンストラクタと呼びます。<br>\n",
    "    クラスにデータを格納するために、コンストラクタが使われるとイメージすると良いでしょう。\n",
    "</p>\n",
    "\n",
    "<p>\n",
    "    クラスを自分で定義することは、このセミナーの中では今後は行いません。<br>\n",
    "    統計分析用の様々なクラスが用意されているので、それを使いまわします。\n",
    "</p>"
   ]
  },
  {
   "cell_type": "code",
   "execution_count": 21,
   "metadata": {},
   "outputs": [],
   "source": [
    "# クラスを自分で作ってみる\n",
    "class Sample_Class:\n",
    "    def __init__(self, data1, data2):\n",
    "        self.data1 = data1\n",
    "        self.data2 = data2\n",
    "        \n",
    "    def method2(self):\n",
    "        return(self.data1 + self.data2)"
   ]
  },
  {
   "cell_type": "code",
   "execution_count": 22,
   "metadata": {},
   "outputs": [],
   "source": [
    "# クラスにデータを格納して、インスタンスを生成する\n",
    "sample_instance = Sample_Class(data1 = 2, data2 = 3)"
   ]
  },
  {
   "cell_type": "code",
   "execution_count": 23,
   "metadata": {},
   "outputs": [
    {
     "data": {
      "text/plain": [
       "2"
      ]
     },
     "execution_count": 23,
     "metadata": {},
     "output_type": "execute_result"
    }
   ],
   "source": [
    "# インスタンスの中に格納されているデータを取り出す\n",
    "sample_instance.data1"
   ]
  },
  {
   "cell_type": "code",
   "execution_count": 24,
   "metadata": {},
   "outputs": [
    {
     "data": {
      "text/plain": [
       "3"
      ]
     },
     "execution_count": 24,
     "metadata": {},
     "output_type": "execute_result"
    }
   ],
   "source": [
    "# インスタンスの中に格納されているデータを取り出す\n",
    "sample_instance.data2"
   ]
  },
  {
   "cell_type": "code",
   "execution_count": 25,
   "metadata": {},
   "outputs": [
    {
     "data": {
      "text/plain": [
       "5"
      ]
     },
     "execution_count": 25,
     "metadata": {},
     "output_type": "execute_result"
    }
   ],
   "source": [
    "# クラスが用意した関数を実行する\n",
    "sample_instance.method2()"
   ]
  },
  {
   "cell_type": "markdown",
   "metadata": {},
   "source": [
    "### 分析イメージ(このコードは動きません)\n",
    "\n",
    "##### データを読み込んで変数に格納→データ格納用のクラスに、データを格納してインスタンスを生成する\n",
    "data = データ読み込み関数(ファイル名)\n",
    "\n",
    "##### 分析用の関数を実行\n",
    "分析関数(data)　または<br>\n",
    "data.クラスが用意した分析関数()\n"
   ]
  },
  {
   "cell_type": "markdown",
   "metadata": {},
   "source": [
    "***\n",
    "## 8．pandasとDataFrameの初歩\n",
    "<p>\n",
    "    pandasのDataFrameを使ってデータを読み込んで、簡単な分析を行います。\n",
    "</p>\n",
    "\n",
    "<p>\n",
    "    pandasは様々な機能がつまったライブラリと呼ばれるものです。<br>\n",
    "    ライブラリを読み込むことで、pandasが用意した様々なクラスや関数を流用することができます。<br>\n",
    "    こういった便利なライブラリがたくさんあるので、Pythonはデータ分析に適した言語だと言われています。\n",
    "</p>"
   ]
  },
  {
   "cell_type": "code",
   "execution_count": 26,
   "metadata": {},
   "outputs": [],
   "source": [
    "# pandasをimportします。これでpandasの用意したクラスや関数を使うことができます。\n",
    "# 『as pd』と指定することで、pdという略称を使ってpandasの機能を参照できるようになります。\n",
    "import pandas as pd"
   ]
  },
  {
   "cell_type": "code",
   "execution_count": 27,
   "metadata": {
    "scrolled": true
   },
   "outputs": [
    {
     "data": {
      "text/html": [
       "<div>\n",
       "<style scoped>\n",
       "    .dataframe tbody tr th:only-of-type {\n",
       "        vertical-align: middle;\n",
       "    }\n",
       "\n",
       "    .dataframe tbody tr th {\n",
       "        vertical-align: top;\n",
       "    }\n",
       "\n",
       "    .dataframe thead th {\n",
       "        text-align: right;\n",
       "    }\n",
       "</style>\n",
       "<table border=\"1\" class=\"dataframe\">\n",
       "  <thead>\n",
       "    <tr style=\"text-align: right;\">\n",
       "      <th></th>\n",
       "      <th>sales</th>\n",
       "    </tr>\n",
       "  </thead>\n",
       "  <tbody>\n",
       "    <tr>\n",
       "      <th>0</th>\n",
       "      <td>1</td>\n",
       "    </tr>\n",
       "    <tr>\n",
       "      <th>1</th>\n",
       "      <td>2</td>\n",
       "    </tr>\n",
       "    <tr>\n",
       "      <th>2</th>\n",
       "      <td>3</td>\n",
       "    </tr>\n",
       "    <tr>\n",
       "      <th>3</th>\n",
       "      <td>4</td>\n",
       "    </tr>\n",
       "    <tr>\n",
       "      <th>4</th>\n",
       "      <td>5</td>\n",
       "    </tr>\n",
       "  </tbody>\n",
       "</table>\n",
       "</div>"
      ],
      "text/plain": [
       "   sales\n",
       "0      1\n",
       "1      2\n",
       "2      3\n",
       "3      4\n",
       "4      5"
      ]
     },
     "execution_count": 27,
     "metadata": {},
     "output_type": "execute_result"
    }
   ],
   "source": [
    "# データを読み込んで、変数に格納します。\n",
    "sales_data = pd.read_csv(\"sample_data.csv\")\n",
    "\n",
    "# 格納されたデータを表示する\n",
    "sales_data"
   ]
  },
  {
   "cell_type": "code",
   "execution_count": 28,
   "metadata": {},
   "outputs": [
    {
     "data": {
      "text/plain": [
       "pandas.core.frame.DataFrame"
      ]
     },
     "execution_count": 28,
     "metadata": {},
     "output_type": "execute_result"
    }
   ],
   "source": [
    "# ちなみに、sales_dataという変数は、DataFrameクラスのインスタンスとなっています。\n",
    "# DataFrameクラスという便利なクラスをpandasが提供してくれている。\n",
    "# それのインスタンスを生成してデータを保存しています。\n",
    "type(sales_data)"
   ]
  },
  {
   "cell_type": "code",
   "execution_count": 29,
   "metadata": {},
   "outputs": [
    {
     "data": {
      "text/html": [
       "<div>\n",
       "<style scoped>\n",
       "    .dataframe tbody tr th:only-of-type {\n",
       "        vertical-align: middle;\n",
       "    }\n",
       "\n",
       "    .dataframe tbody tr th {\n",
       "        vertical-align: top;\n",
       "    }\n",
       "\n",
       "    .dataframe thead th {\n",
       "        text-align: right;\n",
       "    }\n",
       "</style>\n",
       "<table border=\"1\" class=\"dataframe\">\n",
       "  <thead>\n",
       "    <tr style=\"text-align: right;\">\n",
       "      <th></th>\n",
       "      <th>sales</th>\n",
       "    </tr>\n",
       "  </thead>\n",
       "  <tbody>\n",
       "    <tr>\n",
       "      <th>count</th>\n",
       "      <td>5.000000</td>\n",
       "    </tr>\n",
       "    <tr>\n",
       "      <th>mean</th>\n",
       "      <td>3.000000</td>\n",
       "    </tr>\n",
       "    <tr>\n",
       "      <th>std</th>\n",
       "      <td>1.581139</td>\n",
       "    </tr>\n",
       "    <tr>\n",
       "      <th>min</th>\n",
       "      <td>1.000000</td>\n",
       "    </tr>\n",
       "    <tr>\n",
       "      <th>25%</th>\n",
       "      <td>2.000000</td>\n",
       "    </tr>\n",
       "    <tr>\n",
       "      <th>50%</th>\n",
       "      <td>3.000000</td>\n",
       "    </tr>\n",
       "    <tr>\n",
       "      <th>75%</th>\n",
       "      <td>4.000000</td>\n",
       "    </tr>\n",
       "    <tr>\n",
       "      <th>max</th>\n",
       "      <td>5.000000</td>\n",
       "    </tr>\n",
       "  </tbody>\n",
       "</table>\n",
       "</div>"
      ],
      "text/plain": [
       "          sales\n",
       "count  5.000000\n",
       "mean   3.000000\n",
       "std    1.581139\n",
       "min    1.000000\n",
       "25%    2.000000\n",
       "50%    3.000000\n",
       "75%    4.000000\n",
       "max    5.000000"
      ]
     },
     "execution_count": 29,
     "metadata": {},
     "output_type": "execute_result"
    }
   ],
   "source": [
    "# dataの集計処理を行います。DataFrameクラスがもつdescribe()関数を使います。\n",
    "# 売り上げデータの、サンプルサイズ・平均・標準偏差（不偏分散の平方根）・\n",
    "# 最小・第1四分位点・中央値・第3四分位点・最大値が一気に計算されます。\n",
    "sales_data.describe()"
   ]
  },
  {
   "cell_type": "markdown",
   "metadata": {},
   "source": [
    "<p>\n",
    "    Pythonあるいはライブラリが用意してくれた便利なクラス・関数を使うことで、<br>\n",
    "    ほとんどコードを書くことなく、数行で簡単な集計処理が終わってしまいます。\n",
    "</p>\n",
    "\n",
    "\n",
    "<p>\n",
    "    Pythonによるデータ分析のイメージはつかめましたか？<br>\n",
    "    ここまでで、一度質問を受け付けます。\n",
    "</p>"
   ]
  },
  {
   "cell_type": "markdown",
   "metadata": {},
   "source": [
    "***\n",
    "## 9．numpyとpandas\n",
    "<p>\n",
    "    先ほどはデータをファイルから読み込みましたが、今度は自分でデータを作ってみましょう。<br>\n",
    "    numpyというライブラリのndarrayというクラスを使うことで、様々なデータを簡単に作成することができます。<br>\n",
    "    ndarrayをpandasのDataFrameにまとめることもできます。\n",
    "</p>"
   ]
  },
  {
   "cell_type": "code",
   "execution_count": 30,
   "metadata": {},
   "outputs": [],
   "source": [
    "# 数値計算に使うライブラリ\n",
    "import numpy as np\n",
    "import pandas as pd"
   ]
  },
  {
   "cell_type": "code",
   "execution_count": 31,
   "metadata": {},
   "outputs": [
    {
     "data": {
      "text/plain": [
       "array([1, 2, 3, 4, 5])"
      ]
     },
     "execution_count": 31,
     "metadata": {},
     "output_type": "execute_result"
    }
   ],
   "source": [
    "# 複数の数値をまとめたndarray\n",
    "data = np.array([1,2,3,4,5])\n",
    "data"
   ]
  },
  {
   "cell_type": "code",
   "execution_count": 32,
   "metadata": {},
   "outputs": [
    {
     "data": {
      "text/plain": [
       "5"
      ]
     },
     "execution_count": 32,
     "metadata": {},
     "output_type": "execute_result"
    }
   ],
   "source": [
    "# サンプルサイズ\n",
    "len(data)"
   ]
  },
  {
   "cell_type": "code",
   "execution_count": 33,
   "metadata": {},
   "outputs": [
    {
     "data": {
      "text/plain": [
       "array([1, 2, 3, 4, 5, 6, 7, 8, 9])"
      ]
     },
     "execution_count": 33,
     "metadata": {},
     "output_type": "execute_result"
    }
   ],
   "source": [
    "# 1~9までの等差数列の作成\n",
    "# ここでは紹介しませんが、データを生成する様々な関数がnumpyには用意されています。\n",
    "np.arange(start = 1, stop = 10, step = 1)"
   ]
  },
  {
   "cell_type": "code",
   "execution_count": 34,
   "metadata": {},
   "outputs": [
    {
     "data": {
      "text/html": [
       "<div>\n",
       "<style scoped>\n",
       "    .dataframe tbody tr th:only-of-type {\n",
       "        vertical-align: middle;\n",
       "    }\n",
       "\n",
       "    .dataframe tbody tr th {\n",
       "        vertical-align: top;\n",
       "    }\n",
       "\n",
       "    .dataframe thead th {\n",
       "        text-align: right;\n",
       "    }\n",
       "</style>\n",
       "<table border=\"1\" class=\"dataframe\">\n",
       "  <thead>\n",
       "    <tr style=\"text-align: right;\">\n",
       "      <th></th>\n",
       "      <th>column1</th>\n",
       "      <th>column2</th>\n",
       "    </tr>\n",
       "  </thead>\n",
       "  <tbody>\n",
       "    <tr>\n",
       "      <th>0</th>\n",
       "      <td>1</td>\n",
       "      <td>A</td>\n",
       "    </tr>\n",
       "    <tr>\n",
       "      <th>1</th>\n",
       "      <td>2</td>\n",
       "      <td>A</td>\n",
       "    </tr>\n",
       "    <tr>\n",
       "      <th>2</th>\n",
       "      <td>3</td>\n",
       "      <td>B</td>\n",
       "    </tr>\n",
       "    <tr>\n",
       "      <th>3</th>\n",
       "      <td>4</td>\n",
       "      <td>B</td>\n",
       "    </tr>\n",
       "    <tr>\n",
       "      <th>4</th>\n",
       "      <td>5</td>\n",
       "      <td>C</td>\n",
       "    </tr>\n",
       "  </tbody>\n",
       "</table>\n",
       "</div>"
      ],
      "text/plain": [
       "   column1 column2\n",
       "0        1       A\n",
       "1        2       A\n",
       "2        3       B\n",
       "3        4       B\n",
       "4        5       C"
      ]
     },
     "execution_count": 34,
     "metadata": {},
     "output_type": "execute_result"
    }
   ],
   "source": [
    "# numpyのndarrayをDataFrameにまとめます\n",
    "data_1 = np.array([1, 2, 3, 4, 5])\n",
    "index_1 = np.array([\"A\", \"A\", \"B\", \"B\", \"C\"])\n",
    "\n",
    "# DataFrameの作成\n",
    "df = pd.DataFrame({\n",
    "    \"column1\":data_1,\n",
    "    \"column2\":index_1\n",
    "})\n",
    "\n",
    "# 結果の表示\n",
    "df"
   ]
  },
  {
   "cell_type": "markdown",
   "metadata": {},
   "source": [
    "***\n",
    "## 10．DataFrameにおけるデータの抽出\n",
    "<p>\n",
    "    データの抽出は、分析をする際の重要な作業ですが、やや手間がかかります。<br>\n",
    "    整然データならば、データの抽出をする手間が省けることがあります。<br>\n",
    "    ここでは、ごく初歩的なDataFrameにおけるデータの抽出処理を学びます。\n",
    "</p>"
   ]
  },
  {
   "cell_type": "code",
   "execution_count": 35,
   "metadata": {},
   "outputs": [
    {
     "data": {
      "text/plain": [
       "0    1\n",
       "1    2\n",
       "2    3\n",
       "3    4\n",
       "4    5\n",
       "Name: column1, dtype: int32"
      ]
     },
     "execution_count": 35,
     "metadata": {},
     "output_type": "execute_result"
    }
   ],
   "source": [
    "# DataFrameの1列だけを取り出すと、arrayのように使えます\n",
    "# これをSeries型のデータと呼びます。\n",
    "df.column1"
   ]
  },
  {
   "cell_type": "code",
   "execution_count": 36,
   "metadata": {},
   "outputs": [
    {
     "data": {
      "text/html": [
       "<div>\n",
       "<style scoped>\n",
       "    .dataframe tbody tr th:only-of-type {\n",
       "        vertical-align: middle;\n",
       "    }\n",
       "\n",
       "    .dataframe tbody tr th {\n",
       "        vertical-align: top;\n",
       "    }\n",
       "\n",
       "    .dataframe thead th {\n",
       "        text-align: right;\n",
       "    }\n",
       "</style>\n",
       "<table border=\"1\" class=\"dataframe\">\n",
       "  <thead>\n",
       "    <tr style=\"text-align: right;\">\n",
       "      <th></th>\n",
       "      <th>column1</th>\n",
       "      <th>column2</th>\n",
       "    </tr>\n",
       "  </thead>\n",
       "  <tbody>\n",
       "    <tr>\n",
       "      <th>0</th>\n",
       "      <td>1</td>\n",
       "      <td>A</td>\n",
       "    </tr>\n",
       "    <tr>\n",
       "      <th>1</th>\n",
       "      <td>2</td>\n",
       "      <td>A</td>\n",
       "    </tr>\n",
       "    <tr>\n",
       "      <th>2</th>\n",
       "      <td>3</td>\n",
       "      <td>B</td>\n",
       "    </tr>\n",
       "  </tbody>\n",
       "</table>\n",
       "</div>"
      ],
      "text/plain": [
       "   column1 column2\n",
       "0        1       A\n",
       "1        2       A\n",
       "2        3       B"
      ]
     },
     "execution_count": 36,
     "metadata": {},
     "output_type": "execute_result"
    }
   ],
   "source": [
    "# 先頭行を抽出\n",
    "df.head(n = 3)"
   ]
  },
  {
   "cell_type": "code",
   "execution_count": 37,
   "metadata": {},
   "outputs": [
    {
     "data": {
      "text/html": [
       "<div>\n",
       "<style scoped>\n",
       "    .dataframe tbody tr th:only-of-type {\n",
       "        vertical-align: middle;\n",
       "    }\n",
       "\n",
       "    .dataframe tbody tr th {\n",
       "        vertical-align: top;\n",
       "    }\n",
       "\n",
       "    .dataframe thead th {\n",
       "        text-align: right;\n",
       "    }\n",
       "</style>\n",
       "<table border=\"1\" class=\"dataframe\">\n",
       "  <thead>\n",
       "    <tr style=\"text-align: right;\">\n",
       "      <th></th>\n",
       "      <th>column1</th>\n",
       "      <th>column2</th>\n",
       "    </tr>\n",
       "  </thead>\n",
       "  <tbody>\n",
       "    <tr>\n",
       "      <th>0</th>\n",
       "      <td>1</td>\n",
       "      <td>A</td>\n",
       "    </tr>\n",
       "    <tr>\n",
       "      <th>1</th>\n",
       "      <td>2</td>\n",
       "      <td>A</td>\n",
       "    </tr>\n",
       "  </tbody>\n",
       "</table>\n",
       "</div>"
      ],
      "text/plain": [
       "   column1 column2\n",
       "0        1       A\n",
       "1        2       A"
      ]
     },
     "execution_count": 37,
     "metadata": {},
     "output_type": "execute_result"
    }
   ],
   "source": [
    "# column2がAのデータのみを抽出\n",
    "df.query('column2 == \"A\"')"
   ]
  },
  {
   "cell_type": "code",
   "execution_count": 38,
   "metadata": {},
   "outputs": [
    {
     "data": {
      "text/html": [
       "<div>\n",
       "<style scoped>\n",
       "    .dataframe tbody tr th:only-of-type {\n",
       "        vertical-align: middle;\n",
       "    }\n",
       "\n",
       "    .dataframe tbody tr th {\n",
       "        vertical-align: top;\n",
       "    }\n",
       "\n",
       "    .dataframe thead th {\n",
       "        text-align: right;\n",
       "    }\n",
       "</style>\n",
       "<table border=\"1\" class=\"dataframe\">\n",
       "  <thead>\n",
       "    <tr style=\"text-align: right;\">\n",
       "      <th></th>\n",
       "      <th>column1</th>\n",
       "      <th>column2</th>\n",
       "    </tr>\n",
       "  </thead>\n",
       "  <tbody>\n",
       "    <tr>\n",
       "      <th>0</th>\n",
       "      <td>1</td>\n",
       "      <td>A</td>\n",
       "    </tr>\n",
       "    <tr>\n",
       "      <th>1</th>\n",
       "      <td>2</td>\n",
       "      <td>A</td>\n",
       "    </tr>\n",
       "    <tr>\n",
       "      <th>4</th>\n",
       "      <td>5</td>\n",
       "      <td>C</td>\n",
       "    </tr>\n",
       "  </tbody>\n",
       "</table>\n",
       "</div>"
      ],
      "text/plain": [
       "   column1 column2\n",
       "0        1       A\n",
       "1        2       A\n",
       "4        5       C"
      ]
     },
     "execution_count": 38,
     "metadata": {},
     "output_type": "execute_result"
    }
   ],
   "source": [
    "# column2がAまたはCのデータのみを抽出\n",
    "df.query('column2 == \"A\" | column2 == \"C\"')"
   ]
  },
  {
   "cell_type": "code",
   "execution_count": 39,
   "metadata": {},
   "outputs": [
    {
     "data": {
      "text/html": [
       "<div>\n",
       "<style scoped>\n",
       "    .dataframe tbody tr th:only-of-type {\n",
       "        vertical-align: middle;\n",
       "    }\n",
       "\n",
       "    .dataframe tbody tr th {\n",
       "        vertical-align: top;\n",
       "    }\n",
       "\n",
       "    .dataframe thead th {\n",
       "        text-align: right;\n",
       "    }\n",
       "</style>\n",
       "<table border=\"1\" class=\"dataframe\">\n",
       "  <thead>\n",
       "    <tr style=\"text-align: right;\">\n",
       "      <th></th>\n",
       "      <th>column1</th>\n",
       "      <th>column2</th>\n",
       "    </tr>\n",
       "  </thead>\n",
       "  <tbody>\n",
       "    <tr>\n",
       "      <th>1</th>\n",
       "      <td>2</td>\n",
       "      <td>A</td>\n",
       "    </tr>\n",
       "  </tbody>\n",
       "</table>\n",
       "</div>"
      ],
      "text/plain": [
       "   column1 column2\n",
       "1        2       A"
      ]
     },
     "execution_count": 39,
     "metadata": {},
     "output_type": "execute_result"
    }
   ],
   "source": [
    "# column1が2かつ、column2がAのデータのみを抽出\n",
    "df.query('column1 == 2 & column2 == \"A\"')"
   ]
  },
  {
   "cell_type": "markdown",
   "metadata": {
    "collapsed": true
   },
   "source": [
    "***\n",
    "## 11．scipyによる統計処理\n",
    "<p>\n",
    "   scipyは様々なデータ分析用の関数を提供してくれるライブラリです。<br>\n",
    "    詳しくは実際に分析を行う際に説明しますが、分析用関数の例をいくつか紹介します。\n",
    "</p>"
   ]
  },
  {
   "cell_type": "code",
   "execution_count": 40,
   "metadata": {},
   "outputs": [],
   "source": [
    "# ライブラリの読み込み\n",
    "import scipy as sp\n",
    "from scipy import stats"
   ]
  },
  {
   "cell_type": "code",
   "execution_count": 41,
   "metadata": {},
   "outputs": [
    {
     "data": {
      "text/plain": [
       "array([1, 2, 3, 4, 5])"
      ]
     },
     "execution_count": 41,
     "metadata": {},
     "output_type": "execute_result"
    }
   ],
   "source": [
    "# データの用意\n",
    "sample_data = np.array([1,2,3,4,5])\n",
    "sample_data"
   ]
  },
  {
   "cell_type": "code",
   "execution_count": 42,
   "metadata": {},
   "outputs": [
    {
     "data": {
      "text/plain": [
       "2.5"
      ]
     },
     "execution_count": 42,
     "metadata": {},
     "output_type": "execute_result"
    }
   ],
   "source": [
    "# 不偏分散の計算\n",
    "sp.var(sample_data, ddof = 1)"
   ]
  },
  {
   "cell_type": "code",
   "execution_count": 43,
   "metadata": {},
   "outputs": [
    {
     "data": {
      "text/plain": [
       "1.5811388300841898"
      ]
     },
     "execution_count": 43,
     "metadata": {},
     "output_type": "execute_result"
    }
   ],
   "source": [
    "# 標準偏差の計算\n",
    "sp.std(sample_data, ddof = 1)"
   ]
  },
  {
   "cell_type": "code",
   "execution_count": 44,
   "metadata": {},
   "outputs": [
    {
     "data": {
      "text/plain": [
       "0.7071067811865476"
      ]
     },
     "execution_count": 44,
     "metadata": {},
     "output_type": "execute_result"
    }
   ],
   "source": [
    "# 標準誤差の計算１\n",
    "\n",
    "# 不偏分散\n",
    "var = sp.var(sample_data, ddof = 1)\n",
    "\n",
    "# サンプルサイズ\n",
    "N = len(sample_data)\n",
    "\n",
    "# 標準誤差\n",
    "standard_error = sp.sqrt(var / N)\n",
    "standard_error"
   ]
  },
  {
   "cell_type": "code",
   "execution_count": 45,
   "metadata": {},
   "outputs": [
    {
     "data": {
      "text/plain": [
       "0.7071067811865476"
      ]
     },
     "execution_count": 45,
     "metadata": {},
     "output_type": "execute_result"
    }
   ],
   "source": [
    "# 標準誤差の計算２\n",
    "# scipyの中のさらにstatsという機能群（モジュール）を使います。\n",
    "stats.sem(sample_data)"
   ]
  },
  {
   "cell_type": "markdown",
   "metadata": {},
   "source": [
    "***\n",
    "## 12．if分岐\n",
    "\n",
    "<p>\n",
    "    条件に応じて結果を変える場合には、if構文を使います。<br>\n",
    "    皆さんに実装してもらうことはありませんが、シミュレーションをする際に活用します。\n",
    "</p>"
   ]
  },
  {
   "cell_type": "code",
   "execution_count": 46,
   "metadata": {},
   "outputs": [
    {
     "name": "stdout",
     "output_type": "stream",
     "text": [
      "2より小さいデータです\n"
     ]
    }
   ],
   "source": [
    "data = 1\n",
    "\n",
    "if(data < 2):\n",
    "    print(\"2より小さいデータです\")\n",
    "else:\n",
    "    print(\"2以上のデータです\")"
   ]
  },
  {
   "cell_type": "code",
   "execution_count": 47,
   "metadata": {},
   "outputs": [
    {
     "name": "stdout",
     "output_type": "stream",
     "text": [
      "2以上のデータです\n"
     ]
    }
   ],
   "source": [
    "data = 3\n",
    "\n",
    "if(data < 2):\n",
    "    print(\"2より小さいデータです\")\n",
    "else:\n",
    "    print(\"2以上のデータです\")"
   ]
  },
  {
   "cell_type": "markdown",
   "metadata": {},
   "source": [
    "***\n",
    "## 13．forループ\n",
    "\n",
    "<p>\n",
    "    似たような処理を連続で繰り返すときにはforループという構文を使います。<br>\n",
    "    皆さんに実装してもらうことはありませんが、シミュレーションをする際に活用します。\n",
    "</p>"
   ]
  },
  {
   "cell_type": "code",
   "execution_count": 48,
   "metadata": {},
   "outputs": [
    {
     "name": "stdout",
     "output_type": "stream",
     "text": [
      "0\n",
      "1\n",
      "2\n"
     ]
    }
   ],
   "source": [
    "# iを0,1,2と「0始まりで3つの幅」で変化させて、iを出力\n",
    "for i in range(0, 3):\n",
    "    print(i)"
   ]
  },
  {
   "cell_type": "code",
   "execution_count": 49,
   "metadata": {},
   "outputs": [
    {
     "name": "stdout",
     "output_type": "stream",
     "text": [
      "3\n",
      "6\n",
      "9\n"
     ]
    }
   ],
   "source": [
    "# iを3,6,9と「3始まりで10まで、3つずつ増やす」で変化させて、iを出力\n",
    "for i in range(3, 10, 3):\n",
    "    print(i)"
   ]
  },
  {
   "cell_type": "code",
   "execution_count": 50,
   "metadata": {
    "scrolled": false
   },
   "outputs": [
    {
     "name": "stdout",
     "output_type": "stream",
     "text": [
      "A\n",
      "A\n",
      "A\n",
      "A\n",
      "A\n"
     ]
    }
   ],
   "source": [
    "# Aという文字列を5回出力\n",
    "for i in range(0,5):\n",
    "    print(\"A\")"
   ]
  },
  {
   "cell_type": "code",
   "execution_count": 51,
   "metadata": {},
   "outputs": [
    {
     "name": "stdout",
     "output_type": "stream",
     "text": [
      "A\n",
      "A\n",
      "A\n",
      "A\n",
      "A\n"
     ]
    }
   ],
   "source": [
    "# 以下の結果と同じ\n",
    "print(\"A\")\n",
    "print(\"A\")\n",
    "print(\"A\")\n",
    "print(\"A\")\n",
    "print(\"A\")"
   ]
  },
  {
   "cell_type": "markdown",
   "metadata": {},
   "source": [
    "<p>\n",
    "    Pythonによるプログラミングのイメージはつかめましたか？<br>\n",
    "    ここまでで、一度質問を受け付けます。\n",
    "</p>"
   ]
  }
 ],
 "metadata": {
  "kernelspec": {
   "display_name": "Python 3",
   "language": "python",
   "name": "python3"
  },
  "language_info": {
   "codemirror_mode": {
    "name": "ipython",
    "version": 3
   },
   "file_extension": ".py",
   "mimetype": "text/x-python",
   "name": "python",
   "nbconvert_exporter": "python",
   "pygments_lexer": "ipython3",
   "version": "3.7.1"
  }
 },
 "nbformat": 4,
 "nbformat_minor": 2
}
