{
 "cells": [
  {
   "cell_type": "code",
   "execution_count": 1,
   "metadata": {},
   "outputs": [],
   "source": [
    "# 数値計算に使うライブラリ\n",
    "import numpy as np\n",
    "import pandas as pd\n",
    "import scipy as sp\n",
    "\n",
    "# 回帰モデルを含めた統計モデルを推定するライブラリ\n",
    "import statsmodels.formula.api as smf\n",
    "import statsmodels.api as sm\n",
    "\n",
    "# グラフを描画するライブラリ\n",
    "from matplotlib import pyplot as plt\n",
    "import seaborn as sns\n",
    "sns.set()\n",
    "\n",
    "# 表示桁数の指定\n",
    "%precision 3\n",
    "# グラフをjupyter Notebook内に表示させるための指定\n",
    "%matplotlib inline\n",
    "\n",
    "# 不要なワーニングを出力させない\n",
    "import warnings\n",
    "warnings.simplefilter(action='ignore', category=FutureWarning)"
   ]
  },
  {
   "cell_type": "code",
   "execution_count": 2,
   "metadata": {},
   "outputs": [
    {
     "data": {
      "text/html": [
       "<div>\n",
       "<style scoped>\n",
       "    .dataframe tbody tr th:only-of-type {\n",
       "        vertical-align: middle;\n",
       "    }\n",
       "\n",
       "    .dataframe tbody tr th {\n",
       "        vertical-align: top;\n",
       "    }\n",
       "\n",
       "    .dataframe thead th {\n",
       "        text-align: right;\n",
       "    }\n",
       "</style>\n",
       "<table border=\"1\" class=\"dataframe\">\n",
       "  <thead>\n",
       "    <tr style=\"text-align: right;\">\n",
       "      <th></th>\n",
       "      <th>length</th>\n",
       "      <th>species</th>\n",
       "    </tr>\n",
       "  </thead>\n",
       "  <tbody>\n",
       "    <tr>\n",
       "      <th>0</th>\n",
       "      <td>16.5</td>\n",
       "      <td>A</td>\n",
       "    </tr>\n",
       "    <tr>\n",
       "      <th>1</th>\n",
       "      <td>7.6</td>\n",
       "      <td>A</td>\n",
       "    </tr>\n",
       "    <tr>\n",
       "      <th>2</th>\n",
       "      <td>7.9</td>\n",
       "      <td>A</td>\n",
       "    </tr>\n",
       "    <tr>\n",
       "      <th>3</th>\n",
       "      <td>5.7</td>\n",
       "      <td>A</td>\n",
       "    </tr>\n",
       "    <tr>\n",
       "      <th>4</th>\n",
       "      <td>13.5</td>\n",
       "      <td>A</td>\n",
       "    </tr>\n",
       "  </tbody>\n",
       "</table>\n",
       "</div>"
      ],
      "text/plain": [
       "   length species\n",
       "0    16.5       A\n",
       "1     7.6       A\n",
       "2     7.9       A\n",
       "3     5.7       A\n",
       "4    13.5       A"
      ]
     },
     "execution_count": 2,
     "metadata": {},
     "output_type": "execute_result"
    }
   ],
   "source": [
    "# データの読み込み\n",
    "fish_data = pd.read_csv(\"fish_length.csv\")\n",
    "fish_data.head()"
   ]
  },
  {
   "cell_type": "code",
   "execution_count": 3,
   "metadata": {},
   "outputs": [
    {
     "data": {
      "text/html": [
       "<div>\n",
       "<style scoped>\n",
       "    .dataframe tbody tr th:only-of-type {\n",
       "        vertical-align: middle;\n",
       "    }\n",
       "\n",
       "    .dataframe tbody tr th {\n",
       "        vertical-align: top;\n",
       "    }\n",
       "\n",
       "    .dataframe thead tr th {\n",
       "        text-align: left;\n",
       "    }\n",
       "\n",
       "    .dataframe thead tr:last-of-type th {\n",
       "        text-align: right;\n",
       "    }\n",
       "</style>\n",
       "<table border=\"1\" class=\"dataframe\">\n",
       "  <thead>\n",
       "    <tr>\n",
       "      <th></th>\n",
       "      <th colspan=\"8\" halign=\"left\">length</th>\n",
       "    </tr>\n",
       "    <tr>\n",
       "      <th></th>\n",
       "      <th>count</th>\n",
       "      <th>mean</th>\n",
       "      <th>std</th>\n",
       "      <th>min</th>\n",
       "      <th>25%</th>\n",
       "      <th>50%</th>\n",
       "      <th>75%</th>\n",
       "      <th>max</th>\n",
       "    </tr>\n",
       "    <tr>\n",
       "      <th>species</th>\n",
       "      <th></th>\n",
       "      <th></th>\n",
       "      <th></th>\n",
       "      <th></th>\n",
       "      <th></th>\n",
       "      <th></th>\n",
       "      <th></th>\n",
       "      <th></th>\n",
       "    </tr>\n",
       "  </thead>\n",
       "  <tbody>\n",
       "    <tr>\n",
       "      <th>A</th>\n",
       "      <td>100.0</td>\n",
       "      <td>10.240</td>\n",
       "      <td>3.555988</td>\n",
       "      <td>0.8</td>\n",
       "      <td>7.575</td>\n",
       "      <td>10.25</td>\n",
       "      <td>12.575</td>\n",
       "      <td>18.7</td>\n",
       "    </tr>\n",
       "    <tr>\n",
       "      <th>B</th>\n",
       "      <td>100.0</td>\n",
       "      <td>15.615</td>\n",
       "      <td>3.745067</td>\n",
       "      <td>5.3</td>\n",
       "      <td>13.800</td>\n",
       "      <td>15.95</td>\n",
       "      <td>18.000</td>\n",
       "      <td>25.1</td>\n",
       "    </tr>\n",
       "  </tbody>\n",
       "</table>\n",
       "</div>"
      ],
      "text/plain": [
       "        length                                                    \n",
       "         count    mean       std  min     25%    50%     75%   max\n",
       "species                                                           \n",
       "A        100.0  10.240  3.555988  0.8   7.575  10.25  12.575  18.7\n",
       "B        100.0  15.615  3.745067  5.3  13.800  15.95  18.000  25.1"
      ]
     },
     "execution_count": 3,
     "metadata": {},
     "output_type": "execute_result"
    }
   ],
   "source": [
    "# 魚の種類別でグループを作る\n",
    "group = fish_data.groupby(\"species\")\n",
    "# 平均値や標準偏差・四分位点などをまとめて出力\n",
    "group.describe()"
   ]
  },
  {
   "cell_type": "code",
   "execution_count": 4,
   "metadata": {},
   "outputs": [
    {
     "data": {
      "text/html": [
       "<div>\n",
       "<style scoped>\n",
       "    .dataframe tbody tr th:only-of-type {\n",
       "        vertical-align: middle;\n",
       "    }\n",
       "\n",
       "    .dataframe tbody tr th {\n",
       "        vertical-align: top;\n",
       "    }\n",
       "\n",
       "    .dataframe thead tr th {\n",
       "        text-align: left;\n",
       "    }\n",
       "\n",
       "    .dataframe thead tr:last-of-type th {\n",
       "        text-align: right;\n",
       "    }\n",
       "</style>\n",
       "<table border=\"1\" class=\"dataframe\">\n",
       "  <thead>\n",
       "    <tr>\n",
       "      <th></th>\n",
       "      <th colspan=\"3\" halign=\"left\">length</th>\n",
       "    </tr>\n",
       "    <tr>\n",
       "      <th></th>\n",
       "      <th>mean</th>\n",
       "      <th>std</th>\n",
       "      <th>sem</th>\n",
       "    </tr>\n",
       "    <tr>\n",
       "      <th>species</th>\n",
       "      <th></th>\n",
       "      <th></th>\n",
       "      <th></th>\n",
       "    </tr>\n",
       "  </thead>\n",
       "  <tbody>\n",
       "    <tr>\n",
       "      <th>A</th>\n",
       "      <td>10.240</td>\n",
       "      <td>3.555988</td>\n",
       "      <td>0.355599</td>\n",
       "    </tr>\n",
       "    <tr>\n",
       "      <th>B</th>\n",
       "      <td>15.615</td>\n",
       "      <td>3.745067</td>\n",
       "      <td>0.374507</td>\n",
       "    </tr>\n",
       "  </tbody>\n",
       "</table>\n",
       "</div>"
      ],
      "text/plain": [
       "         length                    \n",
       "           mean       std       sem\n",
       "species                            \n",
       "A        10.240  3.555988  0.355599\n",
       "B        15.615  3.745067  0.374507"
      ]
     },
     "execution_count": 4,
     "metadata": {},
     "output_type": "execute_result"
    }
   ],
   "source": [
    "group.agg([sp.mean, sp.std, sp.stats.sem])"
   ]
  },
  {
   "cell_type": "code",
   "execution_count": 5,
   "metadata": {},
   "outputs": [
    {
     "data": {
      "text/plain": [
       "<matplotlib.axes._subplots.AxesSubplot at 0x19cdf7a8c50>"
      ]
     },
     "execution_count": 5,
     "metadata": {},
     "output_type": "execute_result"
    },
    {
     "data": {
      "image/png": "[encoded data removed]",
      "text/plain": [
       "<Figure size 432x288 with 1 Axes>"
      ]
     },
     "metadata": {},
     "output_type": "display_data"
    }
   ],
   "source": [
    "# 棒グラフ\n",
    "# 平均値＋標準誤差の2つの情報を図示\n",
    "sns.barplot(x = \"species\", y  = \"length\", data = fish_data)"
   ]
  },
  {
   "cell_type": "code",
   "execution_count": 6,
   "metadata": {},
   "outputs": [
    {
     "ename": "TypeError",
     "evalue": "__init__() got an unexpected keyword argument 'height'",
     "output_type": "error",
     "traceback": [
      "\u001b[1;31m---------------------------------------------------------------------------\u001b[0m",
      "\u001b[1;31mTypeError\u001b[0m                                 Traceback (most recent call last)",
      "\u001b[1;32m<ipython-input-6-828a80326b82>\u001b[0m in \u001b[0;36m<module>\u001b[1;34m()\u001b[0m\n\u001b[0;32m      3\u001b[0m g = sns.FacetGrid(fish_data,         # 対象データ\n\u001b[0;32m      4\u001b[0m                   \u001b[0mcol\u001b[0m \u001b[1;33m=\u001b[0m \u001b[1;34m\"species\"\u001b[0m\u001b[1;33m,\u001b[0m   \u001b[1;31m# speciesで列を分ける。rowなら行で分ける。\u001b[0m\u001b[1;33m\u001b[0m\u001b[0m\n\u001b[1;32m----> 5\u001b[1;33m                   height = 4)        # グラフの大きさ\n\u001b[0m\u001b[0;32m      6\u001b[0m \u001b[1;33m\u001b[0m\u001b[0m\n\u001b[0;32m      7\u001b[0m \u001b[1;31m# lengthのヒストグラムを描く\u001b[0m\u001b[1;33m\u001b[0m\u001b[1;33m\u001b[0m\u001b[0m\n",
      "\u001b[1;31mTypeError\u001b[0m: __init__() got an unexpected keyword argument 'height'"
     ]
    }
   ],
   "source": [
    "# 魚種別ヒストグラム\n",
    "# speciesを対象に、グラフを2列に分ける。\n",
    "g = sns.FacetGrid(fish_data,         # 対象データ\n",
    "                  col = \"species\",   # speciesで列を分ける。rowなら行で分ける。\n",
    "                  height = 4)        # グラフの大きさ\n",
    "\n",
    "# lengthのヒストグラムを描く\n",
    "g.map(sns.distplot, \"length\")"
   ]
  },
  {
   "cell_type": "code",
   "execution_count": null,
   "metadata": {},
   "outputs": [],
   "source": [
    "\n",
    "# 魚種別ヒストグラム\n",
    "# speciesを対象に、グラフを色分けする\n",
    "g = sns.FacetGrid(fish_data,         # 対象データ\n",
    "                  hue = \"species\",   # speciesで色を分ける\n",
    "                  height = 5)        # グラフの大きさ\n",
    "\n",
    "# lengthのヒストグラムを描く\n",
    "g.map(sns.distplot, \"length\")\n",
    "\n",
    "# 凡例を追加\n",
    "g.add_legend()"
   ]
  },
  {
   "cell_type": "code",
   "execution_count": null,
   "metadata": {},
   "outputs": [],
   "source": [
    "# seaborn組み込みのアヤメのデータを取得\n",
    "iris = sns.load_dataset(\"iris\")\n",
    "iris.head(n = 3)"
   ]
  },
  {
   "cell_type": "code",
   "execution_count": null,
   "metadata": {},
   "outputs": [],
   "source": [
    "# ペアプロット\n",
    "sns.pairplot(iris, hue=\"species\")"
   ]
  },
  {
   "cell_type": "code",
   "execution_count": null,
   "metadata": {
    "scrolled": true
   },
   "outputs": [],
   "source": [
    "fish_a = fish_data.query('species == \"A\"').length\n",
    "fish_b = fish_data.query('species == \"B\"').length\n"
   ]
  },
  {
   "cell_type": "code",
   "execution_count": null,
   "metadata": {},
   "outputs": [],
   "source": [
    "sp.stats.ttest_ind(fish_a, fish_b, equal_var = False)"
   ]
  },
  {
   "cell_type": "code",
   "execution_count": null,
   "metadata": {},
   "outputs": [],
   "source": [
    "# 自由度\n",
    "df = len(fish_a) - 1\n",
    "df"
   ]
  },
  {
   "cell_type": "code",
   "execution_count": null,
   "metadata": {},
   "outputs": [],
   "source": [
    "# 標準誤差\n",
    "se = sp.stats.sem(fish_a)\n",
    "se\n",
    "\n",
    "mu = sp.mean(fish_a)"
   ]
  },
  {
   "cell_type": "code",
   "execution_count": null,
   "metadata": {},
   "outputs": [],
   "source": [
    "# 区間推定\n",
    "interval = sp.stats.t.interval(\n",
    "    alpha = 0.95, df = df, loc = mu, scale = se)\n",
    "interval"
   ]
  },
  {
   "cell_type": "code",
   "execution_count": null,
   "metadata": {},
   "outputs": [],
   "source": [
    "# 支持する人1万人、不支持の人1万人を作る\n",
    "population = np.tile([0,1], 10000)\n",
    "# 500人を抜き出したときの支持率\n",
    "sample_500 = np.random.choice(population, size = 500, replace = False)\n",
    "sp.mean(sample_500)"
   ]
  },
  {
   "cell_type": "code",
   "execution_count": null,
   "metadata": {},
   "outputs": [],
   "source": [
    "# 50%で表になるコインを500回投げた時の、「表が出る回数」の確率分布\n",
    "\n",
    "# 200～300の範囲で「表が出る回数」を指定。\n",
    "m = np.arange(200,300,1)\n",
    "\n",
    "# 確率質量関数を使って、表が200回出る確率、201回出る確率……300回出る確率を各々計算する\n",
    "pmf_binomial = sp.stats.binom.pmf(n = 500, k = m, p = 0.5)\n",
    "\n",
    "# 確率質量関数の折れ線グラフ\n",
    "plt.plot(m, pmf_binomial, color = 'red', linewidth = 2)"
   ]
  },
  {
   "cell_type": "code",
   "execution_count": null,
   "metadata": {},
   "outputs": [],
   "source": [
    "# binom_test関数を使うと、もっと簡単に計算できる\n",
    "sp.stats.binom_test(x = 260, n = 500, p = 0.5, alternative = \"greater\")"
   ]
  },
  {
   "cell_type": "code",
   "execution_count": null,
   "metadata": {},
   "outputs": [],
   "source": [
    "# データの読み込み\n",
    "beer_data = pd.read_csv(\"beer.csv\")\n",
    "beer_data.head()"
   ]
  },
  {
   "cell_type": "code",
   "execution_count": null,
   "metadata": {},
   "outputs": [],
   "source": [
    "# 単回帰モデルの推定\n",
    "lm_model = smf.ols(formula = \"beer ~ temperature\", data = beer_data).fit()\n",
    "# 推定結果の表示\n",
    "print(lm_model.summary())"
   ]
  },
  {
   "cell_type": "code",
   "execution_count": null,
   "metadata": {},
   "outputs": [],
   "source": [
    "# 気温が0度の時の売り上げ予測\n",
    "lm_model.predict(pd.DataFrame({\"temperature\":[0]}))"
   ]
  },
  {
   "cell_type": "code",
   "execution_count": null,
   "metadata": {},
   "outputs": [],
   "source": [
    "# 上記の結果は、モデルの切片に一致します。\n",
    "lm_model.params"
   ]
  },
  {
   "cell_type": "code",
   "execution_count": null,
   "metadata": {},
   "outputs": [],
   "source": [
    "# 気温が10度の時の売り上げ平均値の95%信頼区間\n",
    "pred = lm_model.get_prediction(pd.DataFrame({\"temperature\":[10]}))\n",
    "pred.conf_int()"
   ]
  },
  {
   "cell_type": "code",
   "execution_count": null,
   "metadata": {},
   "outputs": [],
   "source": [
    "# 平均値や、信頼区間、予測区間(平均値の95%区間にさらにデータのばらつき（分散）を加味した範囲)を取得\n",
    "pred.summary_frame()"
   ]
  },
  {
   "cell_type": "code",
   "execution_count": null,
   "metadata": {},
   "outputs": [],
   "source": [
    "# seabornのlmplot関数を使うことで、簡単に回帰直線が描けます\n",
    "sns.lmplot(x = \"temperature\", y = \"beer\", data = beer_data)"
   ]
  },
  {
   "cell_type": "code",
   "execution_count": null,
   "metadata": {},
   "outputs": [],
   "source": [
    "# predictの結果を使って回帰直線を描く\n",
    "# 勉強のためのコードであって、あまり実用性はありません。\n",
    "# なるべくsns.lmplotを使うべきです。\n",
    "\n",
    "# グラフの大きさ\n",
    "plt.figure(figsize=(5, 5))\n",
    "\n",
    "# 散布図(元データ)\n",
    "plt.scatter(beer_data.temperature, beer_data.beer)\n",
    "\n",
    "# 折れ線グラフ(当てはめ値)\n",
    "plt.plot(beer_data.temperature, lm_model.predict())"
   ]
  },
  {
   "cell_type": "code",
   "execution_count": null,
   "metadata": {},
   "outputs": [],
   "source": [
    "# 気温が10度の時の売り上げ平均値の95%信頼区間\n",
    "pred_all = lm_model.get_prediction()\n",
    "pred_frame = pred_all.summary_frame()\n",
    "\n",
    "# 元のデータを付け加える\n",
    "pred_graph = pd.concat([beer_data, pred_frame], axis = 1)\n",
    "\n",
    "# 図示のためにソートする\n",
    "pred_graph_s = pred_graph.sort_values(\"temperature\")\n",
    "pred_graph_s.head()"
   ]
  },
  {
   "cell_type": "code",
   "execution_count": null,
   "metadata": {},
   "outputs": [],
   "source": [
    "# グラフの大きさ\n",
    "plt.figure(figsize=(5, 5))\n",
    "\n",
    "# 散布図(元データ)\n",
    "plt.scatter(pred_graph_s[\"temperature\"], pred_graph_s[\"beer\"], color = \"black\")\n",
    "\n",
    "# 折れ線グラフ(当てはめ値)\n",
    "plt.plot(pred_graph_s[\"temperature\"], pred_graph_s[\"mean\"], color = \"black\", linewidth = 3)\n",
    "\n",
    "# 下側信頼限界\n",
    "plt.plot(pred_graph_s[\"temperature\"], pred_graph_s[\"mean_ci_lower\"], color = \"blue\", ls=\"--\")\n",
    "\n",
    "# 下側信頼限界\n",
    "plt.plot(pred_graph_s[\"temperature\"], pred_graph_s[\"mean_ci_upper\"], color = \"blue\", ls=\"--\")\n",
    "\n",
    "# 下側予測限界\n",
    "plt.plot(pred_graph_s[\"temperature\"], pred_graph_s[\"obs_ci_lower\"], color = \"red\", ls=\"--\")\n",
    "\n",
    "# 下側予測限界\n",
    "plt.plot(pred_graph_s[\"temperature\"], pred_graph_s[\"obs_ci_upper\"], color = \"red\", ls=\"--\")"
   ]
  },
  {
   "cell_type": "code",
   "execution_count": null,
   "metadata": {},
   "outputs": [],
   "source": []
  }
 ],
 "metadata": {
  "kernelspec": {
   "display_name": "Python 3",
   "language": "python",
   "name": "python3"
  },
  "language_info": {
   "codemirror_mode": {
    "name": "ipython",
    "version": 3
   },
   "file_extension": ".py",
   "mimetype": "text/x-python",
   "name": "python",
   "nbconvert_exporter": "python",
   "pygments_lexer": "ipython3",
   "version": "3.6.5"
  }
 },
 "nbformat": 4,
 "nbformat_minor": 2
}
