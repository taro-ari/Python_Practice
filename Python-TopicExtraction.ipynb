{
 "cells": [
  {
   "cell_type": "markdown",
   "metadata": {},
   "source": [
    "# Latent Dirichlet Allocationによるトピック検出\n",
    "\n",
    "LDAを利用すると、自然言語からなる文章を入力し、\n",
    "欲する数のトピック（各トピックは複数の単語からなる）を生成することができます。\n",
    "\n",
    "ここでは、ロイターのニュース記事(訓練データのみ)を通して、どんなトピックが生成されるかを見て行きます。\n"
   ]
  },
  {
   "cell_type": "code",
   "execution_count": 1,
   "metadata": {},
   "outputs": [
    {
     "name": "stdout",
     "output_type": "stream",
     "text": [
      "Reuters data ready!\n"
     ]
    }
   ],
   "source": [
    "import os\n",
    "reuters_file = 'C:/nltk_data/corpora/ma_reuters.zip'\n",
    "file_yes = os.path.isfile(reuters_file)\n",
    "if file_yes:\n",
    "    print('Reuters data ready!')\n",
    "else:\n",
    "    print('ロイターニュースがNLTKにセットされていません')"
   ]
  },
  {
   "cell_type": "code",
   "execution_count": 2,
   "metadata": {},
   "outputs": [],
   "source": [
    "import numpy as np\n",
    "\n",
    "from nltk.corpus.util import LazyCorpusLoader\n",
    "from nltk.corpus.reader import *\n",
    "\n",
    "# ロイターのニュース記事をNLPパッケージを通してロードする\n",
    "ma_reuters = LazyCorpusLoader(\n",
    "    'ma_reuters', CategorizedPlaintextCorpusReader, '(training|test).*',\n",
    "    cat_file='cats.txt', encoding='ISO-8859-2')\n"
   ]
  },
  {
   "cell_type": "code",
   "execution_count": 3,
   "metadata": {},
   "outputs": [
    {
     "name": "stdout",
     "output_type": "stream",
     "text": [
      "10700 記事総数\n",
      "7713 訓練データ\n",
      "2987 テストデータ\n",
      "55  カテゴリー（トピック）\n",
      "['acq', 'alum', 'barley', 'bop', 'carcass', 'cocoa', 'coffee', 'copper', 'corn', 'cotton', 'cpi', 'crude', 'dlr', 'earn', 'fuel', 'gas', 'gnp', 'gold', 'grain', 'hog', 'housing', 'interest', 'ipi', 'iron-steel', 'jobs', 'lead', 'livestock', 'meal-feed', 'money-fx', 'money-supply', 'nat-gas', 'oilseed', 'orange', 'palm-oil', 'pet-chem', 'rapeseed', 'reserves', 'retail', 'rice', 'rubber', 'ship', 'silver', 'sorghum', 'soy-meal', 'soy-oil', 'soybean', 'strategic-metal', 'sugar', 'tin', 'trade', 'veg-oil', 'wheat', 'wpi', 'yen', 'zinc']\n"
     ]
    }
   ],
   "source": [
    "# Total number of documents\n",
    "documents = ma_reuters.fileids()\n",
    "print (str(len(documents)) + \" 記事総数\")\n",
    " \n",
    "train_docs = list(filter(lambda doc: doc.startswith(\"train\"), documents))\n",
    "print (str(len(train_docs)) + \" 訓練データ\")\n",
    " \n",
    "test_docs = list(filter(lambda doc: doc.startswith(\"test\"), documents))\n",
    "print (str(len(test_docs)) + \" テストデータ\")\n",
    " \n",
    "# List of categories\n",
    "categories = ma_reuters.categories()\n",
    "num_categories = len(categories)\n",
    "print (num_categories, \" カテゴリー（トピック）\")\n",
    "print (categories)"
   ]
  },
  {
   "cell_type": "code",
   "execution_count": 4,
   "metadata": {},
   "outputs": [
    {
     "name": "stdout",
     "output_type": "stream",
     "text": [
      "7713\n",
      "<class 'numpy.ndarray'> (7713,)\n"
     ]
    }
   ],
   "source": [
    "ma_list = []\n",
    "num_train = len(train_docs)\n",
    "for i in range(num_train):\n",
    "    ma_t = ma_reuters.raw(train_docs[i]) # 生テキストの抽出\n",
    "    ma_list.append(ma_t)\n",
    "\n",
    "print(len(ma_list))\n",
    "\n",
    "train_np = np.array(ma_list, dtype=object) ## テキストのNumpy配列に\n",
    "print(type(train_np), train_np.shape)"
   ]
  },
  {
   "cell_type": "code",
   "execution_count": 5,
   "metadata": {},
   "outputs": [],
   "source": [
    "vocab_size = 27000 # 語彙サイズの上限\n",
    "\n",
    "from sklearn.feature_extraction.text import CountVectorizer\n",
    "\n",
    "countVec = CountVectorizer(stop_words='english',\n",
    "                        max_df=.1,\n",
    "                        max_features=vocab_size) \n",
    "Y = countVec.fit_transform(train_np)\n"
   ]
  },
  {
   "cell_type": "code",
   "execution_count": 6,
   "metadata": {},
   "outputs": [
    {
     "name": "stdout",
     "output_type": "stream",
     "text": [
      "<class 'scipy.sparse.csr.csr_matrix'>\n"
     ]
    }
   ],
   "source": [
    "print(type(Y))"
   ]
  },
  {
   "cell_type": "code",
   "execution_count": 7,
   "metadata": {},
   "outputs": [],
   "source": [
    "from sklearn.decomposition import LatentDirichletAllocation\n",
    "\n",
    "num_topicsY = 60 # 出力したいトピック総数\n",
    "randomInit = 41 # 乱数の初期値\n",
    "ldaY = LatentDirichletAllocation(n_components=num_topicsY,           \n",
    "                                 random_state=randomInit, \n",
    "                                 learning_method='batch')\n"
   ]
  },
  {
   "cell_type": "code",
   "execution_count": 8,
   "metadata": {},
   "outputs": [
    {
     "name": "stdout",
     "output_type": "stream",
     "text": [
      "-------------------------------\n",
      "開始時刻 2018-05-12 22:47:04.509050\n",
      "-------------------------------\n",
      "-------------------------------\n",
      "終了時刻 2018-05-12 22:47:42.506604\n",
      "-------------------------------\n"
     ]
    }
   ],
   "source": [
    "# 時間かかります\n",
    "from time import gmtime, strftime\n",
    "import datetime\n",
    "\n",
    "now = datetime.datetime.now() # 現在の日時を取得\n",
    "print('-------------------------------')\n",
    "print('開始時刻',now)\n",
    "print('-------------------------------')\n",
    "Y_topics = ldaY.fit_transform(Y)\n",
    "now = datetime.datetime.now() # 現在の日時を取得\n",
    "print('-------------------------------')\n",
    "print('終了時刻',now)\n",
    "print('-------------------------------')"
   ]
  },
  {
   "cell_type": "code",
   "execution_count": 9,
   "metadata": {},
   "outputs": [
    {
     "name": "stdout",
     "output_type": "stream",
     "text": [
      "-----------------------------------\n",
      " ldaYのデータ型とシェープをプリント\n",
      "-----------------------------------\n",
      "<class 'sklearn.decomposition.online_lda.LatentDirichletAllocation'> (60, 25855)\n",
      "--------------------------------------\n",
      "ldaY変数に適用できる関数やメンバー変数\n",
      "['__class__', '__delattr__', '__dict__', '__dir__', '__doc__', '__eq__', '__format__', '__ge__', '__getattribute__', '__getstate__', '__gt__', '__hash__', '__init__', '__init_subclass__', '__le__', '__lt__', '__module__', '__ne__', '__new__', '__reduce__', '__reduce_ex__', '__repr__', '__setattr__', '__setstate__', '__sizeof__', '__str__', '__subclasshook__', '__weakref__', '_approx_bound', '_check_non_neg_array', '_check_params', '_e_step', '_em_step', '_get_param_names', '_init_latent_vars', '_n_components', '_perplexity_precomp_distr', '_unnormalized_transform', 'batch_size', 'bound_', 'components_', 'doc_topic_prior', 'doc_topic_prior_', 'evaluate_every', 'exp_dirichlet_component_', 'fit', 'fit_transform', 'get_params', 'learning_decay', 'learning_method', 'learning_offset', 'max_doc_update_iter', 'max_iter', 'mean_change_tol', 'n_batch_iter_', 'n_components', 'n_iter_', 'n_jobs', 'n_topics', 'partial_fit', 'perp_tol', 'perplexity', 'random_state', 'random_state_', 'score', 'set_params', 'topic_word_prior', 'topic_word_prior_', 'total_samples', 'transform', 'verbose']\n",
      "--------------------------------------\n",
      " Y_topics:  LDA resultはNumpy2次元配列\n",
      "--------------------------------------\n",
      "<class 'numpy.ndarray'> (7713, 60)\n"
     ]
    }
   ],
   "source": [
    "print('-----------------------------------')\n",
    "print(' ldaYのデータ型とシェープをプリント')\n",
    "print('-----------------------------------')\n",
    "print(type(ldaY),ldaY.components_.shape)\n",
    "\n",
    "print('--------------------------------------')\n",
    "print('ldaY変数に適用できる関数やメンバー変数')\n",
    "print(dir(ldaY))\n",
    "print('--------------------------------------')\n",
    "print(' Y_topics:  LDA resultはNumpy2次元配列')\n",
    "print('--------------------------------------')\n",
    "print(type(Y_topics), Y_topics.shape)"
   ]
  },
  {
   "cell_type": "code",
   "execution_count": 10,
   "metadata": {},
   "outputs": [
    {
     "name": "stdout",
     "output_type": "stream",
     "text": [
      "[0.    0.    0.    0.225 0.    0.    0.    0.    0.    0.    0.    0.\n",
      " 0.068 0.    0.    0.    0.    0.    0.076 0.    0.    0.    0.    0.\n",
      " 0.    0.    0.    0.    0.    0.    0.    0.    0.03  0.    0.    0.\n",
      " 0.    0.    0.579 0.    0.    0.    0.    0.    0.    0.    0.    0.\n",
      " 0.    0.    0.    0.    0.    0.    0.    0.    0.    0.    0.    0.   ]\n"
     ]
    }
   ],
   "source": [
    "print(np.round(Y_topics[200],3))"
   ]
  },
  {
   "cell_type": "code",
   "execution_count": 11,
   "metadata": {
    "scrolled": false
   },
   "outputs": [
    {
     "name": "stdout",
     "output_type": "stream",
     "text": [
      "Topic 1:\n",
      "cyclops dixons dlr (dlr) cyacq video charge 82 citicorp debt accounting \n",
      "Topic 2:\n",
      "dollar futures analysts prices dealers bond week traders analyst trading \n",
      "Topic 3:\n",
      "div pay prior qtly sets dividend payout quarterly systems regular \n",
      "Topic 4:\n",
      "cable communications telecommunications television financial stake trust telecom british plc \n",
      "Topic 5:\n",
      "american national southern pacific santa fe financial savings great city \n",
      "Topic 6:\n",
      "merger hughes baker terms agreement tire unit board companies tool \n",
      "Topic 7:\n",
      "american express shearson steel nippon lehman life brothers sold capacity \n",
      "Topic 8:\n",
      "japan japanese officials industry united semiconductor states agreement government pact \n",
      "Topic 9:\n",
      "fed says federal customer reserves (reserves) repurchase reserve funds agreements business \n",
      "Topic 10:\n",
      "tonnes week coffee (coffee) workers cocoa (cocoa) prices price production season bales \n",
      "Topic 11:\n",
      "price rubber (rubber) prices pact consumer inflation february index inra retail (retail) \n",
      "Topic 12:\n",
      "oil energy tax industry palm petroleum exploration import production imports \n",
      "Topic 13:\n",
      "quarter earnings growth report expects fiscal fourth expected second increase \n",
      "Topic 14:\n",
      "debt tax government bolivia smc program chairman goodyear commercial president \n",
      "Topic 15:\n",
      "francs french swiss soviet franc union france capital issue finance \n",
      "Topic 16:\n",
      "purolator units hutton offer courier emery family housing (housing) analysts dlr (dlr) \n",
      "Topic 17:\n",
      "dollar japan exchange economic yen (yen) foreign currency paris government nations \n",
      "Topic 18:\n",
      "ec european community west tax ministers states gatt german countries \n",
      "Topic 19:\n",
      "january february rose december fell week rise compared total month \n",
      "Topic 20:\n",
      "allegheny grain (grain) zealand moore 138 australia talks minister products jordan \n",
      "Topic 21:\n",
      "beef stocks wendy prices price lbs gasoline crude (crude) international state \n",
      "Topic 22:\n",
      "cut rates rate sterling base lawson point budget tax lending \n",
      "Topic 23:\n",
      "gulf ships iran shipping harper ship (ship) missiles officials row oil \n",
      "Topic 24:\n",
      "offer bid tender acquisition cash gencorp shareholders board common merger \n",
      "Topic 25:\n",
      "oil prices opec production bpd crude (crude) output barrels price barrel \n",
      "Topic 26:\n",
      "prices gulf arab jardine sri pacific lanka saudi gcc commodity \n",
      "Topic 27:\n",
      "department credit ccc bonus guilders export commodity wheat (wheat) program accepted \n",
      "Topic 28:\n",
      "rate banks rates money prime central term funds policy credit \n",
      "Topic 29:\n",
      "lme gm banks interstate conagra 480 buyback acquisition value buy \n",
      "Topic 30:\n",
      "taft american stores broadcasting bass bell lines plan talks diagnostic \n",
      "Topic 31:\n",
      "profits marks results quarter earnings operating lower rose turnover business \n",
      "Topic 32:\n",
      "deficit surplus account february january current exports imports payments balance \n",
      "Topic 33:\n",
      "oper 4th avg shrs includes gain mths 28 tax 11 \n",
      "Topic 34:\n",
      "usair twa copper (copper) piedmont nil icahn airlines price dot department \n",
      "Topic 35:\n",
      "sugar (sugar) intervention ec tonnes traders commission export tender ecus white \n",
      "Topic 36:\n",
      "stake common securities exchange investment total buy commission firm outstanding \n",
      "Topic 37:\n",
      "korea south 132 korean rha products 515 countries ual goods \n",
      "Topic 38:\n",
      "china weather crop areas winter turkey rains crops mar wheat (wheat) \n",
      "Topic 39:\n",
      "division sale sell unit agreement baker equipment tin (tin) agreed allis \n",
      "Topic 40:\n",
      "plant venture joint banks union warrants commercial bankers san workers \n",
      "Topic 41:\n",
      "program usda corn (corn) agriculture farmers farm loan soybean (soybean) acres wheat (wheat) \n",
      "Topic 42:\n",
      "canadian canada unit air crowns pacific plc subsidiary owned business \n",
      "Topic 43:\n",
      "cocoa (cocoa) buffer delegates world council icco international rules agreement talks \n",
      "Topic 44:\n",
      "tonnes wheat (wheat) corn (corn) grain (grain) exports 87 tonne export maize imports \n",
      "Topic 45:\n",
      "indonesia 87 tonnes 88 rise forecast oil tax production government \n",
      "Topic 46:\n",
      "coffee (coffee) export wheat (wheat) quotas brazil prices ico producers meeting quota \n",
      "Topic 47:\n",
      "stg money bills england 50 shortage assistance band 16 crude (crude) \n",
      "Topic 48:\n",
      "court days viacom western 00 redstone national merger delta order \n",
      "Topic 49:\n",
      "strike brazil seamen oil spokesman government petrobras brazilian foreign pay \n",
      "Topic 50:\n",
      "ago cattle orange (orange) bushels duty card wheat (wheat) preference export slaughter \n",
      "Topic 51:\n",
      "sugar (sugar) production cpc output csr tonnes european ferruzzi beet australia \n",
      "Topic 52:\n",
      "dealers yen (yen) banks marks bundesbank dollars japan central dollar tokyo \n",
      "Topic 53:\n",
      "gas (gas) oil properties cents exploration resources natural issue australia exxon \n",
      "Topic 54:\n",
      "china world caesars rights unemployment offer sosnoff acquisition tender number \n",
      "Topic 55:\n",
      "gold (gold) ounces reserves (reserves) feet ton silver (silver) ounce mining tons ore \n",
      "Topic 56:\n",
      "canada house reagan countries canadian imports legislation debt subcommittee administration \n",
      "Topic 57:\n",
      "dividend split board shareholders common payable declared holders quarterly sets \n",
      "Topic 58:\n",
      "oil ecuador venezuela pipeline crude (crude) india minister energy pdvsa bpd \n",
      "Topic 59:\n",
      "brazil loans brazilian commerce loan city texas banks government quarter \n",
      "Topic 60:\n",
      "life insurance grain (grain) boston allegheny fund capital price international gates \n"
     ]
    }
   ],
   "source": [
    "# LDAが生み出したトピックを確認するため最初の10単語で書き出す\n",
    "\n",
    "n_top_words = 10\n",
    "feature_names = countVec.get_feature_names()\n",
    "\n",
    "for topic_idx, topic in enumerate(ldaY.components_):\n",
    "    print(\"Topic %d:\" % (topic_idx + 1))\n",
    "    str = \"\"\n",
    "    for i in topic.argsort()[:-n_top_words - 1:-1]:\n",
    "        str = str+feature_names[i]+\" \"\n",
    "\n",
    "        for k in range(num_categories):\n",
    "            if (categories[k] == feature_names[i]):\n",
    "                str = str+\"(\"+categories[k]+\") \"\n",
    "\n",
    "    print(\"\".join(str)) \n",
    "    "
   ]
  },
  {
   "cell_type": "code",
   "execution_count": 12,
   "metadata": {},
   "outputs": [],
   "source": [
    "num_topics = 60\n",
    "num_data = 7713 # Reutersニュースの訓練データ総数\n",
    "threshold = 0.1\n",
    "countY = np.zeros(num_topics, dtype=int)\n",
    "\n",
    "for i in range(num_data):\n",
    "    count = 0\n",
    "    xx = Y_topics[i]\n",
    "    for j in range(num_topics):\n",
    "        if (xx[j] > threshold):\n",
    "            count += 1\n",
    "    countY[count] += 1"
   ]
  },
  {
   "cell_type": "code",
   "execution_count": 13,
   "metadata": {},
   "outputs": [
    {
     "data": {
      "image/png": "[encoded data removed]",
      "text/plain": [
       "<Figure size 864x648 with 1 Axes>"
      ]
     },
     "metadata": {},
     "output_type": "display_data"
    }
   ],
   "source": [
    "%matplotlib inline\n",
    "import matplotlib.pyplot as plt\n",
    "plt.figure(figsize=(12,9)) # 新しい図を作成する\n",
    "plt.tick_params(labelsize=15)\n",
    "\n",
    "half = 30\n",
    "halfY = np.zeros(half, dtype=int)\n",
    "\n",
    "for i in range(half):\n",
    "    halfY[i] = countY[i]\n",
    "\n",
    "plt.hist(halfY, range=(0,30), bins=30, edgecolor=\"black\")\n",
    "\n",
    "alphab = ['1', '2', '3', '4', '5', '6', '7', '8', '9', '10',\n",
    "         '11', '12', '13', '14', '15', '16', '17', '18', '19', '20',\n",
    "         '21', '22', '23', '24', '25', '26', '27', '28', '29', '30']\n",
    "\n",
    "pos = np.arange(len(halfY))\n",
    "width = 0.8     # gives histogram aspect to the bar diagram\n",
    "\n",
    "plt.xticks([0,5,10,15,20,25,30]) \n",
    "plt.bar(pos, halfY, width, color='b', edgecolor=\"black\", alpha=0.7)\n",
    "\n",
    "plt.show()"
   ]
  },
  {
   "cell_type": "code",
   "execution_count": null,
   "metadata": {},
   "outputs": [],
   "source": []
  }
 ],
 "metadata": {
  "kernelspec": {
   "display_name": "Python 3",
   "language": "python",
   "name": "python3"
  },
  "language_info": {
   "codemirror_mode": {
    "name": "ipython",
    "version": 3
   },
   "file_extension": ".py",
   "mimetype": "text/x-python",
   "name": "python",
   "nbconvert_exporter": "python",
   "pygments_lexer": "ipython3",
   "version": "3.6.4"
  }
 },
 "nbformat": 4,
 "nbformat_minor": 2
}
