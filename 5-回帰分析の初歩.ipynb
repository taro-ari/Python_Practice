{
 "cells": [
  {
   "cell_type": "markdown",
   "metadata": {},
   "source": [
    "# 5．回帰分析の初歩 ｜Pythonプログラミングを使った統計分析の基礎\n",
    "### [Logics of Blue](https://logics-of-blue.com/) 馬場真哉：2019年3月1日"
   ]
  },
  {
   "cell_type": "markdown",
   "metadata": {},
   "source": [
    "## 目的\n",
    "- Pythonを使って回帰モデルを推定し、予測を行う\n",
    "    - 単回帰モデルの推定\n",
    "    - モデルを使った予測\n",
    "    - （時間があれば）説明変数が複数含まれるモデルの推定\n",
    "\n",
    " \n",
    "## 目次\n",
    "1. [単回帰モデルの推定](#1．単回帰モデルの推定)\n",
    "2. [単回帰モデルの活用](#2．単回帰モデルの活用)\n",
    "3. [（参考）正規線形モデル](#3．（参考）正規線形モデル)\n"
   ]
  },
  {
   "cell_type": "code",
   "execution_count": 1,
   "metadata": {},
   "outputs": [],
   "source": [
    "# 数値計算に使うライブラリ\n",
    "import numpy as np\n",
    "import pandas as pd\n",
    "import scipy as sp\n",
    "from scipy import stats\n",
    "\n",
    "# 回帰モデルを含めた統計モデルを推定するライブラリ\n",
    "import statsmodels.formula.api as smf\n",
    "import statsmodels.api as sm\n",
    "\n",
    "# グラフを描画するライブラリ\n",
    "from matplotlib import pyplot as plt\n",
    "import seaborn as sns\n",
    "sns.set()\n",
    "\n",
    "# 表示桁数の指定\n",
    "%precision 3\n",
    "# グラフをjupyter Notebook内に表示させるための指定\n",
    "%matplotlib inline\n",
    "\n",
    "# 不要なワーニングを出力させない\n",
    "import warnings\n",
    "warnings.simplefilter(action='ignore', category=FutureWarning)"
   ]
  },
  {
   "cell_type": "markdown",
   "metadata": {},
   "source": [
    "***\n",
    "## 1．単回帰モデルの推定\n",
    "<p>\n",
    "    ビールの売り上げ(量的データ)を気温（量的データ）から予測するモデルを作成します。<br>\n",
    "    最もシンプルな単回帰モデルの構造を学びます。\n",
    "</p>"
   ]
  },
  {
   "cell_type": "code",
   "execution_count": 2,
   "metadata": {},
   "outputs": [
    {
     "data": {
      "text/html": [
       "<div>\n",
       "<style scoped>\n",
       "    .dataframe tbody tr th:only-of-type {\n",
       "        vertical-align: middle;\n",
       "    }\n",
       "\n",
       "    .dataframe tbody tr th {\n",
       "        vertical-align: top;\n",
       "    }\n",
       "\n",
       "    .dataframe thead th {\n",
       "        text-align: right;\n",
       "    }\n",
       "</style>\n",
       "<table border=\"1\" class=\"dataframe\">\n",
       "  <thead>\n",
       "    <tr style=\"text-align: right;\">\n",
       "      <th></th>\n",
       "      <th>beer</th>\n",
       "      <th>temperature</th>\n",
       "    </tr>\n",
       "  </thead>\n",
       "  <tbody>\n",
       "    <tr>\n",
       "      <th>0</th>\n",
       "      <td>43.46</td>\n",
       "      <td>36.2</td>\n",
       "    </tr>\n",
       "    <tr>\n",
       "      <th>1</th>\n",
       "      <td>27.92</td>\n",
       "      <td>13.9</td>\n",
       "    </tr>\n",
       "    <tr>\n",
       "      <th>2</th>\n",
       "      <td>26.26</td>\n",
       "      <td>14.7</td>\n",
       "    </tr>\n",
       "    <tr>\n",
       "      <th>3</th>\n",
       "      <td>20.64</td>\n",
       "      <td>9.3</td>\n",
       "    </tr>\n",
       "    <tr>\n",
       "      <th>4</th>\n",
       "      <td>37.56</td>\n",
       "      <td>28.7</td>\n",
       "    </tr>\n",
       "  </tbody>\n",
       "</table>\n",
       "</div>"
      ],
      "text/plain": [
       "    beer  temperature\n",
       "0  43.46         36.2\n",
       "1  27.92         13.9\n",
       "2  26.26         14.7\n",
       "3  20.64          9.3\n",
       "4  37.56         28.7"
      ]
     },
     "execution_count": 2,
     "metadata": {},
     "output_type": "execute_result"
    }
   ],
   "source": [
    "# データの読み込み\n",
    "beer_data = pd.read_csv(\"beer.csv\")\n",
    "beer_data.head()"
   ]
  },
  {
   "cell_type": "code",
   "execution_count": 3,
   "metadata": {},
   "outputs": [
    {
     "data": {
      "text/plain": [
       "<seaborn.axisgrid.JointGrid at 0x20a50604710>"
      ]
     },
     "execution_count": 3,
     "metadata": {},
     "output_type": "execute_result"
    },
    {
     "data": {
      "image/png": "[encoded data removed]",
      "text/plain": [
       "<Figure size 432x432 with 3 Axes>"
      ]
     },
     "metadata": {
      "needs_background": "light"
     },
     "output_type": "display_data"
    }
   ],
   "source": [
    "# 散布図を描く\n",
    "sns.jointplot(x = \"temperature\", y = \"beer\", data = beer_data)"
   ]
  },
  {
   "cell_type": "markdown",
   "metadata": {},
   "source": [
    "<p>\n",
    "    回帰モデルのような、やや複雑な統計モデルを推定する場合はstatsmodelsパッケージを使います。<br>\n",
    "    『import statsmodels.formula.api as smf』で読み込まれたモジュールを使用すると、数行のコードでモデルが推定できます。<br>\n",
    "</p>\n",
    "\n",
    "<p>\n",
    "    『formula』を使用することで、応答変数と説明変数の関係を簡単に表現できます。<br>\n",
    "    『formula = \"beer ~ temperature\"』とすると、<br>\n",
    "    応答変数：beer<br>\n",
    "    説明変数：temperature<br>\n",
    "    の単回帰モデルが推定できます。<br>\n",
    "    最後に『.fit()』と指定するのを忘れないようにします。これでモデルの推定までを一気にやってくれます。<br>\n",
    "</p>"
   ]
  },
  {
   "cell_type": "code",
   "execution_count": 4,
   "metadata": {},
   "outputs": [],
   "source": [
    "# 単回帰モデルの推定\n",
    "lm_model = smf.ols(formula = \"beer ~ temperature\", data = beer_data).fit()"
   ]
  },
  {
   "cell_type": "code",
   "execution_count": 5,
   "metadata": {},
   "outputs": [
    {
     "name": "stdout",
     "output_type": "stream",
     "text": [
      "                            OLS Regression Results                            \n",
      "==============================================================================\n",
      "Dep. Variable:                   beer   R-squared:                       0.526\n",
      "Model:                            OLS   Adj. R-squared:                  0.509\n",
      "Method:                 Least Squares   F-statistic:                     31.06\n",
      "Date:                Thu, 21 Feb 2019   Prob (F-statistic):           5.81e-06\n",
      "Time:                        09:22:06   Log-Likelihood:                -98.850\n",
      "No. Observations:                  30   AIC:                             201.7\n",
      "Df Residuals:                      28   BIC:                             204.5\n",
      "Df Model:                           1                                         \n",
      "Covariance Type:            nonrobust                                         \n",
      "===============================================================================\n",
      "                  coef    std err          t      P>|t|      [0.025      0.975]\n",
      "-------------------------------------------------------------------------------\n",
      "Intercept      22.8960      2.676      8.558      0.000      17.415      28.377\n",
      "temperature     0.6821      0.122      5.573      0.000       0.431       0.933\n",
      "==============================================================================\n",
      "Omnibus:                        2.128   Durbin-Watson:                   1.350\n",
      "Prob(Omnibus):                  0.345   Jarque-Bera (JB):                1.800\n",
      "Skew:                           0.580   Prob(JB):                        0.407\n",
      "Kurtosis:                       2.694   Cond. No.                         47.5\n",
      "==============================================================================\n",
      "\n",
      "Warnings:\n",
      "[1] Standard Errors assume that the covariance matrix of the errors is correctly specified.\n"
     ]
    }
   ],
   "source": [
    "# 推定結果の表示\n",
    "print(lm_model.summary())"
   ]
  },
  {
   "cell_type": "markdown",
   "metadata": {},
   "source": [
    "#### summary関数の結果の確認\n",
    "<p>\n",
    "    様々な指標が出てきますが、とりあえず以下の係数の値とそのp値を確認しておきましょう。\n",
    "</p>\n",
    "\n",
    "`\n",
    "\n",
    "    ===============================================================================\n",
    "                      coef    std err          t      P>|t|      [0.025      0.975]\n",
    "    -------------------------------------------------------------------------------\n",
    "    Intercept      22.8960      2.676      8.558      0.000      17.415      28.377\n",
    "    temperature     0.6821      0.122      5.573      0.000       0.431       0.933\n",
    "    ==============================================================================\n",
    "`\n",
    "\n",
    "<p>\n",
    "    Interceptが切片です。temperatureが気温の係数（傾き）です。<br>\n",
    "    temperatureの推定値は0.6821となっています。<br>\n",
    "    temperatureの『P>|t|』が0.05を下回っているので『係数は有意に0と異なる』とみなせます。<br>\n",
    "    「気温が上がると、ビールの売り上げが増えるだろう」と解釈ができます。\n",
    "</p>\n"
   ]
  },
  {
   "cell_type": "markdown",
   "metadata": {},
   "source": [
    "***\n",
    "## 2．単回帰モデルの活用\n",
    "<p>\n",
    "    まずは予測を行います。ある気温を指定したときのビールの売り上げを計算します<br>\n",
    "    その後、売り上げと気温の影響を明確にするために、回帰直線を描きます。\n",
    "</p>"
   ]
  },
  {
   "cell_type": "markdown",
   "metadata": {},
   "source": [
    "### 予測"
   ]
  },
  {
   "cell_type": "code",
   "execution_count": 6,
   "metadata": {},
   "outputs": [
    {
     "data": {
      "text/plain": [
       "0    22.895972\n",
       "dtype: float64"
      ]
     },
     "execution_count": 6,
     "metadata": {},
     "output_type": "execute_result"
    }
   ],
   "source": [
    "# 気温が0度の時の売り上げ予測\n",
    "lm_model.predict(pd.DataFrame({\"temperature\":[0]}))"
   ]
  },
  {
   "cell_type": "code",
   "execution_count": 7,
   "metadata": {},
   "outputs": [
    {
     "data": {
      "text/plain": [
       "Intercept      22.895972\n",
       "temperature     0.682146\n",
       "dtype: float64"
      ]
     },
     "execution_count": 7,
     "metadata": {},
     "output_type": "execute_result"
    }
   ],
   "source": [
    "# 上記の結果は、モデルの切片に一致します。\n",
    "lm_model.params"
   ]
  },
  {
   "cell_type": "code",
   "execution_count": 8,
   "metadata": {},
   "outputs": [
    {
     "data": {
      "text/plain": [
       "0    29.717433\n",
       "dtype: float64"
      ]
     },
     "execution_count": 8,
     "metadata": {},
     "output_type": "execute_result"
    }
   ],
   "source": [
    "# 気温が10度の時の売り上げ予測\n",
    "lm_model.predict(pd.DataFrame({\"temperature\":[10]}))"
   ]
  },
  {
   "cell_type": "code",
   "execution_count": 9,
   "metadata": {},
   "outputs": [
    {
     "data": {
      "text/plain": [
       "29.7174334617958"
      ]
     },
     "execution_count": 9,
     "metadata": {},
     "output_type": "execute_result"
    }
   ],
   "source": [
    "# 上記の結果は『Intercept ＋ 10×temperatureの係数』で得られます\n",
    "lm_model.params[0] + 10 * lm_model.params[1]"
   ]
  },
  {
   "cell_type": "code",
   "execution_count": 10,
   "metadata": {},
   "outputs": [
    {
     "data": {
      "text/plain": [
       "array([[26.263, 33.172]])"
      ]
     },
     "execution_count": 10,
     "metadata": {},
     "output_type": "execute_result"
    }
   ],
   "source": [
    "# 気温が10度の時の売り上げ平均値の95%信頼区間\n",
    "pred = lm_model.get_prediction(pd.DataFrame({\"temperature\":[10]}))\n",
    "pred.conf_int()"
   ]
  },
  {
   "cell_type": "code",
   "execution_count": 11,
   "metadata": {},
   "outputs": [
    {
     "data": {
      "text/html": [
       "<div>\n",
       "<style scoped>\n",
       "    .dataframe tbody tr th:only-of-type {\n",
       "        vertical-align: middle;\n",
       "    }\n",
       "\n",
       "    .dataframe tbody tr th {\n",
       "        vertical-align: top;\n",
       "    }\n",
       "\n",
       "    .dataframe thead th {\n",
       "        text-align: right;\n",
       "    }\n",
       "</style>\n",
       "<table border=\"1\" class=\"dataframe\">\n",
       "  <thead>\n",
       "    <tr style=\"text-align: right;\">\n",
       "      <th></th>\n",
       "      <th>mean</th>\n",
       "      <th>mean_se</th>\n",
       "      <th>mean_ci_lower</th>\n",
       "      <th>mean_ci_upper</th>\n",
       "      <th>obs_ci_lower</th>\n",
       "      <th>obs_ci_upper</th>\n",
       "    </tr>\n",
       "  </thead>\n",
       "  <tbody>\n",
       "    <tr>\n",
       "      <th>0</th>\n",
       "      <td>29.717433</td>\n",
       "      <td>1.686614</td>\n",
       "      <td>26.262561</td>\n",
       "      <td>33.172305</td>\n",
       "      <td>15.451978</td>\n",
       "      <td>43.982889</td>\n",
       "    </tr>\n",
       "  </tbody>\n",
       "</table>\n",
       "</div>"
      ],
      "text/plain": [
       "        mean   mean_se  mean_ci_lower  mean_ci_upper  obs_ci_lower  \\\n",
       "0  29.717433  1.686614      26.262561      33.172305     15.451978   \n",
       "\n",
       "   obs_ci_upper  \n",
       "0     43.982889  "
      ]
     },
     "execution_count": 11,
     "metadata": {},
     "output_type": "execute_result"
    }
   ],
   "source": [
    "# 平均値や、信頼区間、予測区間(平均値の95%区間にさらにデータのばらつき（分散）を加味した範囲)を取得\n",
    "pred.summary_frame()"
   ]
  },
  {
   "cell_type": "markdown",
   "metadata": {},
   "source": [
    "### 回帰直線"
   ]
  },
  {
   "cell_type": "code",
   "execution_count": 12,
   "metadata": {},
   "outputs": [
    {
     "data": {
      "text/plain": [
       "<seaborn.axisgrid.FacetGrid at 0x20a50a28828>"
      ]
     },
     "execution_count": 12,
     "metadata": {},
     "output_type": "execute_result"
    },
    {
     "data": {
      "image/png": "[encoded data removed]",
      "text/plain": [
       "<Figure size 360x360 with 1 Axes>"
      ]
     },
     "metadata": {
      "needs_background": "light"
     },
     "output_type": "display_data"
    }
   ],
   "source": [
    "# seabornのlmplot関数を使うことで、簡単に回帰直線が描けます\n",
    "sns.lmplot(x = \"temperature\", y = \"beer\", data = beer_data)"
   ]
  },
  {
   "cell_type": "markdown",
   "metadata": {},
   "source": [
    "#### （補足）回帰直線を自作する\n",
    "<p>補足的な内容です。lmplot関数を使わないで、回帰直線を自作します</p>"
   ]
  },
  {
   "cell_type": "code",
   "execution_count": 13,
   "metadata": {},
   "outputs": [
    {
     "data": {
      "text/plain": [
       "array([47.59 , 32.378, 32.924, 29.24 , 42.474, 20.85 , 48.408, 31.355,\n",
       "       38.722, 34.834, 46.498, 22.487, 34.356, 33.947, 44.247, 29.035,\n",
       "       35.379, 30.536, 36.812, 40.495, 29.035, 44.315, 42.678, 39.95 ,\n",
       "       42.678, 31.9  , 35.72 , 30.127, 34.697, 40.154])"
      ]
     },
     "execution_count": 13,
     "metadata": {},
     "output_type": "execute_result"
    }
   ],
   "source": [
    "# 当てはめ値\n",
    "lm_model.predict()"
   ]
  },
  {
   "cell_type": "code",
   "execution_count": 14,
   "metadata": {
    "scrolled": false
   },
   "outputs": [
    {
     "data": {
      "text/plain": [
       "0     36.2\n",
       "1     13.9\n",
       "2     14.7\n",
       "3      9.3\n",
       "4     28.7\n",
       "5     -3.0\n",
       "6     37.4\n",
       "7     12.4\n",
       "8     23.2\n",
       "9     17.5\n",
       "10    34.6\n",
       "11    -0.6\n",
       "12    16.8\n",
       "13    16.2\n",
       "14    31.3\n",
       "15     9.0\n",
       "16    18.3\n",
       "17    11.2\n",
       "18    20.4\n",
       "19    25.8\n",
       "20     9.0\n",
       "21    31.4\n",
       "22    29.0\n",
       "23    25.0\n",
       "24    29.0\n",
       "25    13.2\n",
       "26    18.8\n",
       "27    10.6\n",
       "28    17.3\n",
       "29    25.3\n",
       "Name: temperature, dtype: float64"
      ]
     },
     "execution_count": 14,
     "metadata": {},
     "output_type": "execute_result"
    }
   ],
   "source": [
    "# 参考：当てはめ値に対応する気温\n",
    "beer_data.temperature"
   ]
  },
  {
   "cell_type": "code",
   "execution_count": 15,
   "metadata": {
    "scrolled": false
   },
   "outputs": [
    {
     "data": {
      "text/plain": [
       "[<matplotlib.lines.Line2D at 0x20a50eb3240>]"
      ]
     },
     "execution_count": 15,
     "metadata": {},
     "output_type": "execute_result"
    },
    {
     "data": {
      "image/png": "[encoded data removed]",
      "text/plain": [
       "<Figure size 360x360 with 1 Axes>"
      ]
     },
     "metadata": {
      "needs_background": "light"
     },
     "output_type": "display_data"
    }
   ],
   "source": [
    "# predictの結果を使って回帰直線を描く\n",
    "# 勉強のためのコードであって、あまり実用性はありません。\n",
    "# なるべくsns.lmplotを使うべきです。\n",
    "\n",
    "# グラフの大きさ\n",
    "plt.figure(figsize=(5, 5))\n",
    "\n",
    "# 散布図(元データ)\n",
    "plt.scatter(beer_data.temperature, beer_data.beer)\n",
    "\n",
    "# 折れ線グラフ(当てはめ値)\n",
    "plt.plot(beer_data.temperature, lm_model.predict())"
   ]
  },
  {
   "cell_type": "code",
   "execution_count": 16,
   "metadata": {},
   "outputs": [
    {
     "data": {
      "text/html": [
       "<div>\n",
       "<style scoped>\n",
       "    .dataframe tbody tr th:only-of-type {\n",
       "        vertical-align: middle;\n",
       "    }\n",
       "\n",
       "    .dataframe tbody tr th {\n",
       "        vertical-align: top;\n",
       "    }\n",
       "\n",
       "    .dataframe thead th {\n",
       "        text-align: right;\n",
       "    }\n",
       "</style>\n",
       "<table border=\"1\" class=\"dataframe\">\n",
       "  <thead>\n",
       "    <tr style=\"text-align: right;\">\n",
       "      <th></th>\n",
       "      <th>beer</th>\n",
       "      <th>temperature</th>\n",
       "      <th>mean</th>\n",
       "      <th>mean_se</th>\n",
       "      <th>mean_ci_lower</th>\n",
       "      <th>mean_ci_upper</th>\n",
       "      <th>obs_ci_lower</th>\n",
       "      <th>obs_ci_upper</th>\n",
       "    </tr>\n",
       "  </thead>\n",
       "  <tbody>\n",
       "    <tr>\n",
       "      <th>5</th>\n",
       "      <td>17.50</td>\n",
       "      <td>-3.0</td>\n",
       "      <td>20.849534</td>\n",
       "      <td>3.006119</td>\n",
       "      <td>14.691778</td>\n",
       "      <td>27.007289</td>\n",
       "      <td>5.700770</td>\n",
       "      <td>35.998297</td>\n",
       "    </tr>\n",
       "    <tr>\n",
       "      <th>11</th>\n",
       "      <td>12.42</td>\n",
       "      <td>-0.6</td>\n",
       "      <td>22.486684</td>\n",
       "      <td>2.740888</td>\n",
       "      <td>16.872230</td>\n",
       "      <td>28.101139</td>\n",
       "      <td>7.550514</td>\n",
       "      <td>37.422854</td>\n",
       "    </tr>\n",
       "    <tr>\n",
       "      <th>20</th>\n",
       "      <td>29.60</td>\n",
       "      <td>9.0</td>\n",
       "      <td>29.035287</td>\n",
       "      <td>1.772344</td>\n",
       "      <td>25.404806</td>\n",
       "      <td>32.665769</td>\n",
       "      <td>14.726288</td>\n",
       "      <td>43.344287</td>\n",
       "    </tr>\n",
       "    <tr>\n",
       "      <th>15</th>\n",
       "      <td>22.10</td>\n",
       "      <td>9.0</td>\n",
       "      <td>29.035287</td>\n",
       "      <td>1.772344</td>\n",
       "      <td>25.404806</td>\n",
       "      <td>32.665769</td>\n",
       "      <td>14.726288</td>\n",
       "      <td>43.344287</td>\n",
       "    </tr>\n",
       "    <tr>\n",
       "      <th>3</th>\n",
       "      <td>20.64</td>\n",
       "      <td>9.3</td>\n",
       "      <td>29.239931</td>\n",
       "      <td>1.746166</td>\n",
       "      <td>25.663073</td>\n",
       "      <td>32.816790</td>\n",
       "      <td>14.944443</td>\n",
       "      <td>43.535420</td>\n",
       "    </tr>\n",
       "  </tbody>\n",
       "</table>\n",
       "</div>"
      ],
      "text/plain": [
       "     beer  temperature       mean   mean_se  mean_ci_lower  mean_ci_upper  \\\n",
       "5   17.50         -3.0  20.849534  3.006119      14.691778      27.007289   \n",
       "11  12.42         -0.6  22.486684  2.740888      16.872230      28.101139   \n",
       "20  29.60          9.0  29.035287  1.772344      25.404806      32.665769   \n",
       "15  22.10          9.0  29.035287  1.772344      25.404806      32.665769   \n",
       "3   20.64          9.3  29.239931  1.746166      25.663073      32.816790   \n",
       "\n",
       "    obs_ci_lower  obs_ci_upper  \n",
       "5       5.700770     35.998297  \n",
       "11      7.550514     37.422854  \n",
       "20     14.726288     43.344287  \n",
       "15     14.726288     43.344287  \n",
       "3      14.944443     43.535420  "
      ]
     },
     "execution_count": 16,
     "metadata": {},
     "output_type": "execute_result"
    }
   ],
   "source": [
    "# 当てはめ結果の信頼区間と予測区間を得る\n",
    "pred_all = lm_model.get_prediction()\n",
    "pred_frame = pred_all.summary_frame()\n",
    "\n",
    "# 元のデータを付け加える\n",
    "pred_graph = pd.concat([beer_data, pred_frame], axis = 1)\n",
    "\n",
    "# 図示のためにソートする\n",
    "pred_graph_s = pred_graph.sort_values(\"temperature\")\n",
    "pred_graph_s.head()"
   ]
  },
  {
   "cell_type": "code",
   "execution_count": 17,
   "metadata": {},
   "outputs": [
    {
     "data": {
      "text/plain": [
       "[<matplotlib.lines.Line2D at 0x20a50f44dd8>]"
      ]
     },
     "execution_count": 17,
     "metadata": {},
     "output_type": "execute_result"
    },
    {
     "data": {
      "image/png": "[encoded data removed]",
      "text/plain": [
       "<Figure size 360x360 with 1 Axes>"
      ]
     },
     "metadata": {
      "needs_background": "light"
     },
     "output_type": "display_data"
    }
   ],
   "source": [
    "# グラフの大きさ\n",
    "plt.figure(figsize=(5, 5))\n",
    "\n",
    "# 散布図(元データ)\n",
    "plt.scatter(pred_graph_s[\"temperature\"], pred_graph_s[\"beer\"], color = \"black\")\n",
    "\n",
    "# 折れ線グラフ(当てはめ値)\n",
    "plt.plot(pred_graph_s[\"temperature\"], pred_graph_s[\"mean\"], color = \"black\", linewidth = 3)\n",
    "\n",
    "# 下側信頼限界\n",
    "plt.plot(pred_graph_s[\"temperature\"], pred_graph_s[\"mean_ci_lower\"], color = \"blue\", ls=\"--\")\n",
    "\n",
    "# 上側信頼限界\n",
    "plt.plot(pred_graph_s[\"temperature\"], pred_graph_s[\"mean_ci_upper\"], color = \"blue\", ls=\"--\")\n",
    "\n",
    "# 下側予測限界\n",
    "plt.plot(pred_graph_s[\"temperature\"], pred_graph_s[\"obs_ci_lower\"], color = \"red\", ls=\"--\")\n",
    "\n",
    "# 上側予測限界\n",
    "plt.plot(pred_graph_s[\"temperature\"], pred_graph_s[\"obs_ci_upper\"], color = \"red\", ls=\"--\")"
   ]
  },
  {
   "cell_type": "markdown",
   "metadata": {},
   "source": [
    "***\n",
    "## 3．（参考）正規線形モデル\n",
    "<p>\n",
    "    参考までに、複数の説明変数を用いたモデルを推定します。<br>\n",
    "    ビールの売り上げ(量的データ)を気温（量的データ）と天気（質的データ）から予測するモデルとなります。\n",
    "</p>"
   ]
  },
  {
   "cell_type": "code",
   "execution_count": 18,
   "metadata": {},
   "outputs": [
    {
     "data": {
      "text/html": [
       "<div>\n",
       "<style scoped>\n",
       "    .dataframe tbody tr th:only-of-type {\n",
       "        vertical-align: middle;\n",
       "    }\n",
       "\n",
       "    .dataframe tbody tr th {\n",
       "        vertical-align: top;\n",
       "    }\n",
       "\n",
       "    .dataframe thead th {\n",
       "        text-align: right;\n",
       "    }\n",
       "</style>\n",
       "<table border=\"1\" class=\"dataframe\">\n",
       "  <thead>\n",
       "    <tr style=\"text-align: right;\">\n",
       "      <th></th>\n",
       "      <th>beer</th>\n",
       "      <th>temperature</th>\n",
       "      <th>weather</th>\n",
       "    </tr>\n",
       "  </thead>\n",
       "  <tbody>\n",
       "    <tr>\n",
       "      <th>0</th>\n",
       "      <td>41.94</td>\n",
       "      <td>15.8</td>\n",
       "      <td>rainy</td>\n",
       "    </tr>\n",
       "    <tr>\n",
       "      <th>1</th>\n",
       "      <td>38.62</td>\n",
       "      <td>19.4</td>\n",
       "      <td>rainy</td>\n",
       "    </tr>\n",
       "    <tr>\n",
       "      <th>2</th>\n",
       "      <td>9.78</td>\n",
       "      <td>-1.4</td>\n",
       "      <td>rainy</td>\n",
       "    </tr>\n",
       "    <tr>\n",
       "      <th>3</th>\n",
       "      <td>52.62</td>\n",
       "      <td>36.4</td>\n",
       "      <td>rainy</td>\n",
       "    </tr>\n",
       "    <tr>\n",
       "      <th>4</th>\n",
       "      <td>19.28</td>\n",
       "      <td>2.1</td>\n",
       "      <td>rainy</td>\n",
       "    </tr>\n",
       "  </tbody>\n",
       "</table>\n",
       "</div>"
      ],
      "text/plain": [
       "    beer  temperature weather\n",
       "0  41.94         15.8   rainy\n",
       "1  38.62         19.4   rainy\n",
       "2   9.78         -1.4   rainy\n",
       "3  52.62         36.4   rainy\n",
       "4  19.28          2.1   rainy"
      ]
     },
     "execution_count": 18,
     "metadata": {},
     "output_type": "execute_result"
    }
   ],
   "source": [
    "# データの読み込み\n",
    "beer_weather_data = pd.read_csv(\"beer_weather.csv\")\n",
    "beer_weather_data.head()"
   ]
  },
  {
   "cell_type": "code",
   "execution_count": 19,
   "metadata": {},
   "outputs": [
    {
     "data": {
      "text/html": [
       "<div>\n",
       "<style scoped>\n",
       "    .dataframe tbody tr th:only-of-type {\n",
       "        vertical-align: middle;\n",
       "    }\n",
       "\n",
       "    .dataframe tbody tr th {\n",
       "        vertical-align: top;\n",
       "    }\n",
       "\n",
       "    .dataframe thead tr th {\n",
       "        text-align: left;\n",
       "    }\n",
       "\n",
       "    .dataframe thead tr:last-of-type th {\n",
       "        text-align: right;\n",
       "    }\n",
       "</style>\n",
       "<table border=\"1\" class=\"dataframe\">\n",
       "  <thead>\n",
       "    <tr>\n",
       "      <th></th>\n",
       "      <th colspan=\"8\" halign=\"left\">beer</th>\n",
       "      <th colspan=\"8\" halign=\"left\">temperature</th>\n",
       "    </tr>\n",
       "    <tr>\n",
       "      <th></th>\n",
       "      <th>count</th>\n",
       "      <th>mean</th>\n",
       "      <th>std</th>\n",
       "      <th>min</th>\n",
       "      <th>25%</th>\n",
       "      <th>50%</th>\n",
       "      <th>75%</th>\n",
       "      <th>max</th>\n",
       "      <th>count</th>\n",
       "      <th>mean</th>\n",
       "      <th>std</th>\n",
       "      <th>min</th>\n",
       "      <th>25%</th>\n",
       "      <th>50%</th>\n",
       "      <th>75%</th>\n",
       "      <th>max</th>\n",
       "    </tr>\n",
       "    <tr>\n",
       "      <th>weather</th>\n",
       "      <th></th>\n",
       "      <th></th>\n",
       "      <th></th>\n",
       "      <th></th>\n",
       "      <th></th>\n",
       "      <th></th>\n",
       "      <th></th>\n",
       "      <th></th>\n",
       "      <th></th>\n",
       "      <th></th>\n",
       "      <th></th>\n",
       "      <th></th>\n",
       "      <th></th>\n",
       "      <th></th>\n",
       "      <th></th>\n",
       "      <th></th>\n",
       "    </tr>\n",
       "  </thead>\n",
       "  <tbody>\n",
       "    <tr>\n",
       "      <th>rainy</th>\n",
       "      <td>50.0</td>\n",
       "      <td>35.2768</td>\n",
       "      <td>13.023667</td>\n",
       "      <td>8.06</td>\n",
       "      <td>27.35</td>\n",
       "      <td>36.48</td>\n",
       "      <td>41.515</td>\n",
       "      <td>73.96</td>\n",
       "      <td>50.0</td>\n",
       "      <td>18.596</td>\n",
       "      <td>10.512965</td>\n",
       "      <td>-4.3</td>\n",
       "      <td>11.6</td>\n",
       "      <td>18.45</td>\n",
       "      <td>25.000</td>\n",
       "      <td>42.9</td>\n",
       "    </tr>\n",
       "    <tr>\n",
       "      <th>sunny</th>\n",
       "      <td>50.0</td>\n",
       "      <td>47.1144</td>\n",
       "      <td>11.811436</td>\n",
       "      <td>22.28</td>\n",
       "      <td>39.21</td>\n",
       "      <td>48.26</td>\n",
       "      <td>53.625</td>\n",
       "      <td>83.06</td>\n",
       "      <td>50.0</td>\n",
       "      <td>19.328</td>\n",
       "      <td>10.423835</td>\n",
       "      <td>-6.6</td>\n",
       "      <td>15.5</td>\n",
       "      <td>20.05</td>\n",
       "      <td>26.675</td>\n",
       "      <td>35.8</td>\n",
       "    </tr>\n",
       "  </tbody>\n",
       "</table>\n",
       "</div>"
      ],
      "text/plain": [
       "         beer                                                          \\\n",
       "        count     mean        std    min    25%    50%     75%    max   \n",
       "weather                                                                 \n",
       "rainy    50.0  35.2768  13.023667   8.06  27.35  36.48  41.515  73.96   \n",
       "sunny    50.0  47.1144  11.811436  22.28  39.21  48.26  53.625  83.06   \n",
       "\n",
       "        temperature                                                     \n",
       "              count    mean        std  min   25%    50%     75%   max  \n",
       "weather                                                                 \n",
       "rainy          50.0  18.596  10.512965 -4.3  11.6  18.45  25.000  42.9  \n",
       "sunny          50.0  19.328  10.423835 -6.6  15.5  20.05  26.675  35.8  "
      ]
     },
     "execution_count": 19,
     "metadata": {},
     "output_type": "execute_result"
    }
   ],
   "source": [
    "# 天気別の集計値\n",
    "group = beer_weather_data.groupby(\"weather\")\n",
    "group.describe()"
   ]
  },
  {
   "cell_type": "code",
   "execution_count": 20,
   "metadata": {},
   "outputs": [
    {
     "name": "stdout",
     "output_type": "stream",
     "text": [
      "                            OLS Regression Results                            \n",
      "==============================================================================\n",
      "Dep. Variable:                   beer   R-squared:                       0.580\n",
      "Model:                            OLS   Adj. R-squared:                  0.571\n",
      "Method:                 Least Squares   F-statistic:                     66.89\n",
      "Date:                Thu, 21 Feb 2019   Prob (F-statistic):           5.55e-19\n",
      "Time:                        09:22:07   Log-Likelihood:                -359.98\n",
      "No. Observations:                 100   AIC:                             726.0\n",
      "Df Residuals:                      97   BIC:                             733.8\n",
      "Df Model:                           2                                         \n",
      "Covariance Type:            nonrobust                                         \n",
      "====================================================================================\n",
      "                       coef    std err          t      P>|t|      [0.025      0.975]\n",
      "------------------------------------------------------------------------------------\n",
      "Intercept           19.9371      2.054      9.707      0.000      15.861      24.014\n",
      "weather[T.sunny]    11.2338      1.799      6.244      0.000       7.663      14.804\n",
      "temperature          0.8249      0.087      9.509      0.000       0.653       0.997\n",
      "==============================================================================\n",
      "Omnibus:                        8.912   Durbin-Watson:                   1.980\n",
      "Prob(Omnibus):                  0.012   Jarque-Bera (JB):                9.454\n",
      "Skew:                           0.552   Prob(JB):                      0.00885\n",
      "Kurtosis:                       4.024   Cond. No.                         55.5\n",
      "==============================================================================\n",
      "\n",
      "Warnings:\n",
      "[1] Standard Errors assume that the covariance matrix of the errors is correctly specified.\n"
     ]
    }
   ],
   "source": [
    "# モデルの推定と結果の表示\n",
    "# 説明変数が増えた場合は『beer ~ temperature + weather』のようにformulaをプラス記号で伸ばしていきます。\n",
    "lm_model_multi = smf.ols(\"beer ~ temperature + weather\", data = beer_weather_data).fit()\n",
    "print(lm_model_multi.summary())"
   ]
  },
  {
   "cell_type": "markdown",
   "metadata": {},
   "source": [
    "#### summary関数の結果の確認\n",
    "<p>\n",
    "    天気の効果（weather[T.sunny]）が、ダミー変数として扱われていることに注意して解釈しましょう。\n",
    "</p>\n",
    "\n",
    "`\n",
    "\n",
    "    =======================================================================================\n",
    "                           coef    std err          t      P>|t|      [0.025      0.975]\n",
    "    ------------------------------------------------------------------------------------\n",
    "    Intercept           19.9371      2.054      9.707      0.000      15.861      24.014\n",
    "    weather[T.sunny]    11.2338      1.799      6.244      0.000       7.663      14.804\n",
    "    temperature          0.8249      0.087      9.509      0.000       0.653       0.997\n",
    "    ======================================================================================\n",
    "`\n",
    "\n",
    "<p>\n",
    "    Interceptが切片です。temperatureが気温の係数（傾き）です。<br>\n",
    "    そしてweather[T.sunny]が「晴れの日だと、雨の日と比べてどれだけ売り上げが増えるか」を表した係数です。<br>\n",
    "    晴れの日に1を、雨の日に0をとるダミー変数の係数だと解釈しても良いでしょう。晴れになると11.2338 だけ売り上げが増えるようです。<br>\n",
    "    temperatureの推定値は0.8249となっています。気温が上がると売り上げが増えるようです。<br>\n",
    "    『P>|t|』が0.05を下回っているので、天気も気温も共に『係数は有意に0と異なる』とみなせます。<br>\n",
    "    「気温が上がると、ビールの売り上げが増えるだろう」<br>\n",
    "    「晴れになると、ビールの売り上げが増えるだろう」と解釈ができます。\n",
    "</p>\n"
   ]
  },
  {
   "cell_type": "code",
   "execution_count": 21,
   "metadata": {},
   "outputs": [
    {
     "data": {
      "text/plain": [
       "<seaborn.axisgrid.FacetGrid at 0x20a50fa4f98>"
      ]
     },
     "execution_count": 21,
     "metadata": {},
     "output_type": "execute_result"
    },
    {
     "data": {
      "image/png": "[encoded data removed]",
      "text/plain": [
       "<Figure size 428.85x360 with 1 Axes>"
      ]
     },
     "metadata": {
      "needs_background": "light"
     },
     "output_type": "display_data"
    }
   ],
   "source": [
    "# seabornのlmplot関数を使うことで、簡単に回帰直線が描けます\n",
    "# ただし、説明変数が増えると、statsmodelsの結果とはやや異なる結果になります。\n",
    "# 厳密なグラフがほしい場合は、predict関数の結果を使って図示した方が良いでしょう。\n",
    "sns.lmplot(x = \"temperature\", y = \"beer\", hue = \"weather\", data = beer_weather_data)"
   ]
  },
  {
   "cell_type": "code",
   "execution_count": null,
   "metadata": {},
   "outputs": [],
   "source": []
  }
 ],
 "metadata": {
  "kernelspec": {
   "display_name": "Python 3",
   "language": "python",
   "name": "python3"
  },
  "language_info": {
   "codemirror_mode": {
    "name": "ipython",
    "version": 3
   },
   "file_extension": ".py",
   "mimetype": "text/x-python",
   "name": "python",
   "nbconvert_exporter": "python",
   "pygments_lexer": "ipython3",
   "version": "3.7.1"
  }
 },
 "nbformat": 4,
 "nbformat_minor": 2
}
