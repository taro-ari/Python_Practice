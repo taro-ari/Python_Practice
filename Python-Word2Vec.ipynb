{
 "cells": [
  {
   "cell_type": "markdown",
   "metadata": {},
   "source": [
    "# 単語の分散表現\n",
    "gensim + Word2Vec\n",
    "\n",
    "英語のWikipediaからclean text （句読点、$,#, %など除去、括弧、アルファベットはすべて小文字、数字は除去）\n",
    "とした\"text8\"と呼ばれるデータにGoogleが2013年に開発したword2vecという単語の分散表現モデルによって、\n",
    "約7万英単語を200次元の密ベクトル表現したものをvectors.binとして用意しています。\n",
    "ここでは、このvectors.binというバイナリデータをPythonのgensimパッケージを通して\n",
    "ロードし、類義語が見つかるかどうかを確かめます。\n",
    "\n",
    "なお、このような単語の分散表現モデルはネット上に、いろいろ公開されており、\n",
    "総じて単語分散表現モデルとか、単語埋込モデルと呼ばれます。\n",
    "深層学習モデルで、テキストを処理するアプリケーションでは、このような単語埋込モデルを\n",
    "Embedding層の初期値として用いることが多く慣行されています。"
   ]
  },
  {
   "cell_type": "code",
   "execution_count": 1,
   "metadata": {},
   "outputs": [],
   "source": [
    "import warnings\n",
    "warnings.simplefilter(action='ignore', category=UserWarning)\n",
    "\n",
    "import gensim\n",
    "import numpy as np\n",
    "import gensim.models as mdl\n"
   ]
  },
  {
   "cell_type": "code",
   "execution_count": 2,
   "metadata": {},
   "outputs": [
    {
     "name": "stdout",
     "output_type": "stream",
     "text": [
      "C:\\Users\\jtcuser\\DeepLearning\n"
     ]
    }
   ],
   "source": [
    "import os\n",
    "print (os.getcwd())\n"
   ]
  },
  {
   "cell_type": "markdown",
   "metadata": {},
   "source": [
    "# Gensimの使い方例\n",
    "\n",
    "https://radimrehurek.com/gensim/models/keyedvectors.html"
   ]
  },
  {
   "cell_type": "code",
   "execution_count": 3,
   "metadata": {},
   "outputs": [],
   "source": [
    "# 事前にWikipediaの部分集合(text8)から作成された200次元のベクトル\n",
    "model = mdl.KeyedVectors.load_word2vec_format('data/vectors.bin', binary=True)"
   ]
  },
  {
   "cell_type": "code",
   "execution_count": 4,
   "metadata": {},
   "outputs": [
    {
     "data": {
      "text/plain": [
       "[('queen', 0.5720019340515137),\n",
       " ('matilda', 0.5227001905441284),\n",
       " ('daughter', 0.5097631216049194),\n",
       " ('betrothed', 0.506864607334137),\n",
       " ('heiress', 0.4963929057121277),\n",
       " ('isabella', 0.4918372929096222),\n",
       " ('regent', 0.48817452788352966),\n",
       " ('montferrat', 0.477775901556015),\n",
       " ('son', 0.47766247391700745),\n",
       " ('savoy', 0.47525760531425476)]"
      ]
     },
     "execution_count": 4,
     "metadata": {},
     "output_type": "execute_result"
    }
   ],
   "source": [
    "model.most_similar(positive=['woman','king'], negative=['man'])\n"
   ]
  },
  {
   "cell_type": "code",
   "execution_count": 5,
   "metadata": {},
   "outputs": [
    {
     "data": {
      "text/plain": [
       "[('girl', 0.39684516191482544),\n",
       " ('turboexpress', 0.3575460910797119),\n",
       " ('booji', 0.3447113037109375),\n",
       " ('handhelds', 0.33930259943008423),\n",
       " ('baby', 0.33783677220344543),\n",
       " ('man', 0.3360194265842438),\n",
       " ('nintendo', 0.3324439525604248),\n",
       " ('orphan', 0.3281562030315399),\n",
       " ('boys', 0.32154223322868347),\n",
       " ('child', 0.31663763523101807)]"
      ]
     },
     "execution_count": 5,
     "metadata": {},
     "output_type": "execute_result"
    }
   ],
   "source": [
    "model.most_similar(positive=['male','boy'], negative=['female'])\n"
   ]
  },
  {
   "cell_type": "code",
   "execution_count": 6,
   "metadata": {},
   "outputs": [
    {
     "data": {
      "text/plain": [
       "[('boyfriend', 0.5477264523506165),\n",
       " ('betty', 0.4965442419052124),\n",
       " ('stripper', 0.4948104918003082),\n",
       " ('pamela', 0.4681965112686157),\n",
       " ('dolores', 0.4653899669647217),\n",
       " ('fiancee', 0.46262404322624207),\n",
       " ('roz', 0.45947110652923584),\n",
       " ('lorna', 0.4554259777069092),\n",
       " ('peggy', 0.4532727599143982),\n",
       " ('rebecca', 0.4532467722892761)]"
      ]
     },
     "execution_count": 6,
     "metadata": {},
     "output_type": "execute_result"
    }
   ],
   "source": [
    "model.most_similar(positive=['female','girlfriend'], negative=['male'])\n"
   ]
  },
  {
   "cell_type": "code",
   "execution_count": 7,
   "metadata": {},
   "outputs": [],
   "source": [
    "from sklearn import decomposition # for PCA\n",
    "dimension = 200 # dimension of Word2Vec data named vectors.bin\n",
    "\n",
    "keyword = ['paris', 'france', 'berlin', 'germany', \n",
    "           'king', 'woman', 'man', 'queen', \n",
    "           'boy', 'girl', 'prince', 'princess', \n",
    "           'cd', 'dvd', 'music', 'movie', \n",
    "           'dog', 'dogs', 'child', 'children', \n",
    "           'japan', 'tokyo', 'taiwan', 'taipei', \n",
    "           'peace', 'war', 'positive', 'negative']"
   ]
  },
  {
   "cell_type": "code",
   "execution_count": 8,
   "metadata": {},
   "outputs": [],
   "source": [
    "x = np.zeros((len(keyword),dimension),dtype=float) # 2次元配列の確保\n",
    "for i in range(len(keyword)):\n",
    "    x[i,:]=model[keyword[i]] # copy 200-dim word2vec data for selected keyword\n"
   ]
  },
  {
   "cell_type": "code",
   "execution_count": 9,
   "metadata": {},
   "outputs": [],
   "source": [
    "# 主成分分析\n",
    "pca = decomposition.PCA(n_components=2) # PCA to reduce to 2-dimensional space\n",
    "myTrans = pca.fit_transform(x) # reduce to 2-d\n"
   ]
  },
  {
   "cell_type": "code",
   "execution_count": 10,
   "metadata": {},
   "outputs": [
    {
     "name": "stdout",
     "output_type": "stream",
     "text": [
      "['sans-serif']\n"
     ]
    }
   ],
   "source": [
    "%matplotlib inline\n",
    "import numpy as np\n",
    "import matplotlib.pyplot as plt\n",
    "import numpy as np # Numpy\n",
    "import matplotlib\n",
    "import matplotlib.pyplot as plt # 描画ライブラリ\n",
    "print (matplotlib.rcParams.get('font.family'))\n",
    "import matplotlib.font_manager as fm\n",
    "import matplotlib.patheffects as path_effects\n",
    "\n",
    "font_prop = fm.FontProperties()  \n",
    "font_prop.set_style('normal')\n",
    "font_prop.set_weight('light')\n",
    "font_prop.set_size('12')\n",
    "\n",
    "fp2 = font_prop.copy()# フォントプロパティ(FP)をコピー\n",
    "fp2.set_size('20')# フォントプロパティ(FP)をコピー\n",
    "fp2.set_family('serif')# フォントはSerif(明朝体など）に設定"
   ]
  },
  {
   "cell_type": "code",
   "execution_count": 11,
   "metadata": {},
   "outputs": [],
   "source": [
    "def myPlot():\n",
    "    myData = myTrans # np.load('myChosenWord2vec.npy')\n",
    "    plt.clf()\n",
    "    plt.figure(figsize=(12,11))\n",
    "    title = 'Two dimensional projection'\n",
    "    plt.title(title,fontsize=25,font_properties=fp2)\n",
    "    plt.xlabel(\"$X_1$\",fontsize=20,font_properties=fp2) # 第１主成分\n",
    "    plt.ylabel(\"$X_2$\",fontsize=20,font_properties=fp2) # 第２主成分\n",
    "\n",
    "    x1 = myData[:,0] # first dimension (28 keywords' X-position)\n",
    "    x2 = myData[:,1] # second dimension (28 keywrods' Y-position)\n",
    "    keyword = ['paris', 'france', 'berlin', 'germany', \n",
    "               'king', 'woman', 'man', 'queen', \n",
    "               'boy', 'girl', 'prince', 'princess', \n",
    "               'cd', 'dvd', 'music', 'movie', \n",
    "               'dog', 'dogs', 'child', 'children', \n",
    "               'japan', 'tokyo', 'taiwan', 'taipei', \n",
    "               'peace', 'war', 'positive', 'negative']\n",
    "\n",
    "    plt.scatter(x1, x2, edgecolor=\"blue\", facecolor=\"blue\", s=20) # scalefactor 20\n",
    "    for i in range(len(keyword)):\n",
    "        plt.text(x1[i]-1.5, x2[i]+0.75, \n",
    "                 keyword[i], \n",
    "                 color=\"black\",\n",
    "                 fontsize=20,font_properties=fp2) # keyword text plot\n",
    "    plt.grid(True)\n",
    "    plt.show()\n"
   ]
  },
  {
   "cell_type": "code",
   "execution_count": 12,
   "metadata": {
    "scrolled": false
   },
   "outputs": [
    {
     "data": {
      "text/plain": [
       "<Figure size 432x288 with 0 Axes>"
      ]
     },
     "metadata": {},
     "output_type": "display_data"
    },
    {
     "data": {
      "image/png": "[encoded data removed]",
      "text/plain": [
       "<Figure size 864x792 with 1 Axes>"
      ]
     },
     "metadata": {},
     "output_type": "display_data"
    }
   ],
   "source": [
    "myPlot()\n"
   ]
  },
  {
   "cell_type": "code",
   "execution_count": 13,
   "metadata": {},
   "outputs": [
    {
     "data": {
      "text/plain": [
       "0.642852328977037"
      ]
     },
     "execution_count": 13,
     "metadata": {},
     "output_type": "execute_result"
    }
   ],
   "source": [
    "model.similarity('woman', 'man')\n"
   ]
  },
  {
   "cell_type": "code",
   "execution_count": 14,
   "metadata": {},
   "outputs": [
    {
     "data": {
      "text/plain": [
       "'cereal'"
      ]
     },
     "execution_count": 14,
     "metadata": {},
     "output_type": "execute_result"
    }
   ],
   "source": [
    "model.doesnt_match(\"breakfast cereal dinner lunch\".split())\n"
   ]
  },
  {
   "cell_type": "code",
   "execution_count": 15,
   "metadata": {},
   "outputs": [
    {
     "data": {
      "text/plain": [
       "0.4469790651250187"
      ]
     },
     "execution_count": 15,
     "metadata": {},
     "output_type": "execute_result"
    }
   ],
   "source": [
    "model.distance(\"paris\",\"france\")"
   ]
  },
  {
   "cell_type": "code",
   "execution_count": 16,
   "metadata": {},
   "outputs": [
    {
     "data": {
      "text/plain": [
       "0.6922171791979231"
      ]
     },
     "execution_count": 16,
     "metadata": {},
     "output_type": "execute_result"
    }
   ],
   "source": [
    "model.distance(\"paris\",\"germany\")"
   ]
  },
  {
   "cell_type": "code",
   "execution_count": 17,
   "metadata": {},
   "outputs": [
    {
     "name": "stdout",
     "output_type": "stream",
     "text": [
      "(200,)\n",
      "[-2.036  2.501  1.51   3.3    0.136 -1.45   2.504 -0.538 -0.008  0.044\n",
      "  1.218 -1.192  1.541 -1.888 -1.552  0.24  -2.237  0.603 -0.413  2.337\n",
      "  0.34   0.884  3.636  0.92  -0.887  0.016  1.861 -0.246  0.419  0.666\n",
      " -0.976 -1.587  1.181  0.429 -0.67   2.493  1.388 -1.028 -1.518 -1.527\n",
      " -1.114 -0.494 -0.198  0.181 -0.478 -1.96   1.752 -2.661  1.045 -2.913\n",
      " -3.06   0.176  1.131 -0.865  0.96   2.702 -0.13   0.613  1.646 -0.498\n",
      "  1.247 -0.89   0.382 -0.921  2.916  0.196 -0.888 -2.201 -1.588  1.549\n",
      "  0.542 -2.233 -0.118 -1.298  2.944 -3.834  3.181 -1.583  2.029  1.321\n",
      " -0.301  0.073 -1.548  2.946 -0.484  0.086 -0.894 -1.088 -0.855 -0.818\n",
      "  2.381 -0.316  0.359  0.263  0.841 -0.285  2.611 -3.334  0.961  0.514\n",
      "  2.684 -1.526  1.789  1.472  0.475 -4.069  0.188  1.584  1.012  1.363\n",
      " -1.423  1.547 -0.048  0.787 -0.719  0.695  2.234 -2.405  0.504 -0.186\n",
      " -1.259  1.593  1.098 -1.257 -1.805  2.468  0.986  0.694 -0.13  -1.965\n",
      "  2.122  0.086 -0.904 -1.537 -2.2    4.215 -1.752 -2.938 -0.692  0.145\n",
      " -0.314 -0.043  0.997 -0.214 -1.409  3.046  0.065 -1.22  -0.448  2.343\n",
      " -1.311 -1.687  1.436  1.392 -0.033  0.679  1.502  2.483  1.577 -1.594\n",
      " -0.379 -1.702  0.945  1.177 -1.278  0.962  0.246 -2.144 -0.7   -3.165\n",
      " -1.696  1.851 -3.07  -2.206 -2.033 -4.513  0.399  0.174  1.326 -1.652\n",
      " -0.762 -1.264  1.062  4.11  -2.499  0.378  1.458 -1.785  0.936  0.737\n",
      " -2.207  1.801  1.602  0.49   1.61   0.185  3.842 -0.131  2.074 -0.83 ]\n"
     ]
    }
   ],
   "source": [
    "vector1 = model['office']\n",
    "print(vector1.shape)\n",
    "print(np.round(vector1,3))"
   ]
  },
  {
   "cell_type": "code",
   "execution_count": null,
   "metadata": {},
   "outputs": [],
   "source": []
  }
 ],
 "metadata": {
  "anaconda-cloud": {},
  "kernelspec": {
   "display_name": "Python 3",
   "language": "python",
   "name": "python3"
  },
  "language_info": {
   "codemirror_mode": {
    "name": "ipython",
    "version": 3
   },
   "file_extension": ".py",
   "mimetype": "text/x-python",
   "name": "python",
   "nbconvert_exporter": "python",
   "pygments_lexer": "ipython3",
   "version": "3.6.4"
  }
 },
 "nbformat": 4,
 "nbformat_minor": 1
}
