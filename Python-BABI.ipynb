{
 "cells": [
  {
   "cell_type": "markdown",
   "metadata": {},
   "source": [
    "# QA問題（FacebookのBABIデータを用いて）\n",
    "\n",
    "https://github.com/keras-team/keras/blob/master/examples/babi_memnn.py10_cnn.py\n",
    "\n",
    "End-to-Endメモリネットワーク\n",
    "\n",
    "<pre>\n",
    "Trains a memory network on the bAbI dataset.\n",
    "References:\n",
    "- Jason Weston, Antoine Bordes, Sumit Chopra, Tomas Mikolov, Alexander M. Rush,\n",
    "  \"Towards AI-Complete Question Answering: A Set of Prerequisite Toy Tasks\",\n",
    "  http://arxiv.org/abs/1502.05698\n",
    "- Sainbayar Sukhbaatar, Arthur Szlam, Jason Weston, Rob Fergus,\n",
    "  \"End-To-End Memory Networks\",\n",
    "  http://arxiv.org/abs/1503.08895\n",
    "Reaches 98.6% accuracy on task 'single_supporting_fact_10k' after 120 epochs.\n",
    "Time per epoch: 3s on CPU (core i7).\n",
    "</pre>"
   ]
  },
  {
   "cell_type": "code",
   "execution_count": 1,
   "metadata": {},
   "outputs": [
    {
     "name": "stderr",
     "output_type": "stream",
     "text": [
      "Using TensorFlow backend.\n"
     ]
    }
   ],
   "source": [
    "import warnings\n",
    "warnings.simplefilter(action='ignore', category=FutureWarning)\n",
    "\n",
    "import tensorflow as tf\n",
    "config = tf.ConfigProto()\n",
    "config.gpu_options.per_process_gpu_memory_fraction = 0.3  #30%\n",
    "session = tf.Session(config=config)\n",
    "import keras\n",
    "from keras import backend as K\n",
    "K.set_session(session) \n"
   ]
  },
  {
   "cell_type": "code",
   "execution_count": 2,
   "metadata": {},
   "outputs": [],
   "source": [
    "from keras.models import Sequential, Model\n",
    "from keras.layers.embeddings import Embedding\n",
    "from keras.layers import Input, Activation, Dense, Permute, Dropout, add, dot, concatenate\n",
    "from keras.layers import LSTM # GPUがない場合, CuDNNLSTM\n",
    "from keras.utils.data_utils import get_file\n",
    "from keras.preprocessing.sequence import pad_sequences\n",
    "from functools import reduce\n",
    "import tarfile\n",
    "import numpy as np\n",
    "import re\n"
   ]
  },
  {
   "cell_type": "code",
   "execution_count": 3,
   "metadata": {},
   "outputs": [],
   "source": [
    "def tokenize(sent):\n",
    "    '''Return the tokens of a sentence including punctuation.\n",
    "    >>> tokenize('Bob dropped the apple. Where is the apple?')\n",
    "    ['Bob', 'dropped', 'the', 'apple', '.', 'Where', 'is', 'the', 'apple', '?']\n",
    "    '''\n",
    "    return [x.strip() for x in re.split('(\\W+)?', sent) if x.strip()]\n"
   ]
  },
  {
   "cell_type": "code",
   "execution_count": 4,
   "metadata": {},
   "outputs": [
    {
     "name": "stdout",
     "output_type": "stream",
     "text": [
      "['I', 'love', 'you', 'more', 'than', 'anything', '.']\n"
     ]
    }
   ],
   "source": [
    "sample1 = \"I love you more than anything.\"\n",
    "print (tokenize(sample1))\n"
   ]
  },
  {
   "cell_type": "code",
   "execution_count": 5,
   "metadata": {},
   "outputs": [],
   "source": [
    "def parse_stories(lines, only_supporting=False):\n",
    "    '''Parse stories provided in the bAbi tasks format\n",
    "    If only_supporting is true, only the sentences\n",
    "    that support the answer are kept.\n",
    "    '''\n",
    "    data = []\n",
    "    story = []\n",
    "    for line in lines:\n",
    "        line = line.decode('utf-8').strip()\n",
    "        nid, line = line.split(' ', 1)\n",
    "        nid = int(nid)\n",
    "        if nid == 1:\n",
    "            story = []\n",
    "        if '\\t' in line:\n",
    "            q, a, supporting = line.split('\\t')\n",
    "            q = tokenize(q)\n",
    "            substory = None\n",
    "            if only_supporting:\n",
    "                # Only select the related substory\n",
    "                supporting = map(int, supporting.split())\n",
    "                substory = [story[i - 1] for i in supporting]\n",
    "            else:\n",
    "                # Provide all the substories\n",
    "                substory = [x for x in story if x]\n",
    "            data.append((substory, q, a))\n",
    "            story.append('')\n",
    "        else:\n",
    "            sent = tokenize(line)\n",
    "            story.append(sent)\n",
    "    return data\n"
   ]
  },
  {
   "cell_type": "code",
   "execution_count": 6,
   "metadata": {},
   "outputs": [],
   "source": [
    "def get_stories(f, only_supporting=False, max_length=None):\n",
    "    '''Given a file name, read the file,\n",
    "    retrieve the stories,\n",
    "    and then convert the sentences into a single story.\n",
    "    If max_length is supplied,\n",
    "    any stories longer than max_length tokens will be discarded.\n",
    "    '''\n",
    "    data = parse_stories(f.readlines(), only_supporting=only_supporting)\n",
    "    flatten = lambda data: reduce(lambda x, y: x + y, data)\n",
    "    data = [(flatten(story), q, answer) \n",
    "            for story, q, answer in data if not max_length or len(flatten(story)) < max_length]\n",
    "    return data\n"
   ]
  },
  {
   "cell_type": "code",
   "execution_count": 7,
   "metadata": {},
   "outputs": [],
   "source": [
    "def vectorize_stories(data):\n",
    "    inputs, queries, answers = [], [], []\n",
    "    for story, query, answer in data:\n",
    "        inputs.append([word_idx[w] for w in story])\n",
    "        queries.append([word_idx[w] for w in query])\n",
    "        answers.append(word_idx[answer])\n",
    "    return (pad_sequences(inputs, maxlen=story_maxlen),\n",
    "            pad_sequences(queries, maxlen=query_maxlen),\n",
    "            np.array(answers))\n",
    "  "
   ]
  },
  {
   "cell_type": "code",
   "execution_count": 8,
   "metadata": {},
   "outputs": [],
   "source": [
    "try:\n",
    "    path = get_file('babi-tasks-v1-2.tar.gz', \n",
    "                    origin='https://s3.amazonaws.com/text-datasets/babi_tasks_1-20_v1-2.tar.gz')\n",
    "except:\n",
    "    print('Error downloading dataset, please download it manually:\\n'\n",
    "          '$ wget http://www.thespermwhale.com/jaseweston/babi/tasks_1-20_v1-2.tar.gz\\n'\n",
    "          '$ mv tasks_1-20_v1-2.tar.gz ~/.keras/datasets/babi-tasks-v1-2.tar.gz')\n",
    "    raise"
   ]
  },
  {
   "cell_type": "code",
   "execution_count": 9,
   "metadata": {},
   "outputs": [],
   "source": [
    "challenges = {\n",
    "    # QA1 with 10,000 samples\n",
    "    'single_supporting_fact_10k': 'tasks_1-20_v1-2/en-10k/qa1_single-supporting-fact_{}.txt',\n",
    "    # QA2 with 10,000 samples\n",
    "    'two_supporting_facts_10k': 'tasks_1-20_v1-2/en-10k/qa2_two-supporting-facts_{}.txt',\n",
    "}\n",
    "challenge_type = 'single_supporting_fact_10k'\n",
    "challenge = challenges[challenge_type]\n"
   ]
  },
  {
   "cell_type": "code",
   "execution_count": 11,
   "metadata": {},
   "outputs": [
    {
     "name": "stdout",
     "output_type": "stream",
     "text": [
      "Extracting stories for the challenge: single_supporting_fact_10k\n",
      "training data: stories =  <class 'list'> 10000\n",
      "1st story =  (['Mary', 'moved', 'to', 'the', 'bathroom', '.', 'John', 'went', 'to', 'the', 'hallway', '.'], ['Where', 'is', 'Mary', '?'], 'bathroom')\n",
      "2nd story =  (['Mary', 'moved', 'to', 'the', 'bathroom', '.', 'John', 'went', 'to', 'the', 'hallway', '.', 'Daniel', 'went', 'back', 'to', 'the', 'hallway', '.', 'Sandra', 'moved', 'to', 'the', 'garden', '.'], ['Where', 'is', 'Daniel', '?'], 'hallway')\n",
      "4th story =  (['Mary', 'moved', 'to', 'the', 'bathroom', '.', 'John', 'went', 'to', 'the', 'hallway', '.', 'Daniel', 'went', 'back', 'to', 'the', 'hallway', '.', 'Sandra', 'moved', 'to', 'the', 'garden', '.', 'John', 'moved', 'to', 'the', 'office', '.', 'Sandra', 'journeyed', 'to', 'the', 'bathroom', '.', 'Mary', 'moved', 'to', 'the', 'hallway', '.', 'Daniel', 'travelled', 'to', 'the', 'office', '.'], ['Where', 'is', 'Daniel', '?'], 'office')\n",
      "last story =  (['John', 'moved', 'to', 'the', 'bathroom', '.', 'Daniel', 'went', 'to', 'the', 'kitchen', '.', 'Sandra', 'travelled', 'to', 'the', 'kitchen', '.', 'Mary', 'travelled', 'to', 'the', 'hallway', '.', 'Sandra', 'went', 'back', 'to', 'the', 'bathroom', '.', 'John', 'went', 'back', 'to', 'the', 'kitchen', '.', 'Daniel', 'went', 'back', 'to', 'the', 'office', '.', 'Daniel', 'journeyed', 'to', 'the', 'bathroom', '.', 'John', 'went', 'back', 'to', 'the', 'office', '.', 'Mary', 'travelled', 'to', 'the', 'bedroom', '.'], ['Where', 'is', 'John', '?'], 'office')\n"
     ]
    }
   ],
   "source": [
    "print('Extracting stories for the challenge:', challenge_type)\n",
    "with tarfile.open(path) as tar:\n",
    "    train_stories = get_stories(tar.extractfile(challenge.format('train')))\n",
    "    test_stories = get_stories(tar.extractfile(challenge.format('test')))\n",
    "\n",
    "print(\"training data: stories = \", type(train_stories), len(train_stories))# , train_stories)\n",
    "print(\"1st story = \",train_stories[0])\n",
    "print(\"2nd story = \",train_stories[1])\n",
    "print(\"4th story = \",train_stories[3])\n",
    "print(\"last story = \",train_stories[9999])"
   ]
  },
  {
   "cell_type": "code",
   "execution_count": 12,
   "metadata": {},
   "outputs": [
    {
     "name": "stdout",
     "output_type": "stream",
     "text": [
      "['.', '?', 'Daniel', 'John', 'Mary', 'Sandra', 'Where', 'back', 'bathroom', 'bedroom', 'garden', 'hallway', 'is', 'journeyed', 'kitchen', 'moved', 'office', 'the', 'to', 'travelled', 'went']\n",
      "-\n",
      "Vocab size: 22 unique words\n",
      "Story max length: 68 words\n",
      "Query max length: 4 words\n",
      "Number of training stories: 10000\n",
      "Number of test stories: 1000\n",
      "-\n",
      "Here's what a \"story\" tuple looks like (input, query, answer):\n",
      "(['Mary', 'moved', 'to', 'the', 'bathroom', '.', 'John', 'went', 'to', 'the', 'hallway', '.'], ['Where', 'is', 'Mary', '?'], 'bathroom')\n",
      "-\n",
      "Vectorizing the word sequences...\n"
     ]
    }
   ],
   "source": [
    "vocab = set()\n",
    "for story, q, answer in train_stories + test_stories:\n",
    "    vocab |= set(story + q + [answer])\n",
    "vocab = sorted(vocab)\n",
    "print(vocab)\n",
    "\n",
    "# Reserve 0 for masking via pad_sequences\n",
    "vocab_size = len(vocab) + 1\n",
    "story_maxlen = max(map(len, (x for x, _, _ in train_stories + test_stories)))\n",
    "query_maxlen = max(map(len, (x for _, x, _ in train_stories + test_stories)))\n",
    "\n",
    "print('-')\n",
    "print('Vocab size:', vocab_size, 'unique words')\n",
    "print('Story max length:', story_maxlen, 'words')\n",
    "print('Query max length:', query_maxlen, 'words')\n",
    "print('Number of training stories:', len(train_stories))\n",
    "print('Number of test stories:', len(test_stories))\n",
    "print('-')\n",
    "print('Here\\'s what a \"story\" tuple looks like (input, query, answer):')\n",
    "print(train_stories[0])\n",
    "print('-')\n",
    "print('Vectorizing the word sequences...')"
   ]
  },
  {
   "cell_type": "code",
   "execution_count": 13,
   "metadata": {},
   "outputs": [
    {
     "name": "stdout",
     "output_type": "stream",
     "text": [
      "-\n",
      "inputs: integer tensor of shape (samples, max_length)\n",
      "inputs_train shape: (10000, 68)\n",
      "inputs_test shape: (1000, 68)\n",
      "-\n",
      "queries: integer tensor of shape (samples, max_length)\n",
      "queries_train shape: (10000, 4)\n",
      "queries_test shape: (1000, 4)\n",
      "-\n",
      "answers: binary (1 or 0) tensor of shape (samples, vocab_size)\n",
      "answers_train shape: (10000,)\n",
      "answers_test shape: (1000,)\n",
      "-\n",
      "Compiling...\n"
     ]
    }
   ],
   "source": [
    "word_idx = dict((c, i + 1) for i, c in enumerate(vocab))\n",
    "inputs_train, queries_train, answers_train = vectorize_stories(train_stories)\n",
    "inputs_test, queries_test, answers_test = vectorize_stories(test_stories)\n",
    "\n",
    "print('-')\n",
    "print('inputs: integer tensor of shape (samples, max_length)')\n",
    "print('inputs_train shape:', inputs_train.shape)\n",
    "print('inputs_test shape:', inputs_test.shape)\n",
    "print('-')\n",
    "print('queries: integer tensor of shape (samples, max_length)')\n",
    "print('queries_train shape:', queries_train.shape)\n",
    "print('queries_test shape:', queries_test.shape)\n",
    "print('-')\n",
    "print('answers: binary (1 or 0) tensor of shape (samples, vocab_size)')\n",
    "print('answers_train shape:', answers_train.shape)\n",
    "print('answers_test shape:', answers_test.shape)\n",
    "print('-')\n",
    "print('Compiling...')"
   ]
  },
  {
   "cell_type": "code",
   "execution_count": 14,
   "metadata": {},
   "outputs": [
    {
     "name": "stdout",
     "output_type": "stream",
     "text": [
      "<class 'tensorflow.python.framework.ops.Tensor'>\n",
      "Tensor(\"input_1:0\", shape=(?, 68), dtype=float32)\n"
     ]
    }
   ],
   "source": [
    "# placeholders\n",
    "input_sequence = Input((story_maxlen,))\n",
    "question = Input((query_maxlen,))\n",
    "print(type(input_sequence))\n",
    "print(input_sequence)\n"
   ]
  },
  {
   "cell_type": "code",
   "execution_count": 15,
   "metadata": {},
   "outputs": [
    {
     "name": "stdout",
     "output_type": "stream",
     "text": [
      "input_encoder_m:  <keras.models.Sequential object at 0x00000000104DDEB8>\n",
      "_________________________________________________________________\n",
      "Layer (type)                 Output Shape              Param #   \n",
      "=================================================================\n",
      "embedding_1 (Embedding)      (None, None, 64)          1408      \n",
      "_________________________________________________________________\n",
      "dropout_1 (Dropout)          (None, None, 64)          0         \n",
      "=================================================================\n",
      "Total params: 1,408\n",
      "Trainable params: 1,408\n",
      "Non-trainable params: 0\n",
      "_________________________________________________________________\n"
     ]
    }
   ],
   "source": [
    "# encoders\n",
    "# embed the input sequence into a sequence of vectors\n",
    "input_encoder_m = Sequential()\n",
    "input_encoder_m.add(Embedding(input_dim=vocab_size,\n",
    "                              output_dim=64))\n",
    "input_encoder_m.add(Dropout(0.3))\n",
    "# output: (samples, story_maxlen, embedding_dim)\n",
    "\n",
    "print(\"input_encoder_m: \",input_encoder_m)\n",
    "input_encoder_m.summary()"
   ]
  },
  {
   "cell_type": "code",
   "execution_count": 16,
   "metadata": {},
   "outputs": [
    {
     "name": "stdout",
     "output_type": "stream",
     "text": [
      "input_encoder_c:  <keras.models.Sequential object at 0x000000000D2D7C88>\n",
      "_________________________________________________________________\n",
      "Layer (type)                 Output Shape              Param #   \n",
      "=================================================================\n",
      "embedding_2 (Embedding)      (None, None, 4)           88        \n",
      "_________________________________________________________________\n",
      "dropout_2 (Dropout)          (None, None, 4)           0         \n",
      "=================================================================\n",
      "Total params: 88\n",
      "Trainable params: 88\n",
      "Non-trainable params: 0\n",
      "_________________________________________________________________\n"
     ]
    }
   ],
   "source": [
    "# embed the input into a sequence of vectors of size query_maxlen\n",
    "input_encoder_c = Sequential()\n",
    "input_encoder_c.add(Embedding(input_dim=vocab_size,\n",
    "                              output_dim=query_maxlen))\n",
    "input_encoder_c.add(Dropout(0.3))\n",
    "# output: (samples, story_maxlen, query_maxlen)\n",
    "\n",
    "print(\"input_encoder_c: \",input_encoder_c)\n",
    "input_encoder_c.summary()"
   ]
  },
  {
   "cell_type": "code",
   "execution_count": 17,
   "metadata": {},
   "outputs": [
    {
     "name": "stdout",
     "output_type": "stream",
     "text": [
      "question_encoder:  <keras.models.Sequential object at 0x00000000104114A8>\n",
      "_________________________________________________________________\n",
      "Layer (type)                 Output Shape              Param #   \n",
      "=================================================================\n",
      "embedding_3 (Embedding)      (None, 4, 64)             1408      \n",
      "_________________________________________________________________\n",
      "dropout_3 (Dropout)          (None, 4, 64)             0         \n",
      "=================================================================\n",
      "Total params: 1,408\n",
      "Trainable params: 1,408\n",
      "Non-trainable params: 0\n",
      "_________________________________________________________________\n"
     ]
    }
   ],
   "source": [
    "# embed the question into a sequence of vectors\n",
    "question_encoder = Sequential()\n",
    "question_encoder.add(Embedding(input_dim=vocab_size,\n",
    "                               output_dim=64,\n",
    "                               input_length=query_maxlen))\n",
    "question_encoder.add(Dropout(0.3))\n",
    "# output: (samples, query_maxlen, embedding_dim)\n",
    "\n",
    "print(\"question_encoder: \",question_encoder)\n",
    "question_encoder.summary()"
   ]
  },
  {
   "cell_type": "code",
   "execution_count": 18,
   "metadata": {},
   "outputs": [
    {
     "name": "stdout",
     "output_type": "stream",
     "text": [
      "input_sequence =  Tensor(\"input_1:0\", shape=(?, 68), dtype=float32)\n",
      "question_encoded =  Tensor(\"sequential_3/dropout_3/cond/Merge:0\", shape=(?, 4, 64), dtype=float32)\n",
      "question =  Tensor(\"input_2:0\", shape=(?, 4), dtype=float32)\n",
      "input_encoded_m =  Tensor(\"sequential_1/dropout_1/cond/Merge:0\", shape=(?, 68, 64), dtype=float32)\n",
      "input_encoded_c =  Tensor(\"sequential_2/dropout_2/cond/Merge:0\", shape=(?, 68, 4), dtype=float32)\n"
     ]
    }
   ],
   "source": [
    "# encode input sequence and questions (which are indices)\n",
    "# to sequences of dense vectors\n",
    "input_encoded_m = input_encoder_m(input_sequence)\n",
    "input_encoded_c = input_encoder_c(input_sequence)\n",
    "question_encoded = question_encoder(question)\n",
    "print(\"input_sequence = \",input_sequence)\n",
    "print(\"question_encoded = \",question_encoded)\n",
    "print(\"question = \",question)\n",
    "print(\"input_encoded_m = \",input_encoded_m)\n",
    "print(\"input_encoded_c = \",input_encoded_c)"
   ]
  },
  {
   "cell_type": "code",
   "execution_count": 19,
   "metadata": {},
   "outputs": [
    {
     "name": "stdout",
     "output_type": "stream",
     "text": [
      "match2(dot): Tensor(\"dot_1/MatMul:0\", shape=(?, 68, 4), dtype=float32)\n",
      "match(Activation): Tensor(\"activation_1/truediv:0\", shape=(?, 68, 4), dtype=float32)\n"
     ]
    }
   ],
   "source": [
    "# compute a 'match' between the first input vector sequence\n",
    "# and the question vector sequence\n",
    "# shape: `(samples, story_maxlen, query_maxlen)`\n",
    "match = dot([input_encoded_m, question_encoded], axes=(2, 2))\n",
    "match2 = match\n",
    "match = Activation('softmax')(match)\n",
    "\n",
    "print(\"match2(dot):\",match2)\n",
    "print(\"match(Activation):\",match)"
   ]
  },
  {
   "cell_type": "code",
   "execution_count": 20,
   "metadata": {},
   "outputs": [
    {
     "name": "stdout",
     "output_type": "stream",
     "text": [
      "response2(add): Tensor(\"add_1/add:0\", shape=(?, 68, 4), dtype=float32)\n",
      "response(Permute): Tensor(\"permute_1/transpose:0\", shape=(?, 4, 68), dtype=float32)\n"
     ]
    }
   ],
   "source": [
    "# add the match matrix with the second input vector sequence\n",
    "response = add([match, input_encoded_c])  # (samples, story_maxlen, query_maxlen)\n",
    "response2 = response\n",
    "response = Permute((2, 1))(response)  # (samples, query_maxlen, story_maxlen)\n",
    "\n",
    "print(\"response2(add):\",response2)\n",
    "print(\"response(Permute):\",response)"
   ]
  },
  {
   "cell_type": "code",
   "execution_count": 21,
   "metadata": {},
   "outputs": [
    {
     "name": "stdout",
     "output_type": "stream",
     "text": [
      "answer(concatenate): Tensor(\"concatenate_1/concat:0\", shape=(?, 4, 132), dtype=float32)\n"
     ]
    }
   ],
   "source": [
    "# concatenate the match matrix with the question vector sequence\n",
    "answer = concatenate([response, question_encoded])\n",
    "print(\"answer(concatenate):\",answer)"
   ]
  },
  {
   "cell_type": "code",
   "execution_count": 22,
   "metadata": {},
   "outputs": [
    {
     "name": "stdout",
     "output_type": "stream",
     "text": [
      "answer(LSTM(32)) Tensor(\"lstm_1/TensorArrayReadV3:0\", shape=(?, 32), dtype=float32)\n",
      "answer1(Dropout) Tensor(\"dropout_4/cond/Merge:0\", shape=(?, 32), dtype=float32)\n",
      "answer2(Dense) Tensor(\"dense_1/BiasAdd:0\", shape=(?, 22), dtype=float32)\n",
      "answer(Activation) Tensor(\"activation_2/Softmax:0\", shape=(?, 22), dtype=float32)\n",
      "__________________________________________________________________________________________________\n",
      "Layer (type)                    Output Shape         Param #     Connected to                     \n",
      "==================================================================================================\n",
      "input_1 (InputLayer)            (None, 68)           0                                            \n",
      "__________________________________________________________________________________________________\n",
      "input_2 (InputLayer)            (None, 4)            0                                            \n",
      "__________________________________________________________________________________________________\n",
      "sequential_1 (Sequential)       multiple             1408        input_1[0][0]                    \n",
      "__________________________________________________________________________________________________\n",
      "sequential_3 (Sequential)       (None, 4, 64)        1408        input_2[0][0]                    \n",
      "__________________________________________________________________________________________________\n",
      "dot_1 (Dot)                     (None, 68, 4)        0           sequential_1[1][0]               \n",
      "                                                                 sequential_3[1][0]               \n",
      "__________________________________________________________________________________________________\n",
      "activation_1 (Activation)       (None, 68, 4)        0           dot_1[0][0]                      \n",
      "__________________________________________________________________________________________________\n",
      "sequential_2 (Sequential)       multiple             88          input_1[0][0]                    \n",
      "__________________________________________________________________________________________________\n",
      "add_1 (Add)                     (None, 68, 4)        0           activation_1[0][0]               \n",
      "                                                                 sequential_2[1][0]               \n",
      "__________________________________________________________________________________________________\n",
      "permute_1 (Permute)             (None, 4, 68)        0           add_1[0][0]                      \n",
      "__________________________________________________________________________________________________\n",
      "concatenate_1 (Concatenate)     (None, 4, 132)       0           permute_1[0][0]                  \n",
      "                                                                 sequential_3[1][0]               \n",
      "__________________________________________________________________________________________________\n",
      "lstm_1 (LSTM)                   (None, 32)           21120       concatenate_1[0][0]              \n",
      "__________________________________________________________________________________________________\n",
      "dropout_4 (Dropout)             (None, 32)           0           lstm_1[0][0]                     \n",
      "__________________________________________________________________________________________________\n",
      "dense_1 (Dense)                 (None, 22)           726         dropout_4[0][0]                  \n",
      "__________________________________________________________________________________________________\n",
      "activation_2 (Activation)       (None, 22)           0           dense_1[0][0]                    \n",
      "==================================================================================================\n",
      "Total params: 24,750\n",
      "Trainable params: 24,750\n",
      "Non-trainable params: 0\n",
      "__________________________________________________________________________________________________\n"
     ]
    }
   ],
   "source": [
    "# the original paper uses a matrix multiplication for this reduction step.\n",
    "# we choose to use a RNN instead.\n",
    "# GPUがあればCuDNNLSTM, なければLSTM\n",
    "answer = LSTM(32)(answer)  # (samples, 32)\n",
    "print(\"answer(LSTM(32))\",answer)\n",
    "\n",
    "# one regularization layer -- more would probably be needed.\n",
    "answer = Dropout(0.3)(answer)\n",
    "answer1 = answer\n",
    "print(\"answer1(Dropout)\",answer1)\n",
    "\n",
    "answer = Dense(vocab_size)(answer)  # (samples, vocab_size)\n",
    "answer2 = answer\n",
    "print(\"answer2(Dense)\",answer2)\n",
    "\n",
    "# we output a probability distribution over the vocabulary\n",
    "answer = Activation('softmax')(answer)\n",
    "print(\"answer(Activation)\",answer)\n",
    "\n",
    "# build the final model\n",
    "model = Model([input_sequence, question], answer)\n",
    "\n",
    "model.summary()\n",
    "\n",
    "model.compile(optimizer='rmsprop', loss='sparse_categorical_crossentropy',metrics=['accuracy'])"
   ]
  },
  {
   "cell_type": "code",
   "execution_count": 23,
   "metadata": {},
   "outputs": [
    {
     "data": {
      "image/svg+xml": [
       "<svg height=\"885pt\" viewBox=\"0.00 0.00 783.50 885.00\" width=\"784pt\" xmlns=\"http://www.w3.org/2000/svg\" xmlns:xlink=\"http://www.w3.org/1999/xlink\">\n",
       "<g class=\"graph\" id=\"graph0\" transform=\"scale(1 1) rotate(0) translate(4 881)\">\n",
       "<title>G</title>\n",
       "<polygon fill=\"white\" points=\"-4,4 -4,-881 779.5,-881 779.5,4 -4,4\" stroke=\"none\"/>\n",
       "<!-- 273536728 -->\n",
       "<g class=\"node\" id=\"node1\"><title>273536728</title>\n",
       "<polygon fill=\"none\" points=\"109,-830.5 109,-876.5 368,-876.5 368,-830.5 109,-830.5\" stroke=\"black\"/>\n",
       "<text font-family=\"Times New Roman,serif\" font-size=\"14.00\" text-anchor=\"middle\" x=\"172\" y=\"-849.8\">input_1: InputLayer</text>\n",
       "<polyline fill=\"none\" points=\"235,-830.5 235,-876.5 \" stroke=\"black\"/>\n",
       "<text font-family=\"Times New Roman,serif\" font-size=\"14.00\" text-anchor=\"middle\" x=\"263\" y=\"-861.3\">input:</text>\n",
       "<polyline fill=\"none\" points=\"235,-853.5 291,-853.5 \" stroke=\"black\"/>\n",
       "<text font-family=\"Times New Roman,serif\" font-size=\"14.00\" text-anchor=\"middle\" x=\"263\" y=\"-838.3\">output:</text>\n",
       "<polyline fill=\"none\" points=\"291,-830.5 291,-876.5 \" stroke=\"black\"/>\n",
       "<text font-family=\"Times New Roman,serif\" font-size=\"14.00\" text-anchor=\"middle\" x=\"329.5\" y=\"-861.3\">(None, 68)</text>\n",
       "<polyline fill=\"none\" points=\"291,-853.5 368,-853.5 \" stroke=\"black\"/>\n",
       "<text font-family=\"Times New Roman,serif\" font-size=\"14.00\" text-anchor=\"middle\" x=\"329.5\" y=\"-838.3\">(None, 68)</text>\n",
       "</g>\n",
       "<!-- 273538744 -->\n",
       "<g class=\"node\" id=\"node3\"><title>273538744</title>\n",
       "<polygon fill=\"none\" points=\"191,-747.5 191,-793.5 456,-793.5 456,-747.5 191,-747.5\" stroke=\"black\"/>\n",
       "<text font-family=\"Times New Roman,serif\" font-size=\"14.00\" text-anchor=\"middle\" x=\"265.5\" y=\"-766.8\">sequential_1: Sequential</text>\n",
       "<polyline fill=\"none\" points=\"340,-747.5 340,-793.5 \" stroke=\"black\"/>\n",
       "<text font-family=\"Times New Roman,serif\" font-size=\"14.00\" text-anchor=\"middle\" x=\"368\" y=\"-778.3\">input:</text>\n",
       "<polyline fill=\"none\" points=\"340,-770.5 396,-770.5 \" stroke=\"black\"/>\n",
       "<text font-family=\"Times New Roman,serif\" font-size=\"14.00\" text-anchor=\"middle\" x=\"368\" y=\"-755.3\">output:</text>\n",
       "<polyline fill=\"none\" points=\"396,-747.5 396,-793.5 \" stroke=\"black\"/>\n",
       "<text font-family=\"Times New Roman,serif\" font-size=\"14.00\" text-anchor=\"middle\" x=\"426\" y=\"-778.3\">multiple</text>\n",
       "<polyline fill=\"none\" points=\"396,-770.5 456,-770.5 \" stroke=\"black\"/>\n",
       "<text font-family=\"Times New Roman,serif\" font-size=\"14.00\" text-anchor=\"middle\" x=\"426\" y=\"-755.3\">multiple</text>\n",
       "</g>\n",
       "<!-- 273536728&#45;&gt;273538744 -->\n",
       "<g class=\"edge\" id=\"edge1\"><title>273536728-&gt;273538744</title>\n",
       "<path d=\"M261.727,-830.366C271.378,-821.169 282.711,-810.369 293.017,-800.548\" fill=\"none\" stroke=\"black\"/>\n",
       "<polygon fill=\"black\" points=\"295.477,-803.039 300.301,-793.607 290.648,-797.972 295.477,-803.039\" stroke=\"black\"/>\n",
       "</g>\n",
       "<!-- 221084808 -->\n",
       "<g class=\"node\" id=\"node7\"><title>221084808</title>\n",
       "<polygon fill=\"none\" points=\"0,-664.5 0,-710.5 265,-710.5 265,-664.5 0,-664.5\" stroke=\"black\"/>\n",
       "<text font-family=\"Times New Roman,serif\" font-size=\"14.00\" text-anchor=\"middle\" x=\"74.5\" y=\"-683.8\">sequential_2: Sequential</text>\n",
       "<polyline fill=\"none\" points=\"149,-664.5 149,-710.5 \" stroke=\"black\"/>\n",
       "<text font-family=\"Times New Roman,serif\" font-size=\"14.00\" text-anchor=\"middle\" x=\"177\" y=\"-695.3\">input:</text>\n",
       "<polyline fill=\"none\" points=\"149,-687.5 205,-687.5 \" stroke=\"black\"/>\n",
       "<text font-family=\"Times New Roman,serif\" font-size=\"14.00\" text-anchor=\"middle\" x=\"177\" y=\"-672.3\">output:</text>\n",
       "<polyline fill=\"none\" points=\"205,-664.5 205,-710.5 \" stroke=\"black\"/>\n",
       "<text font-family=\"Times New Roman,serif\" font-size=\"14.00\" text-anchor=\"middle\" x=\"235\" y=\"-695.3\">multiple</text>\n",
       "<polyline fill=\"none\" points=\"205,-687.5 265,-687.5 \" stroke=\"black\"/>\n",
       "<text font-family=\"Times New Roman,serif\" font-size=\"14.00\" text-anchor=\"middle\" x=\"235\" y=\"-672.3\">multiple</text>\n",
       "</g>\n",
       "<!-- 273536728&#45;&gt;221084808 -->\n",
       "<g class=\"edge\" id=\"edge6\"><title>273536728-&gt;221084808</title>\n",
       "<path d=\"M213.527,-830.481C202.767,-820.136 190.595,-807.192 181.5,-794 165.595,-770.931 152.537,-741.877 143.912,-720.103\" fill=\"none\" stroke=\"black\"/>\n",
       "<polygon fill=\"black\" points=\"147.132,-718.727 140.266,-710.658 140.602,-721.248 147.132,-718.727\" stroke=\"black\"/>\n",
       "</g>\n",
       "<!-- 273536784 -->\n",
       "<g class=\"node\" id=\"node2\"><title>273536784</title>\n",
       "<polygon fill=\"none\" points=\"501.5,-830.5 501.5,-876.5 753.5,-876.5 753.5,-830.5 501.5,-830.5\" stroke=\"black\"/>\n",
       "<text font-family=\"Times New Roman,serif\" font-size=\"14.00\" text-anchor=\"middle\" x=\"564.5\" y=\"-849.8\">input_2: InputLayer</text>\n",
       "<polyline fill=\"none\" points=\"627.5,-830.5 627.5,-876.5 \" stroke=\"black\"/>\n",
       "<text font-family=\"Times New Roman,serif\" font-size=\"14.00\" text-anchor=\"middle\" x=\"655.5\" y=\"-861.3\">input:</text>\n",
       "<polyline fill=\"none\" points=\"627.5,-853.5 683.5,-853.5 \" stroke=\"black\"/>\n",
       "<text font-family=\"Times New Roman,serif\" font-size=\"14.00\" text-anchor=\"middle\" x=\"655.5\" y=\"-838.3\">output:</text>\n",
       "<polyline fill=\"none\" points=\"683.5,-830.5 683.5,-876.5 \" stroke=\"black\"/>\n",
       "<text font-family=\"Times New Roman,serif\" font-size=\"14.00\" text-anchor=\"middle\" x=\"718.5\" y=\"-861.3\">(None, 4)</text>\n",
       "<polyline fill=\"none\" points=\"683.5,-853.5 753.5,-853.5 \" stroke=\"black\"/>\n",
       "<text font-family=\"Times New Roman,serif\" font-size=\"14.00\" text-anchor=\"middle\" x=\"718.5\" y=\"-838.3\">(None, 4)</text>\n",
       "</g>\n",
       "<!-- 272700584 -->\n",
       "<g class=\"node\" id=\"node4\"><title>272700584</title>\n",
       "<polygon fill=\"none\" points=\"479.5,-747.5 479.5,-793.5 775.5,-793.5 775.5,-747.5 479.5,-747.5\" stroke=\"black\"/>\n",
       "<text font-family=\"Times New Roman,serif\" font-size=\"14.00\" text-anchor=\"middle\" x=\"554\" y=\"-766.8\">sequential_3: Sequential</text>\n",
       "<polyline fill=\"none\" points=\"628.5,-747.5 628.5,-793.5 \" stroke=\"black\"/>\n",
       "<text font-family=\"Times New Roman,serif\" font-size=\"14.00\" text-anchor=\"middle\" x=\"656.5\" y=\"-778.3\">input:</text>\n",
       "<polyline fill=\"none\" points=\"628.5,-770.5 684.5,-770.5 \" stroke=\"black\"/>\n",
       "<text font-family=\"Times New Roman,serif\" font-size=\"14.00\" text-anchor=\"middle\" x=\"656.5\" y=\"-755.3\">output:</text>\n",
       "<polyline fill=\"none\" points=\"684.5,-747.5 684.5,-793.5 \" stroke=\"black\"/>\n",
       "<text font-family=\"Times New Roman,serif\" font-size=\"14.00\" text-anchor=\"middle\" x=\"730\" y=\"-778.3\">(None, 4)</text>\n",
       "<polyline fill=\"none\" points=\"684.5,-770.5 775.5,-770.5 \" stroke=\"black\"/>\n",
       "<text font-family=\"Times New Roman,serif\" font-size=\"14.00\" text-anchor=\"middle\" x=\"730\" y=\"-755.3\">(None, 4, 64)</text>\n",
       "</g>\n",
       "<!-- 273536784&#45;&gt;272700584 -->\n",
       "<g class=\"edge\" id=\"edge2\"><title>273536784-&gt;272700584</title>\n",
       "<path d=\"M627.5,-830.366C627.5,-822.152 627.5,-812.658 627.5,-803.725\" fill=\"none\" stroke=\"black\"/>\n",
       "<polygon fill=\"black\" points=\"631,-803.607 627.5,-793.607 624,-803.607 631,-803.607\" stroke=\"black\"/>\n",
       "</g>\n",
       "<!-- 91336888 -->\n",
       "<g class=\"node\" id=\"node5\"><title>91336888</title>\n",
       "<polygon fill=\"none\" points=\"283,-664.5 283,-710.5 604,-710.5 604,-664.5 283,-664.5\" stroke=\"black\"/>\n",
       "<text font-family=\"Times New Roman,serif\" font-size=\"14.00\" text-anchor=\"middle\" x=\"321.5\" y=\"-683.8\">dot_1: Dot</text>\n",
       "<polyline fill=\"none\" points=\"360,-664.5 360,-710.5 \" stroke=\"black\"/>\n",
       "<text font-family=\"Times New Roman,serif\" font-size=\"14.00\" text-anchor=\"middle\" x=\"388\" y=\"-695.3\">input:</text>\n",
       "<polyline fill=\"none\" points=\"360,-687.5 416,-687.5 \" stroke=\"black\"/>\n",
       "<text font-family=\"Times New Roman,serif\" font-size=\"14.00\" text-anchor=\"middle\" x=\"388\" y=\"-672.3\">output:</text>\n",
       "<polyline fill=\"none\" points=\"416,-664.5 416,-710.5 \" stroke=\"black\"/>\n",
       "<text font-family=\"Times New Roman,serif\" font-size=\"14.00\" text-anchor=\"middle\" x=\"510\" y=\"-695.3\">[(None, 68, 64), (None, 4, 64)]</text>\n",
       "<polyline fill=\"none\" points=\"416,-687.5 604,-687.5 \" stroke=\"black\"/>\n",
       "<text font-family=\"Times New Roman,serif\" font-size=\"14.00\" text-anchor=\"middle\" x=\"510\" y=\"-672.3\">(None, 68, 4)</text>\n",
       "</g>\n",
       "<!-- 273538744&#45;&gt;91336888 -->\n",
       "<g class=\"edge\" id=\"edge3\"><title>273538744-&gt;91336888</title>\n",
       "<path d=\"M356.291,-747.366C370.445,-737.812 387.162,-726.528 402.154,-716.409\" fill=\"none\" stroke=\"black\"/>\n",
       "<polygon fill=\"black\" points=\"404.419,-719.103 410.749,-710.607 400.502,-713.301 404.419,-719.103\" stroke=\"black\"/>\n",
       "</g>\n",
       "<!-- 272700584&#45;&gt;91336888 -->\n",
       "<g class=\"edge\" id=\"edge4\"><title>272700584-&gt;91336888</title>\n",
       "<path d=\"M577.221,-747.366C554.301,-737.277 526.998,-725.257 503.056,-714.718\" fill=\"none\" stroke=\"black\"/>\n",
       "<polygon fill=\"black\" points=\"504.281,-711.433 493.718,-710.607 501.46,-717.839 504.281,-711.433\" stroke=\"black\"/>\n",
       "</g>\n",
       "<!-- 273536896 -->\n",
       "<g class=\"node\" id=\"node10\"><title>273536896</title>\n",
       "<polygon fill=\"none\" points=\"338,-332.5 338,-378.5 749,-378.5 749,-332.5 338,-332.5\" stroke=\"black\"/>\n",
       "<text font-family=\"Times New Roman,serif\" font-size=\"14.00\" text-anchor=\"middle\" x=\"424.5\" y=\"-351.8\">concatenate_1: Concatenate</text>\n",
       "<polyline fill=\"none\" points=\"511,-332.5 511,-378.5 \" stroke=\"black\"/>\n",
       "<text font-family=\"Times New Roman,serif\" font-size=\"14.00\" text-anchor=\"middle\" x=\"539\" y=\"-363.3\">input:</text>\n",
       "<polyline fill=\"none\" points=\"511,-355.5 567,-355.5 \" stroke=\"black\"/>\n",
       "<text font-family=\"Times New Roman,serif\" font-size=\"14.00\" text-anchor=\"middle\" x=\"539\" y=\"-340.3\">output:</text>\n",
       "<polyline fill=\"none\" points=\"567,-332.5 567,-378.5 \" stroke=\"black\"/>\n",
       "<text font-family=\"Times New Roman,serif\" font-size=\"14.00\" text-anchor=\"middle\" x=\"658\" y=\"-363.3\">[(None, 4, 68), (None, 4, 64)]</text>\n",
       "<polyline fill=\"none\" points=\"567,-355.5 749,-355.5 \" stroke=\"black\"/>\n",
       "<text font-family=\"Times New Roman,serif\" font-size=\"14.00\" text-anchor=\"middle\" x=\"658\" y=\"-340.3\">(None, 4, 132)</text>\n",
       "</g>\n",
       "<!-- 272700584&#45;&gt;273536896 -->\n",
       "<g class=\"edge\" id=\"edge11\"><title>272700584-&gt;273536896</title>\n",
       "<path d=\"M628.597,-747.489C630.069,-716.019 632.5,-656.347 632.5,-605.5 632.5,-605.5 632.5,-605.5 632.5,-520.5 632.5,-471.752 627.284,-456.977 602.5,-415 596.198,-404.326 587.478,-394.225 578.674,-385.517\" fill=\"none\" stroke=\"black\"/>\n",
       "<polygon fill=\"black\" points=\"580.979,-382.879 571.31,-378.547 576.167,-387.963 580.979,-382.879\" stroke=\"black\"/>\n",
       "</g>\n",
       "<!-- 223275104 -->\n",
       "<g class=\"node\" id=\"node6\"><title>223275104</title>\n",
       "<polygon fill=\"none\" points=\"296,-581.5 296,-627.5 591,-627.5 591,-581.5 296,-581.5\" stroke=\"black\"/>\n",
       "<text font-family=\"Times New Roman,serif\" font-size=\"14.00\" text-anchor=\"middle\" x=\"370\" y=\"-600.8\">activation_1: Activation</text>\n",
       "<polyline fill=\"none\" points=\"444,-581.5 444,-627.5 \" stroke=\"black\"/>\n",
       "<text font-family=\"Times New Roman,serif\" font-size=\"14.00\" text-anchor=\"middle\" x=\"472\" y=\"-612.3\">input:</text>\n",
       "<polyline fill=\"none\" points=\"444,-604.5 500,-604.5 \" stroke=\"black\"/>\n",
       "<text font-family=\"Times New Roman,serif\" font-size=\"14.00\" text-anchor=\"middle\" x=\"472\" y=\"-589.3\">output:</text>\n",
       "<polyline fill=\"none\" points=\"500,-581.5 500,-627.5 \" stroke=\"black\"/>\n",
       "<text font-family=\"Times New Roman,serif\" font-size=\"14.00\" text-anchor=\"middle\" x=\"545.5\" y=\"-612.3\">(None, 68, 4)</text>\n",
       "<polyline fill=\"none\" points=\"500,-604.5 591,-604.5 \" stroke=\"black\"/>\n",
       "<text font-family=\"Times New Roman,serif\" font-size=\"14.00\" text-anchor=\"middle\" x=\"545.5\" y=\"-589.3\">(None, 68, 4)</text>\n",
       "</g>\n",
       "<!-- 91336888&#45;&gt;223275104 -->\n",
       "<g class=\"edge\" id=\"edge5\"><title>91336888-&gt;223275104</title>\n",
       "<path d=\"M443.5,-664.366C443.5,-656.152 443.5,-646.658 443.5,-637.725\" fill=\"none\" stroke=\"black\"/>\n",
       "<polygon fill=\"black\" points=\"447,-637.607 443.5,-627.607 440,-637.607 447,-637.607\" stroke=\"black\"/>\n",
       "</g>\n",
       "<!-- 223274992 -->\n",
       "<g class=\"node\" id=\"node8\"><title>223274992</title>\n",
       "<polygon fill=\"none\" points=\"283,-498.5 283,-544.5 604,-544.5 604,-498.5 283,-498.5\" stroke=\"black\"/>\n",
       "<text font-family=\"Times New Roman,serif\" font-size=\"14.00\" text-anchor=\"middle\" x=\"324.5\" y=\"-517.8\">add_1: Add</text>\n",
       "<polyline fill=\"none\" points=\"366,-498.5 366,-544.5 \" stroke=\"black\"/>\n",
       "<text font-family=\"Times New Roman,serif\" font-size=\"14.00\" text-anchor=\"middle\" x=\"394\" y=\"-529.3\">input:</text>\n",
       "<polyline fill=\"none\" points=\"366,-521.5 422,-521.5 \" stroke=\"black\"/>\n",
       "<text font-family=\"Times New Roman,serif\" font-size=\"14.00\" text-anchor=\"middle\" x=\"394\" y=\"-506.3\">output:</text>\n",
       "<polyline fill=\"none\" points=\"422,-498.5 422,-544.5 \" stroke=\"black\"/>\n",
       "<text font-family=\"Times New Roman,serif\" font-size=\"14.00\" text-anchor=\"middle\" x=\"513\" y=\"-529.3\">[(None, 68, 4), (None, 68, 4)]</text>\n",
       "<polyline fill=\"none\" points=\"422,-521.5 604,-521.5 \" stroke=\"black\"/>\n",
       "<text font-family=\"Times New Roman,serif\" font-size=\"14.00\" text-anchor=\"middle\" x=\"513\" y=\"-506.3\">(None, 68, 4)</text>\n",
       "</g>\n",
       "<!-- 223275104&#45;&gt;223274992 -->\n",
       "<g class=\"edge\" id=\"edge7\"><title>223275104-&gt;223274992</title>\n",
       "<path d=\"M443.5,-581.366C443.5,-573.152 443.5,-563.658 443.5,-554.725\" fill=\"none\" stroke=\"black\"/>\n",
       "<polygon fill=\"black\" points=\"447,-554.607 443.5,-544.607 440,-554.607 447,-554.607\" stroke=\"black\"/>\n",
       "</g>\n",
       "<!-- 221084808&#45;&gt;223274992 -->\n",
       "<g class=\"edge\" id=\"edge8\"><title>221084808-&gt;223274992</title>\n",
       "<path d=\"M160.141,-664.479C189.999,-641.449 239.611,-605.331 286.5,-581 310.768,-568.408 338.379,-557.176 363.608,-548.003\" fill=\"none\" stroke=\"black\"/>\n",
       "<polygon fill=\"black\" points=\"364.912,-551.254 373.149,-544.59 362.554,-544.663 364.912,-551.254\" stroke=\"black\"/>\n",
       "</g>\n",
       "<!-- 275967840 -->\n",
       "<g class=\"node\" id=\"node9\"><title>275967840</title>\n",
       "<polygon fill=\"none\" points=\"318,-415.5 318,-461.5 593,-461.5 593,-415.5 318,-415.5\" stroke=\"black\"/>\n",
       "<text font-family=\"Times New Roman,serif\" font-size=\"14.00\" text-anchor=\"middle\" x=\"382\" y=\"-434.8\">permute_1: Permute</text>\n",
       "<polyline fill=\"none\" points=\"446,-415.5 446,-461.5 \" stroke=\"black\"/>\n",
       "<text font-family=\"Times New Roman,serif\" font-size=\"14.00\" text-anchor=\"middle\" x=\"474\" y=\"-446.3\">input:</text>\n",
       "<polyline fill=\"none\" points=\"446,-438.5 502,-438.5 \" stroke=\"black\"/>\n",
       "<text font-family=\"Times New Roman,serif\" font-size=\"14.00\" text-anchor=\"middle\" x=\"474\" y=\"-423.3\">output:</text>\n",
       "<polyline fill=\"none\" points=\"502,-415.5 502,-461.5 \" stroke=\"black\"/>\n",
       "<text font-family=\"Times New Roman,serif\" font-size=\"14.00\" text-anchor=\"middle\" x=\"547.5\" y=\"-446.3\">(None, 68, 4)</text>\n",
       "<polyline fill=\"none\" points=\"502,-438.5 593,-438.5 \" stroke=\"black\"/>\n",
       "<text font-family=\"Times New Roman,serif\" font-size=\"14.00\" text-anchor=\"middle\" x=\"547.5\" y=\"-423.3\">(None, 4, 68)</text>\n",
       "</g>\n",
       "<!-- 223274992&#45;&gt;275967840 -->\n",
       "<g class=\"edge\" id=\"edge9\"><title>223274992-&gt;275967840</title>\n",
       "<path d=\"M446.779,-498.366C447.996,-490.152 449.403,-480.658 450.726,-471.725\" fill=\"none\" stroke=\"black\"/>\n",
       "<polygon fill=\"black\" points=\"454.222,-472.012 452.225,-461.607 447.297,-470.986 454.222,-472.012\" stroke=\"black\"/>\n",
       "</g>\n",
       "<!-- 275967840&#45;&gt;273536896 -->\n",
       "<g class=\"edge\" id=\"edge10\"><title>275967840-&gt;273536896</title>\n",
       "<path d=\"M479.546,-415.366C489.538,-406.169 501.272,-395.369 511.941,-385.548\" fill=\"none\" stroke=\"black\"/>\n",
       "<polygon fill=\"black\" points=\"514.495,-387.954 519.483,-378.607 509.755,-382.804 514.495,-387.954\" stroke=\"black\"/>\n",
       "</g>\n",
       "<!-- 275953984 -->\n",
       "<g class=\"node\" id=\"node11\"><title>275953984</title>\n",
       "<polygon fill=\"none\" points=\"417.5,-249.5 417.5,-295.5 669.5,-295.5 669.5,-249.5 417.5,-249.5\" stroke=\"black\"/>\n",
       "<text font-family=\"Times New Roman,serif\" font-size=\"14.00\" text-anchor=\"middle\" x=\"466.5\" y=\"-268.8\">lstm_1: LSTM</text>\n",
       "<polyline fill=\"none\" points=\"515.5,-249.5 515.5,-295.5 \" stroke=\"black\"/>\n",
       "<text font-family=\"Times New Roman,serif\" font-size=\"14.00\" text-anchor=\"middle\" x=\"543.5\" y=\"-280.3\">input:</text>\n",
       "<polyline fill=\"none\" points=\"515.5,-272.5 571.5,-272.5 \" stroke=\"black\"/>\n",
       "<text font-family=\"Times New Roman,serif\" font-size=\"14.00\" text-anchor=\"middle\" x=\"543.5\" y=\"-257.3\">output:</text>\n",
       "<polyline fill=\"none\" points=\"571.5,-249.5 571.5,-295.5 \" stroke=\"black\"/>\n",
       "<text font-family=\"Times New Roman,serif\" font-size=\"14.00\" text-anchor=\"middle\" x=\"620.5\" y=\"-280.3\">(None, 4, 132)</text>\n",
       "<polyline fill=\"none\" points=\"571.5,-272.5 669.5,-272.5 \" stroke=\"black\"/>\n",
       "<text font-family=\"Times New Roman,serif\" font-size=\"14.00\" text-anchor=\"middle\" x=\"620.5\" y=\"-257.3\">(None, 32)</text>\n",
       "</g>\n",
       "<!-- 273536896&#45;&gt;275953984 -->\n",
       "<g class=\"edge\" id=\"edge12\"><title>273536896-&gt;275953984</title>\n",
       "<path d=\"M543.5,-332.366C543.5,-324.152 543.5,-314.658 543.5,-305.725\" fill=\"none\" stroke=\"black\"/>\n",
       "<polygon fill=\"black\" points=\"547,-305.607 543.5,-295.607 540,-305.607 547,-305.607\" stroke=\"black\"/>\n",
       "</g>\n",
       "<!-- 275954544 -->\n",
       "<g class=\"node\" id=\"node12\"><title>275954544</title>\n",
       "<polygon fill=\"none\" points=\"412,-166.5 412,-212.5 675,-212.5 675,-166.5 412,-166.5\" stroke=\"black\"/>\n",
       "<text font-family=\"Times New Roman,serif\" font-size=\"14.00\" text-anchor=\"middle\" x=\"477\" y=\"-185.8\">dropout_4: Dropout</text>\n",
       "<polyline fill=\"none\" points=\"542,-166.5 542,-212.5 \" stroke=\"black\"/>\n",
       "<text font-family=\"Times New Roman,serif\" font-size=\"14.00\" text-anchor=\"middle\" x=\"570\" y=\"-197.3\">input:</text>\n",
       "<polyline fill=\"none\" points=\"542,-189.5 598,-189.5 \" stroke=\"black\"/>\n",
       "<text font-family=\"Times New Roman,serif\" font-size=\"14.00\" text-anchor=\"middle\" x=\"570\" y=\"-174.3\">output:</text>\n",
       "<polyline fill=\"none\" points=\"598,-166.5 598,-212.5 \" stroke=\"black\"/>\n",
       "<text font-family=\"Times New Roman,serif\" font-size=\"14.00\" text-anchor=\"middle\" x=\"636.5\" y=\"-197.3\">(None, 32)</text>\n",
       "<polyline fill=\"none\" points=\"598,-189.5 675,-189.5 \" stroke=\"black\"/>\n",
       "<text font-family=\"Times New Roman,serif\" font-size=\"14.00\" text-anchor=\"middle\" x=\"636.5\" y=\"-174.3\">(None, 32)</text>\n",
       "</g>\n",
       "<!-- 275953984&#45;&gt;275954544 -->\n",
       "<g class=\"edge\" id=\"edge13\"><title>275953984-&gt;275954544</title>\n",
       "<path d=\"M543.5,-249.366C543.5,-241.152 543.5,-231.658 543.5,-222.725\" fill=\"none\" stroke=\"black\"/>\n",
       "<polygon fill=\"black\" points=\"547,-222.607 543.5,-212.607 540,-222.607 547,-222.607\" stroke=\"black\"/>\n",
       "</g>\n",
       "<!-- 275954040 -->\n",
       "<g class=\"node\" id=\"node13\"><title>275954040</title>\n",
       "<polygon fill=\"none\" points=\"425,-83.5 425,-129.5 662,-129.5 662,-83.5 425,-83.5\" stroke=\"black\"/>\n",
       "<text font-family=\"Times New Roman,serif\" font-size=\"14.00\" text-anchor=\"middle\" x=\"477\" y=\"-102.8\">dense_1: Dense</text>\n",
       "<polyline fill=\"none\" points=\"529,-83.5 529,-129.5 \" stroke=\"black\"/>\n",
       "<text font-family=\"Times New Roman,serif\" font-size=\"14.00\" text-anchor=\"middle\" x=\"557\" y=\"-114.3\">input:</text>\n",
       "<polyline fill=\"none\" points=\"529,-106.5 585,-106.5 \" stroke=\"black\"/>\n",
       "<text font-family=\"Times New Roman,serif\" font-size=\"14.00\" text-anchor=\"middle\" x=\"557\" y=\"-91.3\">output:</text>\n",
       "<polyline fill=\"none\" points=\"585,-83.5 585,-129.5 \" stroke=\"black\"/>\n",
       "<text font-family=\"Times New Roman,serif\" font-size=\"14.00\" text-anchor=\"middle\" x=\"623.5\" y=\"-114.3\">(None, 32)</text>\n",
       "<polyline fill=\"none\" points=\"585,-106.5 662,-106.5 \" stroke=\"black\"/>\n",
       "<text font-family=\"Times New Roman,serif\" font-size=\"14.00\" text-anchor=\"middle\" x=\"623.5\" y=\"-91.3\">(None, 22)</text>\n",
       "</g>\n",
       "<!-- 275954544&#45;&gt;275954040 -->\n",
       "<g class=\"edge\" id=\"edge14\"><title>275954544-&gt;275954040</title>\n",
       "<path d=\"M543.5,-166.366C543.5,-158.152 543.5,-148.658 543.5,-139.725\" fill=\"none\" stroke=\"black\"/>\n",
       "<polygon fill=\"black\" points=\"547,-139.607 543.5,-129.607 540,-139.607 547,-139.607\" stroke=\"black\"/>\n",
       "</g>\n",
       "<!-- 275953928 -->\n",
       "<g class=\"node\" id=\"node14\"><title>275953928</title>\n",
       "<polygon fill=\"none\" points=\"403,-0.5 403,-46.5 684,-46.5 684,-0.5 403,-0.5\" stroke=\"black\"/>\n",
       "<text font-family=\"Times New Roman,serif\" font-size=\"14.00\" text-anchor=\"middle\" x=\"477\" y=\"-19.8\">activation_2: Activation</text>\n",
       "<polyline fill=\"none\" points=\"551,-0.5 551,-46.5 \" stroke=\"black\"/>\n",
       "<text font-family=\"Times New Roman,serif\" font-size=\"14.00\" text-anchor=\"middle\" x=\"579\" y=\"-31.3\">input:</text>\n",
       "<polyline fill=\"none\" points=\"551,-23.5 607,-23.5 \" stroke=\"black\"/>\n",
       "<text font-family=\"Times New Roman,serif\" font-size=\"14.00\" text-anchor=\"middle\" x=\"579\" y=\"-8.3\">output:</text>\n",
       "<polyline fill=\"none\" points=\"607,-0.5 607,-46.5 \" stroke=\"black\"/>\n",
       "<text font-family=\"Times New Roman,serif\" font-size=\"14.00\" text-anchor=\"middle\" x=\"645.5\" y=\"-31.3\">(None, 22)</text>\n",
       "<polyline fill=\"none\" points=\"607,-23.5 684,-23.5 \" stroke=\"black\"/>\n",
       "<text font-family=\"Times New Roman,serif\" font-size=\"14.00\" text-anchor=\"middle\" x=\"645.5\" y=\"-8.3\">(None, 22)</text>\n",
       "</g>\n",
       "<!-- 275954040&#45;&gt;275953928 -->\n",
       "<g class=\"edge\" id=\"edge15\"><title>275954040-&gt;275953928</title>\n",
       "<path d=\"M543.5,-83.3664C543.5,-75.1516 543.5,-65.6579 543.5,-56.7252\" fill=\"none\" stroke=\"black\"/>\n",
       "<polygon fill=\"black\" points=\"547,-56.6068 543.5,-46.6068 540,-56.6069 547,-56.6068\" stroke=\"black\"/>\n",
       "</g>\n",
       "</g>\n",
       "</svg>"
      ],
      "text/plain": [
       "<IPython.core.display.SVG object>"
      ]
     },
     "execution_count": 23,
     "metadata": {},
     "output_type": "execute_result"
    }
   ],
   "source": [
    "from IPython.display import SVG\n",
    "from keras.utils.vis_utils import model_to_dot\n",
    "\n",
    "from keras.utils.vis_utils import plot_model\n",
    "plot_model(model, show_shapes=True, to_file='images/Python-BABI.jpg')\n",
    "plot_model(model, show_shapes=True, to_file='pdf/Python-BABI.pdf')\n",
    "\n",
    "SVG(model_to_dot(model,show_shapes=True).create(prog='dot', format='svg'))"
   ]
  },
  {
   "cell_type": "code",
   "execution_count": 24,
   "metadata": {
    "scrolled": true
   },
   "outputs": [
    {
     "name": "stdout",
     "output_type": "stream",
     "text": [
      "Train on 10000 samples, validate on 1000 samples\n",
      "Epoch 1/120\n",
      "10000/10000 [==============================] - 3s 320us/step - loss: 1.9279 - acc: 0.1694 - val_loss: 1.8077 - val_acc: 0.1590\n",
      "Epoch 2/120\n",
      "10000/10000 [==============================] - 2s 237us/step - loss: 1.7721 - acc: 0.2057 - val_loss: 1.6788 - val_acc: 0.2560\n",
      "Epoch 3/120\n",
      "10000/10000 [==============================] - 2s 237us/step - loss: 1.6616 - acc: 0.2686 - val_loss: 1.6268 - val_acc: 0.3290\n",
      "Epoch 4/120\n",
      "10000/10000 [==============================] - 2s 243us/step - loss: 1.5558 - acc: 0.3619 - val_loss: 1.5031 - val_acc: 0.3900\n",
      "Epoch 5/120\n",
      "10000/10000 [==============================] - 2s 238us/step - loss: 1.4954 - acc: 0.3981 - val_loss: 1.4804 - val_acc: 0.4210\n",
      "Epoch 6/120\n",
      "10000/10000 [==============================] - 2s 240us/step - loss: 1.4481 - acc: 0.4284 - val_loss: 1.4472 - val_acc: 0.4320\n",
      "Epoch 7/120\n",
      "10000/10000 [==============================] - 2s 235us/step - loss: 1.4097 - acc: 0.4501 - val_loss: 1.3542 - val_acc: 0.4810\n",
      "Epoch 8/120\n",
      "10000/10000 [==============================] - 2s 240us/step - loss: 1.3794 - acc: 0.4662 - val_loss: 1.3475 - val_acc: 0.4790\n",
      "Epoch 9/120\n",
      "10000/10000 [==============================] - 2s 238us/step - loss: 1.3605 - acc: 0.4740 - val_loss: 1.3348 - val_acc: 0.4800\n",
      "Epoch 10/120\n",
      "10000/10000 [==============================] - 2s 234us/step - loss: 1.3636 - acc: 0.4738 - val_loss: 1.3409 - val_acc: 0.4840\n",
      "Epoch 11/120\n",
      "10000/10000 [==============================] - 2s 244us/step - loss: 1.3544 - acc: 0.4750 - val_loss: 1.3291 - val_acc: 0.4940\n",
      "Epoch 12/120\n",
      "10000/10000 [==============================] - 2s 244us/step - loss: 1.3505 - acc: 0.4806 - val_loss: 1.3195 - val_acc: 0.4970\n",
      "Epoch 13/120\n",
      "10000/10000 [==============================] - 2s 237us/step - loss: 1.3420 - acc: 0.4814 - val_loss: 1.2978 - val_acc: 0.5030\n",
      "Epoch 14/120\n",
      "10000/10000 [==============================] - 2s 241us/step - loss: 1.3245 - acc: 0.4924 - val_loss: 1.2918 - val_acc: 0.5100\n",
      "Epoch 15/120\n",
      "10000/10000 [==============================] - 2s 238us/step - loss: 1.3139 - acc: 0.4953 - val_loss: 1.2870 - val_acc: 0.5020\n",
      "Epoch 16/120\n",
      "10000/10000 [==============================] - 2s 241us/step - loss: 1.3025 - acc: 0.4980 - val_loss: 1.2754 - val_acc: 0.5110\n",
      "Epoch 17/120\n",
      "10000/10000 [==============================] - 2s 241us/step - loss: 1.2942 - acc: 0.5082 - val_loss: 1.2607 - val_acc: 0.5200\n",
      "Epoch 18/120\n",
      "10000/10000 [==============================] - 2s 242us/step - loss: 1.2845 - acc: 0.5077 - val_loss: 1.2516 - val_acc: 0.5260\n",
      "Epoch 19/120\n",
      "10000/10000 [==============================] - 2s 242us/step - loss: 1.2712 - acc: 0.5074 - val_loss: 1.2387 - val_acc: 0.5270\n",
      "Epoch 20/120\n",
      "10000/10000 [==============================] - 2s 238us/step - loss: 1.2596 - acc: 0.5104 - val_loss: 1.2252 - val_acc: 0.5180\n",
      "Epoch 21/120\n",
      "10000/10000 [==============================] - 2s 241us/step - loss: 1.2454 - acc: 0.5116 - val_loss: 1.2046 - val_acc: 0.5180\n",
      "Epoch 22/120\n",
      "10000/10000 [==============================] - 2s 243us/step - loss: 1.2368 - acc: 0.5120 - val_loss: 1.1953 - val_acc: 0.5270\n",
      "Epoch 23/120\n",
      "10000/10000 [==============================] - 2s 241us/step - loss: 1.2127 - acc: 0.5167 - val_loss: 1.1916 - val_acc: 0.5220\n",
      "Epoch 24/120\n",
      "10000/10000 [==============================] - 2s 244us/step - loss: 1.2128 - acc: 0.5140 - val_loss: 1.1706 - val_acc: 0.5250\n",
      "Epoch 25/120\n",
      "10000/10000 [==============================] - 2s 241us/step - loss: 1.1972 - acc: 0.5170 - val_loss: 1.1822 - val_acc: 0.5230\n",
      "Epoch 26/120\n",
      "10000/10000 [==============================] - 2s 234us/step - loss: 1.1911 - acc: 0.5138 - val_loss: 1.1823 - val_acc: 0.5300\n",
      "Epoch 27/120\n",
      "10000/10000 [==============================] - 2s 223us/step - loss: 1.1864 - acc: 0.5233 - val_loss: 1.1661 - val_acc: 0.5190\n",
      "Epoch 28/120\n",
      "10000/10000 [==============================] - 3s 252us/step - loss: 1.1820 - acc: 0.5232 - val_loss: 1.1785 - val_acc: 0.5250\n",
      "Epoch 29/120\n",
      "10000/10000 [==============================] - 3s 255us/step - loss: 1.1681 - acc: 0.5255 - val_loss: 1.1636 - val_acc: 0.5130\n",
      "Epoch 30/120\n",
      "10000/10000 [==============================] - 3s 255us/step - loss: 1.1665 - acc: 0.5243 - val_loss: 1.1758 - val_acc: 0.5260\n",
      "Epoch 31/120\n",
      "10000/10000 [==============================] - 3s 254us/step - loss: 1.1537 - acc: 0.5285 - val_loss: 1.1868 - val_acc: 0.5190\n",
      "Epoch 32/120\n",
      "10000/10000 [==============================] - 3s 255us/step - loss: 1.1548 - acc: 0.5262 - val_loss: 1.1619 - val_acc: 0.5210\n",
      "Epoch 33/120\n",
      "10000/10000 [==============================] - 3s 255us/step - loss: 1.1507 - acc: 0.5305 - val_loss: 1.1553 - val_acc: 0.5270\n",
      "Epoch 34/120\n",
      "10000/10000 [==============================] - 3s 263us/step - loss: 1.1381 - acc: 0.5328 - val_loss: 1.1673 - val_acc: 0.5350\n",
      "Epoch 35/120\n",
      "10000/10000 [==============================] - 2s 241us/step - loss: 1.1401 - acc: 0.5326 - val_loss: 1.1581 - val_acc: 0.5210\n",
      "Epoch 36/120\n",
      "10000/10000 [==============================] - 2s 240us/step - loss: 1.1299 - acc: 0.5310 - val_loss: 1.1904 - val_acc: 0.5110\n",
      "Epoch 37/120\n",
      "10000/10000 [==============================] - 2s 228us/step - loss: 1.1318 - acc: 0.5264 - val_loss: 1.1660 - val_acc: 0.5210\n",
      "Epoch 38/120\n",
      "10000/10000 [==============================] - 2s 227us/step - loss: 1.1239 - acc: 0.5318 - val_loss: 1.1869 - val_acc: 0.5120\n",
      "Epoch 39/120\n",
      "10000/10000 [==============================] - 2s 228us/step - loss: 1.1170 - acc: 0.5388 - val_loss: 1.1525 - val_acc: 0.5070\n",
      "Epoch 40/120\n",
      "10000/10000 [==============================] - 2s 232us/step - loss: 1.1168 - acc: 0.5389 - val_loss: 1.1645 - val_acc: 0.5230\n",
      "Epoch 41/120\n",
      "10000/10000 [==============================] - 2s 244us/step - loss: 1.1146 - acc: 0.5381 - val_loss: 1.1699 - val_acc: 0.5130\n",
      "Epoch 42/120\n",
      "10000/10000 [==============================] - 3s 251us/step - loss: 1.1104 - acc: 0.5381 - val_loss: 1.1634 - val_acc: 0.5230\n",
      "Epoch 43/120\n",
      "10000/10000 [==============================] - 3s 253us/step - loss: 1.0984 - acc: 0.5402 - val_loss: 1.1438 - val_acc: 0.5210\n",
      "Epoch 44/120\n",
      "10000/10000 [==============================] - 3s 253us/step - loss: 1.0878 - acc: 0.5514 - val_loss: 1.1550 - val_acc: 0.5330\n",
      "Epoch 45/120\n",
      "10000/10000 [==============================] - 3s 263us/step - loss: 1.0629 - acc: 0.5650 - val_loss: 1.1167 - val_acc: 0.5350\n",
      "Epoch 46/120\n",
      "10000/10000 [==============================] - 3s 255us/step - loss: 1.0360 - acc: 0.5826 - val_loss: 1.0443 - val_acc: 0.5980\n",
      "Epoch 47/120\n",
      "10000/10000 [==============================] - 3s 259us/step - loss: 0.9215 - acc: 0.6522 - val_loss: 0.8729 - val_acc: 0.6880\n",
      "Epoch 48/120\n",
      "10000/10000 [==============================] - 3s 251us/step - loss: 0.7769 - acc: 0.7226 - val_loss: 0.7321 - val_acc: 0.7450\n",
      "Epoch 49/120\n",
      "10000/10000 [==============================] - 3s 260us/step - loss: 0.6966 - acc: 0.7486 - val_loss: 0.6947 - val_acc: 0.7520\n",
      "Epoch 50/120\n",
      "10000/10000 [==============================] - 3s 265us/step - loss: 0.6426 - acc: 0.7653 - val_loss: 0.6805 - val_acc: 0.7470\n",
      "Epoch 51/120\n",
      "10000/10000 [==============================] - 3s 265us/step - loss: 0.6285 - acc: 0.7698 - val_loss: 0.6676 - val_acc: 0.7540\n",
      "Epoch 52/120\n",
      "10000/10000 [==============================] - 3s 260us/step - loss: 0.6046 - acc: 0.7736 - val_loss: 0.6256 - val_acc: 0.7510\n",
      "Epoch 53/120\n",
      "10000/10000 [==============================] - 3s 278us/step - loss: 0.5758 - acc: 0.7858 - val_loss: 0.6138 - val_acc: 0.7620\n",
      "Epoch 54/120\n",
      "10000/10000 [==============================] - 3s 314us/step - loss: 0.5573 - acc: 0.7930 - val_loss: 0.5833 - val_acc: 0.7720\n",
      "Epoch 55/120\n",
      "10000/10000 [==============================] - 3s 292us/step - loss: 0.5165 - acc: 0.8082 - val_loss: 0.5534 - val_acc: 0.7880\n",
      "Epoch 56/120\n",
      "10000/10000 [==============================] - 3s 276us/step - loss: 0.4869 - acc: 0.8167 - val_loss: 0.5135 - val_acc: 0.8120\n",
      "Epoch 57/120\n",
      "10000/10000 [==============================] - 3s 264us/step - loss: 0.4624 - acc: 0.8262 - val_loss: 0.5170 - val_acc: 0.8120\n",
      "Epoch 58/120\n",
      "10000/10000 [==============================] - 3s 269us/step - loss: 0.4316 - acc: 0.8366 - val_loss: 0.4756 - val_acc: 0.8310\n",
      "Epoch 59/120\n"
     ]
    },
    {
     "name": "stdout",
     "output_type": "stream",
     "text": [
      "10000/10000 [==============================] - 3s 269us/step - loss: 0.4156 - acc: 0.8438 - val_loss: 0.4467 - val_acc: 0.8320\n",
      "Epoch 60/120\n",
      "10000/10000 [==============================] - 3s 251us/step - loss: 0.3901 - acc: 0.8531 - val_loss: 0.4167 - val_acc: 0.8420\n",
      "Epoch 61/120\n",
      "10000/10000 [==============================] - 3s 284us/step - loss: 0.3719 - acc: 0.8587 - val_loss: 0.4173 - val_acc: 0.8510\n",
      "Epoch 62/120\n",
      "10000/10000 [==============================] - 3s 251us/step - loss: 0.3629 - acc: 0.8627 - val_loss: 0.3984 - val_acc: 0.8430\n",
      "Epoch 63/120\n",
      "10000/10000 [==============================] - 2s 249us/step - loss: 0.3480 - acc: 0.8696 - val_loss: 0.3920 - val_acc: 0.8410\n",
      "Epoch 64/120\n",
      "10000/10000 [==============================] - 2s 246us/step - loss: 0.3393 - acc: 0.8712 - val_loss: 0.3756 - val_acc: 0.8590\n",
      "Epoch 65/120\n",
      "10000/10000 [==============================] - 3s 254us/step - loss: 0.3311 - acc: 0.8774 - val_loss: 0.3823 - val_acc: 0.8610\n",
      "Epoch 66/120\n",
      "10000/10000 [==============================] - 3s 250us/step - loss: 0.3199 - acc: 0.8778 - val_loss: 0.3613 - val_acc: 0.8630\n",
      "Epoch 67/120\n",
      "10000/10000 [==============================] - 2s 247us/step - loss: 0.3093 - acc: 0.8843 - val_loss: 0.3653 - val_acc: 0.8550\n",
      "Epoch 68/120\n",
      "10000/10000 [==============================] - 2s 249us/step - loss: 0.3047 - acc: 0.8814 - val_loss: 0.3572 - val_acc: 0.8660\n",
      "Epoch 69/120\n",
      "10000/10000 [==============================] - 2s 248us/step - loss: 0.2894 - acc: 0.8898 - val_loss: 0.3325 - val_acc: 0.8720\n",
      "Epoch 70/120\n",
      "10000/10000 [==============================] - 3s 251us/step - loss: 0.2835 - acc: 0.8952 - val_loss: 0.3459 - val_acc: 0.8660\n",
      "Epoch 71/120\n",
      "10000/10000 [==============================] - 2s 249us/step - loss: 0.2770 - acc: 0.8978 - val_loss: 0.3193 - val_acc: 0.8740\n",
      "Epoch 72/120\n",
      "10000/10000 [==============================] - 2s 246us/step - loss: 0.2738 - acc: 0.8968 - val_loss: 0.3236 - val_acc: 0.8710\n",
      "Epoch 73/120\n",
      "10000/10000 [==============================] - 2s 238us/step - loss: 0.2590 - acc: 0.9012 - val_loss: 0.3370 - val_acc: 0.8710\n",
      "Epoch 74/120\n",
      "10000/10000 [==============================] - 2s 238us/step - loss: 0.2557 - acc: 0.9024 - val_loss: 0.3217 - val_acc: 0.8830\n",
      "Epoch 75/120\n",
      "10000/10000 [==============================] - 3s 257us/step - loss: 0.2483 - acc: 0.9084 - val_loss: 0.3386 - val_acc: 0.8750\n",
      "Epoch 76/120\n",
      "10000/10000 [==============================] - 3s 250us/step - loss: 0.2415 - acc: 0.9097 - val_loss: 0.2750 - val_acc: 0.9000\n",
      "Epoch 77/120\n",
      "10000/10000 [==============================] - 2s 245us/step - loss: 0.2283 - acc: 0.9132 - val_loss: 0.2991 - val_acc: 0.8940\n",
      "Epoch 78/120\n",
      "10000/10000 [==============================] - 3s 254us/step - loss: 0.2252 - acc: 0.9170 - val_loss: 0.2731 - val_acc: 0.8980\n",
      "Epoch 79/120\n",
      "10000/10000 [==============================] - 2s 245us/step - loss: 0.2149 - acc: 0.9203 - val_loss: 0.2600 - val_acc: 0.9070\n",
      "Epoch 80/120\n",
      "10000/10000 [==============================] - 2s 244us/step - loss: 0.2117 - acc: 0.9227 - val_loss: 0.2541 - val_acc: 0.9090\n",
      "Epoch 81/120\n",
      "10000/10000 [==============================] - 2s 248us/step - loss: 0.1995 - acc: 0.9246 - val_loss: 0.2736 - val_acc: 0.8980\n",
      "Epoch 82/120\n",
      "10000/10000 [==============================] - 2s 245us/step - loss: 0.1881 - acc: 0.9301 - val_loss: 0.2391 - val_acc: 0.9120\n",
      "Epoch 83/120\n",
      "10000/10000 [==============================] - 3s 251us/step - loss: 0.1882 - acc: 0.9300 - val_loss: 0.2906 - val_acc: 0.8950\n",
      "Epoch 84/120\n",
      "10000/10000 [==============================] - 2s 244us/step - loss: 0.1884 - acc: 0.9304 - val_loss: 0.2486 - val_acc: 0.9100\n",
      "Epoch 85/120\n",
      "10000/10000 [==============================] - 2s 243us/step - loss: 0.1816 - acc: 0.9351 - val_loss: 0.2277 - val_acc: 0.9180\n",
      "Epoch 86/120\n",
      "10000/10000 [==============================] - 2s 244us/step - loss: 0.1790 - acc: 0.9343 - val_loss: 0.2432 - val_acc: 0.9140\n",
      "Epoch 87/120\n",
      "10000/10000 [==============================] - 2s 245us/step - loss: 0.1646 - acc: 0.9428 - val_loss: 0.2469 - val_acc: 0.9120\n",
      "Epoch 88/120\n",
      "10000/10000 [==============================] - 2s 245us/step - loss: 0.1591 - acc: 0.9416 - val_loss: 0.2355 - val_acc: 0.9170\n",
      "Epoch 89/120\n",
      "10000/10000 [==============================] - 2s 250us/step - loss: 0.1599 - acc: 0.9423 - val_loss: 0.2198 - val_acc: 0.9170\n",
      "Epoch 90/120\n",
      "10000/10000 [==============================] - 2s 244us/step - loss: 0.1551 - acc: 0.9450 - val_loss: 0.1980 - val_acc: 0.9270\n",
      "Epoch 91/120\n",
      "10000/10000 [==============================] - 2s 247us/step - loss: 0.1535 - acc: 0.9459 - val_loss: 0.2016 - val_acc: 0.9280\n",
      "Epoch 92/120\n",
      "10000/10000 [==============================] - 2s 248us/step - loss: 0.1459 - acc: 0.9473 - val_loss: 0.2050 - val_acc: 0.9340\n",
      "Epoch 93/120\n",
      "10000/10000 [==============================] - 3s 252us/step - loss: 0.1417 - acc: 0.9504 - val_loss: 0.2024 - val_acc: 0.9260\n",
      "Epoch 94/120\n",
      "10000/10000 [==============================] - 2s 244us/step - loss: 0.1401 - acc: 0.9485 - val_loss: 0.1986 - val_acc: 0.9250\n",
      "Epoch 95/120\n",
      "10000/10000 [==============================] - 2s 245us/step - loss: 0.1360 - acc: 0.9508 - val_loss: 0.2102 - val_acc: 0.9260\n",
      "Epoch 96/120\n",
      "10000/10000 [==============================] - 2s 246us/step - loss: 0.1299 - acc: 0.9527 - val_loss: 0.1824 - val_acc: 0.9360\n",
      "Epoch 97/120\n",
      "10000/10000 [==============================] - 2s 245us/step - loss: 0.1275 - acc: 0.9530 - val_loss: 0.1782 - val_acc: 0.9340\n",
      "Epoch 98/120\n",
      "10000/10000 [==============================] - 2s 246us/step - loss: 0.1287 - acc: 0.9540 - val_loss: 0.1899 - val_acc: 0.9330\n",
      "Epoch 99/120\n",
      "10000/10000 [==============================] - 2s 245us/step - loss: 0.1232 - acc: 0.9551 - val_loss: 0.1978 - val_acc: 0.9320\n",
      "Epoch 100/120\n",
      "10000/10000 [==============================] - 3s 251us/step - loss: 0.1165 - acc: 0.9593 - val_loss: 0.1886 - val_acc: 0.9350\n",
      "Epoch 101/120\n",
      "10000/10000 [==============================] - 2s 246us/step - loss: 0.1174 - acc: 0.9590 - val_loss: 0.1995 - val_acc: 0.9300\n",
      "Epoch 102/120\n",
      "10000/10000 [==============================] - 2s 246us/step - loss: 0.1135 - acc: 0.9599 - val_loss: 0.2007 - val_acc: 0.9230\n",
      "Epoch 103/120\n",
      "10000/10000 [==============================] - 2s 246us/step - loss: 0.1103 - acc: 0.9600 - val_loss: 0.1660 - val_acc: 0.9360\n",
      "Epoch 104/120\n",
      "10000/10000 [==============================] - 2s 246us/step - loss: 0.1080 - acc: 0.9600 - val_loss: 0.1758 - val_acc: 0.9340\n",
      "Epoch 105/120\n",
      "10000/10000 [==============================] - 2s 246us/step - loss: 0.1032 - acc: 0.9640 - val_loss: 0.1856 - val_acc: 0.9390\n",
      "Epoch 106/120\n",
      "10000/10000 [==============================] - 2s 246us/step - loss: 0.1079 - acc: 0.9634 - val_loss: 0.1743 - val_acc: 0.9410\n",
      "Epoch 107/120\n",
      "10000/10000 [==============================] - 2s 246us/step - loss: 0.1043 - acc: 0.9652 - val_loss: 0.1810 - val_acc: 0.9370\n",
      "Epoch 108/120\n",
      "10000/10000 [==============================] - 2s 246us/step - loss: 0.0980 - acc: 0.9663 - val_loss: 0.1827 - val_acc: 0.9350\n",
      "Epoch 109/120\n",
      "10000/10000 [==============================] - 2s 247us/step - loss: 0.0991 - acc: 0.9669 - val_loss: 0.1812 - val_acc: 0.9380\n",
      "Epoch 110/120\n",
      "10000/10000 [==============================] - 2s 246us/step - loss: 0.0975 - acc: 0.9647 - val_loss: 0.1601 - val_acc: 0.9450\n",
      "Epoch 111/120\n",
      "10000/10000 [==============================] - 2s 245us/step - loss: 0.0902 - acc: 0.9677 - val_loss: 0.1762 - val_acc: 0.9410\n",
      "Epoch 112/120\n",
      "10000/10000 [==============================] - 2s 247us/step - loss: 0.0852 - acc: 0.9691 - val_loss: 0.2228 - val_acc: 0.9280\n",
      "Epoch 113/120\n",
      "10000/10000 [==============================] - 3s 252us/step - loss: 0.0830 - acc: 0.9723 - val_loss: 0.1565 - val_acc: 0.9440\n",
      "Epoch 114/120\n",
      "10000/10000 [==============================] - 2s 245us/step - loss: 0.0882 - acc: 0.9703 - val_loss: 0.1785 - val_acc: 0.9410\n",
      "Epoch 115/120\n",
      "10000/10000 [==============================] - 2s 246us/step - loss: 0.0803 - acc: 0.9713 - val_loss: 0.2008 - val_acc: 0.9420\n",
      "Epoch 116/120\n",
      "10000/10000 [==============================] - 2s 247us/step - loss: 0.0820 - acc: 0.9706 - val_loss: 0.2116 - val_acc: 0.9320\n",
      "Epoch 117/120\n"
     ]
    },
    {
     "name": "stdout",
     "output_type": "stream",
     "text": [
      "10000/10000 [==============================] - 2s 243us/step - loss: 0.0798 - acc: 0.9740 - val_loss: 0.1633 - val_acc: 0.9420\n",
      "Epoch 118/120\n",
      "10000/10000 [==============================] - 3s 252us/step - loss: 0.0771 - acc: 0.9745 - val_loss: 0.2137 - val_acc: 0.9400\n",
      "Epoch 119/120\n",
      "10000/10000 [==============================] - 2s 243us/step - loss: 0.0793 - acc: 0.9734 - val_loss: 0.1666 - val_acc: 0.9450\n",
      "Epoch 120/120\n",
      "10000/10000 [==============================] - 2s 242us/step - loss: 0.0767 - acc: 0.9731 - val_loss: 0.1815 - val_acc: 0.9390\n"
     ]
    }
   ],
   "source": [
    "# train\n",
    "history = model.fit([inputs_train, queries_train], answers_train,  \n",
    "                    batch_size=32,\n",
    "                    epochs=120,\n",
    "                    validation_data=([inputs_test, queries_test], answers_test))"
   ]
  },
  {
   "cell_type": "code",
   "execution_count": 25,
   "metadata": {},
   "outputs": [],
   "source": [
    "model.save('h5/Python-BABI.h5') # h5 (HDF5)\n",
    "model.save_weights(\"h5/Python-BABI-weights.h5\")"
   ]
  },
  {
   "cell_type": "code",
   "execution_count": 26,
   "metadata": {},
   "outputs": [],
   "source": [
    "import pickle\n",
    "with open('pkl/Python-BABI.pkl', 'wb') as h_file:\n",
    "    pickle.dump(history.history, h_file) # save history\n"
   ]
  },
  {
   "cell_type": "code",
   "execution_count": 27,
   "metadata": {},
   "outputs": [
    {
     "name": "stdout",
     "output_type": "stream",
     "text": [
      "予測:\n",
      " [[3.0755735e-16 3.2254120e-16 3.3257160e-16 ... 3.8254816e-16\n",
      "  3.6872474e-16 3.6866990e-16]\n",
      " [6.5920305e-14 5.3982264e-14 6.6349182e-14 ... 7.2490753e-14\n",
      "  7.3251863e-14 7.7124816e-14]\n",
      " [1.6866585e-18 1.6056433e-18 1.7202398e-18 ... 1.6230153e-18\n",
      "  2.2269456e-18 1.4790638e-18]\n",
      " ...\n",
      " [1.1820231e-13 1.1115055e-13 1.1004897e-13 ... 1.3701879e-13\n",
      "  1.2587274e-13 1.2443571e-13]\n",
      " [2.3283494e-18 2.2336236e-18 2.1266201e-18 ... 2.5269270e-18\n",
      "  2.8113770e-18 2.5256936e-18]\n",
      " [2.2011241e-10 2.2782060e-10 2.1892792e-10 ... 2.2982342e-10\n",
      "  2.3881677e-10 2.2884054e-10]]\n"
     ]
    }
   ],
   "source": [
    "pred = model.predict([inputs_test, queries_test])\n",
    "\n",
    "# 結果を表示\n",
    "print(\"予測:\\n\", pred)"
   ]
  },
  {
   "cell_type": "code",
   "execution_count": 28,
   "metadata": {},
   "outputs": [
    {
     "name": "stdout",
     "output_type": "stream",
     "text": [
      "テストデータの損失: 0.18149987840652465\n",
      "テストデータの精度: 0.939\n"
     ]
    }
   ],
   "source": [
    "# Evaluate model with test data set and share sample prediction results\n",
    "score = model.evaluate([inputs_test, queries_test], answers_test, verbose=0)\n",
    "print('テストデータの損失:', score[0])\n",
    "print('テストデータの精度:', score[1])\n"
   ]
  },
  {
   "cell_type": "code",
   "execution_count": 29,
   "metadata": {},
   "outputs": [
    {
     "name": "stdout",
     "output_type": "stream",
     "text": [
      "['sans-serif']\n"
     ]
    }
   ],
   "source": [
    "# Matplotlibのフォントの制御（大きさや種類）\n",
    "%matplotlib inline\n",
    "import numpy as np # Numpy\n",
    "import matplotlib\n",
    "import matplotlib.pyplot as plt # 描画ライブラリ\n",
    "print (matplotlib.rcParams.get('font.family'))\n",
    "import matplotlib.font_manager as fm\n",
    "import matplotlib.patheffects as path_effects\n",
    "\n",
    "font_prop = fm.FontProperties()  \n",
    "font_prop.set_style('normal')\n",
    "font_prop.set_weight('light')\n",
    "font_prop.set_size('12')\n",
    "\n",
    "fp2 = font_prop.copy()# フォントプロパティ(FP)をコピー\n",
    "fp2.set_size('20')# フォントプロパティ(FP)をコピー\n",
    "fp2.set_family('serif')# フォントはSerif(明朝体など）に設定"
   ]
  },
  {
   "cell_type": "code",
   "execution_count": 30,
   "metadata": {
    "scrolled": false
   },
   "outputs": [
    {
     "data": {
      "image/png": "[encoded data removed]",
      "text/plain": [
       "<Figure size 1008x720 with 1 Axes>"
      ]
     },
     "metadata": {},
     "output_type": "display_data"
    }
   ],
   "source": [
    "% matplotlib inline\n",
    "import matplotlib.pyplot as plt\n",
    "\n",
    "# 精度グラフの描画　% matplotlib inline\n",
    "plt.figure(figsize=(14,10))\n",
    "\n",
    "plt.plot(history.history['acc'], \n",
    "         color='b', \n",
    "         linestyle='-', \n",
    "         linewidth=3, \n",
    "         path_effects=[path_effects.SimpleLineShadow(),\n",
    "                       path_effects.Normal()])\n",
    "plt.plot(history.history['val_acc'], \n",
    "         color='r', \n",
    "         linestyle='--',\n",
    "         linewidth=3,\n",
    "         path_effects=[path_effects.SimpleLineShadow(),\n",
    "                       path_effects.Normal()])\n",
    "\n",
    "plt.tick_params(labelsize=15)\n",
    "plt.title('Epoch-Accuracy-BABI',fontsize=25,font_properties=fp2)\n",
    "plt.ylabel('Accuracy',fontsize=20,font_properties=fp2)\n",
    "plt.xlabel('Epoch',fontsize=20,font_properties=fp2)\n",
    "plt.legend(['Train', 'Test'], loc='best', fontsize=20)\n",
    "\n",
    "plt.savefig('pdf/Epoch-Accuracy-BABI.pdf')\n",
    "plt.show()"
   ]
  },
  {
   "cell_type": "code",
   "execution_count": 31,
   "metadata": {},
   "outputs": [
    {
     "data": {
      "image/png": "[encoded data removed]",
      "text/plain": [
       "<Figure size 1008x720 with 1 Axes>"
      ]
     },
     "metadata": {},
     "output_type": "display_data"
    }
   ],
   "source": [
    "# 損失グラフの描画　% matplotlib inline\n",
    "plt.figure(figsize=(14,10))\n",
    "\n",
    "plt.plot(history.history['loss'], \n",
    "         color='b', \n",
    "         linestyle='-', \n",
    "         linewidth=3, \n",
    "         path_effects=[path_effects.SimpleLineShadow(),\n",
    "                       path_effects.Normal()])\n",
    "plt.plot(history.history['val_loss'], \n",
    "         color='r', \n",
    "         linestyle='--',\n",
    "         linewidth=3,\n",
    "         path_effects=[path_effects.SimpleLineShadow(),\n",
    "                       path_effects.Normal()])\n",
    "\n",
    "plt.tick_params(labelsize=15)\n",
    "plt.title('Epoch-Loss-BABI',fontsize=25,font_properties=fp2)\n",
    "plt.ylabel('Loss',fontsize=20,font_properties=fp2)\n",
    "plt.xlabel('Epoch',fontsize=20,font_properties=fp2)\n",
    "plt.legend(['Train', 'Test'], loc='best', fontsize=20)\n",
    "\n",
    "plt.savefig('pdf/Epoch-Loss-BABI.pdf')\n",
    "plt.show()"
   ]
  },
  {
   "cell_type": "code",
   "execution_count": 32,
   "metadata": {},
   "outputs": [
    {
     "name": "stdout",
     "output_type": "stream",
     "text": [
      "[[3.0755735e-16 3.2254120e-16 3.3257160e-16 ... 3.8254816e-16\n",
      "  3.6872474e-16 3.6866990e-16]\n",
      " [6.5920305e-14 5.3982264e-14 6.6349182e-14 ... 7.2490753e-14\n",
      "  7.3251863e-14 7.7124816e-14]\n",
      " [1.6866585e-18 1.6056433e-18 1.7202398e-18 ... 1.6230153e-18\n",
      "  2.2269456e-18 1.4790638e-18]\n",
      " ...\n",
      " [1.1820231e-13 1.1115055e-13 1.1004897e-13 ... 1.3701879e-13\n",
      "  1.2587274e-13 1.2443571e-13]\n",
      " [2.3283494e-18 2.2336236e-18 2.1266201e-18 ... 2.5269270e-18\n",
      "  2.8113770e-18 2.5256936e-18]\n",
      " [2.2011241e-10 2.2782060e-10 2.1892792e-10 ... 2.2982342e-10\n",
      "  2.3881677e-10 2.2884054e-10]]\n"
     ]
    }
   ],
   "source": [
    "from sklearn.metrics import classification_report,confusion_matrix\n",
    "y_pred = model.predict([inputs_test, queries_test])\n",
    "print(y_pred)\n"
   ]
  },
  {
   "cell_type": "code",
   "execution_count": 33,
   "metadata": {},
   "outputs": [],
   "source": [
    "# 混合行列の描画関数の定義\n",
    "%matplotlib inline\n",
    "import matplotlib.pyplot as plt\n",
    "from matplotlib import pylab\n",
    "import itertools\n",
    "def plot_confusion_matrix(cm, classes,\n",
    "                          normalize=False,\n",
    "                          title='Confusion matrix',\n",
    "                          cmap=plt.cm.Oranges):\n",
    "    \"\"\"\n",
    "    This function prints and plots the confusion matrix.\n",
    "    Normalization can be applied by setting `normalize=True`.\n",
    "    \"\"\"\n",
    "    plt.figure(figsize=(10,8))\n",
    "    plt.imshow(cm, interpolation='nearest', cmap=cmap)\n",
    "    plt.title(title,fontsize=25)\n",
    "    cb = plt.colorbar()\n",
    "    cb.ax.tick_params(labelsize=15)\n",
    "    # plt.colorbar()\n",
    "    tick_marks = np.arange(len(classes))\n",
    "    plt.xticks(tick_marks, classes, rotation=45,fontsize=15)\n",
    "    plt.yticks(tick_marks, classes,fontsize=15)\n",
    "\n",
    "    if normalize:\n",
    "        cm = cm.astype('float') / cm.sum(axis=1)[:, np.newaxis]\n",
    "        print(\"Normalized confusion matrix\")\n",
    "    else:\n",
    "        print('Confusion matrix, without normalization')\n",
    "\n",
    "    print(cm)\n",
    "\n",
    "    thresh = cm.max() / 2.\n",
    "    for i, j in itertools.product(range(cm.shape[0]), range(cm.shape[1])):\n",
    "        plt.text(j, i, cm[i, j],\n",
    "                 horizontalalignment=\"center\", fontsize=15,\n",
    "                 color=\"white\" if cm[i, j] > thresh else \"black\")\n",
    "\n",
    "    plt.tight_layout()\n",
    "    plt.ylabel('True label',fontsize=20)\n",
    "    plt.xlabel('Predicted label',fontsize=20)"
   ]
  },
  {
   "cell_type": "code",
   "execution_count": 34,
   "metadata": {},
   "outputs": [
    {
     "name": "stdout",
     "output_type": "stream",
     "text": [
      "[12  9 15 12 15 12 11 12 17 17 15 11 17 10 10 15 11 15 17 12 12 17 17 12\n",
      " 10 10 10 15 15 17 12 17 15 15  9 17  9 11 15 10  9 11 11 12 11 15 12  9\n",
      " 17 10 10 17 11 11 15 10 15 12 17 12 12 17  9 11 11 15 15  9 17 17 11 12\n",
      " 11 10  9 15 15 15 12 17 11  9 10 10 17 11 11 12 15 15  9  9 12  9  9 15\n",
      " 15 15 10 15 10  9 17 11 11 12 10  9 17 10  9  9 15 12 15 11 17 15  9 17\n",
      " 10  9 17 12 10 17 11 11 11  9 11 10  9 11 10  9 17 15  9  9 17 12 17 17\n",
      " 10 15 15 15 15 15 11 11  9 17 10  9 11 10 17 12 10 10 10 11  9 11 11 11\n",
      " 15 10 17 17 11  9  9 17 15 10 17 17 12 12 12 12 10  9 17 11 15 17 12 15\n",
      " 11 12 12 11 17 15  9 10 12 17 17 10 12  9 15 12  9  9  9 10 12 10 10 10\n",
      "  9 12 12 12  9 12 15  9 10 17 12 11  9  9 17 11 12 17 12 10 10 17 10 17\n",
      " 12 15 11 10 15 15 11 11 17 11 10 17  9  9 10 10 17 17 15 11 11 17 12 17\n",
      " 17  9 11 10  9 10 15 17 17 15 15 17 15 12 17  9  9 11 17 17 11 17  9 17\n",
      " 11  9 15 15 10 15 15 11 11 12 12  9  9  9 15 17 17 11  9 17 17 15 11 11\n",
      " 17 10 11 17 10 17 17 11 11 15 15 11 10  9 10 11 11 10 15 17 17 10 17 17\n",
      " 12 17 12 15 12 11 17 15 11 17 12 12 17 15 10 11 11 10 10  9 17 12 11 12\n",
      " 11  9 11 11 11 11 11 12 12 12 12 12 11 12 17 10 15  9 15 10  9 10  9 17\n",
      " 17 15 17 17 17 15 15 12  9 10 17 17 10 17  9 11 10 11 10 15 17 15 12 12\n",
      " 10 15 10 11  9 12 17 10 10 15 12  9 12 12  9 17 10 15 15 17 10 10 17 15\n",
      " 15 15 17 11 15  9 10 11 10 12  9 11 10 11 10 12 11 15 15 15 15 11  9 15\n",
      " 10 12 11 12  9  9 10 17 11 11 10 10 10 17 12 17 17  9 15 11  9 15 11  9\n",
      " 10 17 12 12 11 10  9 12 10  9 15 10 10 11 11 15 15 10 12 12 15 11  9 12\n",
      "  9 15 10 17 17 10 10 17 17 17 17  9  9 10 12 11 17 17 12 12 11 12 17 11\n",
      " 15 12 11 11 11 17  9 11 10 12 12 10 11 17 12 12 15 11 15 15 12 10 10  9\n",
      " 17 10 15 12 15 10 17 17 11 10 11 15 10  9  9 15 10 17 10 10 15 15 17  9\n",
      " 10 12 10  9 12 12 11 15 10 10 11 12 10 17 17 12 17 11  9  9 17 17 11 10\n",
      " 10 10 15 15 17 11 15 12 12 10 15 17  9 11  9 17 15 12 11 17 11 17 17 15\n",
      "  9 10  9  9 10 10  9 10 10 15 11 11 11 15 12  9 11 11 10 17 11 11 12 17\n",
      " 15  9  9 11 15 15 11  9 15 15 11 15 15 15 11 10 10  9 17 17 17 17 10 10\n",
      " 17  9 15  9 17 12 12  9 15 15 15 17  9 11  9 17  9 12 11  9  9 17 11 11\n",
      " 11 10 15 17 12 12  9  9 17 12 12  9 17 12 11 11 15 15 12 11 12 17 15 17\n",
      " 11 12 11 17 17 11 17  9 11  9 10 10 12 17 10 12  9  9  9 15 11 11 15 17\n",
      "  9 10  9 12 17 15 17 17 12 10 12 11 11 17 17  9 17 10  9 11 12 15  9 15\n",
      " 12 10  9 10 17 17 15 15  9  9 17 17 10 17 17  9 15 17 17 12 12 11 11 11\n",
      " 11 17 11 17 17 17 17 17 12  9 17 10 17 11 10 10 12 12 11 11 17 12 12 17\n",
      " 17 15 11 17 11 11  9 12 15 17  9 10  9 15 11  9  9 15 10  9  9  9 17 17\n",
      " 11 11 17 15 15 10 10 11 15 17 10 12  9 10 10 10 10 10 15 17  9 11 17 15\n",
      " 12 11 10 10 15 12 10 11 12 12 12 11 11 15 12 17 10 12 17 17 12 10 10 12\n",
      " 10 10 11 17 11 12 17 17 11 12 11 17  9 17 11 17 11 11 15  9 17 17 10 10\n",
      " 17 12 11 15 12 11 11 10  9 12 12 15 10  9 17 15 17  9 17 17 10 17 15 12\n",
      " 12 12 10 17 10 17 17 15 12 17  9  9 15 10 12 15 15 15 17 17 15 11 15 10\n",
      " 12  9  9 10 11 11  9  9 12 15  9 15  9 12 12 10 17 17 10 12 15  9 17 17\n",
      " 11 11 11 17  9  9 11 15 11 11 11 15 12 17  9 10]\n",
      "(1000,)\n"
     ]
    }
   ],
   "source": [
    "# 未知データのクラスの予測\n",
    "pred_classes = np.argmax(pred, axis=1)\n",
    "print(pred_classes)\n",
    "print(pred_classes.shape)"
   ]
  },
  {
   "cell_type": "code",
   "execution_count": 35,
   "metadata": {},
   "outputs": [
    {
     "name": "stdout",
     "output_type": "stream",
     "text": [
      "['Daniel', 'went', 'to', 'the', 'office', '.', 'Mary', 'moved', 'to', 'the', 'kitchen', '.', 'Daniel', 'journeyed', 'to', 'the', 'hallway', '.', 'Sandra', 'travelled', 'to', 'the', 'bedroom', '.']\n",
      "['Where', 'is', 'Daniel', '?']\n",
      "[['Daniel', 'went', 'to', 'the', 'office', '.', 'Mary', 'moved', 'to', 'the', 'kitchen', '.', 'Daniel', 'journeyed', 'to', 'the', 'hallway', '.', 'Sandra', 'travelled', 'to', 'the', 'bedroom', '.'], ['Where', 'is', 'Daniel', '?']]\n"
     ]
    }
   ],
   "source": [
    "new_story = '''Daniel went to the office. Mary moved to the kitchen.\n",
    "        Daniel journeyed to the hallway. Sandra travelled to the bedroom.\n",
    "        '''\n",
    "new_query = 'Where is Daniel?'\n",
    "s1 = tokenize(new_story)\n",
    "q1 = tokenize(new_query)\n",
    "print(s1)\n",
    "print(q1)\n",
    "mylist = ([s1,q1])\n",
    "print(mylist)"
   ]
  },
  {
   "cell_type": "code",
   "execution_count": 36,
   "metadata": {},
   "outputs": [],
   "source": [
    "def vectorize_story_and_query(data, word_idx, story_maxlen, query_maxlen):\n",
    "    X = []\n",
    "    Xq = []\n",
    "    for story, query in data:\n",
    "        x = [word_idx[w] for w in story]\n",
    "        xq = [word_idx[w] for w in query]\n",
    "        # let's not forget that index 0 is reserved\n",
    "        X.append(x)\n",
    "        Xq.append(xq)\n",
    "    \n",
    "    #print(\"vec: X = \",X)\n",
    "    #print(\"vec: Xq = \",Xq)\n",
    "    return (pad_sequences(X, maxlen=story_maxlen),\n",
    "            pad_sequences(Xq, maxlen=query_maxlen))"
   ]
  },
  {
   "cell_type": "code",
   "execution_count": 37,
   "metadata": {},
   "outputs": [
    {
     "name": "stdout",
     "output_type": "stream",
     "text": [
      "[[ 0  0  0  0  0  0  0  0  0  0  0  0  0  0  0  0  0  0  0  0  0  0  0  0\n",
      "   0  0  0  0  0  0  0  0  0  0  0  0  0  0  0  0  0  0  0  0  3 21 19 18\n",
      "  17  1  5 16 19 18 15  1  3 14 19 18 12  1  6 20 19 18 10  1]]\n",
      "[[ 7 13  3  2]]\n"
     ]
    }
   ],
   "source": [
    "unk_story, unk_query = vectorize_story_and_query([(s1,q1)], \n",
    "                                                 word_idx, \n",
    "                                                 story_maxlen, \n",
    "                                                 query_maxlen)\n",
    "print(unk_story)\n",
    "print(unk_query)"
   ]
  },
  {
   "cell_type": "code",
   "execution_count": 38,
   "metadata": {},
   "outputs": [
    {
     "name": "stdout",
     "output_type": "stream",
     "text": [
      "[[5.4686851e-16 5.9966979e-16 5.9746861e-16 6.4339103e-16 7.2082769e-16\n",
      "  4.7509861e-16 6.8013728e-16 6.0047558e-16 5.6724934e-16 4.5668457e-06\n",
      "  2.2231856e-09 6.8890031e-09 9.9999547e-01 6.1035992e-16 5.2407983e-16\n",
      "  6.4335159e-09 5.3475488e-16 1.8594136e-08 7.3499426e-16 6.8315362e-16\n",
      "  6.9596886e-16 6.3327365e-16]]\n",
      "12\n",
      "hallway\n"
     ]
    }
   ],
   "source": [
    "batch_size = 64\n",
    "pred_answer = model.predict([unk_story,unk_query],batch_size,verbose=0)\n",
    "print(pred_answer)\n",
    "import numpy as np\n",
    "pred_idx = np.argmax(pred_answer)\n",
    "print(pred_idx)\n",
    "if pred_idx-1 >= 0:\n",
    "    print(vocab[pred_idx-1])\n"
   ]
  },
  {
   "cell_type": "code",
   "execution_count": 39,
   "metadata": {},
   "outputs": [],
   "source": [
    "def myPredict(new_story, new_query, batch_size=64, vocab=vocab):\n",
    "    import numpy as np\n",
    "    s1 = tokenize(new_story)\n",
    "    q1 = tokenize(new_query)\n",
    "    unk_story, unk_query = vectorize_story_and_query(\n",
    "        [(s1,q1)], word_idx, story_maxlen, query_maxlen)\n",
    "    pred_answer = model.predict([unk_story,unk_query],batch_size,verbose=0)\n",
    "    pred_idx = np.argmax(pred_answer) # 一番確率の高い単語を答えとする\n",
    "    if pred_idx-1 >= 0:\n",
    "        return vocab[pred_idx-1]\n",
    "    else:\n",
    "        return \"I don't know.\""
   ]
  },
  {
   "cell_type": "code",
   "execution_count": 40,
   "metadata": {},
   "outputs": [
    {
     "name": "stdout",
     "output_type": "stream",
     "text": [
      "hallway\n",
      "kitchen\n"
     ]
    }
   ],
   "source": [
    "new_story1 = '''Daniel went to the office. Mary moved to the kitchen.\n",
    "        Daniel journeyed to the hallway. Sandra travelled to the bedroom.\n",
    "        '''\n",
    "new_query1 = 'Where is Daniel?'\n",
    "print(myPredict(new_story1, new_query1))\n",
    "new_query2 = 'Where is Mary?'\n",
    "print(myPredict(new_story1, new_query2))"
   ]
  },
  {
   "cell_type": "code",
   "execution_count": 41,
   "metadata": {},
   "outputs": [
    {
     "name": "stdout",
     "output_type": "stream",
     "text": [
      "(1000,)\n",
      "(1000, 22)\n",
      "(1000,)\n"
     ]
    }
   ],
   "source": [
    "actual = np.argmax(answers_test, axis=-1)\n",
    "actual\n",
    "print(answers_test.shape)\n",
    "print(pred.shape)\n",
    "print(pred_classes.shape)"
   ]
  },
  {
   "cell_type": "code",
   "execution_count": 42,
   "metadata": {},
   "outputs": [
    {
     "name": "stdout",
     "output_type": "stream",
     "text": [
      "Confusion matrix, without normalization\n",
      "[[140   2   2   3   2   0]\n",
      " [  1 154   4   1   1   1]\n",
      " [  1   0 173   0   1   0]\n",
      " [  1   1   4 143   1   0]\n",
      " [  4   1   2   3 148   0]\n",
      " [  2  13   2   4   4 181]]\n"
     ]
    },
    {
     "data": {
      "image/png": "[encoded data removed]",
      "text/plain": [
       "<Figure size 720x576 with 2 Axes>"
      ]
     },
     "metadata": {},
     "output_type": "display_data"
    }
   ],
   "source": [
    "from sklearn.metrics import confusion_matrix # 混合行列\n",
    "actual = answers_test # np.argmax(y_test, axis=1)\n",
    "cm = confusion_matrix(pred_classes, actual)\n",
    "\n",
    "classes = ['1','2','3','4','5','6'] # vocab # ['airplane', 'automobile', 'bird', 'cat', 'deer', 'dog', 'frog', 'horse', 'ship', 'truck']\n",
    "plot_confusion_matrix(cm, classes=classes, title='BABI')\n",
    "plt.show()\n"
   ]
  },
  {
   "cell_type": "code",
   "execution_count": null,
   "metadata": {
    "collapsed": true
   },
   "outputs": [],
   "source": []
  }
 ],
 "metadata": {
  "kernelspec": {
   "display_name": "Python 3",
   "language": "python",
   "name": "python3"
  },
  "language_info": {
   "codemirror_mode": {
    "name": "ipython",
    "version": 3
   },
   "file_extension": ".py",
   "mimetype": "text/x-python",
   "name": "python",
   "nbconvert_exporter": "python",
   "pygments_lexer": "ipython3",
   "version": "3.6.4"
  }
 },
 "nbformat": 4,
 "nbformat_minor": 2
}
