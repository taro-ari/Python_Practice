{
  "nbformat": 4,
  "nbformat_minor": 0,
  "metadata": {
    "colab": {
      "name": "Python勉強会＃１.ipynb",
      "version": "0.3.2",
      "provenance": [],
      "include_colab_link": true
    },
    "kernelspec": {
      "display_name": "Python 3",
      "language": "python",
      "name": "python3"
    }
  },
  "cells": [
    {
      "cell_type": "markdown",
      "metadata": {
        "id": "view-in-github",
        "colab_type": "text"
      },
      "source": [
        "<a href=\"https://colab.research.google.com/github/taroarimoto/Python_Practice/blob/master/Python%E5%8B%89%E5%BC%B7%E4%BC%9A%EF%BC%83%EF%BC%91.ipynb\" target=\"_parent\"><img src=\"https://colab.research.google.com/assets/colab-badge.svg\" alt=\"Open In Colab\"/></a>"
      ]
    },
    {
      "metadata": {
        "id": "oCd6j7QTUjdJ",
        "colab_type": "text"
      },
      "cell_type": "markdown",
      "source": [
        "# はじめに\n",
        "## Jupyter notebook\n",
        "\n",
        "Jupyter notebookとは\n",
        ">ノートブックと呼ばれる形式で作成したプログラムを実行し、実行結果を記録しながら  \n",
        "データの分析作業を進めるためのツール\n",
        "\n",
        "コードを走らせるには\n",
        ">Shift+Enter:セルの実行、次のセルへ移動  \n",
        "ctrl +Enter:セルの実行のみ"
      ]
    },
    {
      "metadata": {
        "id": "T_dbKWj7UjdK",
        "colab_type": "code",
        "colab": {}
      },
      "cell_type": "code",
      "source": [
        ""
      ],
      "execution_count": 0,
      "outputs": []
    },
    {
      "metadata": {
        "id": "QeJiMeF4UjdO",
        "colab_type": "text"
      },
      "cell_type": "markdown",
      "source": [
        "モードの切り替え\n",
        ">ESC + M: マークダウンモード   \n",
        "ESC + Y: コードモード"
      ]
    },
    {
      "metadata": {
        "id": "oxlV18KTUjdQ",
        "colab_type": "text"
      },
      "cell_type": "markdown",
      "source": [
        ""
      ]
    },
    {
      "metadata": {
        "id": "HDMIgwTUUjdR",
        "colab_type": "text"
      },
      "cell_type": "markdown",
      "source": [
        "___\n",
        "Markdownの記法\n",
        "\n",
        "見出し\n",
        ">先頭に#をつけることによって見出しになる。  \n",
        "見出しのレベルは#の数で表現します。\n",
        "\n",
        "段落\n",
        ">空行を挟むことで段落となります。"
      ]
    },
    {
      "metadata": {
        "id": "2KXOy9f2UjdS",
        "colab_type": "text"
      },
      "cell_type": "markdown",
      "source": [
        "tttttt\n",
        "aaaaaa\n",
        "\n",
        "rrrrrr\n",
        "\n",
        "oooooo"
      ]
    },
    {
      "metadata": {
        "id": "zCkArfTLUjdS",
        "colab_type": "text"
      },
      "cell_type": "markdown",
      "source": [
        "改行\n",
        ">改行の前に半角スペースを2つ記述することで改行される。"
      ]
    },
    {
      "metadata": {
        "id": "-Ck-P5UNUjdU",
        "colab_type": "text"
      },
      "cell_type": "markdown",
      "source": [
        "abc(半角スペース)   \n",
        "def  \n",
        "ghq"
      ]
    },
    {
      "metadata": {
        "id": "FTpJzWaNUjdV",
        "colab_type": "text"
      },
      "cell_type": "markdown",
      "source": [
        ">HTMLを使って改行する"
      ]
    },
    {
      "metadata": {
        "id": "FA5AYqXgUjdV",
        "colab_type": "text"
      },
      "cell_type": "markdown",
      "source": [
        "ari<br>\n",
        "mot\n",
        "ota"
      ]
    },
    {
      "metadata": {
        "id": "DOZMIOJnUjdX",
        "colab_type": "text"
      },
      "cell_type": "markdown",
      "source": [
        "コードの挿入\n",
        ">バッククオート(` )3つ、あるいはダッシュ~３つで囲むことで、コードを挿入できる。"
      ]
    },
    {
      "metadata": {
        "id": "aXaEGPmcUjdY",
        "colab_type": "text"
      },
      "cell_type": "markdown",
      "source": [
        "```\n",
        "print \"taro\"\n",
        "```"
      ]
    },
    {
      "metadata": {
        "id": "jICVU71TUjdY",
        "colab_type": "text"
      },
      "cell_type": "markdown",
      "source": [
        "## Python"
      ]
    },
    {
      "metadata": {
        "id": "HEkGS6FyUjda",
        "colab_type": "text"
      },
      "cell_type": "markdown",
      "source": [
        "### 基本的な四則演算\n",
        "\n",
        "計算の際に使用できる算術演算子は、  \n",
        "\n",
        "・足し算：「＋」   \n",
        "・引き算：「-」   \n",
        "・掛け算：「*」      \n",
        "・割り算：「/」    \n",
        "・余りの計算：「%   \n",
        "・べき乗：「 **     "
      ]
    },
    {
      "metadata": {
        "id": "D0JS3wEfUjda",
        "colab_type": "code",
        "colab": {},
        "outputId": "9e5dbf69-f752-4764-e8c0-39f8d14f83e5"
      },
      "cell_type": "code",
      "source": [
        "a = 5/3\n",
        "b= 1\n",
        "print(a)"
      ],
      "execution_count": 0,
      "outputs": [
        {
          "output_type": "stream",
          "text": [
            "1.6666666666666667\n"
          ],
          "name": "stdout"
        }
      ]
    },
    {
      "metadata": {
        "id": "ZoreqTSLUjdh",
        "colab_type": "code",
        "colab": {},
        "outputId": "af6ceaf9-702d-4923-c43c-8c602513a6ce"
      },
      "cell_type": "code",
      "source": [
        "type(a)"
      ],
      "execution_count": 0,
      "outputs": [
        {
          "output_type": "execute_result",
          "data": {
            "text/plain": [
              "float"
            ]
          },
          "metadata": {
            "tags": []
          },
          "execution_count": 30
        }
      ]
    },
    {
      "metadata": {
        "id": "uLYN2vaYUjdk",
        "colab_type": "code",
        "colab": {},
        "outputId": "8857146a-c36f-4826-b55e-a51e51a460fd"
      },
      "cell_type": "code",
      "source": [
        "type(b)"
      ],
      "execution_count": 0,
      "outputs": [
        {
          "output_type": "execute_result",
          "data": {
            "text/plain": [
              "int"
            ]
          },
          "metadata": {
            "tags": []
          },
          "execution_count": 31
        }
      ]
    },
    {
      "metadata": {
        "id": "ogdVyTIDUjdq",
        "colab_type": "code",
        "colab": {}
      },
      "cell_type": "code",
      "source": [
        "googol = 10**100"
      ],
      "execution_count": 0,
      "outputs": []
    },
    {
      "metadata": {
        "id": "45ujGRaMUjdt",
        "colab_type": "code",
        "colab": {},
        "outputId": "75579206-0072-4d49-8b4d-53824994860d"
      },
      "cell_type": "code",
      "source": [
        "googol*googol"
      ],
      "execution_count": 0,
      "outputs": [
        {
          "output_type": "execute_result",
          "data": {
            "text/plain": [
              "100000000000000000000000000000000000000000000000000000000000000000000000000000000000000000000000000000000000000000000000000000000000000000000000000000000000000000000000000000000000000000000000000000000"
            ]
          },
          "metadata": {
            "tags": []
          },
          "execution_count": 33
        }
      ]
    },
    {
      "metadata": {
        "id": "ZvMJzsnBUjdx",
        "colab_type": "code",
        "colab": {},
        "outputId": "3176eb76-3541-4789-a05f-b59b709d528b"
      },
      "cell_type": "code",
      "source": [
        "a >1"
      ],
      "execution_count": 0,
      "outputs": [
        {
          "output_type": "execute_result",
          "data": {
            "text/plain": [
              "True"
            ]
          },
          "metadata": {
            "tags": []
          },
          "execution_count": 35
        }
      ]
    },
    {
      "metadata": {
        "id": "aS6HSWGPUjd1",
        "colab_type": "code",
        "colab": {}
      },
      "cell_type": "code",
      "source": [
        "a =\"\""
      ],
      "execution_count": 0,
      "outputs": []
    },
    {
      "metadata": {
        "id": "28UjvYlxUjd5",
        "colab_type": "code",
        "colab": {},
        "outputId": "72800e30-bd61-4f45-b5ac-944d5e5f1a7f"
      },
      "cell_type": "code",
      "source": [
        "a += 'h'\n",
        "a"
      ],
      "execution_count": 0,
      "outputs": [
        {
          "output_type": "execute_result",
          "data": {
            "text/plain": [
              "'h'"
            ]
          },
          "metadata": {
            "tags": []
          },
          "execution_count": 67
        }
      ]
    },
    {
      "metadata": {
        "id": "I7wrOrUFUjd9",
        "colab_type": "code",
        "colab": {},
        "outputId": "2754a1cc-5100-4ea1-8021-8daef7106a39"
      },
      "cell_type": "code",
      "source": [
        "print('aaaaa\\tabc')"
      ],
      "execution_count": 0,
      "outputs": [
        {
          "output_type": "stream",
          "text": [
            "aaaaa\tabc\n"
          ],
          "name": "stdout"
        }
      ]
    },
    {
      "metadata": {
        "id": "YRLn6eBWUjeC",
        "colab_type": "text"
      },
      "cell_type": "markdown",
      "source": [
        "### 制御構文"
      ]
    },
    {
      "metadata": {
        "id": "kUUF2vn7UjeI",
        "colab_type": "text"
      },
      "cell_type": "markdown",
      "source": [
        "# 代表的なライブラリ\n",
        "## Numpy\n",
        "### Numpyとは？\n",
        "Numpyは数値計算を効率的に行うためのPython拡張ライブラリ  \n",
        "多次元配列の操作/演算を行うのに便利"
      ]
    },
    {
      "metadata": {
        "id": "F5FqQzZwUjeL",
        "colab_type": "code",
        "colab": {},
        "outputId": "2539b213-3ccc-4103-e124-b40290792fcd"
      },
      "cell_type": "code",
      "source": [
        "#versionの確認\n",
        "\n",
        "np.version.full_version"
      ],
      "execution_count": 0,
      "outputs": [
        {
          "output_type": "execute_result",
          "data": {
            "text/plain": [
              "'1.15.4'"
            ]
          },
          "metadata": {
            "tags": []
          },
          "execution_count": 34
        }
      ]
    },
    {
      "metadata": {
        "id": "YyFsWUDZUjeN",
        "colab_type": "text"
      },
      "cell_type": "markdown",
      "source": [
        "### Numpy配列\n",
        "\n",
        "Numpy配列の生成はnp.array()  \n",
        "typeはnumpy.ndarray  "
      ]
    },
    {
      "metadata": {
        "collapsed": true,
        "id": "fEtiSP_wUjeQ",
        "colab_type": "code",
        "colab": {}
      },
      "cell_type": "code",
      "source": [
        "# Numpy配列の生成はnp.array()\n",
        "\n",
        "a = np.array([1,2,3])"
      ],
      "execution_count": 0,
      "outputs": []
    },
    {
      "metadata": {
        "id": "3VnWxBkCUjeT",
        "colab_type": "code",
        "colab": {},
        "outputId": "088e8db9-5bca-4a0a-ab0e-44fd474dac3a"
      },
      "cell_type": "code",
      "source": [
        "a"
      ],
      "execution_count": 0,
      "outputs": [
        {
          "output_type": "execute_result",
          "data": {
            "text/plain": [
              "array([1, 2, 3])"
            ]
          },
          "metadata": {
            "tags": []
          },
          "execution_count": 24
        }
      ]
    },
    {
      "metadata": {
        "id": "l5SReHXbUjeX",
        "colab_type": "code",
        "colab": {},
        "outputId": "c4231b24-d464-4e68-d73f-24e96df20435"
      },
      "cell_type": "code",
      "source": [
        "# typeはnumpy.ndarray\n",
        "\n",
        "type(a)"
      ],
      "execution_count": 0,
      "outputs": [
        {
          "output_type": "execute_result",
          "data": {
            "text/plain": [
              "numpy.ndarray"
            ]
          },
          "metadata": {
            "tags": []
          },
          "execution_count": 25
        }
      ]
    },
    {
      "metadata": {
        "id": "jYkExQdQUjea",
        "colab_type": "text"
      },
      "cell_type": "markdown",
      "source": [
        "shapeで配列のサイズを確認  "
      ]
    },
    {
      "metadata": {
        "id": "2eg5TgIzUjeb",
        "colab_type": "code",
        "colab": {},
        "outputId": "a901e3fd-e61a-40be-cb9d-c107ac360a51"
      },
      "cell_type": "code",
      "source": [
        "#　shapeで配列のサイズを確認\n",
        "a.shape"
      ],
      "execution_count": 0,
      "outputs": [
        {
          "output_type": "execute_result",
          "data": {
            "text/plain": [
              "(3,)"
            ]
          },
          "metadata": {
            "tags": []
          },
          "execution_count": 26
        }
      ]
    },
    {
      "metadata": {
        "id": "90Iy90CgUjef",
        "colab_type": "text"
      },
      "cell_type": "markdown",
      "source": [
        "array[0]で0行目の要素のアクセス  \n",
        "array[2,3]で2行目3列目の要素のアクセス  "
      ]
    },
    {
      "metadata": {
        "id": "IzFGOnR0Ujef",
        "colab_type": "code",
        "colab": {},
        "outputId": "e190c8a9-40c5-4ffd-f5d5-a005e4bfb62a"
      },
      "cell_type": "code",
      "source": [
        "# 配列の中のアクセスの仕方\n",
        "# array[0]で0行目の要素のアクセス\n",
        "a[0] "
      ],
      "execution_count": 0,
      "outputs": [
        {
          "output_type": "execute_result",
          "data": {
            "text/plain": [
              "1"
            ]
          },
          "metadata": {
            "tags": []
          },
          "execution_count": 38
        }
      ]
    },
    {
      "metadata": {
        "id": "bo-xfMSJUjei",
        "colab_type": "code",
        "colab": {},
        "outputId": "f7344f19-6097-4fc5-f840-b696dc1c505c"
      },
      "cell_type": "code",
      "source": [
        "a[2]"
      ],
      "execution_count": 0,
      "outputs": [
        {
          "output_type": "execute_result",
          "data": {
            "text/plain": [
              "3"
            ]
          },
          "metadata": {
            "tags": []
          },
          "execution_count": 29
        }
      ]
    },
    {
      "metadata": {
        "collapsed": true,
        "id": "frGT-LmFUjek",
        "colab_type": "code",
        "colab": {}
      },
      "cell_type": "code",
      "source": [
        "b = np.array([[1,2,3],[4,5,6]])"
      ],
      "execution_count": 0,
      "outputs": []
    },
    {
      "metadata": {
        "id": "KNPrujplUjeo",
        "colab_type": "code",
        "colab": {},
        "outputId": "4c6cbc0d-5578-47d1-af56-e5ee1ddf4d11"
      },
      "cell_type": "code",
      "source": [
        "b"
      ],
      "execution_count": 0,
      "outputs": [
        {
          "output_type": "execute_result",
          "data": {
            "text/plain": [
              "array([[1, 2, 3],\n",
              "       [4, 5, 6]])"
            ]
          },
          "metadata": {
            "tags": []
          },
          "execution_count": 32
        }
      ]
    },
    {
      "metadata": {
        "collapsed": true,
        "id": "kkoHWU18Ujeq",
        "colab_type": "code",
        "colab": {}
      },
      "cell_type": "code",
      "source": [
        ""
      ],
      "execution_count": 0,
      "outputs": []
    },
    {
      "metadata": {
        "id": "BkDUnrXWUjeu",
        "colab_type": "code",
        "colab": {},
        "outputId": "d3200936-03f9-4e1c-97fb-f4350fe7573a"
      },
      "cell_type": "code",
      "source": [
        "b.shape"
      ],
      "execution_count": 0,
      "outputs": [
        {
          "output_type": "execute_result",
          "data": {
            "text/plain": [
              "(2, 3)"
            ]
          },
          "metadata": {
            "tags": []
          },
          "execution_count": 33
        }
      ]
    },
    {
      "metadata": {
        "id": "EjeSk9WEUjex",
        "colab_type": "code",
        "colab": {},
        "outputId": "0361246b-e18a-461a-a1d7-e615da98ad5c"
      },
      "cell_type": "code",
      "source": [
        "b.dtype"
      ],
      "execution_count": 0,
      "outputs": [
        {
          "output_type": "execute_result",
          "data": {
            "text/plain": [
              "dtype('int64')"
            ]
          },
          "metadata": {
            "tags": []
          },
          "execution_count": 36
        }
      ]
    },
    {
      "metadata": {
        "id": "1G2NOWRyUje3",
        "colab_type": "text"
      },
      "cell_type": "markdown",
      "source": [
        "array[:2]で2行までアクセス  "
      ]
    },
    {
      "metadata": {
        "id": "J5Z_btEnUje4",
        "colab_type": "code",
        "colab": {},
        "outputId": "17f7dd3e-04df-4a90-fc14-47eeff9a0c53"
      },
      "cell_type": "code",
      "source": [
        "b[:1]"
      ],
      "execution_count": 0,
      "outputs": [
        {
          "output_type": "execute_result",
          "data": {
            "text/plain": [
              "array([[1, 2, 3]])"
            ]
          },
          "metadata": {
            "tags": []
          },
          "execution_count": 52
        }
      ]
    },
    {
      "metadata": {
        "id": "N2mQXRnOUje7",
        "colab_type": "text"
      },
      "cell_type": "markdown",
      "source": [
        "array[2:]で行2からアクセス  \n",
        "array[:2, 1]行2までの列1へアクセス  "
      ]
    },
    {
      "metadata": {
        "collapsed": true,
        "id": "B2cK7gmSUje8",
        "colab_type": "code",
        "colab": {}
      },
      "cell_type": "code",
      "source": [
        "c = np.array([[1,2,3],[4,5,6],[7,8,9]])"
      ],
      "execution_count": 0,
      "outputs": []
    },
    {
      "metadata": {
        "id": "6630bVndUje_",
        "colab_type": "code",
        "colab": {},
        "outputId": "61513b35-66e6-4672-b673-349638784871"
      },
      "cell_type": "code",
      "source": [
        "c"
      ],
      "execution_count": 0,
      "outputs": [
        {
          "output_type": "execute_result",
          "data": {
            "text/plain": [
              "array([[1, 2, 3],\n",
              "       [4, 5, 6],\n",
              "       [7, 8, 9]])"
            ]
          },
          "metadata": {
            "tags": []
          },
          "execution_count": 45
        }
      ]
    },
    {
      "metadata": {
        "id": "IFGjOYr1UjfB",
        "colab_type": "code",
        "colab": {},
        "outputId": "20afaf01-01f8-4eb0-d8ff-c36c17f5a350"
      },
      "cell_type": "code",
      "source": [
        "c[:2,1]"
      ],
      "execution_count": 0,
      "outputs": [
        {
          "output_type": "execute_result",
          "data": {
            "text/plain": [
              "array([2, 5])"
            ]
          },
          "metadata": {
            "tags": []
          },
          "execution_count": 55
        }
      ]
    },
    {
      "metadata": {
        "id": "eOdqlWM4UjfE",
        "colab_type": "text"
      },
      "cell_type": "markdown",
      "source": [
        "np.zeros() 要素が全て0のNumpy配列の生成  \n",
        "np.ones() 要素が全て1のNumpy配列の生成  "
      ]
    },
    {
      "metadata": {
        "collapsed": true,
        "id": "HJz6ABE0UjfF",
        "colab_type": "code",
        "colab": {}
      },
      "cell_type": "code",
      "source": [
        "d = np.zeros((3,4))"
      ],
      "execution_count": 0,
      "outputs": []
    },
    {
      "metadata": {
        "id": "wSp9x1FpUjfI",
        "colab_type": "code",
        "colab": {},
        "outputId": "f6258ec2-9a10-4a7b-9fa6-182be8284ed4"
      },
      "cell_type": "code",
      "source": [
        "d"
      ],
      "execution_count": 0,
      "outputs": [
        {
          "output_type": "execute_result",
          "data": {
            "text/plain": [
              "array([[0., 0., 0., 0.],\n",
              "       [0., 0., 0., 0.],\n",
              "       [0., 0., 0., 0.]])"
            ]
          },
          "metadata": {
            "tags": []
          },
          "execution_count": 67
        }
      ]
    },
    {
      "metadata": {
        "id": "0kfKxeM4UjfM",
        "colab_type": "code",
        "colab": {},
        "outputId": "5b0b32fe-1847-47d2-c1c7-c7bcaf3c44b8"
      },
      "cell_type": "code",
      "source": [
        "e = np.ones((3,3))\n",
        "print(e)"
      ],
      "execution_count": 0,
      "outputs": [
        {
          "output_type": "stream",
          "text": [
            "[[1. 1. 1.]\n",
            " [1. 1. 1.]\n",
            " [1. 1. 1.]]\n"
          ],
          "name": "stdout"
        }
      ]
    },
    {
      "metadata": {
        "id": "OSN9Ru_YUjfX",
        "colab_type": "code",
        "colab": {},
        "outputId": "3872f9ab-dbc5-4fae-b314-1e6aaf24d921"
      },
      "cell_type": "code",
      "source": [
        "type(e) "
      ],
      "execution_count": 0,
      "outputs": [
        {
          "output_type": "execute_result",
          "data": {
            "text/plain": [
              "numpy.ndarray"
            ]
          },
          "metadata": {
            "tags": []
          },
          "execution_count": 76
        }
      ]
    },
    {
      "metadata": {
        "id": "Ir7xQlRtUjfb",
        "colab_type": "text"
      },
      "cell_type": "markdown",
      "source": [
        "np.full() 指定した値を持つNumpy配列の生成  \n",
        "np.eye() 単位行列のNumpy配列を生成  "
      ]
    },
    {
      "metadata": {
        "id": "oLoz2PA8Ujfb",
        "colab_type": "code",
        "colab": {},
        "outputId": "83b33edf-dba9-49b6-b30c-71016d8bd911"
      },
      "cell_type": "code",
      "source": [
        "np.full((3,5),5)"
      ],
      "execution_count": 0,
      "outputs": [
        {
          "output_type": "execute_result",
          "data": {
            "text/plain": [
              "array([[5, 5, 5, 5, 5],\n",
              "       [5, 5, 5, 5, 5],\n",
              "       [5, 5, 5, 5, 5]])"
            ]
          },
          "metadata": {
            "tags": []
          },
          "execution_count": 77
        }
      ]
    },
    {
      "metadata": {
        "id": "_HhvDDWaUjfh",
        "colab_type": "code",
        "colab": {},
        "outputId": "c1418c4b-7a07-445a-c651-c45efbc5bf72"
      },
      "cell_type": "code",
      "source": [
        "np.eye(10)"
      ],
      "execution_count": 0,
      "outputs": [
        {
          "output_type": "execute_result",
          "data": {
            "text/plain": [
              "array([[1., 0., 0., 0., 0., 0., 0., 0., 0., 0.],\n",
              "       [0., 1., 0., 0., 0., 0., 0., 0., 0., 0.],\n",
              "       [0., 0., 1., 0., 0., 0., 0., 0., 0., 0.],\n",
              "       [0., 0., 0., 1., 0., 0., 0., 0., 0., 0.],\n",
              "       [0., 0., 0., 0., 1., 0., 0., 0., 0., 0.],\n",
              "       [0., 0., 0., 0., 0., 1., 0., 0., 0., 0.],\n",
              "       [0., 0., 0., 0., 0., 0., 1., 0., 0., 0.],\n",
              "       [0., 0., 0., 0., 0., 0., 0., 1., 0., 0.],\n",
              "       [0., 0., 0., 0., 0., 0., 0., 0., 1., 0.],\n",
              "       [0., 0., 0., 0., 0., 0., 0., 0., 0., 1.]])"
            ]
          },
          "metadata": {
            "tags": []
          },
          "execution_count": 88
        }
      ]
    },
    {
      "metadata": {
        "collapsed": true,
        "id": "emKGijC3Ujfk",
        "colab_type": "code",
        "colab": {}
      },
      "cell_type": "code",
      "source": [
        ""
      ],
      "execution_count": 0,
      "outputs": []
    },
    {
      "metadata": {
        "id": "bKs5fPrfUjfr",
        "colab_type": "text"
      },
      "cell_type": "markdown",
      "source": [
        "### 基本的な演算\n",
        "足し算"
      ]
    },
    {
      "metadata": {
        "collapsed": true,
        "id": "EFzVQ6ZxUjfr",
        "colab_type": "code",
        "colab": {}
      },
      "cell_type": "code",
      "source": [
        "a2 = np.array([[1,2,3],[4,5,6]])\n",
        "b2 = np.array([[7,8,9],[10,11,12]])"
      ],
      "execution_count": 0,
      "outputs": []
    },
    {
      "metadata": {
        "id": "Xab6nuZ6Ujfu",
        "colab_type": "code",
        "colab": {},
        "outputId": "55348cc8-36b7-4f0a-c2b1-c6e137e942cc"
      },
      "cell_type": "code",
      "source": [
        "a2"
      ],
      "execution_count": 0,
      "outputs": [
        {
          "output_type": "execute_result",
          "data": {
            "text/plain": [
              "array([[1, 2, 3],\n",
              "       [4, 5, 6]])"
            ]
          },
          "metadata": {
            "tags": []
          },
          "execution_count": 84
        }
      ]
    },
    {
      "metadata": {
        "id": "WJUavbNtUjfy",
        "colab_type": "code",
        "colab": {},
        "outputId": "6ed09cf1-7462-4d91-a15a-5e1400474119"
      },
      "cell_type": "code",
      "source": [
        "b2"
      ],
      "execution_count": 0,
      "outputs": [
        {
          "output_type": "execute_result",
          "data": {
            "text/plain": [
              "array([[ 7,  8,  9],\n",
              "       [10, 11, 12]])"
            ]
          },
          "metadata": {
            "tags": []
          },
          "execution_count": 85
        }
      ]
    },
    {
      "metadata": {
        "id": "oF2OK7JCUjf4",
        "colab_type": "code",
        "colab": {},
        "outputId": "19dc1207-9358-492b-b977-62849d230a91"
      },
      "cell_type": "code",
      "source": [
        "a2+b2"
      ],
      "execution_count": 0,
      "outputs": [
        {
          "output_type": "execute_result",
          "data": {
            "text/plain": [
              "array([[ 8, 10, 12],\n",
              "       [14, 16, 18]])"
            ]
          },
          "metadata": {
            "tags": []
          },
          "execution_count": 86
        }
      ]
    },
    {
      "metadata": {
        "id": "5B5wEhTeUjf8",
        "colab_type": "text"
      },
      "cell_type": "markdown",
      "source": [
        "掛け算"
      ]
    },
    {
      "metadata": {
        "id": "u1qHZP0xUjf-",
        "colab_type": "code",
        "colab": {},
        "outputId": "68cc85d0-a810-40c4-e244-de594619387a"
      },
      "cell_type": "code",
      "source": [
        "a2*b2"
      ],
      "execution_count": 0,
      "outputs": [
        {
          "output_type": "execute_result",
          "data": {
            "text/plain": [
              "array([[ 7, 16, 27],\n",
              "       [40, 55, 72]])"
            ]
          },
          "metadata": {
            "tags": []
          },
          "execution_count": 89
        }
      ]
    },
    {
      "metadata": {
        "id": "2hR6AdqFUjgD",
        "colab_type": "code",
        "colab": {},
        "outputId": "fed3c919-5cd0-41c2-e3fb-887a386d42ef"
      },
      "cell_type": "code",
      "source": [
        "a2**2"
      ],
      "execution_count": 0,
      "outputs": [
        {
          "output_type": "execute_result",
          "data": {
            "text/plain": [
              "array([[ 1,  4,  9],\n",
              "       [16, 25, 36]])"
            ]
          },
          "metadata": {
            "tags": []
          },
          "execution_count": 90
        }
      ]
    },
    {
      "metadata": {
        "id": "jQ5fuq-CUjgI",
        "colab_type": "text"
      },
      "cell_type": "markdown",
      "source": [
        "割り算"
      ]
    },
    {
      "metadata": {
        "id": "jGwpz1IaUjgK",
        "colab_type": "code",
        "colab": {},
        "outputId": "044b573e-87ab-4083-cf14-4ffd13d2b594"
      },
      "cell_type": "code",
      "source": [
        "a2/b2"
      ],
      "execution_count": 0,
      "outputs": [
        {
          "output_type": "execute_result",
          "data": {
            "text/plain": [
              "array([[0.14285714, 0.25      , 0.33333333],\n",
              "       [0.4       , 0.45454545, 0.5       ]])"
            ]
          },
          "metadata": {
            "tags": []
          },
          "execution_count": 91
        }
      ]
    },
    {
      "metadata": {
        "id": "8tkMK_MFUjgL",
        "colab_type": "code",
        "colab": {},
        "outputId": "6dc4a4b2-6be9-43fb-8ab4-7c8b52d2ccf4"
      },
      "cell_type": "code",
      "source": [
        "a2"
      ],
      "execution_count": 0,
      "outputs": [
        {
          "output_type": "execute_result",
          "data": {
            "text/plain": [
              "array([[1, 2, 3],\n",
              "       [4, 5, 6]])"
            ]
          },
          "metadata": {
            "tags": []
          },
          "execution_count": 94
        }
      ]
    },
    {
      "metadata": {
        "id": "svrDNatsUjgP",
        "colab_type": "code",
        "colab": {},
        "outputId": "70715434-f9ec-4e03-f043-d9d32158652b"
      },
      "cell_type": "code",
      "source": [
        "a2 < 3"
      ],
      "execution_count": 0,
      "outputs": [
        {
          "output_type": "execute_result",
          "data": {
            "text/plain": [
              "array([[ True,  True, False],\n",
              "       [False, False, False]])"
            ]
          },
          "metadata": {
            "tags": []
          },
          "execution_count": 95
        }
      ]
    },
    {
      "metadata": {
        "id": "HGoR8sCGUjgT",
        "colab_type": "text"
      },
      "cell_type": "markdown",
      "source": [
        "リスト"
      ]
    },
    {
      "metadata": {
        "collapsed": true,
        "id": "Y7CiWDi7UjgU",
        "colab_type": "code",
        "colab": {}
      },
      "cell_type": "code",
      "source": [
        "list = [1,2,3]"
      ],
      "execution_count": 0,
      "outputs": []
    },
    {
      "metadata": {
        "id": "59nLr3laUjgX",
        "colab_type": "code",
        "colab": {},
        "outputId": "0866e3bd-5245-4dbc-d17b-a3df4903532b"
      },
      "cell_type": "code",
      "source": [
        "list + [4]"
      ],
      "execution_count": 0,
      "outputs": [
        {
          "output_type": "execute_result",
          "data": {
            "text/plain": [
              "[1, 2, 3, 4]"
            ]
          },
          "metadata": {
            "tags": []
          },
          "execution_count": 112
        }
      ]
    },
    {
      "metadata": {
        "collapsed": true,
        "id": "YjZI4PTFUjgc",
        "colab_type": "code",
        "colab": {}
      },
      "cell_type": "code",
      "source": [
        "array = np.array([1,2,3])"
      ],
      "execution_count": 0,
      "outputs": []
    },
    {
      "metadata": {
        "id": "nylcmxQBUjgd",
        "colab_type": "code",
        "colab": {},
        "outputId": "7b61a9af-e63b-40f7-e83a-5f23bc29ca8e"
      },
      "cell_type": "code",
      "source": [
        "array + [4]"
      ],
      "execution_count": 0,
      "outputs": [
        {
          "output_type": "execute_result",
          "data": {
            "text/plain": [
              "array([5, 6, 7])"
            ]
          },
          "metadata": {
            "tags": []
          },
          "execution_count": 129
        }
      ]
    },
    {
      "metadata": {
        "collapsed": true,
        "id": "NZ5z0o1mUjgg",
        "colab_type": "code",
        "colab": {}
      },
      "cell_type": "code",
      "source": [
        "list2 =[]"
      ],
      "execution_count": 0,
      "outputs": []
    },
    {
      "metadata": {
        "collapsed": true,
        "id": "wnXxRi4KUjgj",
        "colab_type": "code",
        "colab": {}
      },
      "cell_type": "code",
      "source": [
        "for i in list:\n",
        "    list2.append(i +4)"
      ],
      "execution_count": 0,
      "outputs": []
    },
    {
      "metadata": {
        "id": "tjJcvkF5Ujgl",
        "colab_type": "code",
        "colab": {},
        "outputId": "151e8325-21ab-4185-f055-b68f58091825"
      },
      "cell_type": "code",
      "source": [
        "list2"
      ],
      "execution_count": 0,
      "outputs": [
        {
          "output_type": "execute_result",
          "data": {
            "text/plain": [
              "[5, 6, 7]"
            ]
          },
          "metadata": {
            "tags": []
          },
          "execution_count": 132
        }
      ]
    },
    {
      "metadata": {
        "collapsed": true,
        "id": "4K1CJChYUjgq",
        "colab_type": "code",
        "colab": {}
      },
      "cell_type": "code",
      "source": [
        "import numpy as np\n",
        "\n",
        "np.random.seed(1)\n",
        "x = np.arange(10)\n",
        "y = np.random.randint(1,100,10)\n",
        "\n",
        "print(x)\n",
        "print(y)\n"
      ],
      "execution_count": 0,
      "outputs": []
    },
    {
      "metadata": {
        "id": "zQJ-1U9cUjgr",
        "colab_type": "code",
        "colab": {},
        "outputId": "03f94faf-4fad-4183-c4eb-4b6446d60065"
      },
      "cell_type": "code",
      "source": [
        "a"
      ],
      "execution_count": 0,
      "outputs": [
        {
          "output_type": "execute_result",
          "data": {
            "text/plain": [
              "array([1, 2, 3])"
            ]
          },
          "metadata": {
            "tags": []
          },
          "execution_count": 81
        }
      ]
    },
    {
      "metadata": {
        "collapsed": true,
        "id": "CZHUYT1KUjgv",
        "colab_type": "code",
        "colab": {}
      },
      "cell_type": "code",
      "source": [
        ""
      ],
      "execution_count": 0,
      "outputs": []
    },
    {
      "metadata": {
        "collapsed": true,
        "id": "hQ4aVmRvUjgy",
        "colab_type": "code",
        "colab": {}
      },
      "cell_type": "code",
      "source": [
        ""
      ],
      "execution_count": 0,
      "outputs": []
    },
    {
      "metadata": {
        "id": "R42Nm6CtUjgy",
        "colab_type": "text"
      },
      "cell_type": "markdown",
      "source": [
        "## Matplotlib"
      ]
    },
    {
      "metadata": {
        "id": "FatleUUUUjgz",
        "colab_type": "code",
        "colab": {},
        "outputId": "3fcbeb61-9e4f-4c7f-e7c7-98c89eb59d5a"
      },
      "cell_type": "code",
      "source": [
        "import matplotlib.pyplot as plt\n",
        "\n",
        "plt.plot(x,y)\n",
        "plt.show()"
      ],
      "execution_count": 0,
      "outputs": [
        {
          "output_type": "display_data",
          "data": {
            "image/png": "[encoded data removed]",
            "text/plain": [
              "<Figure size 432x288 with 1 Axes>"
            ]
          },
          "metadata": {
            "tags": []
          }
        }
      ]
    },
    {
      "metadata": {
        "id": "CGlR_JcrUjg2",
        "colab_type": "code",
        "colab": {},
        "outputId": "08783e62-92fc-4171-c654-ff60319ccdcd"
      },
      "cell_type": "code",
      "source": [
        "np.random.randint(1,100,10)"
      ],
      "execution_count": 0,
      "outputs": [
        {
          "output_type": "execute_result",
          "data": {
            "text/plain": [
              "array([68,  5, 43, 52, 39, 34, 59, 68, 70, 89])"
            ]
          },
          "metadata": {
            "tags": []
          },
          "execution_count": 10
        }
      ]
    },
    {
      "metadata": {
        "id": "hD2uFjpmUjg6",
        "colab_type": "code",
        "colab": {},
        "outputId": "b789ae27-8e71-45bd-c0bd-1d2c999904a2"
      },
      "cell_type": "code",
      "source": [
        "import holoviews as hv\n",
        "\n",
        "hv.extension('matplotlib')"
      ],
      "execution_count": 0,
      "outputs": [
        {
          "output_type": "error",
          "ename": "AttributeError",
          "evalue": "module 'pandas.core.computation' has no attribute 'expressions'",
          "traceback": [
            "\u001b[0;31m---------------------------------------------------------------------------\u001b[0m",
            "\u001b[0;31mAttributeError\u001b[0m                            Traceback (most recent call last)",
            "\u001b[0;32m<ipython-input-35-0d01478ad82f>\u001b[0m in \u001b[0;36m<module>\u001b[0;34m\u001b[0m\n\u001b[0;32m----> 1\u001b[0;31m \u001b[0;32mimport\u001b[0m \u001b[0mholoviews\u001b[0m \u001b[0;32mas\u001b[0m \u001b[0mhv\u001b[0m\u001b[0;34m\u001b[0m\u001b[0m\n\u001b[0m\u001b[1;32m      2\u001b[0m \u001b[0;34m\u001b[0m\u001b[0m\n\u001b[1;32m      3\u001b[0m \u001b[0mhv\u001b[0m\u001b[0;34m.\u001b[0m\u001b[0mextension\u001b[0m\u001b[0;34m(\u001b[0m\u001b[0;34m'matplotlib'\u001b[0m\u001b[0;34m)\u001b[0m\u001b[0;34m\u001b[0m\u001b[0m\n",
            "\u001b[0;32m~/anaconda3/lib/python3.6/site-packages/holoviews/__init__.py\u001b[0m in \u001b[0;36m<module>\u001b[0;34m\u001b[0m\n\u001b[1;32m     10\u001b[0m                                         reponame=\"holoviews\"))\n\u001b[1;32m     11\u001b[0m \u001b[0;34m\u001b[0m\u001b[0m\n\u001b[0;32m---> 12\u001b[0;31m \u001b[0;32mfrom\u001b[0m \u001b[0;34m.\u001b[0m\u001b[0mcore\u001b[0m \u001b[0;32mimport\u001b[0m \u001b[0marchive\u001b[0m\u001b[0;34m,\u001b[0m \u001b[0mconfig\u001b[0m                        \u001b[0;31m# noqa (API import)\u001b[0m\u001b[0;34m\u001b[0m\u001b[0m\n\u001b[0m\u001b[1;32m     13\u001b[0m \u001b[0;32mfrom\u001b[0m \u001b[0;34m.\u001b[0m\u001b[0mcore\u001b[0m\u001b[0;34m.\u001b[0m\u001b[0mdimension\u001b[0m \u001b[0;32mimport\u001b[0m \u001b[0mOrderedDict\u001b[0m\u001b[0;34m,\u001b[0m \u001b[0mDimension\u001b[0m       \u001b[0;31m# noqa (API import)\u001b[0m\u001b[0;34m\u001b[0m\u001b[0m\n\u001b[1;32m     14\u001b[0m \u001b[0;32mfrom\u001b[0m \u001b[0;34m.\u001b[0m\u001b[0mcore\u001b[0m\u001b[0;34m.\u001b[0m\u001b[0mboundingregion\u001b[0m \u001b[0;32mimport\u001b[0m \u001b[0mBoundingBox\u001b[0m             \u001b[0;31m# noqa (API import)\u001b[0m\u001b[0;34m\u001b[0m\u001b[0m\n",
            "\u001b[0;32m~/anaconda3/lib/python3.6/site-packages/holoviews/core/__init__.py\u001b[0m in \u001b[0;36m<module>\u001b[0;34m\u001b[0m\n\u001b[1;32m      1\u001b[0m \u001b[0;32mfrom\u001b[0m \u001b[0mdatetime\u001b[0m \u001b[0;32mimport\u001b[0m \u001b[0mdate\u001b[0m\u001b[0;34m,\u001b[0m \u001b[0mdatetime\u001b[0m\u001b[0;34m\u001b[0m\u001b[0m\n\u001b[1;32m      2\u001b[0m \u001b[0;34m\u001b[0m\u001b[0m\n\u001b[0;32m----> 3\u001b[0;31m \u001b[0;32mfrom\u001b[0m \u001b[0;34m.\u001b[0m\u001b[0mboundingregion\u001b[0m \u001b[0;32mimport\u001b[0m \u001b[0;34m*\u001b[0m  \u001b[0;31m# noqa (API import)\u001b[0m\u001b[0;34m\u001b[0m\u001b[0m\n\u001b[0m\u001b[1;32m      4\u001b[0m \u001b[0;32mfrom\u001b[0m \u001b[0;34m.\u001b[0m\u001b[0mdata\u001b[0m \u001b[0;32mimport\u001b[0m \u001b[0;34m*\u001b[0m            \u001b[0;31m# noqa (API import)\u001b[0m\u001b[0;34m\u001b[0m\u001b[0m\n\u001b[1;32m      5\u001b[0m \u001b[0;32mfrom\u001b[0m \u001b[0;34m.\u001b[0m\u001b[0mdimension\u001b[0m \u001b[0;32mimport\u001b[0m \u001b[0;34m*\u001b[0m       \u001b[0;31m# noqa (API import)\u001b[0m\u001b[0;34m\u001b[0m\u001b[0m\n",
            "\u001b[0;32m~/anaconda3/lib/python3.6/site-packages/holoviews/core/boundingregion.py\u001b[0m in \u001b[0;36m<module>\u001b[0;34m\u001b[0m\n\u001b[1;32m     10\u001b[0m \u001b[0;32mimport\u001b[0m \u001b[0mparam\u001b[0m\u001b[0;34m\u001b[0m\u001b[0m\n\u001b[1;32m     11\u001b[0m \u001b[0;32mfrom\u001b[0m \u001b[0mparam\u001b[0m\u001b[0;34m.\u001b[0m\u001b[0mparameterized\u001b[0m \u001b[0;32mimport\u001b[0m \u001b[0mget_occupied_slots\u001b[0m\u001b[0;34m\u001b[0m\u001b[0m\n\u001b[0;32m---> 12\u001b[0;31m \u001b[0;32mfrom\u001b[0m \u001b[0;34m.\u001b[0m\u001b[0mutil\u001b[0m \u001b[0;32mimport\u001b[0m \u001b[0mdatetime_types\u001b[0m\u001b[0;34m\u001b[0m\u001b[0m\n\u001b[0m\u001b[1;32m     13\u001b[0m \u001b[0;34m\u001b[0m\u001b[0m\n\u001b[1;32m     14\u001b[0m \u001b[0;34m\u001b[0m\u001b[0m\n",
            "\u001b[0;32m~/anaconda3/lib/python3.6/site-packages/holoviews/core/util.py\u001b[0m in \u001b[0;36m<module>\u001b[0;34m\u001b[0m\n\u001b[1;32m     65\u001b[0m \u001b[0;34m\u001b[0m\u001b[0m\n\u001b[1;32m     66\u001b[0m \u001b[0;32mtry\u001b[0m\u001b[0;34m:\u001b[0m\u001b[0;34m\u001b[0m\u001b[0m\n\u001b[0;32m---> 67\u001b[0;31m     \u001b[0;32mimport\u001b[0m \u001b[0mdask\u001b[0m\u001b[0;34m.\u001b[0m\u001b[0mdataframe\u001b[0m \u001b[0;32mas\u001b[0m \u001b[0mdd\u001b[0m\u001b[0;34m\u001b[0m\u001b[0m\n\u001b[0m\u001b[1;32m     68\u001b[0m \u001b[0;32mexcept\u001b[0m \u001b[0mImportError\u001b[0m\u001b[0;34m:\u001b[0m\u001b[0;34m\u001b[0m\u001b[0m\n\u001b[1;32m     69\u001b[0m     \u001b[0mdd\u001b[0m \u001b[0;34m=\u001b[0m \u001b[0;32mNone\u001b[0m\u001b[0;34m\u001b[0m\u001b[0m\n",
            "\u001b[0;32m~/anaconda3/lib/python3.6/site-packages/dask/dataframe/__init__.py\u001b[0m in \u001b[0;36m<module>\u001b[0;34m\u001b[0m\n\u001b[1;32m      1\u001b[0m \u001b[0;32mfrom\u001b[0m \u001b[0m__future__\u001b[0m \u001b[0;32mimport\u001b[0m \u001b[0mprint_function\u001b[0m\u001b[0;34m,\u001b[0m \u001b[0mdivision\u001b[0m\u001b[0;34m,\u001b[0m \u001b[0mabsolute_import\u001b[0m\u001b[0;34m\u001b[0m\u001b[0m\n\u001b[1;32m      2\u001b[0m \u001b[0;34m\u001b[0m\u001b[0m\n\u001b[0;32m----> 3\u001b[0;31m from .core import (DataFrame, Series, Index, _Frame, map_partitions,\n\u001b[0m\u001b[1;32m      4\u001b[0m                    repartition, to_delayed, to_datetime, to_timedelta)\n\u001b[1;32m      5\u001b[0m \u001b[0;32mfrom\u001b[0m \u001b[0;34m.\u001b[0m\u001b[0mgroupby\u001b[0m \u001b[0;32mimport\u001b[0m \u001b[0mAggregation\u001b[0m\u001b[0;34m\u001b[0m\u001b[0m\n",
            "\u001b[0;32m~/anaconda3/lib/python3.6/site-packages/dask/dataframe/core.py\u001b[0m in \u001b[0;36m<module>\u001b[0;34m\u001b[0m\n\u001b[1;32m     38\u001b[0m \u001b[0;32mif\u001b[0m \u001b[0mPANDAS_VERSION\u001b[0m \u001b[0;34m>=\u001b[0m \u001b[0;34m'0.20.0'\u001b[0m\u001b[0;34m:\u001b[0m\u001b[0;34m\u001b[0m\u001b[0m\n\u001b[1;32m     39\u001b[0m     \u001b[0;32mfrom\u001b[0m \u001b[0mpandas\u001b[0m\u001b[0;34m.\u001b[0m\u001b[0mutil\u001b[0m \u001b[0;32mimport\u001b[0m \u001b[0mcache_readonly\u001b[0m\u001b[0;34m\u001b[0m\u001b[0m\n\u001b[0;32m---> 40\u001b[0;31m     \u001b[0mpd\u001b[0m\u001b[0;34m.\u001b[0m\u001b[0mcore\u001b[0m\u001b[0;34m.\u001b[0m\u001b[0mcomputation\u001b[0m\u001b[0;34m.\u001b[0m\u001b[0mexpressions\u001b[0m\u001b[0;34m.\u001b[0m\u001b[0mset_use_numexpr\u001b[0m\u001b[0;34m(\u001b[0m\u001b[0;32mFalse\u001b[0m\u001b[0;34m)\u001b[0m\u001b[0;34m\u001b[0m\u001b[0m\n\u001b[0m\u001b[1;32m     41\u001b[0m \u001b[0;32melse\u001b[0m\u001b[0;34m:\u001b[0m\u001b[0;34m\u001b[0m\u001b[0m\n\u001b[1;32m     42\u001b[0m     \u001b[0;32mfrom\u001b[0m \u001b[0mpandas\u001b[0m\u001b[0;34m.\u001b[0m\u001b[0mutil\u001b[0m\u001b[0;34m.\u001b[0m\u001b[0mdecorators\u001b[0m \u001b[0;32mimport\u001b[0m \u001b[0mcache_readonly\u001b[0m\u001b[0;34m\u001b[0m\u001b[0m\n",
            "\u001b[0;31mAttributeError\u001b[0m: module 'pandas.core.computation' has no attribute 'expressions'"
          ]
        }
      ]
    },
    {
      "metadata": {
        "id": "Kv9s8ESOUjhA",
        "colab_type": "code",
        "colab": {},
        "outputId": "4b789386-4515-4260-b710-fe485a9c3b4d"
      },
      "cell_type": "code",
      "source": [
        "%%output backend='matplotlib'"
      ],
      "execution_count": 0,
      "outputs": [
        {
          "output_type": "stream",
          "text": [
            "UsageError: Cell magic `%%output` not found.\n"
          ],
          "name": "stderr"
        }
      ]
    },
    {
      "metadata": {
        "id": "s6KJZtK1UjhD",
        "colab_type": "code",
        "colab": {}
      },
      "cell_type": "code",
      "source": [
        ""
      ],
      "execution_count": 0,
      "outputs": []
    }
  ]
}