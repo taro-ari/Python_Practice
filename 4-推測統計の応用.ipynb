{
 "cells": [
  {
   "cell_type": "markdown",
   "metadata": {},
   "source": [
    "# 4．推測統計の応用 ｜Pythonプログラミングを使った統計分析の基礎\n",
    "\n",
    "### [Logics of Blue](https://logics-of-blue.com/) 馬場真哉：2019年3月1日"
   ]
  },
  {
   "cell_type": "markdown",
   "metadata": {},
   "source": [
    "## 目的\n",
    "- 母平均に関する区間推定や仮説検定の方法を学ぶ\n",
    "    - 正規分布\n",
    "    - t分布\n",
    "    - 区間推定\n",
    "    - 1変量のt検定\n",
    "    - 平均値の差の検定（Welchの検定）\n",
    "\n",
    " \n",
    "## 目次\n",
    "1. [正規分布](#1．正規分布)\n",
    "2. [t値とt分布](#2．t値とt分布)\n",
    "1. [信頼区間の計算](#3．信頼区間の計算)\n",
    "2. [1変量のt検定](#4．1変量のt検定)\n",
    "3. [平均値の差の検定](#5．平均値の差の検定)\n"
   ]
  },
  {
   "cell_type": "code",
   "execution_count": 1,
   "metadata": {},
   "outputs": [],
   "source": [
    "# 数値計算に使うライブラリ\n",
    "import numpy as np\n",
    "import pandas as pd\n",
    "import scipy as sp\n",
    "from scipy import stats\n",
    "\n",
    "# グラフを描画するライブラリ\n",
    "from matplotlib import pyplot as plt\n",
    "import seaborn as sns\n",
    "sns.set()\n",
    "\n",
    "# 表示桁数の指定\n",
    "%precision 3\n",
    "# グラフをjupyter Notebook内に表示させるための指定\n",
    "%matplotlib inline\n",
    "\n",
    "# 不要なワーニングを出力させない\n",
    "import warnings\n",
    "warnings.simplefilter(action='ignore', category=FutureWarning)"
   ]
  },
  {
   "cell_type": "markdown",
   "metadata": {},
   "source": [
    "***\n",
    "## 1．正規分布\n",
    "<p>\n",
    "    正規分布の成り立ちから説明を進めていきます。<br>\n",
    "    正規分布を、シミュレーションを使って導出します。\n",
    "</p>"
   ]
  },
  {
   "cell_type": "code",
   "execution_count": 2,
   "metadata": {},
   "outputs": [
    {
     "data": {
      "text/plain": [
       "10"
      ]
     },
     "execution_count": 2,
     "metadata": {},
     "output_type": "execute_result"
    }
   ],
   "source": [
    "# 標準的な魚の体長\n",
    "hyojun_taityo = 10\n",
    "hyojun_taityo"
   ]
  },
  {
   "cell_type": "code",
   "execution_count": 3,
   "metadata": {},
   "outputs": [
    {
     "data": {
      "text/plain": [
       "array([-0.01,  0.01])"
      ]
     },
     "execution_count": 3,
     "metadata": {},
     "output_type": "execute_result"
    }
   ],
   "source": [
    "# 小さな誤差\n",
    "noise = np.array([-0.01, 0.01])\n",
    "noise"
   ]
  },
  {
   "cell_type": "code",
   "execution_count": 4,
   "metadata": {
    "scrolled": true
   },
   "outputs": [
    {
     "name": "stdout",
     "output_type": "stream",
     "text": [
      "ノイズの合計値         0.44\n",
      "標準体長にノイズを足す 10.44\n"
     ]
    }
   ],
   "source": [
    "# 小さな誤差を、ランダムに1000個作成\n",
    "noise_1000 = np.random.choice(noise, 1000, replace = True)\n",
    "\n",
    "# 結果の表示（毎回値が変わる）\n",
    "print(\"ノイズの合計値        \", sp.sum(noise_1000))\n",
    "print(\"標準体長にノイズを足す\", hyojun_taityo + sp.sum(noise_1000))"
   ]
  },
  {
   "cell_type": "code",
   "execution_count": 5,
   "metadata": {},
   "outputs": [],
   "source": [
    "# 上記の操作を1万回繰り返す\n",
    "\n",
    "# 乱数の種\n",
    "np.random.seed(1)\n",
    "\n",
    "# t値を格納する入れ物\n",
    "taityo_array = np.zeros(10000)\n",
    "\n",
    "# シミュレーションの実行\n",
    "for i in range(0, 10000):\n",
    "    noise_1000_tmp = np.random.choice(noise, 1000, replace=True)\n",
    "    taityo_array[i] = hyojun_taityo + sp.sum(noise_1000_tmp)"
   ]
  },
  {
   "cell_type": "code",
   "execution_count": 6,
   "metadata": {},
   "outputs": [
    {
     "data": {
      "text/plain": [
       "<matplotlib.axes._subplots.AxesSubplot at 0x23bca8e5668>"
      ]
     },
     "execution_count": 6,
     "metadata": {},
     "output_type": "execute_result"
    },
    {
     "data": {
      "image/png": "[encoded data removed]",
      "text/plain": [
       "<Figure size 432x288 with 1 Axes>"
      ]
     },
     "metadata": {
      "needs_background": "light"
     },
     "output_type": "display_data"
    }
   ],
   "source": [
    "# ヒストグラム\n",
    "kaikyuu = np.linspace(8.5, 11.5, 30)\n",
    "sns.distplot(taityo_array, kaikyuu)"
   ]
  },
  {
   "cell_type": "code",
   "execution_count": 7,
   "metadata": {},
   "outputs": [
    {
     "data": {
      "text/plain": [
       "0.10008956476400002"
      ]
     },
     "execution_count": 7,
     "metadata": {},
     "output_type": "execute_result"
    }
   ],
   "source": [
    "# 分散（理論上、ノイズの累積数（1000）×ノイズの大きさの絶対値の2乗（0.01×0.01＝0.0001）で計算されます）\n",
    "sp.var(taityo_array, ddof = 0)"
   ]
  },
  {
   "cell_type": "code",
   "execution_count": 8,
   "metadata": {},
   "outputs": [
    {
     "data": {
      "text/plain": [
       "[<matplotlib.lines.Line2D at 0x23bcac18a20>]"
      ]
     },
     "execution_count": 8,
     "metadata": {},
     "output_type": "execute_result"
    },
    {
     "data": {
      "image/png": "[encoded data removed]",
      "text/plain": [
       "<Figure size 432x288 with 1 Axes>"
      ]
     },
     "metadata": {
      "needs_background": "light"
     },
     "output_type": "display_data"
    }
   ],
   "source": [
    "# 先ほどのシミュレーション結果は、\n",
    "# 平均が10（標準体長）で、分散が0.1の正規分布とみなすことができる。\n",
    "\n",
    "# ヒストグラム\n",
    "kaikyuu = np.linspace(8.5, 11.5, 30)\n",
    "sns.distplot(taityo_array, kaikyuu)\n",
    "\n",
    "# 正規分布の確率密度関数の折れ線グラフ\n",
    "# stats.norm.pdf(x, loc = 平均値, scale = 標準偏差)\n",
    "x = np.linspace(8.5, 11.5, 100)\n",
    "pdf_normal = stats.norm.pdf(x, loc = 10, scale = sp.sqrt(0.1))\n",
    "\n",
    "# 確率密度関数の折れ線グラフ\n",
    "plt.plot(x, pdf_normal, color = 'red', linewidth = 2)"
   ]
  },
  {
   "cell_type": "code",
   "execution_count": 9,
   "metadata": {},
   "outputs": [
    {
     "data": {
      "text/plain": [
       "<matplotlib.axes._subplots.AxesSubplot at 0x23bcacd76a0>"
      ]
     },
     "execution_count": 9,
     "metadata": {},
     "output_type": "execute_result"
    },
    {
     "data": {
      "image/png": "[encoded data removed]",
      "text/plain": [
       "<Figure size 432x288 with 1 Axes>"
      ]
     },
     "metadata": {
      "needs_background": "light"
     },
     "output_type": "display_data"
    }
   ],
   "source": [
    "# 正規分布という確率分布を使えば、正規分布に従う確率変数を得るのは簡単\n",
    "np.random.seed(1)\n",
    "simulate_normal = stats.norm.rvs(size = 10000, loc = 10, scale = sp.sqrt(0.1))\n",
    "\n",
    "# ヒストグラム\n",
    "kaikyuu = np.linspace(8.5, 11.5, 30)\n",
    "sns.distplot(simulate_normal, kaikyuu)"
   ]
  },
  {
   "cell_type": "markdown",
   "metadata": {},
   "source": [
    "***\n",
    "## 2．t値とt分布"
   ]
  },
  {
   "cell_type": "markdown",
   "metadata": {},
   "source": [
    "### t値の計算例"
   ]
  },
  {
   "cell_type": "code",
   "execution_count": 10,
   "metadata": {},
   "outputs": [
    {
     "data": {
      "text/plain": [
       "array([ 9.961, 10.072,  9.889,  9.737,  9.917, 10.054, 10.213,  9.897,\n",
       "        9.903, 10.166,  9.815,  9.928,  9.831,  9.747, 10.326,  9.791,\n",
       "        9.985, 10.067,  9.801, 10.193])"
      ]
     },
     "execution_count": 10,
     "metadata": {},
     "output_type": "execute_result"
    }
   ],
   "source": [
    "# 平均10、分散0.1の正規分布に従う確率変数を20個取得\n",
    "simulate_normal = stats.norm.rvs(size = 20, loc = 10, scale = sp.sqrt(0.1))\n",
    "simulate_normal"
   ]
  },
  {
   "cell_type": "code",
   "execution_count": 11,
   "metadata": {},
   "outputs": [
    {
     "data": {
      "text/plain": [
       "-0.9451214507918771"
      ]
     },
     "execution_count": 11,
     "metadata": {},
     "output_type": "execute_result"
    }
   ],
   "source": [
    "# t値を計算\n",
    "t_value = (sp.mean(simulate_normal) - 10) / stats.sem(simulate_normal)\n",
    "t_value"
   ]
  },
  {
   "cell_type": "markdown",
   "metadata": {},
   "source": [
    "### t値を何度も計算してt分布を得る"
   ]
  },
  {
   "cell_type": "code",
   "execution_count": 12,
   "metadata": {},
   "outputs": [],
   "source": [
    "# 上記のt値の計算を1万回繰り返す\n",
    "\n",
    "# 乱数の種\n",
    "np.random.seed(1)\n",
    "\n",
    "# t値を格納する入れ物\n",
    "t_value_array = np.zeros(10000)\n",
    "\n",
    "# シミュレーションの実行\n",
    "for i in range(0, 10000):\n",
    "    sample = stats.norm.rvs(size = 20, loc = 10, scale = sp.sqrt(0.1))\n",
    "    t_value_array[i] = (sp.mean(sample) - 10) / stats.sem(sample)"
   ]
  },
  {
   "cell_type": "code",
   "execution_count": 13,
   "metadata": {},
   "outputs": [
    {
     "data": {
      "text/plain": [
       "<matplotlib.axes._subplots.AxesSubplot at 0x23bcbd5ee10>"
      ]
     },
     "execution_count": 13,
     "metadata": {},
     "output_type": "execute_result"
    },
    {
     "data": {
      "image/png": "[encoded data removed]",
      "text/plain": [
       "<Figure size 432x288 with 1 Axes>"
      ]
     },
     "metadata": {
      "needs_background": "light"
     },
     "output_type": "display_data"
    }
   ],
   "source": [
    "# t値のヒストグラム\n",
    "# これがt分布\n",
    "sns.distplot(t_value_array)"
   ]
  },
  {
   "cell_type": "code",
   "execution_count": 14,
   "metadata": {},
   "outputs": [
    {
     "data": {
      "text/plain": [
       "[<matplotlib.lines.Line2D at 0x23bcbe3c550>]"
      ]
     },
     "execution_count": 14,
     "metadata": {},
     "output_type": "execute_result"
    },
    {
     "data": {
      "image/png": "[encoded data removed]",
      "text/plain": [
       "<Figure size 432x288 with 1 Axes>"
      ]
     },
     "metadata": {
      "needs_background": "light"
     },
     "output_type": "display_data"
    }
   ],
   "source": [
    "# 先ほどのシミュレーション結果は、\n",
    "# 自由度が19のt分布とみなすことができる。\n",
    "\n",
    "# ヒストグラム\n",
    "sns.distplot(t_value_array)\n",
    "\n",
    "# t分布の確率密度関数の折れ線グラフ\n",
    "# stats.t.pdf(x, df = 自由度)\n",
    "x = np.linspace(-4, 4, 100)\n",
    "pdf_t = stats.t.pdf(x = x, df = 19)\n",
    "\n",
    "# 確率質量関数の折れ線グラフ\n",
    "plt.plot(x, pdf_t, color = 'red', linewidth = 2)"
   ]
  },
  {
   "cell_type": "code",
   "execution_count": 15,
   "metadata": {},
   "outputs": [
    {
     "data": {
      "text/plain": [
       "1.9839715184496334"
      ]
     },
     "execution_count": 15,
     "metadata": {},
     "output_type": "execute_result"
    }
   ],
   "source": [
    "# 例えば、自由度が100のt分布における97.5%点は、以下のようにして計算できる\n",
    "df = 100\n",
    "t_975 = stats.t.ppf(q = 0.975, df = df)\n",
    "t_975"
   ]
  },
  {
   "cell_type": "code",
   "execution_count": 16,
   "metadata": {},
   "outputs": [
    {
     "data": {
      "text/plain": [
       "<matplotlib.collections.PolyCollection at 0x23bcbf4c390>"
      ]
     },
     "execution_count": 16,
     "metadata": {},
     "output_type": "execute_result"
    },
    {
     "data": {
      "image/png": "[encoded data removed]",
      "text/plain": [
       "<Figure size 432x288 with 1 Axes>"
      ]
     },
     "metadata": {
      "needs_background": "light"
     },
     "output_type": "display_data"
    }
   ],
   "source": [
    "# 参考：スライドに載せたt分布のグラフと95%区間\n",
    "x_plot = np.arange(start = -5, stop = 5.1, step = 0.1)\n",
    "plt.plot(x_plot, stats.t.pdf(x = x_plot, df = df), \n",
    "         color = 'black')\n",
    "\n",
    "# 縦棒を引く\n",
    "plt.vlines(t_975, ymin = 0, ymax = 0.05)\n",
    "plt.vlines(-t_975, ymin = 0, ymax = 0.05)\n",
    "\n",
    "# 95%区間を赤く塗りつぶす\n",
    "# 赤く塗りつぶされた面積は0.95となる\n",
    "x = np.arange(start = -t_975, stop = t_975, step = 0.01)\n",
    "y1 = stats.t.pdf(x = x, df = df)\n",
    "plt.fill_between(x = x, y1 = y1, facecolor='red', alpha=0.5)"
   ]
  },
  {
   "cell_type": "markdown",
   "metadata": {},
   "source": [
    "***\n",
    "## 3．信頼区間の計算"
   ]
  },
  {
   "cell_type": "markdown",
   "metadata": {},
   "source": [
    "### データの読み込みなど"
   ]
  },
  {
   "cell_type": "code",
   "execution_count": 17,
   "metadata": {},
   "outputs": [
    {
     "data": {
      "text/html": [
       "<div>\n",
       "<style scoped>\n",
       "    .dataframe tbody tr th:only-of-type {\n",
       "        vertical-align: middle;\n",
       "    }\n",
       "\n",
       "    .dataframe tbody tr th {\n",
       "        vertical-align: top;\n",
       "    }\n",
       "\n",
       "    .dataframe thead th {\n",
       "        text-align: right;\n",
       "    }\n",
       "</style>\n",
       "<table border=\"1\" class=\"dataframe\">\n",
       "  <thead>\n",
       "    <tr style=\"text-align: right;\">\n",
       "      <th></th>\n",
       "      <th>length</th>\n",
       "      <th>species</th>\n",
       "    </tr>\n",
       "  </thead>\n",
       "  <tbody>\n",
       "    <tr>\n",
       "      <th>0</th>\n",
       "      <td>16.5</td>\n",
       "      <td>A</td>\n",
       "    </tr>\n",
       "    <tr>\n",
       "      <th>1</th>\n",
       "      <td>7.6</td>\n",
       "      <td>A</td>\n",
       "    </tr>\n",
       "    <tr>\n",
       "      <th>2</th>\n",
       "      <td>7.9</td>\n",
       "      <td>A</td>\n",
       "    </tr>\n",
       "    <tr>\n",
       "      <th>3</th>\n",
       "      <td>5.7</td>\n",
       "      <td>A</td>\n",
       "    </tr>\n",
       "    <tr>\n",
       "      <th>4</th>\n",
       "      <td>13.5</td>\n",
       "      <td>A</td>\n",
       "    </tr>\n",
       "  </tbody>\n",
       "</table>\n",
       "</div>"
      ],
      "text/plain": [
       "   length species\n",
       "0    16.5       A\n",
       "1     7.6       A\n",
       "2     7.9       A\n",
       "3     5.7       A\n",
       "4    13.5       A"
      ]
     },
     "execution_count": 17,
     "metadata": {},
     "output_type": "execute_result"
    }
   ],
   "source": [
    "# データの読み込み\n",
    "fish_data = pd.read_csv(\"fish_length.csv\")\n",
    "fish_data.head()"
   ]
  },
  {
   "cell_type": "code",
   "execution_count": 18,
   "metadata": {},
   "outputs": [
    {
     "data": {
      "text/html": [
       "<div>\n",
       "<style scoped>\n",
       "    .dataframe tbody tr th:only-of-type {\n",
       "        vertical-align: middle;\n",
       "    }\n",
       "\n",
       "    .dataframe tbody tr th {\n",
       "        vertical-align: top;\n",
       "    }\n",
       "\n",
       "    .dataframe thead tr th {\n",
       "        text-align: left;\n",
       "    }\n",
       "\n",
       "    .dataframe thead tr:last-of-type th {\n",
       "        text-align: right;\n",
       "    }\n",
       "</style>\n",
       "<table border=\"1\" class=\"dataframe\">\n",
       "  <thead>\n",
       "    <tr>\n",
       "      <th></th>\n",
       "      <th colspan=\"8\" halign=\"left\">length</th>\n",
       "    </tr>\n",
       "    <tr>\n",
       "      <th></th>\n",
       "      <th>count</th>\n",
       "      <th>mean</th>\n",
       "      <th>std</th>\n",
       "      <th>min</th>\n",
       "      <th>25%</th>\n",
       "      <th>50%</th>\n",
       "      <th>75%</th>\n",
       "      <th>max</th>\n",
       "    </tr>\n",
       "    <tr>\n",
       "      <th>species</th>\n",
       "      <th></th>\n",
       "      <th></th>\n",
       "      <th></th>\n",
       "      <th></th>\n",
       "      <th></th>\n",
       "      <th></th>\n",
       "      <th></th>\n",
       "      <th></th>\n",
       "    </tr>\n",
       "  </thead>\n",
       "  <tbody>\n",
       "    <tr>\n",
       "      <th>A</th>\n",
       "      <td>100.0</td>\n",
       "      <td>10.240</td>\n",
       "      <td>3.555988</td>\n",
       "      <td>0.8</td>\n",
       "      <td>7.575</td>\n",
       "      <td>10.25</td>\n",
       "      <td>12.575</td>\n",
       "      <td>18.7</td>\n",
       "    </tr>\n",
       "    <tr>\n",
       "      <th>B</th>\n",
       "      <td>100.0</td>\n",
       "      <td>15.615</td>\n",
       "      <td>3.745067</td>\n",
       "      <td>5.3</td>\n",
       "      <td>13.800</td>\n",
       "      <td>15.95</td>\n",
       "      <td>18.000</td>\n",
       "      <td>25.1</td>\n",
       "    </tr>\n",
       "  </tbody>\n",
       "</table>\n",
       "</div>"
      ],
      "text/plain": [
       "        length                                                    \n",
       "         count    mean       std  min     25%    50%     75%   max\n",
       "species                                                           \n",
       "A        100.0  10.240  3.555988  0.8   7.575  10.25  12.575  18.7\n",
       "B        100.0  15.615  3.745067  5.3  13.800  15.95  18.000  25.1"
      ]
     },
     "execution_count": 18,
     "metadata": {},
     "output_type": "execute_result"
    }
   ],
   "source": [
    "# 魚種別の集計\n",
    "group = fish_data.groupby(\"species\")\n",
    "group.describe()"
   ]
  },
  {
   "cell_type": "code",
   "execution_count": 19,
   "metadata": {},
   "outputs": [
    {
     "data": {
      "text/plain": [
       "<seaborn.axisgrid.FacetGrid at 0x23bcc00acf8>"
      ]
     },
     "execution_count": 19,
     "metadata": {},
     "output_type": "execute_result"
    },
    {
     "data": {
      "image/png": "[encoded data removed]",
      "text/plain": [
       "<Figure size 576x288 with 2 Axes>"
      ]
     },
     "metadata": {
      "needs_background": "light"
     },
     "output_type": "display_data"
    }
   ],
   "source": [
    "# 魚種別ヒストグラム\n",
    "# speciesを対象に、グラフを2列に分ける。\n",
    "g = sns.FacetGrid(fish_data,         # 対象データ\n",
    "                  col = \"species\",   # speciesで列を分ける。rowなら行で分ける。\n",
    "                  height = 4)        # グラフの大きさ\n",
    "\n",
    "# lengthのヒストグラムを描く\n",
    "g.map(sns.distplot, \"length\")"
   ]
  },
  {
   "cell_type": "code",
   "execution_count": 20,
   "metadata": {},
   "outputs": [],
   "source": [
    "# 魚種別に体長データを分ける\n",
    "fish_a = fish_data.query('species == \"A\"').length\n",
    "fish_b = fish_data.query('species == \"B\"').length"
   ]
  },
  {
   "cell_type": "markdown",
   "metadata": {},
   "source": [
    "### 信頼区間の計算"
   ]
  },
  {
   "cell_type": "code",
   "execution_count": 21,
   "metadata": {},
   "outputs": [],
   "source": [
    "# 魚種Aの母平均の95%信頼区間を計算します。\n",
    "\n",
    "# 標本平均\n",
    "mean_a = sp.mean(fish_a)\n",
    "\n",
    "# 標準誤差\n",
    "se_a = stats.sem(fish_a)\n",
    "\n",
    "# 自由度（サンプルサイズ－１）\n",
    "df_a = len(fish_a) - 1"
   ]
  },
  {
   "cell_type": "code",
   "execution_count": 22,
   "metadata": {},
   "outputs": [
    {
     "data": {
      "text/plain": [
       "(9.53441483731931, 10.94558516268069)"
      ]
     },
     "execution_count": 22,
     "metadata": {},
     "output_type": "execute_result"
    }
   ],
   "source": [
    "# 区間推定\n",
    "interval = stats.t.interval(alpha = 0.95, df = df_a, loc = mean_a, scale = se_a)\n",
    "interval"
   ]
  },
  {
   "cell_type": "markdown",
   "metadata": {},
   "source": [
    "### 参考：t分布を使って、信頼区間を計算"
   ]
  },
  {
   "cell_type": "code",
   "execution_count": 23,
   "metadata": {},
   "outputs": [],
   "source": [
    "# 2.5%点\n",
    "t_025 = stats.t.ppf(q = 0.025, df = df_a)\n",
    "\n",
    "# 97.5%点\n",
    "t_975 = stats.t.ppf(q = 0.975, df = df_a)"
   ]
  },
  {
   "cell_type": "code",
   "execution_count": 24,
   "metadata": {
    "scrolled": true
   },
   "outputs": [
    {
     "data": {
      "text/plain": [
       "9.53441483731931"
      ]
     },
     "execution_count": 24,
     "metadata": {},
     "output_type": "execute_result"
    }
   ],
   "source": [
    "# 下側信頼限界\n",
    "lower = mean_a + t_025 * se_a\n",
    "lower"
   ]
  },
  {
   "cell_type": "code",
   "execution_count": 25,
   "metadata": {},
   "outputs": [
    {
     "data": {
      "text/plain": [
       "10.94558516268069"
      ]
     },
     "execution_count": 25,
     "metadata": {},
     "output_type": "execute_result"
    }
   ],
   "source": [
    "# 上側信頼限界\n",
    "upper = mean_a + t_975 * se_a\n",
    "upper"
   ]
  },
  {
   "cell_type": "markdown",
   "metadata": {},
   "source": [
    "### 参考：95%信頼区間の「95%」の意味を確認する"
   ]
  },
  {
   "cell_type": "code",
   "execution_count": 26,
   "metadata": {},
   "outputs": [
    {
     "data": {
      "text/plain": [
       "array([0., 0., 0., ..., 0., 0., 0.])"
      ]
     },
     "execution_count": 26,
     "metadata": {},
     "output_type": "execute_result"
    }
   ],
   "source": [
    "# 仮に「母集団の平均値が10である」とわかっていたとする。\n",
    "# この時、標本から計算された信頼区間が10を含んでいればOK\n",
    "be_included_array = np.zeros(20000)\n",
    "be_included_array"
   ]
  },
  {
   "cell_type": "code",
   "execution_count": 27,
   "metadata": {},
   "outputs": [],
   "source": [
    "# 「サンプルサイズ20の標本を単純ランダムサンプリングによって得て、95%信頼区間を求める」試行を20000回繰り返す\n",
    "# 信頼区間が母平均(10)を含んでいれば「be_included_array」を「1」にする\n",
    "\n",
    "np.random.seed(1)\n",
    "for i in range(0, 20000):\n",
    "    sample = stats.norm.rvs(size = 20, loc = 10, scale = 10) # 標準偏差(scale)の値を変化させても結果は変わりません。母分散が未知でもOKです\n",
    "    df = len(sample) - 1    # 自由度\n",
    "    mu = sp.mean(sample)    # 平均値\n",
    "    se = stats.sem(sample)  # 標準誤差\n",
    "    interval = stats.t.interval(0.95, df, mu, se)  # 95%信頼区間\n",
    "    if(interval[0] <= 10 and interval[1] >= 10):  # 95%信頼区間が10を含んでいれば、値を1にする\n",
    "        be_included_array[i] = 1"
   ]
  },
  {
   "cell_type": "code",
   "execution_count": 28,
   "metadata": {},
   "outputs": [
    {
     "data": {
      "text/plain": [
       "0.9489"
      ]
     },
     "execution_count": 28,
     "metadata": {},
     "output_type": "execute_result"
    }
   ],
   "source": [
    "# 母平均を含んでいる割合は95%\n",
    "sum(be_included_array) / len(be_included_array)"
   ]
  },
  {
   "cell_type": "markdown",
   "metadata": {},
   "source": [
    "<p>\n",
    "    これで区間推定の説明を終わります。ここで質問を受け付けます。\n",
    "</p>"
   ]
  },
  {
   "cell_type": "markdown",
   "metadata": {},
   "source": [
    "***\n",
    "## 4．1変量のt検定"
   ]
  },
  {
   "cell_type": "code",
   "execution_count": 29,
   "metadata": {},
   "outputs": [
    {
     "data": {
      "text/plain": [
       "Ttest_1sampResult(statistic=0.6749179171410568, pvalue=0.5013011159884764)"
      ]
     },
     "execution_count": 29,
     "metadata": {},
     "output_type": "execute_result"
    }
   ],
   "source": [
    "# t検定\n",
    "# 魚種Aの体長の平均値は、10cmと異なると言えるか？\n",
    "stats.ttest_1samp(fish_a, 10)"
   ]
  },
  {
   "cell_type": "markdown",
   "metadata": {},
   "source": [
    "### 参考：t分布を使って、p値を計算"
   ]
  },
  {
   "cell_type": "code",
   "execution_count": 30,
   "metadata": {},
   "outputs": [
    {
     "data": {
      "text/plain": [
       "0.6749179171410568"
      ]
     },
     "execution_count": 30,
     "metadata": {},
     "output_type": "execute_result"
    }
   ],
   "source": [
    "# t値\n",
    "t_value = (mean_a - 10) / se_a\n",
    "t_value"
   ]
  },
  {
   "cell_type": "code",
   "execution_count": 31,
   "metadata": {},
   "outputs": [
    {
     "data": {
      "text/plain": [
       "0.5013011159884764"
      ]
     },
     "execution_count": 31,
     "metadata": {},
     "output_type": "execute_result"
    }
   ],
   "source": [
    "# p値\n",
    "# cdf関数は「Cumulative density function.」の略です。\n",
    "# Cumulativeは「累積的」という意味で、\n",
    "# t値が0.67よりも大きくなる確率を全部足し合わせた（積分した）結果を返します。\n",
    "alpha = stats.t.cdf(t_value, df = df_a)\n",
    "(1 - alpha) * 2"
   ]
  },
  {
   "cell_type": "markdown",
   "metadata": {},
   "source": [
    "#### 参考：下記の赤い部分の面積を2倍したものがp値です"
   ]
  },
  {
   "cell_type": "code",
   "execution_count": 32,
   "metadata": {},
   "outputs": [
    {
     "data": {
      "text/plain": [
       "<matplotlib.collections.PolyCollection at 0x23bcc19fe48>"
      ]
     },
     "execution_count": 32,
     "metadata": {},
     "output_type": "execute_result"
    },
    {
     "data": {
      "image/png": "[encoded data removed]",
      "text/plain": [
       "<Figure size 432x288 with 1 Axes>"
      ]
     },
     "metadata": {
      "needs_background": "light"
     },
     "output_type": "display_data"
    }
   ],
   "source": [
    "# t分布の確率密度関数\n",
    "x_plot = np.arange(start = -5, stop = 5.1, step = 0.1)\n",
    "plt.plot(x_plot, stats.t.pdf(x = x_plot, df = df_a), \n",
    "         color = 'black')\n",
    "\n",
    "# t値が0.67を超える確率（面積\n",
    "x = np.arange(start = 0.67, stop = 4, step = 0.1)\n",
    "y1 = stats.t.pdf(x = x, df = df_a)\n",
    "plt.fill_between(x = x, y1 = y1, facecolor='red', alpha=0.5)"
   ]
  },
  {
   "cell_type": "markdown",
   "metadata": {},
   "source": [
    "***\n",
    "## 5．平均値の差の検定"
   ]
  },
  {
   "cell_type": "code",
   "execution_count": 33,
   "metadata": {},
   "outputs": [
    {
     "data": {
      "text/plain": [
       "Ttest_indResult(statistic=-10.40787893514739, pvalue=1.6694540918935468e-20)"
      ]
     },
     "execution_count": 33,
     "metadata": {},
     "output_type": "execute_result"
    }
   ],
   "source": [
    "# 魚種Aの体長の平均値と、魚種Bの体長の平均値は異なると言えるか？\n",
    "# equal_var = Falseは常に指定しておいてOKです\n",
    "stats.ttest_ind(fish_a, fish_b, equal_var = False)"
   ]
  },
  {
   "cell_type": "markdown",
   "metadata": {},
   "source": [
    "### 参考：t値の計算\n",
    "\n",
    "Welchの検定をする場合は、t分布からp値を計算するのがやや難しいので、p値の計算は省略して、t値のみを計算することにします"
   ]
  },
  {
   "cell_type": "code",
   "execution_count": 34,
   "metadata": {},
   "outputs": [
    {
     "data": {
      "text/plain": [
       "-10.407878935147389"
      ]
     },
     "execution_count": 34,
     "metadata": {},
     "output_type": "execute_result"
    }
   ],
   "source": [
    "mean_a = sp.mean(fish_a)\n",
    "mean_b = sp.mean(fish_b)\n",
    "\n",
    "var_a = sp.var(fish_a, ddof = 1)\n",
    "var_b = sp.var(fish_b, ddof = 1)\n",
    "\n",
    "size_a = len(fish_a)\n",
    "size_b = len(fish_b)\n",
    "\n",
    "t_value = (mean_a - mean_b) / sp.sqrt((var_a/size_a) + (var_b/size_b))\n",
    "t_value"
   ]
  },
  {
   "cell_type": "code",
   "execution_count": null,
   "metadata": {},
   "outputs": [],
   "source": []
  }
 ],
 "metadata": {
  "kernelspec": {
   "display_name": "Python 3",
   "language": "python",
   "name": "python3"
  },
  "language_info": {
   "codemirror_mode": {
    "name": "ipython",
    "version": 3
   },
   "file_extension": ".py",
   "mimetype": "text/x-python",
   "name": "python",
   "nbconvert_exporter": "python",
   "pygments_lexer": "ipython3",
   "version": "3.7.1"
  }
 },
 "nbformat": 4,
 "nbformat_minor": 2
}
