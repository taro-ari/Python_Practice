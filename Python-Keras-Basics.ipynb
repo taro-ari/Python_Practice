{
 "cells": [
  {
   "cell_type": "markdown",
   "metadata": {},
   "source": [
    "# Kerasの基礎\n",
    "\n",
    "main site; https://github.com/keras-team/keras\n",
    "<br/>\n",
    "Example: https://github.com/keras-team/keras/tree/master/examples\n",
    "\n",
    "https://keras.io/ja/\n",
    "によると、\n",
    "\n",
    "Kerasは以下のような深層学習を目指す人に好適です。\n",
    "<ul>\n",
    "<li>容易に素早くプロトタイプの作成が可能（ユーザーフレンドリー，モジュール性，および拡張性による）\n",
    "<li>CNNとRNNの両方，およびこれらの2つの組み合わせをサポート\n",
    "<li>CPUとGPU上でシームレスな動作\n",
    "</ul>\n",
    "\n",
    "<b><font size=\"5\">ガイドライン</font></b><br/><br/>\n",
    "\n",
    "<dl>\n",
    "    <dt>ユーザーフレンドリー: \n",
    "        <dd>Kerasは機械向けでなく，人間向けに設計されたライブラリです．ユーザーエクスペリエンスを前面と中心においています．Kerasは，認知負荷を軽減するためのベストプラクティスをフォローします．一貫したシンプルなAPI群を提供し，一般的な使用事例で要求されるユーザーアクションを最小限に抑え，ユーザーエラー時に明確で実用的なフィードバックを提供します．\n",
    "    <dt>モジュール性: \n",
    "        <dd>モデルとは，できるだけ制約の少ない接続が可能で，独立した，完全に設定可能なモジュールの，シーケンスまたはグラフとして理解されています． 特に，ニューラルネットワークの層，損失関数，最適化，初期化，活性化関数，正規化はすべて，新しいモデルを作成するための組み合わせ可能な，独立したモジュールです．\n",
    "    拡張性: 新しいモジュールが（新しいクラスや関数として）簡単に追加できます．また，既存のモジュールには多くの実装例があります．新しいモジュールを容易に作成できるため，あらゆる表現が可能になっています．このことからKerasは先進的な研究に適しています．\n",
    "    <dt>Pythonで実装: \n",
    "        <dd>宣言形式の設定ファイルを持ったモデルはありません．モデルはPythonコードで記述されています．このPythonコードは，コンパクトで，デバッグが容易で，簡単に拡張できます．\n",
    "    <dt>カスタマイズ可能：\n",
    "        <dd>Kerasに標準で含まれるネットワークアーキテクチャや損失関数に加えて、自分で各種のネットワーク層を定義したり、新しい損失関数などをバックエンド関数を呼ぶ形で導入することができます．\n",
    "</dl>"
   ]
  },
  {
   "cell_type": "markdown",
   "metadata": {},
   "source": [
    "# インストール手順\n",
    "\n",
    "<pre>\n",
    "1. Pythonをインストール\n",
    "(Ubuntu 16.04以上を推奨/Python3.5推奨, \n",
    " Windows,Mac/ Anacondaを推奨)\n",
    "Anaconda: download https://www.anaconda.com/download/\n",
    "\n",
    "2. pipをインストール（Pythonのパッケージ更新ツール）\n",
    "Ubuntuなら sudo apt-get install python3-pip\n",
    "\n",
    "3. graphvizをインストール\n",
    "https://www.graphviz.org/\n",
    "    \n",
    "Kerasでネットワークアーキテクチャを描画するため\n",
    "\n",
    "3. Pythonの幾つかの重要なパッケージをインストール\n",
    "$ pip install numpy \n",
    "$ pip install scipy\n",
    "$ pip install scikit-learn\n",
    "$ pip install pandas\n",
    "$ pip install matplotlib\n",
    "$ pip install nltk\n",
    "$ pip install seaborn\n",
    "$ pip install statsmodels\n",
    "$ pip install pillow\n",
    "$ pip install mahotas\n",
    "$ pip install scikit-image\n",
    "$ pip install pydot\n",
    "$ pip install pydot-ng\n",
    "$ pip install h5py\n",
    "$ pip install wordcloud\n",
    "$ pip install jupyter\n",
    "$ pip install gensim\n",
    "$ pip install tensorflow\n",
    "$ pip install keras\n",
    "\n",
    "GPUがある場合\n",
    "Cuda (9.0推奨）とCuDNNのインストール推奨\n",
    "Cuda:https://developer.nvidia.com/cuda-90-download-archive\n",
    "(注：Cuda 9.1はTensforflowの最新版が未対応(2018/4/29現在）\n",
    "なので注意）\n",
    "cuDNN: https://developer.nvidia.com/cudnn\n",
    "これらの動作確認後、以下を実行\n",
    "$ pip install tensorflow-gpu\n",
    "\n",
    "Windowsの場合、バイナリ(whl)を以下のURLからダウンロードして\n",
    "インストールすることも可：\n",
    "https://www.lfd.uci.edu/~gohlke/pythonlibs/\n",
    "\n",
    "5. Kerasのサンプルプログラムを動かす\n",
    "\n",
    "CPUだけでもすぐKerasを動かせるサンプルは、隠れ層を1層とする\n",
    "機械学習でも使ったスパムメールかどうかを判定するデータを\n",
    "使ってみるのがいいかと思います。この例はあとて述べます。\n",
    "\n",
    "GPU環境が整っている場合のおすすめは、畳込みのもっとも簡単なものとして、\n",
    "データも必要に応じて自動ダウンロードされるMNISTデータをKerasで実行する\n",
    "サンプルプログラム\n",
    "　　　　mnist_cnn.py\n",
    "を実行することを勧めます。\n",
    "\n",
    "\n",
    "</pre> \n",
    "\n",
    "\n"
   ]
  },
  {
   "cell_type": "markdown",
   "metadata": {},
   "source": [
    "# Kerasのバックエンド\n",
    "\n",
    "Kerasのバックエンドとしては、\n",
    "<pre>\n",
    "1. Tensorflow\n",
    "2. Theano\n",
    "3. CNTK\n",
    "</pre>\n",
    "がサポートされています。\n",
    "\n",
    "今回は、GPUがなくても、CPUだけで普通に動作することと、\n",
    "GPUがあると、Kerasが高速に動作するための関数が多く用意されているということで\n",
    "Tensorflowをバックエンドで使うものと想定します。\n"
   ]
  },
  {
   "cell_type": "markdown",
   "metadata": {},
   "source": [
    "# Tensorflowを利用する場合の注意点\n",
    "\n",
    "GPUマシンの場合、Tensorflowを使う場合、任意のプログラムがTensorflowを使い始めた途端\n",
    "使えるGPUメモリの最大限を割当てしまいます。もし、同じマシンで、他のユーザ、あるいは\n",
    "同一ユーザの他のプログラムがGPUメモリを使えないという問題があります。そこで、以下の\n",
    "ように、何%メモリを確保するかを各プログラムでKeras(Tensorflow)を使う前に宣言しておく\n",
    "ことを勧めます。\n"
   ]
  },
  {
   "cell_type": "code",
   "execution_count": 1,
   "metadata": {},
   "outputs": [
    {
     "name": "stderr",
     "output_type": "stream",
     "text": [
      "Using TensorFlow backend.\n"
     ]
    }
   ],
   "source": [
    "import warnings\n",
    "warnings.simplefilter(action='ignore', category=FutureWarning)\n",
    "\n",
    "import tensorflow as tf\n",
    "config = tf.ConfigProto()\n",
    "config.gpu_options.per_process_gpu_memory_fraction = 0.3  \n",
    "session = tf.Session(config=config)\n",
    "import keras\n",
    "from keras import backend as K\n",
    "K.set_session(session) "
   ]
  },
  {
   "cell_type": "code",
   "execution_count": null,
   "metadata": {},
   "outputs": [],
   "source": []
  }
 ],
 "metadata": {
  "kernelspec": {
   "display_name": "Python 3",
   "language": "python",
   "name": "python3"
  },
  "language_info": {
   "codemirror_mode": {
    "name": "ipython",
    "version": 3
   },
   "file_extension": ".py",
   "mimetype": "text/x-python",
   "name": "python",
   "nbconvert_exporter": "python",
   "pygments_lexer": "ipython3",
   "version": "3.6.4"
  }
 },
 "nbformat": 4,
 "nbformat_minor": 2
}
